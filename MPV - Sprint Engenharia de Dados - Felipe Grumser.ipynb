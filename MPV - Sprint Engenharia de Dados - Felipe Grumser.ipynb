{
 "cells": [
  {
   "cell_type": "markdown",
   "metadata": {
    "application/vnd.databricks.v1+cell": {
     "cellMetadata": {
      "byteLimit": 2048000,
      "rowLimit": 10000
     },
     "inputWidgets": {},
     "nuid": "5ed3a067-a7a0-4a82-b9a7-e145545a9852",
     "showTitle": false,
     "tableResultSettingsMap": {},
     "title": ""
    }
   },
   "source": [
    "# FELIPE GRUMSER FRANCO VELHO\n",
    "## MPV DA DISCIPLINA ENGENHARIA DE DADOS\n",
    "\n",
    "O presente trabalho tem como objetivo criar um modelo de dados percorrendo pipelines de ETL utilizando a linguagem SQL. Ele está estruturado nas camadas bronze, prata e ouro. A carga de dados é feita na camada bronze, a análise da qualidade de manipulação dos dados ocorrerá na camada prata e as consultas na camada Gold."
   ]
  },
  {
   "cell_type": "markdown",
   "metadata": {
    "application/vnd.databricks.v1+cell": {
     "cellMetadata": {
      "byteLimit": 2048000,
      "rowLimit": 10000
     },
     "inputWidgets": {},
     "nuid": "44c7b4cd-ef51-441c-9d44-08a77cea0e43",
     "showTitle": false,
     "tableResultSettingsMap": {},
     "title": ""
    }
   },
   "source": [
    "A base de dados escolhida foi a publicamente disponibilizada pela IMDb (Internet Movie Database), que contém informações sobre filmes, séries e documentários. Com base nos dados disponibilizados, objetivou-se tratá-los a fim de obter, na camada Gold, mecanismos para responder perguntas sobre as relações de ano e gênero. As perguntas que se deseja responder são:\n",
    "- Qual o ranking dos gêneros dos filmes lançados no ano X com base na média das suas notas?\n",
    "- Quais as Top 10 melhores notas e seus respectivos ano e gênero?\n",
    "- Dado um gênero X, qual o Top 50 melhores notas e seus respectivos anos?\n",
    "- Quais são os anos com o maior número de votos, independente de gênero?\n"
   ]
  },
  {
   "cell_type": "markdown",
   "metadata": {
    "application/vnd.databricks.v1+cell": {
     "cellMetadata": {
      "byteLimit": 2048000,
      "rowLimit": 10000
     },
     "inputWidgets": {},
     "nuid": "7483eb74-9fd5-425d-9227-08f77de9b400",
     "showTitle": false,
     "tableResultSettingsMap": {},
     "title": ""
    }
   },
   "source": [
    "O trecho de código a seguir realiza a importação das bibliotecas necessárias para a manipulação e obtenção de dados. A biblioteca pandas, importada como pd, é utilizada para análise e manipulação de dados em formato tabular. A biblioteca io permite o manuseio de fluxos de dados em memória. Já a biblioteca requests possibilita a realização de requisições HTTP, sendo útil para acessar dados hospedados em fontes externas, como os arquivos disponibilizados pelo IMBd, via url. Para esse projeto, foi importada a tabela contendo o título original e primário das obras, seu tipo, se é conteúdo adulto, ano de início, tempo de exibição e gênero. A outra tabela importada contém a média de avaliações de cada título e o número de votos. Além disso, todos os filmes possuem um identificador \"tconst\". "
   ]
  },
  {
   "cell_type": "code",
   "execution_count": 0,
   "metadata": {
    "application/vnd.databricks.v1+cell": {
     "cellMetadata": {
      "byteLimit": 2048000,
      "rowLimit": 10000
     },
     "inputWidgets": {},
     "nuid": "210fd7ce-eb0c-4315-89ca-8539e9badd59",
     "showTitle": true,
     "tableResultSettingsMap": {},
     "title": "Imports"
    }
   },
   "outputs": [],
   "source": [
    "import pandas as pd\n",
    "import io\n",
    "import requests"
   ]
  },
  {
   "cell_type": "code",
   "execution_count": 0,
   "metadata": {
    "application/vnd.databricks.v1+cell": {
     "cellMetadata": {
      "byteLimit": 2048000,
      "rowLimit": 10000
     },
     "inputWidgets": {},
     "nuid": "ea8ababd-5a31-4a94-a388-3c7df20b8944",
     "showTitle": true,
     "tableResultSettingsMap": {},
     "title": "Importação dos dados Títulos"
    }
   },
   "outputs": [
    {
     "output_type": "stream",
     "name": "stderr",
     "output_type": "stream",
     "text": [
      "<command-1370257541152233>:2: DtypeWarning: Columns (4) have mixed types. Specify dtype option on import or set low_memory=False.\n  title_basics_df = pd.read_csv(url, compression='gzip', sep='\\t')\n"
     ]
    },
    {
     "output_type": "display_data",
     "data": {
      "text/html": [
       "<div>\n",
       "<style scoped>\n",
       "    .dataframe tbody tr th:only-of-type {\n",
       "        vertical-align: middle;\n",
       "    }\n",
       "\n",
       "    .dataframe tbody tr th {\n",
       "        vertical-align: top;\n",
       "    }\n",
       "\n",
       "    .dataframe thead th {\n",
       "        text-align: right;\n",
       "    }\n",
       "</style>\n",
       "<table border=\"1\" class=\"dataframe\">\n",
       "  <thead>\n",
       "    <tr style=\"text-align: right;\">\n",
       "      <th></th>\n",
       "      <th>tconst</th>\n",
       "      <th>titleType</th>\n",
       "      <th>primaryTitle</th>\n",
       "      <th>originalTitle</th>\n",
       "      <th>isAdult</th>\n",
       "      <th>startYear</th>\n",
       "      <th>endYear</th>\n",
       "      <th>runtimeMinutes</th>\n",
       "      <th>genres</th>\n",
       "    </tr>\n",
       "  </thead>\n",
       "  <tbody>\n",
       "    <tr>\n",
       "      <th>0</th>\n",
       "      <td>tt0000001</td>\n",
       "      <td>short</td>\n",
       "      <td>Carmencita</td>\n",
       "      <td>Carmencita</td>\n",
       "      <td>0</td>\n",
       "      <td>1894</td>\n",
       "      <td>\\N</td>\n",
       "      <td>1</td>\n",
       "      <td>Documentary,Short</td>\n",
       "    </tr>\n",
       "    <tr>\n",
       "      <th>1</th>\n",
       "      <td>tt0000002</td>\n",
       "      <td>short</td>\n",
       "      <td>Le clown et ses chiens</td>\n",
       "      <td>Le clown et ses chiens</td>\n",
       "      <td>0</td>\n",
       "      <td>1892</td>\n",
       "      <td>\\N</td>\n",
       "      <td>5</td>\n",
       "      <td>Animation,Short</td>\n",
       "    </tr>\n",
       "    <tr>\n",
       "      <th>2</th>\n",
       "      <td>tt0000003</td>\n",
       "      <td>short</td>\n",
       "      <td>Poor Pierrot</td>\n",
       "      <td>Pauvre Pierrot</td>\n",
       "      <td>0</td>\n",
       "      <td>1892</td>\n",
       "      <td>\\N</td>\n",
       "      <td>5</td>\n",
       "      <td>Animation,Comedy,Romance</td>\n",
       "    </tr>\n",
       "    <tr>\n",
       "      <th>3</th>\n",
       "      <td>tt0000004</td>\n",
       "      <td>short</td>\n",
       "      <td>Un bon bock</td>\n",
       "      <td>Un bon bock</td>\n",
       "      <td>0</td>\n",
       "      <td>1892</td>\n",
       "      <td>\\N</td>\n",
       "      <td>12</td>\n",
       "      <td>Animation,Short</td>\n",
       "    </tr>\n",
       "    <tr>\n",
       "      <th>4</th>\n",
       "      <td>tt0000005</td>\n",
       "      <td>short</td>\n",
       "      <td>Blacksmith Scene</td>\n",
       "      <td>Blacksmith Scene</td>\n",
       "      <td>0</td>\n",
       "      <td>1893</td>\n",
       "      <td>\\N</td>\n",
       "      <td>1</td>\n",
       "      <td>Short</td>\n",
       "    </tr>\n",
       "  </tbody>\n",
       "</table>\n",
       "</div>"
      ]
     },
     "metadata": {
      "application/vnd.databricks.v1+output": {
       "addedWidgets": {},
       "arguments": {},
       "data": "<div>\n<style scoped>\n    .dataframe tbody tr th:only-of-type {\n        vertical-align: middle;\n    }\n\n    .dataframe tbody tr th {\n        vertical-align: top;\n    }\n\n    .dataframe thead th {\n        text-align: right;\n    }\n</style>\n<table border=\"1\" class=\"dataframe\">\n  <thead>\n    <tr style=\"text-align: right;\">\n      <th></th>\n      <th>tconst</th>\n      <th>titleType</th>\n      <th>primaryTitle</th>\n      <th>originalTitle</th>\n      <th>isAdult</th>\n      <th>startYear</th>\n      <th>endYear</th>\n      <th>runtimeMinutes</th>\n      <th>genres</th>\n    </tr>\n  </thead>\n  <tbody>\n    <tr>\n      <th>0</th>\n      <td>tt0000001</td>\n      <td>short</td>\n      <td>Carmencita</td>\n      <td>Carmencita</td>\n      <td>0</td>\n      <td>1894</td>\n      <td>\\N</td>\n      <td>1</td>\n      <td>Documentary,Short</td>\n    </tr>\n    <tr>\n      <th>1</th>\n      <td>tt0000002</td>\n      <td>short</td>\n      <td>Le clown et ses chiens</td>\n      <td>Le clown et ses chiens</td>\n      <td>0</td>\n      <td>1892</td>\n      <td>\\N</td>\n      <td>5</td>\n      <td>Animation,Short</td>\n    </tr>\n    <tr>\n      <th>2</th>\n      <td>tt0000003</td>\n      <td>short</td>\n      <td>Poor Pierrot</td>\n      <td>Pauvre Pierrot</td>\n      <td>0</td>\n      <td>1892</td>\n      <td>\\N</td>\n      <td>5</td>\n      <td>Animation,Comedy,Romance</td>\n    </tr>\n    <tr>\n      <th>3</th>\n      <td>tt0000004</td>\n      <td>short</td>\n      <td>Un bon bock</td>\n      <td>Un bon bock</td>\n      <td>0</td>\n      <td>1892</td>\n      <td>\\N</td>\n      <td>12</td>\n      <td>Animation,Short</td>\n    </tr>\n    <tr>\n      <th>4</th>\n      <td>tt0000005</td>\n      <td>short</td>\n      <td>Blacksmith Scene</td>\n      <td>Blacksmith Scene</td>\n      <td>0</td>\n      <td>1893</td>\n      <td>\\N</td>\n      <td>1</td>\n      <td>Short</td>\n    </tr>\n  </tbody>\n</table>\n</div>",
       "datasetInfos": [],
       "metadata": {},
       "removedWidgets": [],
       "textData": null,
       "type": "htmlSandbox"
      }
     },
     "output_type": "display_data"
    }
   ],
   "source": [
    "url = \"https://datasets.imdbws.com/title.basics.tsv.gz\"\n",
    "title_basics_df = pd.read_csv(url, compression='gzip', sep='\\t')\n",
    "\n",
    "title_basics_df.head()"
   ]
  },
  {
   "cell_type": "code",
   "execution_count": 0,
   "metadata": {
    "application/vnd.databricks.v1+cell": {
     "cellMetadata": {
      "byteLimit": 2048000,
      "rowLimit": 10000
     },
     "inputWidgets": {},
     "nuid": "7e3b90aa-35c4-4fe5-955e-15afe88b8859",
     "showTitle": true,
     "tableResultSettingsMap": {},
     "title": "Importação dos dados Avaliações"
    }
   },
   "outputs": [
    {
     "output_type": "display_data",
     "data": {
      "text/html": [
       "<div>\n",
       "<style scoped>\n",
       "    .dataframe tbody tr th:only-of-type {\n",
       "        vertical-align: middle;\n",
       "    }\n",
       "\n",
       "    .dataframe tbody tr th {\n",
       "        vertical-align: top;\n",
       "    }\n",
       "\n",
       "    .dataframe thead th {\n",
       "        text-align: right;\n",
       "    }\n",
       "</style>\n",
       "<table border=\"1\" class=\"dataframe\">\n",
       "  <thead>\n",
       "    <tr style=\"text-align: right;\">\n",
       "      <th></th>\n",
       "      <th>tconst</th>\n",
       "      <th>averageRating</th>\n",
       "      <th>numVotes</th>\n",
       "    </tr>\n",
       "  </thead>\n",
       "  <tbody>\n",
       "    <tr>\n",
       "      <th>0</th>\n",
       "      <td>tt0000001</td>\n",
       "      <td>5.7</td>\n",
       "      <td>2146</td>\n",
       "    </tr>\n",
       "    <tr>\n",
       "      <th>1</th>\n",
       "      <td>tt0000002</td>\n",
       "      <td>5.5</td>\n",
       "      <td>291</td>\n",
       "    </tr>\n",
       "    <tr>\n",
       "      <th>2</th>\n",
       "      <td>tt0000003</td>\n",
       "      <td>6.5</td>\n",
       "      <td>2180</td>\n",
       "    </tr>\n",
       "    <tr>\n",
       "      <th>3</th>\n",
       "      <td>tt0000004</td>\n",
       "      <td>5.3</td>\n",
       "      <td>187</td>\n",
       "    </tr>\n",
       "    <tr>\n",
       "      <th>4</th>\n",
       "      <td>tt0000005</td>\n",
       "      <td>6.2</td>\n",
       "      <td>2924</td>\n",
       "    </tr>\n",
       "  </tbody>\n",
       "</table>\n",
       "</div>"
      ]
     },
     "metadata": {
      "application/vnd.databricks.v1+output": {
       "addedWidgets": {},
       "arguments": {},
       "data": "<div>\n<style scoped>\n    .dataframe tbody tr th:only-of-type {\n        vertical-align: middle;\n    }\n\n    .dataframe tbody tr th {\n        vertical-align: top;\n    }\n\n    .dataframe thead th {\n        text-align: right;\n    }\n</style>\n<table border=\"1\" class=\"dataframe\">\n  <thead>\n    <tr style=\"text-align: right;\">\n      <th></th>\n      <th>tconst</th>\n      <th>averageRating</th>\n      <th>numVotes</th>\n    </tr>\n  </thead>\n  <tbody>\n    <tr>\n      <th>0</th>\n      <td>tt0000001</td>\n      <td>5.7</td>\n      <td>2146</td>\n    </tr>\n    <tr>\n      <th>1</th>\n      <td>tt0000002</td>\n      <td>5.5</td>\n      <td>291</td>\n    </tr>\n    <tr>\n      <th>2</th>\n      <td>tt0000003</td>\n      <td>6.5</td>\n      <td>2180</td>\n    </tr>\n    <tr>\n      <th>3</th>\n      <td>tt0000004</td>\n      <td>5.3</td>\n      <td>187</td>\n    </tr>\n    <tr>\n      <th>4</th>\n      <td>tt0000005</td>\n      <td>6.2</td>\n      <td>2924</td>\n    </tr>\n  </tbody>\n</table>\n</div>",
       "datasetInfos": [],
       "metadata": {},
       "removedWidgets": [],
       "textData": null,
       "type": "htmlSandbox"
      }
     },
     "output_type": "display_data"
    }
   ],
   "source": [
    "url = \"https://datasets.imdbws.com/title.ratings.tsv.gz\"\n",
    "title_ratings_df = pd.read_csv(url, compression='gzip', sep='\\t')\n",
    "\n",
    "title_ratings_df.head()"
   ]
  },
  {
   "cell_type": "markdown",
   "metadata": {
    "application/vnd.databricks.v1+cell": {
     "cellMetadata": {
      "byteLimit": 2048000,
      "rowLimit": 10000
     },
     "inputWidgets": {},
     "nuid": "c5480887-b3ef-4e70-a43d-a19bb76b6719",
     "showTitle": false,
     "tableResultSettingsMap": {},
     "title": ""
    }
   },
   "source": [
    "Como mencionado anteriormente, o trabalho está dividido em categorias, começando pela camada bronze. Primeiramente, realizou-se a exclusão da camada para garantir que não houvesse nenhuma tabela previamente criada com o mesmo nome e a recriou."
   ]
  },
  {
   "cell_type": "code",
   "execution_count": 0,
   "metadata": {
    "application/vnd.databricks.v1+cell": {
     "cellMetadata": {
      "byteLimit": 2048000,
      "implicitDf": true,
      "rowLimit": 10000
     },
     "inputWidgets": {},
     "nuid": "21b4b20b-a5fe-4b64-9ac6-29981fd0d2ce",
     "showTitle": true,
     "tableResultSettingsMap": {},
     "title": "Apagando o database \"bronze\" para ser recriado"
    }
   },
   "outputs": [
    {
     "output_type": "display_data",
     "data": {
      "text/plain": [
       "\u001B[0;31m---------------------------------------------------------------------------\u001B[0m\n",
       "\u001B[0;31mAnalysisException\u001B[0m                         Traceback (most recent call last)\n",
       "File \u001B[0;32m<command-1370257541152238>:7\u001B[0m\n",
       "\u001B[1;32m      5\u001B[0m     display(df)\n",
       "\u001B[1;32m      6\u001B[0m     \u001B[38;5;28;01mreturn\u001B[39;00m df\n",
       "\u001B[0;32m----> 7\u001B[0m   _sqldf \u001B[38;5;241m=\u001B[39m \u001B[43m____databricks_percent_sql\u001B[49m\u001B[43m(\u001B[49m\u001B[43m)\u001B[49m\n",
       "\u001B[1;32m      8\u001B[0m \u001B[38;5;28;01mfinally\u001B[39;00m:\n",
       "\u001B[1;32m      9\u001B[0m   \u001B[38;5;28;01mdel\u001B[39;00m ____databricks_percent_sql\n",
       "\n",
       "File \u001B[0;32m<command-1370257541152238>:4\u001B[0m, in \u001B[0;36m____databricks_percent_sql\u001B[0;34m()\u001B[0m\n",
       "\u001B[1;32m      2\u001B[0m \u001B[38;5;28;01mdef\u001B[39;00m \u001B[38;5;21m____databricks_percent_sql\u001B[39m():\n",
       "\u001B[1;32m      3\u001B[0m   \u001B[38;5;28;01mimport\u001B[39;00m \u001B[38;5;21;01mbase64\u001B[39;00m\n",
       "\u001B[0;32m----> 4\u001B[0m   df \u001B[38;5;241m=\u001B[39m \u001B[43mspark\u001B[49m\u001B[38;5;241;43m.\u001B[39;49m\u001B[43msql\u001B[49m\u001B[43m(\u001B[49m\u001B[43mbase64\u001B[49m\u001B[38;5;241;43m.\u001B[39;49m\u001B[43mstandard_b64decode\u001B[49m\u001B[43m(\u001B[49m\u001B[38;5;124;43m\"\u001B[39;49m\u001B[38;5;124;43mRFJPUCBEQVRBQkFTRSBicm9uemU=\u001B[39;49m\u001B[38;5;124;43m\"\u001B[39;49m\u001B[43m)\u001B[49m\u001B[38;5;241;43m.\u001B[39;49m\u001B[43mdecode\u001B[49m\u001B[43m(\u001B[49m\u001B[43m)\u001B[49m\u001B[43m)\u001B[49m\n",
       "\u001B[1;32m      5\u001B[0m   display(df)\n",
       "\u001B[1;32m      6\u001B[0m   \u001B[38;5;28;01mreturn\u001B[39;00m df\n",
       "\n",
       "File \u001B[0;32m/databricks/spark/python/pyspark/instrumentation_utils.py:48\u001B[0m, in \u001B[0;36m_wrap_function.<locals>.wrapper\u001B[0;34m(*args, **kwargs)\u001B[0m\n",
       "\u001B[1;32m     46\u001B[0m start \u001B[38;5;241m=\u001B[39m time\u001B[38;5;241m.\u001B[39mperf_counter()\n",
       "\u001B[1;32m     47\u001B[0m \u001B[38;5;28;01mtry\u001B[39;00m:\n",
       "\u001B[0;32m---> 48\u001B[0m     res \u001B[38;5;241m=\u001B[39m \u001B[43mfunc\u001B[49m\u001B[43m(\u001B[49m\u001B[38;5;241;43m*\u001B[39;49m\u001B[43margs\u001B[49m\u001B[43m,\u001B[49m\u001B[43m \u001B[49m\u001B[38;5;241;43m*\u001B[39;49m\u001B[38;5;241;43m*\u001B[39;49m\u001B[43mkwargs\u001B[49m\u001B[43m)\u001B[49m\n",
       "\u001B[1;32m     49\u001B[0m     logger\u001B[38;5;241m.\u001B[39mlog_success(\n",
       "\u001B[1;32m     50\u001B[0m         module_name, class_name, function_name, time\u001B[38;5;241m.\u001B[39mperf_counter() \u001B[38;5;241m-\u001B[39m start, signature\n",
       "\u001B[1;32m     51\u001B[0m     )\n",
       "\u001B[1;32m     52\u001B[0m     \u001B[38;5;28;01mreturn\u001B[39;00m res\n",
       "\n",
       "File \u001B[0;32m/databricks/spark/python/pyspark/sql/session.py:1387\u001B[0m, in \u001B[0;36mSparkSession.sql\u001B[0;34m(self, sqlQuery, args, **kwargs)\u001B[0m\n",
       "\u001B[1;32m   1385\u001B[0m \u001B[38;5;28;01mtry\u001B[39;00m:\n",
       "\u001B[1;32m   1386\u001B[0m     litArgs \u001B[38;5;241m=\u001B[39m {k: _to_java_column(lit(v)) \u001B[38;5;28;01mfor\u001B[39;00m k, v \u001B[38;5;129;01min\u001B[39;00m (args \u001B[38;5;129;01mor\u001B[39;00m {})\u001B[38;5;241m.\u001B[39mitems()}\n",
       "\u001B[0;32m-> 1387\u001B[0m     \u001B[38;5;28;01mreturn\u001B[39;00m DataFrame(\u001B[38;5;28;43mself\u001B[39;49m\u001B[38;5;241;43m.\u001B[39;49m\u001B[43m_jsparkSession\u001B[49m\u001B[38;5;241;43m.\u001B[39;49m\u001B[43msql\u001B[49m\u001B[43m(\u001B[49m\u001B[43msqlQuery\u001B[49m\u001B[43m,\u001B[49m\u001B[43m \u001B[49m\u001B[43mlitArgs\u001B[49m\u001B[43m)\u001B[49m, \u001B[38;5;28mself\u001B[39m)\n",
       "\u001B[1;32m   1388\u001B[0m \u001B[38;5;28;01mfinally\u001B[39;00m:\n",
       "\u001B[1;32m   1389\u001B[0m     \u001B[38;5;28;01mif\u001B[39;00m \u001B[38;5;28mlen\u001B[39m(kwargs) \u001B[38;5;241m>\u001B[39m \u001B[38;5;241m0\u001B[39m:\n",
       "\n",
       "File \u001B[0;32m/databricks/spark/python/lib/py4j-0.10.9.5-src.zip/py4j/java_gateway.py:1321\u001B[0m, in \u001B[0;36mJavaMember.__call__\u001B[0;34m(self, *args)\u001B[0m\n",
       "\u001B[1;32m   1315\u001B[0m command \u001B[38;5;241m=\u001B[39m proto\u001B[38;5;241m.\u001B[39mCALL_COMMAND_NAME \u001B[38;5;241m+\u001B[39m\\\n",
       "\u001B[1;32m   1316\u001B[0m     \u001B[38;5;28mself\u001B[39m\u001B[38;5;241m.\u001B[39mcommand_header \u001B[38;5;241m+\u001B[39m\\\n",
       "\u001B[1;32m   1317\u001B[0m     args_command \u001B[38;5;241m+\u001B[39m\\\n",
       "\u001B[1;32m   1318\u001B[0m     proto\u001B[38;5;241m.\u001B[39mEND_COMMAND_PART\n",
       "\u001B[1;32m   1320\u001B[0m answer \u001B[38;5;241m=\u001B[39m \u001B[38;5;28mself\u001B[39m\u001B[38;5;241m.\u001B[39mgateway_client\u001B[38;5;241m.\u001B[39msend_command(command)\n",
       "\u001B[0;32m-> 1321\u001B[0m return_value \u001B[38;5;241m=\u001B[39m \u001B[43mget_return_value\u001B[49m\u001B[43m(\u001B[49m\n",
       "\u001B[1;32m   1322\u001B[0m \u001B[43m    \u001B[49m\u001B[43manswer\u001B[49m\u001B[43m,\u001B[49m\u001B[43m \u001B[49m\u001B[38;5;28;43mself\u001B[39;49m\u001B[38;5;241;43m.\u001B[39;49m\u001B[43mgateway_client\u001B[49m\u001B[43m,\u001B[49m\u001B[43m \u001B[49m\u001B[38;5;28;43mself\u001B[39;49m\u001B[38;5;241;43m.\u001B[39;49m\u001B[43mtarget_id\u001B[49m\u001B[43m,\u001B[49m\u001B[43m \u001B[49m\u001B[38;5;28;43mself\u001B[39;49m\u001B[38;5;241;43m.\u001B[39;49m\u001B[43mname\u001B[49m\u001B[43m)\u001B[49m\n",
       "\u001B[1;32m   1324\u001B[0m \u001B[38;5;28;01mfor\u001B[39;00m temp_arg \u001B[38;5;129;01min\u001B[39;00m temp_args:\n",
       "\u001B[1;32m   1325\u001B[0m     temp_arg\u001B[38;5;241m.\u001B[39m_detach()\n",
       "\n",
       "File \u001B[0;32m/databricks/spark/python/pyspark/errors/exceptions.py:234\u001B[0m, in \u001B[0;36mcapture_sql_exception.<locals>.deco\u001B[0;34m(*a, **kw)\u001B[0m\n",
       "\u001B[1;32m    230\u001B[0m converted \u001B[38;5;241m=\u001B[39m convert_exception(e\u001B[38;5;241m.\u001B[39mjava_exception)\n",
       "\u001B[1;32m    231\u001B[0m \u001B[38;5;28;01mif\u001B[39;00m \u001B[38;5;129;01mnot\u001B[39;00m \u001B[38;5;28misinstance\u001B[39m(converted, UnknownException):\n",
       "\u001B[1;32m    232\u001B[0m     \u001B[38;5;66;03m# Hide where the exception came from that shows a non-Pythonic\u001B[39;00m\n",
       "\u001B[1;32m    233\u001B[0m     \u001B[38;5;66;03m# JVM exception message.\u001B[39;00m\n",
       "\u001B[0;32m--> 234\u001B[0m     \u001B[38;5;28;01mraise\u001B[39;00m converted \u001B[38;5;28;01mfrom\u001B[39;00m \u001B[38;5;28mNone\u001B[39m\n",
       "\u001B[1;32m    235\u001B[0m \u001B[38;5;28;01melse\u001B[39;00m:\n",
       "\u001B[1;32m    236\u001B[0m     \u001B[38;5;28;01mraise\u001B[39;00m\n",
       "\n",
       "\u001B[0;31mAnalysisException\u001B[0m: [SCHEMA_NOT_FOUND] The schema `bronze` cannot be found. Verify the spelling and correctness of the schema and catalog.\n",
       "If you did not qualify the name with a catalog, verify the current_schema() output, or qualify the name with the correct catalog.\n",
       "To tolerate the error on drop use DROP SCHEMA IF EXISTS."
      ]
     },
     "metadata": {
      "application/vnd.databricks.v1+output": {
       "arguments": {},
       "data": "\u001B[0;31m---------------------------------------------------------------------------\u001B[0m\n\u001B[0;31mAnalysisException\u001B[0m                         Traceback (most recent call last)\nFile \u001B[0;32m<command-1370257541152238>:7\u001B[0m\n\u001B[1;32m      5\u001B[0m     display(df)\n\u001B[1;32m      6\u001B[0m     \u001B[38;5;28;01mreturn\u001B[39;00m df\n\u001B[0;32m----> 7\u001B[0m   _sqldf \u001B[38;5;241m=\u001B[39m \u001B[43m____databricks_percent_sql\u001B[49m\u001B[43m(\u001B[49m\u001B[43m)\u001B[49m\n\u001B[1;32m      8\u001B[0m \u001B[38;5;28;01mfinally\u001B[39;00m:\n\u001B[1;32m      9\u001B[0m   \u001B[38;5;28;01mdel\u001B[39;00m ____databricks_percent_sql\n\nFile \u001B[0;32m<command-1370257541152238>:4\u001B[0m, in \u001B[0;36m____databricks_percent_sql\u001B[0;34m()\u001B[0m\n\u001B[1;32m      2\u001B[0m \u001B[38;5;28;01mdef\u001B[39;00m \u001B[38;5;21m____databricks_percent_sql\u001B[39m():\n\u001B[1;32m      3\u001B[0m   \u001B[38;5;28;01mimport\u001B[39;00m \u001B[38;5;21;01mbase64\u001B[39;00m\n\u001B[0;32m----> 4\u001B[0m   df \u001B[38;5;241m=\u001B[39m \u001B[43mspark\u001B[49m\u001B[38;5;241;43m.\u001B[39;49m\u001B[43msql\u001B[49m\u001B[43m(\u001B[49m\u001B[43mbase64\u001B[49m\u001B[38;5;241;43m.\u001B[39;49m\u001B[43mstandard_b64decode\u001B[49m\u001B[43m(\u001B[49m\u001B[38;5;124;43m\"\u001B[39;49m\u001B[38;5;124;43mRFJPUCBEQVRBQkFTRSBicm9uemU=\u001B[39;49m\u001B[38;5;124;43m\"\u001B[39;49m\u001B[43m)\u001B[49m\u001B[38;5;241;43m.\u001B[39;49m\u001B[43mdecode\u001B[49m\u001B[43m(\u001B[49m\u001B[43m)\u001B[49m\u001B[43m)\u001B[49m\n\u001B[1;32m      5\u001B[0m   display(df)\n\u001B[1;32m      6\u001B[0m   \u001B[38;5;28;01mreturn\u001B[39;00m df\n\nFile \u001B[0;32m/databricks/spark/python/pyspark/instrumentation_utils.py:48\u001B[0m, in \u001B[0;36m_wrap_function.<locals>.wrapper\u001B[0;34m(*args, **kwargs)\u001B[0m\n\u001B[1;32m     46\u001B[0m start \u001B[38;5;241m=\u001B[39m time\u001B[38;5;241m.\u001B[39mperf_counter()\n\u001B[1;32m     47\u001B[0m \u001B[38;5;28;01mtry\u001B[39;00m:\n\u001B[0;32m---> 48\u001B[0m     res \u001B[38;5;241m=\u001B[39m \u001B[43mfunc\u001B[49m\u001B[43m(\u001B[49m\u001B[38;5;241;43m*\u001B[39;49m\u001B[43margs\u001B[49m\u001B[43m,\u001B[49m\u001B[43m \u001B[49m\u001B[38;5;241;43m*\u001B[39;49m\u001B[38;5;241;43m*\u001B[39;49m\u001B[43mkwargs\u001B[49m\u001B[43m)\u001B[49m\n\u001B[1;32m     49\u001B[0m     logger\u001B[38;5;241m.\u001B[39mlog_success(\n\u001B[1;32m     50\u001B[0m         module_name, class_name, function_name, time\u001B[38;5;241m.\u001B[39mperf_counter() \u001B[38;5;241m-\u001B[39m start, signature\n\u001B[1;32m     51\u001B[0m     )\n\u001B[1;32m     52\u001B[0m     \u001B[38;5;28;01mreturn\u001B[39;00m res\n\nFile \u001B[0;32m/databricks/spark/python/pyspark/sql/session.py:1387\u001B[0m, in \u001B[0;36mSparkSession.sql\u001B[0;34m(self, sqlQuery, args, **kwargs)\u001B[0m\n\u001B[1;32m   1385\u001B[0m \u001B[38;5;28;01mtry\u001B[39;00m:\n\u001B[1;32m   1386\u001B[0m     litArgs \u001B[38;5;241m=\u001B[39m {k: _to_java_column(lit(v)) \u001B[38;5;28;01mfor\u001B[39;00m k, v \u001B[38;5;129;01min\u001B[39;00m (args \u001B[38;5;129;01mor\u001B[39;00m {})\u001B[38;5;241m.\u001B[39mitems()}\n\u001B[0;32m-> 1387\u001B[0m     \u001B[38;5;28;01mreturn\u001B[39;00m DataFrame(\u001B[38;5;28;43mself\u001B[39;49m\u001B[38;5;241;43m.\u001B[39;49m\u001B[43m_jsparkSession\u001B[49m\u001B[38;5;241;43m.\u001B[39;49m\u001B[43msql\u001B[49m\u001B[43m(\u001B[49m\u001B[43msqlQuery\u001B[49m\u001B[43m,\u001B[49m\u001B[43m \u001B[49m\u001B[43mlitArgs\u001B[49m\u001B[43m)\u001B[49m, \u001B[38;5;28mself\u001B[39m)\n\u001B[1;32m   1388\u001B[0m \u001B[38;5;28;01mfinally\u001B[39;00m:\n\u001B[1;32m   1389\u001B[0m     \u001B[38;5;28;01mif\u001B[39;00m \u001B[38;5;28mlen\u001B[39m(kwargs) \u001B[38;5;241m>\u001B[39m \u001B[38;5;241m0\u001B[39m:\n\nFile \u001B[0;32m/databricks/spark/python/lib/py4j-0.10.9.5-src.zip/py4j/java_gateway.py:1321\u001B[0m, in \u001B[0;36mJavaMember.__call__\u001B[0;34m(self, *args)\u001B[0m\n\u001B[1;32m   1315\u001B[0m command \u001B[38;5;241m=\u001B[39m proto\u001B[38;5;241m.\u001B[39mCALL_COMMAND_NAME \u001B[38;5;241m+\u001B[39m\\\n\u001B[1;32m   1316\u001B[0m     \u001B[38;5;28mself\u001B[39m\u001B[38;5;241m.\u001B[39mcommand_header \u001B[38;5;241m+\u001B[39m\\\n\u001B[1;32m   1317\u001B[0m     args_command \u001B[38;5;241m+\u001B[39m\\\n\u001B[1;32m   1318\u001B[0m     proto\u001B[38;5;241m.\u001B[39mEND_COMMAND_PART\n\u001B[1;32m   1320\u001B[0m answer \u001B[38;5;241m=\u001B[39m \u001B[38;5;28mself\u001B[39m\u001B[38;5;241m.\u001B[39mgateway_client\u001B[38;5;241m.\u001B[39msend_command(command)\n\u001B[0;32m-> 1321\u001B[0m return_value \u001B[38;5;241m=\u001B[39m \u001B[43mget_return_value\u001B[49m\u001B[43m(\u001B[49m\n\u001B[1;32m   1322\u001B[0m \u001B[43m    \u001B[49m\u001B[43manswer\u001B[49m\u001B[43m,\u001B[49m\u001B[43m \u001B[49m\u001B[38;5;28;43mself\u001B[39;49m\u001B[38;5;241;43m.\u001B[39;49m\u001B[43mgateway_client\u001B[49m\u001B[43m,\u001B[49m\u001B[43m \u001B[49m\u001B[38;5;28;43mself\u001B[39;49m\u001B[38;5;241;43m.\u001B[39;49m\u001B[43mtarget_id\u001B[49m\u001B[43m,\u001B[49m\u001B[43m \u001B[49m\u001B[38;5;28;43mself\u001B[39;49m\u001B[38;5;241;43m.\u001B[39;49m\u001B[43mname\u001B[49m\u001B[43m)\u001B[49m\n\u001B[1;32m   1324\u001B[0m \u001B[38;5;28;01mfor\u001B[39;00m temp_arg \u001B[38;5;129;01min\u001B[39;00m temp_args:\n\u001B[1;32m   1325\u001B[0m     temp_arg\u001B[38;5;241m.\u001B[39m_detach()\n\nFile \u001B[0;32m/databricks/spark/python/pyspark/errors/exceptions.py:234\u001B[0m, in \u001B[0;36mcapture_sql_exception.<locals>.deco\u001B[0;34m(*a, **kw)\u001B[0m\n\u001B[1;32m    230\u001B[0m converted \u001B[38;5;241m=\u001B[39m convert_exception(e\u001B[38;5;241m.\u001B[39mjava_exception)\n\u001B[1;32m    231\u001B[0m \u001B[38;5;28;01mif\u001B[39;00m \u001B[38;5;129;01mnot\u001B[39;00m \u001B[38;5;28misinstance\u001B[39m(converted, UnknownException):\n\u001B[1;32m    232\u001B[0m     \u001B[38;5;66;03m# Hide where the exception came from that shows a non-Pythonic\u001B[39;00m\n\u001B[1;32m    233\u001B[0m     \u001B[38;5;66;03m# JVM exception message.\u001B[39;00m\n\u001B[0;32m--> 234\u001B[0m     \u001B[38;5;28;01mraise\u001B[39;00m converted \u001B[38;5;28;01mfrom\u001B[39;00m \u001B[38;5;28mNone\u001B[39m\n\u001B[1;32m    235\u001B[0m \u001B[38;5;28;01melse\u001B[39;00m:\n\u001B[1;32m    236\u001B[0m     \u001B[38;5;28;01mraise\u001B[39;00m\n\n\u001B[0;31mAnalysisException\u001B[0m: [SCHEMA_NOT_FOUND] The schema `bronze` cannot be found. Verify the spelling and correctness of the schema and catalog.\nIf you did not qualify the name with a catalog, verify the current_schema() output, or qualify the name with the correct catalog.\nTo tolerate the error on drop use DROP SCHEMA IF EXISTS.",
       "errorSummary": "<span class='ansi-red-fg'>AnalysisException</span>: [SCHEMA_NOT_FOUND] The schema `bronze` cannot be found. Verify the spelling and correctness of the schema and catalog.\nIf you did not qualify the name with a catalog, verify the current_schema() output, or qualify the name with the correct catalog.\nTo tolerate the error on drop use DROP SCHEMA IF EXISTS.",
       "errorTraceType": "ansi",
       "metadata": {},
       "type": "ipynbError"
      }
     },
     "output_type": "display_data"
    }
   ],
   "source": [
    "%sql\n",
    "DROP DATABASE bronze;"
   ]
  },
  {
   "cell_type": "code",
   "execution_count": 0,
   "metadata": {
    "application/vnd.databricks.v1+cell": {
     "cellMetadata": {
      "byteLimit": 2048000,
      "implicitDf": true,
      "rowLimit": 10000
     },
     "inputWidgets": {},
     "nuid": "858b59ce-1aa8-4e7c-b9ab-97bbcdd0836a",
     "showTitle": true,
     "tableResultSettingsMap": {},
     "title": "Recriando o database \"bronze\""
    }
   },
   "outputs": [
    {
     "output_type": "display_data",
     "data": {
      "text/html": [
       "<style scoped>\n",
       "  .table-result-container {\n",
       "    max-height: 300px;\n",
       "    overflow: auto;\n",
       "  }\n",
       "  table, th, td {\n",
       "    border: 1px solid black;\n",
       "    border-collapse: collapse;\n",
       "  }\n",
       "  th, td {\n",
       "    padding: 5px;\n",
       "  }\n",
       "  th {\n",
       "    text-align: left;\n",
       "  }\n",
       "</style><div class='table-result-container'><table class='table-result'><thead style='background-color: white'><tr></tr></thead><tbody></tbody></table></div>"
      ]
     },
     "metadata": {
      "application/vnd.databricks.v1+output": {
       "addedWidgets": {},
       "aggData": [],
       "aggError": "",
       "aggOverflow": false,
       "aggSchema": [],
       "aggSeriesLimitReached": false,
       "aggType": "",
       "arguments": {},
       "columnCustomDisplayInfos": {},
       "data": [],
       "datasetInfos": [],
       "dbfsResultPath": null,
       "isJsonSchema": true,
       "metadata": {},
       "overflow": false,
       "plotOptions": {
        "customPlotOptions": {},
        "displayType": "table",
        "pivotAggregation": null,
        "pivotColumns": null,
        "xColumns": null,
        "yColumns": null
       },
       "removedWidgets": [],
       "schema": [],
       "type": "table"
      }
     },
     "output_type": "display_data"
    }
   ],
   "source": [
    "%sql\n",
    "CREATE DATABASE bronze;"
   ]
  },
  {
   "cell_type": "markdown",
   "metadata": {
    "application/vnd.databricks.v1+cell": {
     "cellMetadata": {
      "byteLimit": 2048000,
      "rowLimit": 10000
     },
     "inputWidgets": {},
     "nuid": "368a204e-e9bf-4912-aa34-4c49868f1294",
     "showTitle": false,
     "tableResultSettingsMap": {},
     "title": ""
    }
   },
   "source": [
    "A coluna isAdult apresentou um erro ao ser criada no dataframe Spark. Como os seus dados não seriam úteis para resoponder as perguntas, optou-se por removê-la para facilitar o processo."
   ]
  },
  {
   "cell_type": "code",
   "execution_count": 0,
   "metadata": {
    "application/vnd.databricks.v1+cell": {
     "cellMetadata": {
      "byteLimit": 2048000,
      "rowLimit": 10000
     },
     "inputWidgets": {},
     "nuid": "b402e619-bb4a-415c-aa69-334be52d1dcd",
     "showTitle": true,
     "tableResultSettingsMap": {},
     "title": "Remoção da coluna \"isAdult\""
    }
   },
   "outputs": [],
   "source": [
    "title_basics_df = title_basics_df.drop(columns=[\"isAdult\"])"
   ]
  },
  {
   "cell_type": "markdown",
   "metadata": {
    "application/vnd.databricks.v1+cell": {
     "cellMetadata": {
      "byteLimit": 2048000,
      "rowLimit": 10000
     },
     "inputWidgets": {},
     "nuid": "f62c9031-0827-4e0f-a7ea-02433dc425e5",
     "showTitle": false,
     "tableResultSettingsMap": {},
     "title": ""
    }
   },
   "source": [
    "Os blocos de código a seguir estão criando as tabelas \"title_basics\" e \"title_ratings\" na camada bronze do banco de dados. O Apache Spark permite manipulação de dados de forma eficiente, sendo essencial para a criação do dataframe. A primeira linha é responsável por, a partir do dataframe gerado pela importação do Pandas, criar um dataframe no Spark. Em seguida, o data frame do Spark é salvo na camada bronze como tabela, escrevendo por cima de possível arquivo de mesmo nome."
   ]
  },
  {
   "cell_type": "code",
   "execution_count": 0,
   "metadata": {
    "application/vnd.databricks.v1+cell": {
     "cellMetadata": {
      "byteLimit": 2048000,
      "rowLimit": 10000
     },
     "inputWidgets": {},
     "nuid": "51a40bb5-0425-40b5-90a6-f5c3a5e504bb",
     "showTitle": true,
     "tableResultSettingsMap": {},
     "title": "Criação da tabela dos títulos a partir do dataframe"
    }
   },
   "outputs": [],
   "source": [
    "title_basics_spark_df = spark.createDataFrame(title_basics_df)\n",
    "title_basics_spark_df.write.mode(\"overwrite\").saveAsTable(\"bronze.title_basics\")"
   ]
  },
  {
   "cell_type": "code",
   "execution_count": 0,
   "metadata": {
    "application/vnd.databricks.v1+cell": {
     "cellMetadata": {
      "byteLimit": 2048000,
      "rowLimit": 10000
     },
     "inputWidgets": {},
     "nuid": "07fe3a3b-4956-44ac-9cef-c2325b19ff4a",
     "showTitle": true,
     "tableResultSettingsMap": {},
     "title": "Criação da tabela de avaliações a partir do dataframe"
    }
   },
   "outputs": [],
   "source": [
    "title_ratings_spark_df = spark.createDataFrame(title_ratings_df)\n",
    "title_ratings_spark_df.write.mode(\"overwrite\").saveAsTable(\"bronze.title_ratings\")"
   ]
  },
  {
   "cell_type": "code",
   "execution_count": 0,
   "metadata": {
    "application/vnd.databricks.v1+cell": {
     "cellMetadata": {
      "byteLimit": 2048000,
      "implicitDf": true,
      "rowLimit": 10000
     },
     "inputWidgets": {},
     "nuid": "4f953ce3-6101-4545-a01e-92d034b6defc",
     "showTitle": true,
     "tableResultSettingsMap": {},
     "title": "Exibição dos dados da da tabela Title"
    }
   },
   "outputs": [
    {
     "output_type": "display_data",
     "data": {
      "text/html": [
       "<style scoped>\n",
       "  .table-result-container {\n",
       "    max-height: 300px;\n",
       "    overflow: auto;\n",
       "  }\n",
       "  table, th, td {\n",
       "    border: 1px solid black;\n",
       "    border-collapse: collapse;\n",
       "  }\n",
       "  th, td {\n",
       "    padding: 5px;\n",
       "  }\n",
       "  th {\n",
       "    text-align: left;\n",
       "  }\n",
       "</style><div class='table-result-container'><table class='table-result'><thead style='background-color: white'><tr><th>tconst</th><th>titleType</th><th>primaryTitle</th><th>originalTitle</th><th>startYear</th><th>endYear</th><th>runtimeMinutes</th><th>genres</th></tr></thead><tbody><tr><td>tt0000001</td><td>short</td><td>Carmencita</td><td>Carmencita</td><td>1894</td><td>\\N</td><td>1</td><td>Documentary,Short</td></tr><tr><td>tt0000002</td><td>short</td><td>Le clown et ses chiens</td><td>Le clown et ses chiens</td><td>1892</td><td>\\N</td><td>5</td><td>Animation,Short</td></tr><tr><td>tt0000003</td><td>short</td><td>Poor Pierrot</td><td>Pauvre Pierrot</td><td>1892</td><td>\\N</td><td>5</td><td>Animation,Comedy,Romance</td></tr><tr><td>tt0000004</td><td>short</td><td>Un bon bock</td><td>Un bon bock</td><td>1892</td><td>\\N</td><td>12</td><td>Animation,Short</td></tr><tr><td>tt0000005</td><td>short</td><td>Blacksmith Scene</td><td>Blacksmith Scene</td><td>1893</td><td>\\N</td><td>1</td><td>Short</td></tr><tr><td>tt0000006</td><td>short</td><td>Chinese Opium Den</td><td>Chinese Opium Den</td><td>1894</td><td>\\N</td><td>1</td><td>Short</td></tr><tr><td>tt0000007</td><td>short</td><td>Corbett and Courtney Before the Kinetograph</td><td>Corbett and Courtney Before the Kinetograph</td><td>1894</td><td>\\N</td><td>1</td><td>Short,Sport</td></tr><tr><td>tt0000008</td><td>short</td><td>Edison Kinetoscopic Record of a Sneeze</td><td>Edison Kinetoscopic Record of a Sneeze</td><td>1894</td><td>\\N</td><td>1</td><td>Documentary,Short</td></tr><tr><td>tt0000009</td><td>movie</td><td>Miss Jerry</td><td>Miss Jerry</td><td>1894</td><td>\\N</td><td>45</td><td>Romance</td></tr><tr><td>tt0000010</td><td>short</td><td>Leaving the Factory</td><td>La sortie de l'usine Lumière à Lyon</td><td>1895</td><td>\\N</td><td>1</td><td>Documentary,Short</td></tr><tr><td>tt0000011</td><td>short</td><td>Akrobatisches Potpourri</td><td>Akrobatisches Potpourri</td><td>1895</td><td>\\N</td><td>1</td><td>Documentary,Short</td></tr><tr><td>tt0000012</td><td>short</td><td>The Arrival of a Train</td><td>L'arrivée d'un train à La Ciotat</td><td>1896</td><td>\\N</td><td>1</td><td>Documentary,Short</td></tr><tr><td>tt0000013</td><td>short</td><td>The Photographical Congress Arrives in Lyon</td><td>Le débarquement du congrès de photographie à Lyon</td><td>1895</td><td>\\N</td><td>1</td><td>Documentary,Short</td></tr><tr><td>tt0000014</td><td>short</td><td>The Waterer Watered</td><td>L'arroseur arrosé</td><td>1895</td><td>\\N</td><td>1</td><td>Comedy,Short</td></tr><tr><td>tt0000015</td><td>short</td><td>Around a Cabin</td><td>Autour d'une cabine</td><td>1894</td><td>\\N</td><td>2</td><td>Animation,Comedy,Short</td></tr><tr><td>tt0000016</td><td>short</td><td>Boat Leaving the Port</td><td>Barque sortant du port</td><td>1895</td><td>\\N</td><td>1</td><td>Documentary,Short</td></tr><tr><td>tt0000017</td><td>short</td><td>Italienischer Bauerntanz</td><td>Italienischer Bauerntanz</td><td>1895</td><td>\\N</td><td>1</td><td>Documentary,Short</td></tr><tr><td>tt0000018</td><td>short</td><td>Das boxende Känguruh</td><td>Das boxende Känguruh</td><td>1895</td><td>\\N</td><td>1</td><td>Short,Sport</td></tr><tr><td>tt0000019</td><td>short</td><td>The Clown Barber</td><td>The Clown Barber</td><td>1898</td><td>\\N</td><td>\\N</td><td>Comedy,Short</td></tr><tr><td>tt0000020</td><td>short</td><td>The Derby 1895</td><td>The Derby 1895</td><td>1895</td><td>\\N</td><td>1</td><td>Documentary,Short,Sport</td></tr></tbody></table></div>"
      ]
     },
     "metadata": {
      "application/vnd.databricks.v1+output": {
       "addedWidgets": {},
       "aggData": [],
       "aggError": "",
       "aggOverflow": false,
       "aggSchema": [],
       "aggSeriesLimitReached": false,
       "aggType": "",
       "arguments": {},
       "columnCustomDisplayInfos": {},
       "data": [
        [
         "tt0000001",
         "short",
         "Carmencita",
         "Carmencita",
         "1894",
         "\\N",
         "1",
         "Documentary,Short"
        ],
        [
         "tt0000002",
         "short",
         "Le clown et ses chiens",
         "Le clown et ses chiens",
         "1892",
         "\\N",
         "5",
         "Animation,Short"
        ],
        [
         "tt0000003",
         "short",
         "Poor Pierrot",
         "Pauvre Pierrot",
         "1892",
         "\\N",
         "5",
         "Animation,Comedy,Romance"
        ],
        [
         "tt0000004",
         "short",
         "Un bon bock",
         "Un bon bock",
         "1892",
         "\\N",
         "12",
         "Animation,Short"
        ],
        [
         "tt0000005",
         "short",
         "Blacksmith Scene",
         "Blacksmith Scene",
         "1893",
         "\\N",
         "1",
         "Short"
        ],
        [
         "tt0000006",
         "short",
         "Chinese Opium Den",
         "Chinese Opium Den",
         "1894",
         "\\N",
         "1",
         "Short"
        ],
        [
         "tt0000007",
         "short",
         "Corbett and Courtney Before the Kinetograph",
         "Corbett and Courtney Before the Kinetograph",
         "1894",
         "\\N",
         "1",
         "Short,Sport"
        ],
        [
         "tt0000008",
         "short",
         "Edison Kinetoscopic Record of a Sneeze",
         "Edison Kinetoscopic Record of a Sneeze",
         "1894",
         "\\N",
         "1",
         "Documentary,Short"
        ],
        [
         "tt0000009",
         "movie",
         "Miss Jerry",
         "Miss Jerry",
         "1894",
         "\\N",
         "45",
         "Romance"
        ],
        [
         "tt0000010",
         "short",
         "Leaving the Factory",
         "La sortie de l'usine Lumière à Lyon",
         "1895",
         "\\N",
         "1",
         "Documentary,Short"
        ],
        [
         "tt0000011",
         "short",
         "Akrobatisches Potpourri",
         "Akrobatisches Potpourri",
         "1895",
         "\\N",
         "1",
         "Documentary,Short"
        ],
        [
         "tt0000012",
         "short",
         "The Arrival of a Train",
         "L'arrivée d'un train à La Ciotat",
         "1896",
         "\\N",
         "1",
         "Documentary,Short"
        ],
        [
         "tt0000013",
         "short",
         "The Photographical Congress Arrives in Lyon",
         "Le débarquement du congrès de photographie à Lyon",
         "1895",
         "\\N",
         "1",
         "Documentary,Short"
        ],
        [
         "tt0000014",
         "short",
         "The Waterer Watered",
         "L'arroseur arrosé",
         "1895",
         "\\N",
         "1",
         "Comedy,Short"
        ],
        [
         "tt0000015",
         "short",
         "Around a Cabin",
         "Autour d'une cabine",
         "1894",
         "\\N",
         "2",
         "Animation,Comedy,Short"
        ],
        [
         "tt0000016",
         "short",
         "Boat Leaving the Port",
         "Barque sortant du port",
         "1895",
         "\\N",
         "1",
         "Documentary,Short"
        ],
        [
         "tt0000017",
         "short",
         "Italienischer Bauerntanz",
         "Italienischer Bauerntanz",
         "1895",
         "\\N",
         "1",
         "Documentary,Short"
        ],
        [
         "tt0000018",
         "short",
         "Das boxende Känguruh",
         "Das boxende Känguruh",
         "1895",
         "\\N",
         "1",
         "Short,Sport"
        ],
        [
         "tt0000019",
         "short",
         "The Clown Barber",
         "The Clown Barber",
         "1898",
         "\\N",
         "\\N",
         "Comedy,Short"
        ],
        [
         "tt0000020",
         "short",
         "The Derby 1895",
         "The Derby 1895",
         "1895",
         "\\N",
         "1",
         "Documentary,Short,Sport"
        ]
       ],
       "datasetInfos": [],
       "dbfsResultPath": null,
       "isJsonSchema": true,
       "metadata": {},
       "overflow": false,
       "plotOptions": {
        "customPlotOptions": {},
        "displayType": "table",
        "pivotAggregation": null,
        "pivotColumns": null,
        "xColumns": null,
        "yColumns": null
       },
       "removedWidgets": [],
       "schema": [
        {
         "metadata": "{}",
         "name": "tconst",
         "type": "\"string\""
        },
        {
         "metadata": "{}",
         "name": "titleType",
         "type": "\"string\""
        },
        {
         "metadata": "{}",
         "name": "primaryTitle",
         "type": "\"string\""
        },
        {
         "metadata": "{}",
         "name": "originalTitle",
         "type": "\"string\""
        },
        {
         "metadata": "{}",
         "name": "startYear",
         "type": "\"string\""
        },
        {
         "metadata": "{}",
         "name": "endYear",
         "type": "\"string\""
        },
        {
         "metadata": "{}",
         "name": "runtimeMinutes",
         "type": "\"string\""
        },
        {
         "metadata": "{}",
         "name": "genres",
         "type": "\"string\""
        }
       ],
       "type": "table"
      }
     },
     "output_type": "display_data"
    }
   ],
   "source": [
    "%sql\n",
    "SELECT * FROM bronze.title_basics LIMIT 20"
   ]
  },
  {
   "cell_type": "markdown",
   "metadata": {
    "application/vnd.databricks.v1+cell": {
     "cellMetadata": {
      "byteLimit": 2048000,
      "rowLimit": 10000
     },
     "inputWidgets": {},
     "nuid": "e6b971f5-2a9a-4c6b-af55-d99ac01a5643",
     "showTitle": false,
     "tableResultSettingsMap": {},
     "title": ""
    }
   },
   "source": [
    "Aqui, visualizou-se os tipos de títulos disponíveis com o comando SELECT DISTINCT, que mostra os valores únicos da coluna selecionada. Como o presente trabalho vai analisar apenas filmes, apenas os tipos Movie, tvShort, short e tvMovie serão selecionados posteriormente."
   ]
  },
  {
   "cell_type": "code",
   "execution_count": 0,
   "metadata": {
    "application/vnd.databricks.v1+cell": {
     "cellMetadata": {
      "byteLimit": 2048000,
      "implicitDf": true,
      "rowLimit": 10000
     },
     "inputWidgets": {},
     "nuid": "c71b8545-2e0c-4803-b95b-3d1172e1a9a2",
     "showTitle": true,
     "tableResultSettingsMap": {},
     "title": "Selecionando os dados contidos na coluna titleType"
    }
   },
   "outputs": [
    {
     "output_type": "display_data",
     "data": {
      "text/html": [
       "<style scoped>\n",
       "  .table-result-container {\n",
       "    max-height: 300px;\n",
       "    overflow: auto;\n",
       "  }\n",
       "  table, th, td {\n",
       "    border: 1px solid black;\n",
       "    border-collapse: collapse;\n",
       "  }\n",
       "  th, td {\n",
       "    padding: 5px;\n",
       "  }\n",
       "  th {\n",
       "    text-align: left;\n",
       "  }\n",
       "</style><div class='table-result-container'><table class='table-result'><thead style='background-color: white'><tr><th>titleType</th></tr></thead><tbody><tr><td>tvSeries</td></tr><tr><td>tvMiniSeries</td></tr><tr><td>tvMovie</td></tr><tr><td>tvEpisode</td></tr><tr><td>movie</td></tr><tr><td>tvSpecial</td></tr><tr><td>video</td></tr><tr><td>videoGame</td></tr><tr><td>tvShort</td></tr><tr><td>short</td></tr><tr><td>tvPilot</td></tr></tbody></table></div>"
      ]
     },
     "metadata": {
      "application/vnd.databricks.v1+output": {
       "addedWidgets": {},
       "aggData": [],
       "aggError": "",
       "aggOverflow": false,
       "aggSchema": [],
       "aggSeriesLimitReached": false,
       "aggType": "",
       "arguments": {},
       "columnCustomDisplayInfos": {},
       "data": [
        [
         "tvSeries"
        ],
        [
         "tvMiniSeries"
        ],
        [
         "tvMovie"
        ],
        [
         "tvEpisode"
        ],
        [
         "movie"
        ],
        [
         "tvSpecial"
        ],
        [
         "video"
        ],
        [
         "videoGame"
        ],
        [
         "tvShort"
        ],
        [
         "short"
        ],
        [
         "tvPilot"
        ]
       ],
       "datasetInfos": [],
       "dbfsResultPath": null,
       "isJsonSchema": true,
       "metadata": {},
       "overflow": false,
       "plotOptions": {
        "customPlotOptions": {},
        "displayType": "table",
        "pivotAggregation": null,
        "pivotColumns": null,
        "xColumns": null,
        "yColumns": null
       },
       "removedWidgets": [],
       "schema": [
        {
         "metadata": "{}",
         "name": "titleType",
         "type": "\"string\""
        }
       ],
       "type": "table"
      }
     },
     "output_type": "display_data"
    }
   ],
   "source": [
    "%sql\n",
    "SELECT DISTINCT titleType FROM bronze.title_basics;"
   ]
  },
  {
   "cell_type": "code",
   "execution_count": 0,
   "metadata": {
    "application/vnd.databricks.v1+cell": {
     "cellMetadata": {
      "byteLimit": 2048000,
      "implicitDf": true,
      "rowLimit": 10000
     },
     "inputWidgets": {},
     "nuid": "4a16bb7e-6ddf-44e4-bc35-5e27113e3070",
     "showTitle": true,
     "tableResultSettingsMap": {},
     "title": "Exibição dos dados da da tabela Ratings"
    }
   },
   "outputs": [
    {
     "output_type": "display_data",
     "data": {
      "text/html": [
       "<style scoped>\n",
       "  .table-result-container {\n",
       "    max-height: 300px;\n",
       "    overflow: auto;\n",
       "  }\n",
       "  table, th, td {\n",
       "    border: 1px solid black;\n",
       "    border-collapse: collapse;\n",
       "  }\n",
       "  th, td {\n",
       "    padding: 5px;\n",
       "  }\n",
       "  th {\n",
       "    text-align: left;\n",
       "  }\n",
       "</style><div class='table-result-container'><table class='table-result'><thead style='background-color: white'><tr><th>tconst</th><th>averageRating</th><th>numVotes</th></tr></thead><tbody><tr><td>tt0000001</td><td>5.7</td><td>2146</td></tr><tr><td>tt0000002</td><td>5.5</td><td>291</td></tr><tr><td>tt0000003</td><td>6.5</td><td>2180</td></tr><tr><td>tt0000004</td><td>5.3</td><td>187</td></tr><tr><td>tt0000005</td><td>6.2</td><td>2924</td></tr><tr><td>tt0000006</td><td>5.0</td><td>210</td></tr><tr><td>tt0000007</td><td>5.3</td><td>906</td></tr><tr><td>tt0000008</td><td>5.4</td><td>2292</td></tr><tr><td>tt0000009</td><td>5.4</td><td>223</td></tr><tr><td>tt0000010</td><td>6.8</td><td>7922</td></tr><tr><td>tt0000011</td><td>5.2</td><td>418</td></tr><tr><td>tt0000012</td><td>7.4</td><td>13447</td></tr><tr><td>tt0000013</td><td>5.7</td><td>2064</td></tr><tr><td>tt0000014</td><td>7.1</td><td>6138</td></tr><tr><td>tt0000015</td><td>6.1</td><td>1271</td></tr><tr><td>tt0000016</td><td>5.9</td><td>1656</td></tr><tr><td>tt0000017</td><td>4.6</td><td>379</td></tr><tr><td>tt0000018</td><td>5.2</td><td>662</td></tr><tr><td>tt0000019</td><td>5.2</td><td>35</td></tr><tr><td>tt0000020</td><td>4.7</td><td>410</td></tr></tbody></table></div>"
      ]
     },
     "metadata": {
      "application/vnd.databricks.v1+output": {
       "addedWidgets": {},
       "aggData": [],
       "aggError": "",
       "aggOverflow": false,
       "aggSchema": [],
       "aggSeriesLimitReached": false,
       "aggType": "",
       "arguments": {},
       "columnCustomDisplayInfos": {},
       "data": [
        [
         "tt0000001",
         5.7,
         2146
        ],
        [
         "tt0000002",
         5.5,
         291
        ],
        [
         "tt0000003",
         6.5,
         2180
        ],
        [
         "tt0000004",
         5.3,
         187
        ],
        [
         "tt0000005",
         6.2,
         2924
        ],
        [
         "tt0000006",
         5.0,
         210
        ],
        [
         "tt0000007",
         5.3,
         906
        ],
        [
         "tt0000008",
         5.4,
         2292
        ],
        [
         "tt0000009",
         5.4,
         223
        ],
        [
         "tt0000010",
         6.8,
         7922
        ],
        [
         "tt0000011",
         5.2,
         418
        ],
        [
         "tt0000012",
         7.4,
         13447
        ],
        [
         "tt0000013",
         5.7,
         2064
        ],
        [
         "tt0000014",
         7.1,
         6138
        ],
        [
         "tt0000015",
         6.1,
         1271
        ],
        [
         "tt0000016",
         5.9,
         1656
        ],
        [
         "tt0000017",
         4.6,
         379
        ],
        [
         "tt0000018",
         5.2,
         662
        ],
        [
         "tt0000019",
         5.2,
         35
        ],
        [
         "tt0000020",
         4.7,
         410
        ]
       ],
       "datasetInfos": [],
       "dbfsResultPath": null,
       "isJsonSchema": true,
       "metadata": {},
       "overflow": false,
       "plotOptions": {
        "customPlotOptions": {},
        "displayType": "table",
        "pivotAggregation": null,
        "pivotColumns": null,
        "xColumns": null,
        "yColumns": null
       },
       "removedWidgets": [],
       "schema": [
        {
         "metadata": "{}",
         "name": "tconst",
         "type": "\"string\""
        },
        {
         "metadata": "{}",
         "name": "averageRating",
         "type": "\"double\""
        },
        {
         "metadata": "{}",
         "name": "numVotes",
         "type": "\"long\""
        }
       ],
       "type": "table"
      }
     },
     "output_type": "display_data"
    }
   ],
   "source": [
    "%sql\n",
    "SELECT * FROM bronze.title_ratings LIMIT 20"
   ]
  },
  {
   "cell_type": "markdown",
   "metadata": {
    "application/vnd.databricks.v1+cell": {
     "cellMetadata": {
      "byteLimit": 2048000,
      "rowLimit": 10000
     },
     "inputWidgets": {},
     "nuid": "a7d0808f-21ca-4f3e-aeef-0a03946722e4",
     "showTitle": false,
     "tableResultSettingsMap": {},
     "title": ""
    }
   },
   "source": [
    "Uma vez esgotado as ações a serem realizadas na camada bronze (importação de dados) cria-se de maneira similar a camada prata para a análise dos dados, verificando a sua consistência."
   ]
  },
  {
   "cell_type": "code",
   "execution_count": 0,
   "metadata": {
    "application/vnd.databricks.v1+cell": {
     "cellMetadata": {
      "byteLimit": 2048000,
      "implicitDf": true,
      "rowLimit": 10000
     },
     "inputWidgets": {},
     "nuid": "1dfbf5e8-b9cd-47b2-8fab-308064178064",
     "showTitle": true,
     "tableResultSettingsMap": {},
     "title": "Apagando o database \"silver\" para ser recriado"
    }
   },
   "outputs": [
    {
     "output_type": "display_data",
     "data": {
      "text/plain": [
       "\u001B[0;31m---------------------------------------------------------------------------\u001B[0m\n",
       "\u001B[0;31mAnalysisException\u001B[0m                         Traceback (most recent call last)\n",
       "File \u001B[0;32m<command-1370257541152250>:7\u001B[0m\n",
       "\u001B[1;32m      5\u001B[0m     display(df)\n",
       "\u001B[1;32m      6\u001B[0m     \u001B[38;5;28;01mreturn\u001B[39;00m df\n",
       "\u001B[0;32m----> 7\u001B[0m   _sqldf \u001B[38;5;241m=\u001B[39m \u001B[43m____databricks_percent_sql\u001B[49m\u001B[43m(\u001B[49m\u001B[43m)\u001B[49m\n",
       "\u001B[1;32m      8\u001B[0m \u001B[38;5;28;01mfinally\u001B[39;00m:\n",
       "\u001B[1;32m      9\u001B[0m   \u001B[38;5;28;01mdel\u001B[39;00m ____databricks_percent_sql\n",
       "\n",
       "File \u001B[0;32m<command-1370257541152250>:4\u001B[0m, in \u001B[0;36m____databricks_percent_sql\u001B[0;34m()\u001B[0m\n",
       "\u001B[1;32m      2\u001B[0m \u001B[38;5;28;01mdef\u001B[39;00m \u001B[38;5;21m____databricks_percent_sql\u001B[39m():\n",
       "\u001B[1;32m      3\u001B[0m   \u001B[38;5;28;01mimport\u001B[39;00m \u001B[38;5;21;01mbase64\u001B[39;00m\n",
       "\u001B[0;32m----> 4\u001B[0m   df \u001B[38;5;241m=\u001B[39m \u001B[43mspark\u001B[49m\u001B[38;5;241;43m.\u001B[39;49m\u001B[43msql\u001B[49m\u001B[43m(\u001B[49m\u001B[43mbase64\u001B[49m\u001B[38;5;241;43m.\u001B[39;49m\u001B[43mstandard_b64decode\u001B[49m\u001B[43m(\u001B[49m\u001B[38;5;124;43m\"\u001B[39;49m\u001B[38;5;124;43mRFJPUCBEQVRBQkFTRSBzaWx2ZXIgQ0FTQ0FERQ==\u001B[39;49m\u001B[38;5;124;43m\"\u001B[39;49m\u001B[43m)\u001B[49m\u001B[38;5;241;43m.\u001B[39;49m\u001B[43mdecode\u001B[49m\u001B[43m(\u001B[49m\u001B[43m)\u001B[49m\u001B[43m)\u001B[49m\n",
       "\u001B[1;32m      5\u001B[0m   display(df)\n",
       "\u001B[1;32m      6\u001B[0m   \u001B[38;5;28;01mreturn\u001B[39;00m df\n",
       "\n",
       "File \u001B[0;32m/databricks/spark/python/pyspark/instrumentation_utils.py:48\u001B[0m, in \u001B[0;36m_wrap_function.<locals>.wrapper\u001B[0;34m(*args, **kwargs)\u001B[0m\n",
       "\u001B[1;32m     46\u001B[0m start \u001B[38;5;241m=\u001B[39m time\u001B[38;5;241m.\u001B[39mperf_counter()\n",
       "\u001B[1;32m     47\u001B[0m \u001B[38;5;28;01mtry\u001B[39;00m:\n",
       "\u001B[0;32m---> 48\u001B[0m     res \u001B[38;5;241m=\u001B[39m \u001B[43mfunc\u001B[49m\u001B[43m(\u001B[49m\u001B[38;5;241;43m*\u001B[39;49m\u001B[43margs\u001B[49m\u001B[43m,\u001B[49m\u001B[43m \u001B[49m\u001B[38;5;241;43m*\u001B[39;49m\u001B[38;5;241;43m*\u001B[39;49m\u001B[43mkwargs\u001B[49m\u001B[43m)\u001B[49m\n",
       "\u001B[1;32m     49\u001B[0m     logger\u001B[38;5;241m.\u001B[39mlog_success(\n",
       "\u001B[1;32m     50\u001B[0m         module_name, class_name, function_name, time\u001B[38;5;241m.\u001B[39mperf_counter() \u001B[38;5;241m-\u001B[39m start, signature\n",
       "\u001B[1;32m     51\u001B[0m     )\n",
       "\u001B[1;32m     52\u001B[0m     \u001B[38;5;28;01mreturn\u001B[39;00m res\n",
       "\n",
       "File \u001B[0;32m/databricks/spark/python/pyspark/sql/session.py:1387\u001B[0m, in \u001B[0;36mSparkSession.sql\u001B[0;34m(self, sqlQuery, args, **kwargs)\u001B[0m\n",
       "\u001B[1;32m   1385\u001B[0m \u001B[38;5;28;01mtry\u001B[39;00m:\n",
       "\u001B[1;32m   1386\u001B[0m     litArgs \u001B[38;5;241m=\u001B[39m {k: _to_java_column(lit(v)) \u001B[38;5;28;01mfor\u001B[39;00m k, v \u001B[38;5;129;01min\u001B[39;00m (args \u001B[38;5;129;01mor\u001B[39;00m {})\u001B[38;5;241m.\u001B[39mitems()}\n",
       "\u001B[0;32m-> 1387\u001B[0m     \u001B[38;5;28;01mreturn\u001B[39;00m DataFrame(\u001B[38;5;28;43mself\u001B[39;49m\u001B[38;5;241;43m.\u001B[39;49m\u001B[43m_jsparkSession\u001B[49m\u001B[38;5;241;43m.\u001B[39;49m\u001B[43msql\u001B[49m\u001B[43m(\u001B[49m\u001B[43msqlQuery\u001B[49m\u001B[43m,\u001B[49m\u001B[43m \u001B[49m\u001B[43mlitArgs\u001B[49m\u001B[43m)\u001B[49m, \u001B[38;5;28mself\u001B[39m)\n",
       "\u001B[1;32m   1388\u001B[0m \u001B[38;5;28;01mfinally\u001B[39;00m:\n",
       "\u001B[1;32m   1389\u001B[0m     \u001B[38;5;28;01mif\u001B[39;00m \u001B[38;5;28mlen\u001B[39m(kwargs) \u001B[38;5;241m>\u001B[39m \u001B[38;5;241m0\u001B[39m:\n",
       "\n",
       "File \u001B[0;32m/databricks/spark/python/lib/py4j-0.10.9.5-src.zip/py4j/java_gateway.py:1321\u001B[0m, in \u001B[0;36mJavaMember.__call__\u001B[0;34m(self, *args)\u001B[0m\n",
       "\u001B[1;32m   1315\u001B[0m command \u001B[38;5;241m=\u001B[39m proto\u001B[38;5;241m.\u001B[39mCALL_COMMAND_NAME \u001B[38;5;241m+\u001B[39m\\\n",
       "\u001B[1;32m   1316\u001B[0m     \u001B[38;5;28mself\u001B[39m\u001B[38;5;241m.\u001B[39mcommand_header \u001B[38;5;241m+\u001B[39m\\\n",
       "\u001B[1;32m   1317\u001B[0m     args_command \u001B[38;5;241m+\u001B[39m\\\n",
       "\u001B[1;32m   1318\u001B[0m     proto\u001B[38;5;241m.\u001B[39mEND_COMMAND_PART\n",
       "\u001B[1;32m   1320\u001B[0m answer \u001B[38;5;241m=\u001B[39m \u001B[38;5;28mself\u001B[39m\u001B[38;5;241m.\u001B[39mgateway_client\u001B[38;5;241m.\u001B[39msend_command(command)\n",
       "\u001B[0;32m-> 1321\u001B[0m return_value \u001B[38;5;241m=\u001B[39m \u001B[43mget_return_value\u001B[49m\u001B[43m(\u001B[49m\n",
       "\u001B[1;32m   1322\u001B[0m \u001B[43m    \u001B[49m\u001B[43manswer\u001B[49m\u001B[43m,\u001B[49m\u001B[43m \u001B[49m\u001B[38;5;28;43mself\u001B[39;49m\u001B[38;5;241;43m.\u001B[39;49m\u001B[43mgateway_client\u001B[49m\u001B[43m,\u001B[49m\u001B[43m \u001B[49m\u001B[38;5;28;43mself\u001B[39;49m\u001B[38;5;241;43m.\u001B[39;49m\u001B[43mtarget_id\u001B[49m\u001B[43m,\u001B[49m\u001B[43m \u001B[49m\u001B[38;5;28;43mself\u001B[39;49m\u001B[38;5;241;43m.\u001B[39;49m\u001B[43mname\u001B[49m\u001B[43m)\u001B[49m\n",
       "\u001B[1;32m   1324\u001B[0m \u001B[38;5;28;01mfor\u001B[39;00m temp_arg \u001B[38;5;129;01min\u001B[39;00m temp_args:\n",
       "\u001B[1;32m   1325\u001B[0m     temp_arg\u001B[38;5;241m.\u001B[39m_detach()\n",
       "\n",
       "File \u001B[0;32m/databricks/spark/python/pyspark/errors/exceptions.py:234\u001B[0m, in \u001B[0;36mcapture_sql_exception.<locals>.deco\u001B[0;34m(*a, **kw)\u001B[0m\n",
       "\u001B[1;32m    230\u001B[0m converted \u001B[38;5;241m=\u001B[39m convert_exception(e\u001B[38;5;241m.\u001B[39mjava_exception)\n",
       "\u001B[1;32m    231\u001B[0m \u001B[38;5;28;01mif\u001B[39;00m \u001B[38;5;129;01mnot\u001B[39;00m \u001B[38;5;28misinstance\u001B[39m(converted, UnknownException):\n",
       "\u001B[1;32m    232\u001B[0m     \u001B[38;5;66;03m# Hide where the exception came from that shows a non-Pythonic\u001B[39;00m\n",
       "\u001B[1;32m    233\u001B[0m     \u001B[38;5;66;03m# JVM exception message.\u001B[39;00m\n",
       "\u001B[0;32m--> 234\u001B[0m     \u001B[38;5;28;01mraise\u001B[39;00m converted \u001B[38;5;28;01mfrom\u001B[39;00m \u001B[38;5;28mNone\u001B[39m\n",
       "\u001B[1;32m    235\u001B[0m \u001B[38;5;28;01melse\u001B[39;00m:\n",
       "\u001B[1;32m    236\u001B[0m     \u001B[38;5;28;01mraise\u001B[39;00m\n",
       "\n",
       "\u001B[0;31mAnalysisException\u001B[0m: [SCHEMA_NOT_FOUND] The schema `silver` cannot be found. Verify the spelling and correctness of the schema and catalog.\n",
       "If you did not qualify the name with a catalog, verify the current_schema() output, or qualify the name with the correct catalog.\n",
       "To tolerate the error on drop use DROP SCHEMA IF EXISTS."
      ]
     },
     "metadata": {
      "application/vnd.databricks.v1+output": {
       "arguments": {},
       "data": "\u001B[0;31m---------------------------------------------------------------------------\u001B[0m\n\u001B[0;31mAnalysisException\u001B[0m                         Traceback (most recent call last)\nFile \u001B[0;32m<command-1370257541152250>:7\u001B[0m\n\u001B[1;32m      5\u001B[0m     display(df)\n\u001B[1;32m      6\u001B[0m     \u001B[38;5;28;01mreturn\u001B[39;00m df\n\u001B[0;32m----> 7\u001B[0m   _sqldf \u001B[38;5;241m=\u001B[39m \u001B[43m____databricks_percent_sql\u001B[49m\u001B[43m(\u001B[49m\u001B[43m)\u001B[49m\n\u001B[1;32m      8\u001B[0m \u001B[38;5;28;01mfinally\u001B[39;00m:\n\u001B[1;32m      9\u001B[0m   \u001B[38;5;28;01mdel\u001B[39;00m ____databricks_percent_sql\n\nFile \u001B[0;32m<command-1370257541152250>:4\u001B[0m, in \u001B[0;36m____databricks_percent_sql\u001B[0;34m()\u001B[0m\n\u001B[1;32m      2\u001B[0m \u001B[38;5;28;01mdef\u001B[39;00m \u001B[38;5;21m____databricks_percent_sql\u001B[39m():\n\u001B[1;32m      3\u001B[0m   \u001B[38;5;28;01mimport\u001B[39;00m \u001B[38;5;21;01mbase64\u001B[39;00m\n\u001B[0;32m----> 4\u001B[0m   df \u001B[38;5;241m=\u001B[39m \u001B[43mspark\u001B[49m\u001B[38;5;241;43m.\u001B[39;49m\u001B[43msql\u001B[49m\u001B[43m(\u001B[49m\u001B[43mbase64\u001B[49m\u001B[38;5;241;43m.\u001B[39;49m\u001B[43mstandard_b64decode\u001B[49m\u001B[43m(\u001B[49m\u001B[38;5;124;43m\"\u001B[39;49m\u001B[38;5;124;43mRFJPUCBEQVRBQkFTRSBzaWx2ZXIgQ0FTQ0FERQ==\u001B[39;49m\u001B[38;5;124;43m\"\u001B[39;49m\u001B[43m)\u001B[49m\u001B[38;5;241;43m.\u001B[39;49m\u001B[43mdecode\u001B[49m\u001B[43m(\u001B[49m\u001B[43m)\u001B[49m\u001B[43m)\u001B[49m\n\u001B[1;32m      5\u001B[0m   display(df)\n\u001B[1;32m      6\u001B[0m   \u001B[38;5;28;01mreturn\u001B[39;00m df\n\nFile \u001B[0;32m/databricks/spark/python/pyspark/instrumentation_utils.py:48\u001B[0m, in \u001B[0;36m_wrap_function.<locals>.wrapper\u001B[0;34m(*args, **kwargs)\u001B[0m\n\u001B[1;32m     46\u001B[0m start \u001B[38;5;241m=\u001B[39m time\u001B[38;5;241m.\u001B[39mperf_counter()\n\u001B[1;32m     47\u001B[0m \u001B[38;5;28;01mtry\u001B[39;00m:\n\u001B[0;32m---> 48\u001B[0m     res \u001B[38;5;241m=\u001B[39m \u001B[43mfunc\u001B[49m\u001B[43m(\u001B[49m\u001B[38;5;241;43m*\u001B[39;49m\u001B[43margs\u001B[49m\u001B[43m,\u001B[49m\u001B[43m \u001B[49m\u001B[38;5;241;43m*\u001B[39;49m\u001B[38;5;241;43m*\u001B[39;49m\u001B[43mkwargs\u001B[49m\u001B[43m)\u001B[49m\n\u001B[1;32m     49\u001B[0m     logger\u001B[38;5;241m.\u001B[39mlog_success(\n\u001B[1;32m     50\u001B[0m         module_name, class_name, function_name, time\u001B[38;5;241m.\u001B[39mperf_counter() \u001B[38;5;241m-\u001B[39m start, signature\n\u001B[1;32m     51\u001B[0m     )\n\u001B[1;32m     52\u001B[0m     \u001B[38;5;28;01mreturn\u001B[39;00m res\n\nFile \u001B[0;32m/databricks/spark/python/pyspark/sql/session.py:1387\u001B[0m, in \u001B[0;36mSparkSession.sql\u001B[0;34m(self, sqlQuery, args, **kwargs)\u001B[0m\n\u001B[1;32m   1385\u001B[0m \u001B[38;5;28;01mtry\u001B[39;00m:\n\u001B[1;32m   1386\u001B[0m     litArgs \u001B[38;5;241m=\u001B[39m {k: _to_java_column(lit(v)) \u001B[38;5;28;01mfor\u001B[39;00m k, v \u001B[38;5;129;01min\u001B[39;00m (args \u001B[38;5;129;01mor\u001B[39;00m {})\u001B[38;5;241m.\u001B[39mitems()}\n\u001B[0;32m-> 1387\u001B[0m     \u001B[38;5;28;01mreturn\u001B[39;00m DataFrame(\u001B[38;5;28;43mself\u001B[39;49m\u001B[38;5;241;43m.\u001B[39;49m\u001B[43m_jsparkSession\u001B[49m\u001B[38;5;241;43m.\u001B[39;49m\u001B[43msql\u001B[49m\u001B[43m(\u001B[49m\u001B[43msqlQuery\u001B[49m\u001B[43m,\u001B[49m\u001B[43m \u001B[49m\u001B[43mlitArgs\u001B[49m\u001B[43m)\u001B[49m, \u001B[38;5;28mself\u001B[39m)\n\u001B[1;32m   1388\u001B[0m \u001B[38;5;28;01mfinally\u001B[39;00m:\n\u001B[1;32m   1389\u001B[0m     \u001B[38;5;28;01mif\u001B[39;00m \u001B[38;5;28mlen\u001B[39m(kwargs) \u001B[38;5;241m>\u001B[39m \u001B[38;5;241m0\u001B[39m:\n\nFile \u001B[0;32m/databricks/spark/python/lib/py4j-0.10.9.5-src.zip/py4j/java_gateway.py:1321\u001B[0m, in \u001B[0;36mJavaMember.__call__\u001B[0;34m(self, *args)\u001B[0m\n\u001B[1;32m   1315\u001B[0m command \u001B[38;5;241m=\u001B[39m proto\u001B[38;5;241m.\u001B[39mCALL_COMMAND_NAME \u001B[38;5;241m+\u001B[39m\\\n\u001B[1;32m   1316\u001B[0m     \u001B[38;5;28mself\u001B[39m\u001B[38;5;241m.\u001B[39mcommand_header \u001B[38;5;241m+\u001B[39m\\\n\u001B[1;32m   1317\u001B[0m     args_command \u001B[38;5;241m+\u001B[39m\\\n\u001B[1;32m   1318\u001B[0m     proto\u001B[38;5;241m.\u001B[39mEND_COMMAND_PART\n\u001B[1;32m   1320\u001B[0m answer \u001B[38;5;241m=\u001B[39m \u001B[38;5;28mself\u001B[39m\u001B[38;5;241m.\u001B[39mgateway_client\u001B[38;5;241m.\u001B[39msend_command(command)\n\u001B[0;32m-> 1321\u001B[0m return_value \u001B[38;5;241m=\u001B[39m \u001B[43mget_return_value\u001B[49m\u001B[43m(\u001B[49m\n\u001B[1;32m   1322\u001B[0m \u001B[43m    \u001B[49m\u001B[43manswer\u001B[49m\u001B[43m,\u001B[49m\u001B[43m \u001B[49m\u001B[38;5;28;43mself\u001B[39;49m\u001B[38;5;241;43m.\u001B[39;49m\u001B[43mgateway_client\u001B[49m\u001B[43m,\u001B[49m\u001B[43m \u001B[49m\u001B[38;5;28;43mself\u001B[39;49m\u001B[38;5;241;43m.\u001B[39;49m\u001B[43mtarget_id\u001B[49m\u001B[43m,\u001B[49m\u001B[43m \u001B[49m\u001B[38;5;28;43mself\u001B[39;49m\u001B[38;5;241;43m.\u001B[39;49m\u001B[43mname\u001B[49m\u001B[43m)\u001B[49m\n\u001B[1;32m   1324\u001B[0m \u001B[38;5;28;01mfor\u001B[39;00m temp_arg \u001B[38;5;129;01min\u001B[39;00m temp_args:\n\u001B[1;32m   1325\u001B[0m     temp_arg\u001B[38;5;241m.\u001B[39m_detach()\n\nFile \u001B[0;32m/databricks/spark/python/pyspark/errors/exceptions.py:234\u001B[0m, in \u001B[0;36mcapture_sql_exception.<locals>.deco\u001B[0;34m(*a, **kw)\u001B[0m\n\u001B[1;32m    230\u001B[0m converted \u001B[38;5;241m=\u001B[39m convert_exception(e\u001B[38;5;241m.\u001B[39mjava_exception)\n\u001B[1;32m    231\u001B[0m \u001B[38;5;28;01mif\u001B[39;00m \u001B[38;5;129;01mnot\u001B[39;00m \u001B[38;5;28misinstance\u001B[39m(converted, UnknownException):\n\u001B[1;32m    232\u001B[0m     \u001B[38;5;66;03m# Hide where the exception came from that shows a non-Pythonic\u001B[39;00m\n\u001B[1;32m    233\u001B[0m     \u001B[38;5;66;03m# JVM exception message.\u001B[39;00m\n\u001B[0;32m--> 234\u001B[0m     \u001B[38;5;28;01mraise\u001B[39;00m converted \u001B[38;5;28;01mfrom\u001B[39;00m \u001B[38;5;28mNone\u001B[39m\n\u001B[1;32m    235\u001B[0m \u001B[38;5;28;01melse\u001B[39;00m:\n\u001B[1;32m    236\u001B[0m     \u001B[38;5;28;01mraise\u001B[39;00m\n\n\u001B[0;31mAnalysisException\u001B[0m: [SCHEMA_NOT_FOUND] The schema `silver` cannot be found. Verify the spelling and correctness of the schema and catalog.\nIf you did not qualify the name with a catalog, verify the current_schema() output, or qualify the name with the correct catalog.\nTo tolerate the error on drop use DROP SCHEMA IF EXISTS.",
       "errorSummary": "<span class='ansi-red-fg'>AnalysisException</span>: [SCHEMA_NOT_FOUND] The schema `silver` cannot be found. Verify the spelling and correctness of the schema and catalog.\nIf you did not qualify the name with a catalog, verify the current_schema() output, or qualify the name with the correct catalog.\nTo tolerate the error on drop use DROP SCHEMA IF EXISTS.",
       "errorTraceType": "ansi",
       "metadata": {},
       "type": "ipynbError"
      }
     },
     "output_type": "display_data"
    }
   ],
   "source": [
    "%sql\n",
    "DROP DATABASE silver CASCADE"
   ]
  },
  {
   "cell_type": "code",
   "execution_count": 0,
   "metadata": {
    "application/vnd.databricks.v1+cell": {
     "cellMetadata": {
      "byteLimit": 2048000,
      "implicitDf": true,
      "rowLimit": 10000
     },
     "inputWidgets": {},
     "nuid": "cec788bb-42cc-4f96-bbe7-fa3d6890887c",
     "showTitle": true,
     "tableResultSettingsMap": {},
     "title": "Recriando a database \"silver\""
    }
   },
   "outputs": [
    {
     "output_type": "display_data",
     "data": {
      "text/html": [
       "<style scoped>\n",
       "  .table-result-container {\n",
       "    max-height: 300px;\n",
       "    overflow: auto;\n",
       "  }\n",
       "  table, th, td {\n",
       "    border: 1px solid black;\n",
       "    border-collapse: collapse;\n",
       "  }\n",
       "  th, td {\n",
       "    padding: 5px;\n",
       "  }\n",
       "  th {\n",
       "    text-align: left;\n",
       "  }\n",
       "</style><div class='table-result-container'><table class='table-result'><thead style='background-color: white'><tr></tr></thead><tbody></tbody></table></div>"
      ]
     },
     "metadata": {
      "application/vnd.databricks.v1+output": {
       "addedWidgets": {},
       "aggData": [],
       "aggError": "",
       "aggOverflow": false,
       "aggSchema": [],
       "aggSeriesLimitReached": false,
       "aggType": "",
       "arguments": {},
       "columnCustomDisplayInfos": {},
       "data": [],
       "datasetInfos": [],
       "dbfsResultPath": null,
       "isJsonSchema": true,
       "metadata": {},
       "overflow": false,
       "plotOptions": {
        "customPlotOptions": {},
        "displayType": "table",
        "pivotAggregation": null,
        "pivotColumns": null,
        "xColumns": null,
        "yColumns": null
       },
       "removedWidgets": [],
       "schema": [],
       "type": "table"
      }
     },
     "output_type": "display_data"
    }
   ],
   "source": [
    "%sql\n",
    "CREATE DATABASE silver"
   ]
  },
  {
   "cell_type": "code",
   "execution_count": 0,
   "metadata": {
    "application/vnd.databricks.v1+cell": {
     "cellMetadata": {
      "byteLimit": 2048000,
      "implicitDf": true,
      "rowLimit": 10000
     },
     "inputWidgets": {},
     "nuid": "44159d56-5ea6-4438-b9c2-b33785cbce49",
     "showTitle": true,
     "tableResultSettingsMap": {},
     "title": "Criando a silver.title_ratings"
    }
   },
   "outputs": [
    {
     "output_type": "display_data",
     "data": {
      "text/html": [
       "<style scoped>\n",
       "  .table-result-container {\n",
       "    max-height: 300px;\n",
       "    overflow: auto;\n",
       "  }\n",
       "  table, th, td {\n",
       "    border: 1px solid black;\n",
       "    border-collapse: collapse;\n",
       "  }\n",
       "  th, td {\n",
       "    padding: 5px;\n",
       "  }\n",
       "  th {\n",
       "    text-align: left;\n",
       "  }\n",
       "</style><div class='table-result-container'><table class='table-result'><thead style='background-color: white'><tr><th>num_affected_rows</th><th>num_inserted_rows</th></tr></thead><tbody></tbody></table></div>"
      ]
     },
     "metadata": {
      "application/vnd.databricks.v1+output": {
       "addedWidgets": {},
       "aggData": [],
       "aggError": "",
       "aggOverflow": false,
       "aggSchema": [],
       "aggSeriesLimitReached": false,
       "aggType": "",
       "arguments": {},
       "columnCustomDisplayInfos": {},
       "data": [],
       "datasetInfos": [],
       "dbfsResultPath": null,
       "isJsonSchema": true,
       "metadata": {},
       "overflow": false,
       "plotOptions": {
        "customPlotOptions": {},
        "displayType": "table",
        "pivotAggregation": null,
        "pivotColumns": null,
        "xColumns": null,
        "yColumns": null
       },
       "removedWidgets": [],
       "schema": [
        {
         "metadata": "{}",
         "name": "num_affected_rows",
         "type": "\"long\""
        },
        {
         "metadata": "{}",
         "name": "num_inserted_rows",
         "type": "\"long\""
        }
       ],
       "type": "table"
      }
     },
     "output_type": "display_data"
    }
   ],
   "source": [
    "%sql\n",
    "CREATE TABLE silver.title_ratings AS\n",
    "SELECT * FROM bronze.title_ratings;"
   ]
  },
  {
   "cell_type": "markdown",
   "metadata": {
    "application/vnd.databricks.v1+cell": {
     "cellMetadata": {
      "byteLimit": 2048000,
      "rowLimit": 10000
     },
     "inputWidgets": {},
     "nuid": "c69ab4ff-193e-4ed7-980a-bb8ec9f6f9e4",
     "showTitle": false,
     "tableResultSettingsMap": {},
     "title": ""
    }
   },
   "source": [
    "O primeiro passo foi usar a explosão para separar os gêneros que originalmente estavam separados por vírgula na coluna \"genre\". Dessa forma, as obras que possuem mais de um gênero ocuparão mais de uma linha. Por esse motivo, o identificador único \"tcosnt\" perdeu a sua unicidade. Além disso, foram descatadas algumas colunas que não seriam relevantes para o projeto."
   ]
  },
  {
   "cell_type": "code",
   "execution_count": 0,
   "metadata": {
    "application/vnd.databricks.v1+cell": {
     "cellMetadata": {
      "byteLimit": 2048000,
      "rowLimit": 10000
     },
     "inputWidgets": {},
     "nuid": "d522e445-8a03-4ecb-a9fd-cb5c2154c2fc",
     "showTitle": true,
     "tableResultSettingsMap": {},
     "title": "Explodindo os gêneros"
    }
   },
   "outputs": [
    {
     "output_type": "stream",
     "name": "stdout",
     "output_type": "stream",
     "text": [
      "+---------+--------------------+---------+---------+-----------+\n|   tconst|        primaryTitle|titleType|startYear|      genre|\n+---------+--------------------+---------+---------+-----------+\n|tt0000001|          Carmencita|    short|     1894|Documentary|\n|tt0000001|          Carmencita|    short|     1894|      Short|\n|tt0000002|Le clown et ses c...|    short|     1892|  Animation|\n|tt0000002|Le clown et ses c...|    short|     1892|      Short|\n|tt0000003|        Poor Pierrot|    short|     1892|  Animation|\n|tt0000003|        Poor Pierrot|    short|     1892|     Comedy|\n|tt0000003|        Poor Pierrot|    short|     1892|    Romance|\n|tt0000004|         Un bon bock|    short|     1892|  Animation|\n|tt0000004|         Un bon bock|    short|     1892|      Short|\n|tt0000005|    Blacksmith Scene|    short|     1893|      Short|\n+---------+--------------------+---------+---------+-----------+\nonly showing top 10 rows\n\n"
     ]
    }
   ],
   "source": [
    "from pyspark.sql.functions import explode, split\n",
    "\n",
    "title_genres_exploded_df = title_basics_spark_df.select(\n",
    "    \"tconst\",\n",
    "    \"primaryTitle\",\n",
    "    \"titleType\",\n",
    "    \"startYear\",\n",
    "    explode(split(\"genres\", \",\")).alias(\"genre\")\n",
    ")\n",
    "\n",
    "title_genres_exploded_df.show(10)\n"
   ]
  },
  {
   "cell_type": "code",
   "execution_count": 0,
   "metadata": {
    "application/vnd.databricks.v1+cell": {
     "cellMetadata": {
      "byteLimit": 2048000,
      "rowLimit": 10000
     },
     "inputWidgets": {},
     "nuid": "a925c71f-a1d8-4793-b7bc-30dbe441d0f5",
     "showTitle": true,
     "tableResultSettingsMap": {},
     "title": "Salvando em uma tabela na camada Silver"
    }
   },
   "outputs": [],
   "source": [
    "title_genres_exploded_df.write.mode(\"overwrite\").saveAsTable(\"silver.title_basics\")"
   ]
  },
  {
   "cell_type": "code",
   "execution_count": 0,
   "metadata": {
    "application/vnd.databricks.v1+cell": {
     "cellMetadata": {
      "byteLimit": 2048000,
      "implicitDf": true,
      "rowLimit": 10000
     },
     "inputWidgets": {},
     "nuid": "09dc8b4c-2b64-4efd-8776-bda55e3e2e78",
     "showTitle": true,
     "tableResultSettingsMap": {},
     "title": "Verificando a tabela criada"
    }
   },
   "outputs": [
    {
     "output_type": "display_data",
     "data": {
      "text/html": [
       "<style scoped>\n",
       "  .table-result-container {\n",
       "    max-height: 300px;\n",
       "    overflow: auto;\n",
       "  }\n",
       "  table, th, td {\n",
       "    border: 1px solid black;\n",
       "    border-collapse: collapse;\n",
       "  }\n",
       "  th, td {\n",
       "    padding: 5px;\n",
       "  }\n",
       "  th {\n",
       "    text-align: left;\n",
       "  }\n",
       "</style><div class='table-result-container'><table class='table-result'><thead style='background-color: white'><tr><th>tconst</th><th>primaryTitle</th><th>titleType</th><th>startYear</th><th>genre</th></tr></thead><tbody><tr><td>tt0000001</td><td>Carmencita</td><td>short</td><td>1894</td><td>Documentary</td></tr><tr><td>tt0000001</td><td>Carmencita</td><td>short</td><td>1894</td><td>Short</td></tr><tr><td>tt0000002</td><td>Le clown et ses chiens</td><td>short</td><td>1892</td><td>Animation</td></tr><tr><td>tt0000002</td><td>Le clown et ses chiens</td><td>short</td><td>1892</td><td>Short</td></tr><tr><td>tt0000003</td><td>Poor Pierrot</td><td>short</td><td>1892</td><td>Animation</td></tr><tr><td>tt0000003</td><td>Poor Pierrot</td><td>short</td><td>1892</td><td>Comedy</td></tr><tr><td>tt0000003</td><td>Poor Pierrot</td><td>short</td><td>1892</td><td>Romance</td></tr><tr><td>tt0000004</td><td>Un bon bock</td><td>short</td><td>1892</td><td>Animation</td></tr><tr><td>tt0000004</td><td>Un bon bock</td><td>short</td><td>1892</td><td>Short</td></tr><tr><td>tt0000005</td><td>Blacksmith Scene</td><td>short</td><td>1893</td><td>Short</td></tr><tr><td>tt0000006</td><td>Chinese Opium Den</td><td>short</td><td>1894</td><td>Short</td></tr><tr><td>tt0000007</td><td>Corbett and Courtney Before the Kinetograph</td><td>short</td><td>1894</td><td>Short</td></tr><tr><td>tt0000007</td><td>Corbett and Courtney Before the Kinetograph</td><td>short</td><td>1894</td><td>Sport</td></tr><tr><td>tt0000008</td><td>Edison Kinetoscopic Record of a Sneeze</td><td>short</td><td>1894</td><td>Documentary</td></tr><tr><td>tt0000008</td><td>Edison Kinetoscopic Record of a Sneeze</td><td>short</td><td>1894</td><td>Short</td></tr><tr><td>tt0000009</td><td>Miss Jerry</td><td>movie</td><td>1894</td><td>Romance</td></tr><tr><td>tt0000010</td><td>Leaving the Factory</td><td>short</td><td>1895</td><td>Documentary</td></tr><tr><td>tt0000010</td><td>Leaving the Factory</td><td>short</td><td>1895</td><td>Short</td></tr><tr><td>tt0000011</td><td>Akrobatisches Potpourri</td><td>short</td><td>1895</td><td>Documentary</td></tr><tr><td>tt0000011</td><td>Akrobatisches Potpourri</td><td>short</td><td>1895</td><td>Short</td></tr><tr><td>tt0000012</td><td>The Arrival of a Train</td><td>short</td><td>1896</td><td>Documentary</td></tr><tr><td>tt0000012</td><td>The Arrival of a Train</td><td>short</td><td>1896</td><td>Short</td></tr><tr><td>tt0000013</td><td>The Photographical Congress Arrives in Lyon</td><td>short</td><td>1895</td><td>Documentary</td></tr><tr><td>tt0000013</td><td>The Photographical Congress Arrives in Lyon</td><td>short</td><td>1895</td><td>Short</td></tr><tr><td>tt0000014</td><td>The Waterer Watered</td><td>short</td><td>1895</td><td>Comedy</td></tr><tr><td>tt0000014</td><td>The Waterer Watered</td><td>short</td><td>1895</td><td>Short</td></tr><tr><td>tt0000015</td><td>Around a Cabin</td><td>short</td><td>1894</td><td>Animation</td></tr><tr><td>tt0000015</td><td>Around a Cabin</td><td>short</td><td>1894</td><td>Comedy</td></tr><tr><td>tt0000015</td><td>Around a Cabin</td><td>short</td><td>1894</td><td>Short</td></tr><tr><td>tt0000016</td><td>Boat Leaving the Port</td><td>short</td><td>1895</td><td>Documentary</td></tr><tr><td>tt0000016</td><td>Boat Leaving the Port</td><td>short</td><td>1895</td><td>Short</td></tr><tr><td>tt0000017</td><td>Italienischer Bauerntanz</td><td>short</td><td>1895</td><td>Documentary</td></tr><tr><td>tt0000017</td><td>Italienischer Bauerntanz</td><td>short</td><td>1895</td><td>Short</td></tr><tr><td>tt0000018</td><td>Das boxende Känguruh</td><td>short</td><td>1895</td><td>Short</td></tr><tr><td>tt0000018</td><td>Das boxende Känguruh</td><td>short</td><td>1895</td><td>Sport</td></tr><tr><td>tt0000019</td><td>The Clown Barber</td><td>short</td><td>1898</td><td>Comedy</td></tr><tr><td>tt0000019</td><td>The Clown Barber</td><td>short</td><td>1898</td><td>Short</td></tr><tr><td>tt0000020</td><td>The Derby 1895</td><td>short</td><td>1895</td><td>Documentary</td></tr><tr><td>tt0000020</td><td>The Derby 1895</td><td>short</td><td>1895</td><td>Short</td></tr><tr><td>tt0000020</td><td>The Derby 1895</td><td>short</td><td>1895</td><td>Sport</td></tr><tr><td>tt0000022</td><td>Blacksmith Scene</td><td>short</td><td>1895</td><td>Documentary</td></tr><tr><td>tt0000022</td><td>Blacksmith Scene</td><td>short</td><td>1895</td><td>Short</td></tr><tr><td>tt0000023</td><td>The Sea</td><td>short</td><td>1895</td><td>Documentary</td></tr><tr><td>tt0000023</td><td>The Sea</td><td>short</td><td>1895</td><td>Short</td></tr><tr><td>tt0000024</td><td>Opening of the Kiel Canal</td><td>short</td><td>1895</td><td>News</td></tr><tr><td>tt0000024</td><td>Opening of the Kiel Canal</td><td>short</td><td>1895</td><td>Short</td></tr><tr><td>tt0000025</td><td>The Oxford and Cambridge University Boat Race</td><td>short</td><td>1896</td><td>News</td></tr><tr><td>tt0000025</td><td>The Oxford and Cambridge University Boat Race</td><td>short</td><td>1896</td><td>Short</td></tr><tr><td>tt0000025</td><td>The Oxford and Cambridge University Boat Race</td><td>short</td><td>1896</td><td>Sport</td></tr><tr><td>tt0000026</td><td>The Messers. Lumière at Cards</td><td>short</td><td>1896</td><td>Documentary</td></tr><tr><td>tt0000026</td><td>The Messers. Lumière at Cards</td><td>short</td><td>1896</td><td>Short</td></tr><tr><td>tt0000027</td><td>Cordeliers' Square in Lyon</td><td>short</td><td>1895</td><td>Documentary</td></tr><tr><td>tt0000027</td><td>Cordeliers' Square in Lyon</td><td>short</td><td>1895</td><td>Short</td></tr><tr><td>tt0000028</td><td>Fishing for Goldfish</td><td>short</td><td>1895</td><td>Documentary</td></tr><tr><td>tt0000028</td><td>Fishing for Goldfish</td><td>short</td><td>1895</td><td>Short</td></tr><tr><td>tt0000029</td><td>Baby's Meal</td><td>short</td><td>1895</td><td>Documentary</td></tr><tr><td>tt0000029</td><td>Baby's Meal</td><td>short</td><td>1895</td><td>Short</td></tr><tr><td>tt0000030</td><td>Rough Sea at Dover</td><td>short</td><td>1895</td><td>Documentary</td></tr><tr><td>tt0000030</td><td>Rough Sea at Dover</td><td>short</td><td>1895</td><td>Short</td></tr><tr><td>tt0000031</td><td>Jumping the Blanket</td><td>short</td><td>1895</td><td>Documentary</td></tr><tr><td>tt0000031</td><td>Jumping the Blanket</td><td>short</td><td>1895</td><td>Short</td></tr><tr><td>tt0000032</td><td>Die Serpentintänzerin</td><td>short</td><td>1895</td><td>Short</td></tr><tr><td>tt0000033</td><td>Horse Trick Riders</td><td>short</td><td>1895</td><td>Comedy</td></tr><tr><td>tt0000033</td><td>Horse Trick Riders</td><td>short</td><td>1895</td><td>Documentary</td></tr><tr><td>tt0000033</td><td>Horse Trick Riders</td><td>short</td><td>1895</td><td>Short</td></tr><tr><td>tt0000034</td><td>Arrivée d'un train gare de Vincennes</td><td>short</td><td>1896</td><td>Documentary</td></tr><tr><td>tt0000034</td><td>Arrivée d'un train gare de Vincennes</td><td>short</td><td>1896</td><td>Short</td></tr><tr><td>tt0000035</td><td>Watering the Flowers</td><td>short</td><td>1896</td><td>Comedy</td></tr><tr><td>tt0000035</td><td>Watering the Flowers</td><td>short</td><td>1896</td><td>Short</td></tr><tr><td>tt0000036</td><td>Awakening of Rip</td><td>short</td><td>1896</td><td>Drama</td></tr><tr><td>tt0000036</td><td>Awakening of Rip</td><td>short</td><td>1896</td><td>Short</td></tr><tr><td>tt0000037</td><td>Sea Bathing</td><td>short</td><td>1896</td><td>Short</td></tr><tr><td>tt0000038</td><td>The Ball Game</td><td>short</td><td>1898</td><td>Documentary</td></tr><tr><td>tt0000038</td><td>The Ball Game</td><td>short</td><td>1898</td><td>Short</td></tr><tr><td>tt0000038</td><td>The Ball Game</td><td>short</td><td>1898</td><td>Sport</td></tr><tr><td>tt0000039</td><td>Barnet Horse Fair</td><td>short</td><td>1896</td><td>Short</td></tr><tr><td>tt0000040</td><td>Barque sortant du port de Trouville</td><td>short</td><td>1896</td><td>Documentary</td></tr><tr><td>tt0000040</td><td>Barque sortant du port de Trouville</td><td>short</td><td>1896</td><td>Short</td></tr><tr><td>tt0000041</td><td>Bataille de neige</td><td>short</td><td>1897</td><td>Comedy</td></tr><tr><td>tt0000041</td><td>Bataille de neige</td><td>short</td><td>1897</td><td>Documentary</td></tr><tr><td>tt0000041</td><td>Bataille de neige</td><td>short</td><td>1897</td><td>Short</td></tr><tr><td>tt0000042</td><td>Bateau-mouche sur la Seine</td><td>short</td><td>1896</td><td>Documentary</td></tr><tr><td>tt0000042</td><td>Bateau-mouche sur la Seine</td><td>short</td><td>1896</td><td>Short</td></tr><tr><td>tt0000043</td><td>Batteuse à vapeur</td><td>short</td><td>1896</td><td>Documentary</td></tr><tr><td>tt0000043</td><td>Batteuse à vapeur</td><td>short</td><td>1896</td><td>Short</td></tr><tr><td>tt0000044</td><td>Le bivouac</td><td>short</td><td>1896</td><td>Short</td></tr><tr><td>tt0000045</td><td>Les blanchisseuses</td><td>short</td><td>1896</td><td>Short</td></tr><tr><td>tt0000046</td><td>Bois de Boulogne</td><td>short</td><td>1896</td><td>Documentary</td></tr><tr><td>tt0000046</td><td>Bois de Boulogne</td><td>short</td><td>1896</td><td>Short</td></tr><tr><td>tt0000047</td><td>Boulevard des Italiens</td><td>short</td><td>1896</td><td>Documentary</td></tr><tr><td>tt0000047</td><td>Boulevard des Italiens</td><td>short</td><td>1896</td><td>Short</td></tr><tr><td>tt0000048</td><td>The Boxing Kangaroo</td><td>short</td><td>1896</td><td>Short</td></tr><tr><td>tt0000049</td><td>Boxing Match; or, Glove Contest</td><td>short</td><td>1896</td><td>Short</td></tr><tr><td>tt0000049</td><td>Boxing Match; or, Glove Contest</td><td>short</td><td>1896</td><td>Sport</td></tr><tr><td>tt0000050</td><td>Bébé et fillettes</td><td>short</td><td>1896</td><td>Documentary</td></tr><tr><td>tt0000050</td><td>Bébé et fillettes</td><td>short</td><td>1896</td><td>Short</td></tr><tr><td>tt0000051</td><td>The Bohemian Encampment</td><td>short</td><td>1896</td><td>Documentary</td></tr><tr><td>tt0000051</td><td>The Bohemian Encampment</td><td>short</td><td>1896</td><td>Short</td></tr><tr><td>tt0000052</td><td>Ruraux au galop</td><td>short</td><td>1896</td><td>Documentary</td></tr><tr><td>tt0000052</td><td>Ruraux au galop</td><td>short</td><td>1896</td><td>Short</td></tr></tbody></table></div>"
      ]
     },
     "metadata": {
      "application/vnd.databricks.v1+output": {
       "addedWidgets": {},
       "aggData": [],
       "aggError": "",
       "aggOverflow": false,
       "aggSchema": [],
       "aggSeriesLimitReached": false,
       "aggType": "",
       "arguments": {},
       "columnCustomDisplayInfos": {},
       "data": [
        [
         "tt0000001",
         "Carmencita",
         "short",
         "1894",
         "Documentary"
        ],
        [
         "tt0000001",
         "Carmencita",
         "short",
         "1894",
         "Short"
        ],
        [
         "tt0000002",
         "Le clown et ses chiens",
         "short",
         "1892",
         "Animation"
        ],
        [
         "tt0000002",
         "Le clown et ses chiens",
         "short",
         "1892",
         "Short"
        ],
        [
         "tt0000003",
         "Poor Pierrot",
         "short",
         "1892",
         "Animation"
        ],
        [
         "tt0000003",
         "Poor Pierrot",
         "short",
         "1892",
         "Comedy"
        ],
        [
         "tt0000003",
         "Poor Pierrot",
         "short",
         "1892",
         "Romance"
        ],
        [
         "tt0000004",
         "Un bon bock",
         "short",
         "1892",
         "Animation"
        ],
        [
         "tt0000004",
         "Un bon bock",
         "short",
         "1892",
         "Short"
        ],
        [
         "tt0000005",
         "Blacksmith Scene",
         "short",
         "1893",
         "Short"
        ],
        [
         "tt0000006",
         "Chinese Opium Den",
         "short",
         "1894",
         "Short"
        ],
        [
         "tt0000007",
         "Corbett and Courtney Before the Kinetograph",
         "short",
         "1894",
         "Short"
        ],
        [
         "tt0000007",
         "Corbett and Courtney Before the Kinetograph",
         "short",
         "1894",
         "Sport"
        ],
        [
         "tt0000008",
         "Edison Kinetoscopic Record of a Sneeze",
         "short",
         "1894",
         "Documentary"
        ],
        [
         "tt0000008",
         "Edison Kinetoscopic Record of a Sneeze",
         "short",
         "1894",
         "Short"
        ],
        [
         "tt0000009",
         "Miss Jerry",
         "movie",
         "1894",
         "Romance"
        ],
        [
         "tt0000010",
         "Leaving the Factory",
         "short",
         "1895",
         "Documentary"
        ],
        [
         "tt0000010",
         "Leaving the Factory",
         "short",
         "1895",
         "Short"
        ],
        [
         "tt0000011",
         "Akrobatisches Potpourri",
         "short",
         "1895",
         "Documentary"
        ],
        [
         "tt0000011",
         "Akrobatisches Potpourri",
         "short",
         "1895",
         "Short"
        ],
        [
         "tt0000012",
         "The Arrival of a Train",
         "short",
         "1896",
         "Documentary"
        ],
        [
         "tt0000012",
         "The Arrival of a Train",
         "short",
         "1896",
         "Short"
        ],
        [
         "tt0000013",
         "The Photographical Congress Arrives in Lyon",
         "short",
         "1895",
         "Documentary"
        ],
        [
         "tt0000013",
         "The Photographical Congress Arrives in Lyon",
         "short",
         "1895",
         "Short"
        ],
        [
         "tt0000014",
         "The Waterer Watered",
         "short",
         "1895",
         "Comedy"
        ],
        [
         "tt0000014",
         "The Waterer Watered",
         "short",
         "1895",
         "Short"
        ],
        [
         "tt0000015",
         "Around a Cabin",
         "short",
         "1894",
         "Animation"
        ],
        [
         "tt0000015",
         "Around a Cabin",
         "short",
         "1894",
         "Comedy"
        ],
        [
         "tt0000015",
         "Around a Cabin",
         "short",
         "1894",
         "Short"
        ],
        [
         "tt0000016",
         "Boat Leaving the Port",
         "short",
         "1895",
         "Documentary"
        ],
        [
         "tt0000016",
         "Boat Leaving the Port",
         "short",
         "1895",
         "Short"
        ],
        [
         "tt0000017",
         "Italienischer Bauerntanz",
         "short",
         "1895",
         "Documentary"
        ],
        [
         "tt0000017",
         "Italienischer Bauerntanz",
         "short",
         "1895",
         "Short"
        ],
        [
         "tt0000018",
         "Das boxende Känguruh",
         "short",
         "1895",
         "Short"
        ],
        [
         "tt0000018",
         "Das boxende Känguruh",
         "short",
         "1895",
         "Sport"
        ],
        [
         "tt0000019",
         "The Clown Barber",
         "short",
         "1898",
         "Comedy"
        ],
        [
         "tt0000019",
         "The Clown Barber",
         "short",
         "1898",
         "Short"
        ],
        [
         "tt0000020",
         "The Derby 1895",
         "short",
         "1895",
         "Documentary"
        ],
        [
         "tt0000020",
         "The Derby 1895",
         "short",
         "1895",
         "Short"
        ],
        [
         "tt0000020",
         "The Derby 1895",
         "short",
         "1895",
         "Sport"
        ],
        [
         "tt0000022",
         "Blacksmith Scene",
         "short",
         "1895",
         "Documentary"
        ],
        [
         "tt0000022",
         "Blacksmith Scene",
         "short",
         "1895",
         "Short"
        ],
        [
         "tt0000023",
         "The Sea",
         "short",
         "1895",
         "Documentary"
        ],
        [
         "tt0000023",
         "The Sea",
         "short",
         "1895",
         "Short"
        ],
        [
         "tt0000024",
         "Opening of the Kiel Canal",
         "short",
         "1895",
         "News"
        ],
        [
         "tt0000024",
         "Opening of the Kiel Canal",
         "short",
         "1895",
         "Short"
        ],
        [
         "tt0000025",
         "The Oxford and Cambridge University Boat Race",
         "short",
         "1896",
         "News"
        ],
        [
         "tt0000025",
         "The Oxford and Cambridge University Boat Race",
         "short",
         "1896",
         "Short"
        ],
        [
         "tt0000025",
         "The Oxford and Cambridge University Boat Race",
         "short",
         "1896",
         "Sport"
        ],
        [
         "tt0000026",
         "The Messers. Lumière at Cards",
         "short",
         "1896",
         "Documentary"
        ],
        [
         "tt0000026",
         "The Messers. Lumière at Cards",
         "short",
         "1896",
         "Short"
        ],
        [
         "tt0000027",
         "Cordeliers' Square in Lyon",
         "short",
         "1895",
         "Documentary"
        ],
        [
         "tt0000027",
         "Cordeliers' Square in Lyon",
         "short",
         "1895",
         "Short"
        ],
        [
         "tt0000028",
         "Fishing for Goldfish",
         "short",
         "1895",
         "Documentary"
        ],
        [
         "tt0000028",
         "Fishing for Goldfish",
         "short",
         "1895",
         "Short"
        ],
        [
         "tt0000029",
         "Baby's Meal",
         "short",
         "1895",
         "Documentary"
        ],
        [
         "tt0000029",
         "Baby's Meal",
         "short",
         "1895",
         "Short"
        ],
        [
         "tt0000030",
         "Rough Sea at Dover",
         "short",
         "1895",
         "Documentary"
        ],
        [
         "tt0000030",
         "Rough Sea at Dover",
         "short",
         "1895",
         "Short"
        ],
        [
         "tt0000031",
         "Jumping the Blanket",
         "short",
         "1895",
         "Documentary"
        ],
        [
         "tt0000031",
         "Jumping the Blanket",
         "short",
         "1895",
         "Short"
        ],
        [
         "tt0000032",
         "Die Serpentintänzerin",
         "short",
         "1895",
         "Short"
        ],
        [
         "tt0000033",
         "Horse Trick Riders",
         "short",
         "1895",
         "Comedy"
        ],
        [
         "tt0000033",
         "Horse Trick Riders",
         "short",
         "1895",
         "Documentary"
        ],
        [
         "tt0000033",
         "Horse Trick Riders",
         "short",
         "1895",
         "Short"
        ],
        [
         "tt0000034",
         "Arrivée d'un train gare de Vincennes",
         "short",
         "1896",
         "Documentary"
        ],
        [
         "tt0000034",
         "Arrivée d'un train gare de Vincennes",
         "short",
         "1896",
         "Short"
        ],
        [
         "tt0000035",
         "Watering the Flowers",
         "short",
         "1896",
         "Comedy"
        ],
        [
         "tt0000035",
         "Watering the Flowers",
         "short",
         "1896",
         "Short"
        ],
        [
         "tt0000036",
         "Awakening of Rip",
         "short",
         "1896",
         "Drama"
        ],
        [
         "tt0000036",
         "Awakening of Rip",
         "short",
         "1896",
         "Short"
        ],
        [
         "tt0000037",
         "Sea Bathing",
         "short",
         "1896",
         "Short"
        ],
        [
         "tt0000038",
         "The Ball Game",
         "short",
         "1898",
         "Documentary"
        ],
        [
         "tt0000038",
         "The Ball Game",
         "short",
         "1898",
         "Short"
        ],
        [
         "tt0000038",
         "The Ball Game",
         "short",
         "1898",
         "Sport"
        ],
        [
         "tt0000039",
         "Barnet Horse Fair",
         "short",
         "1896",
         "Short"
        ],
        [
         "tt0000040",
         "Barque sortant du port de Trouville",
         "short",
         "1896",
         "Documentary"
        ],
        [
         "tt0000040",
         "Barque sortant du port de Trouville",
         "short",
         "1896",
         "Short"
        ],
        [
         "tt0000041",
         "Bataille de neige",
         "short",
         "1897",
         "Comedy"
        ],
        [
         "tt0000041",
         "Bataille de neige",
         "short",
         "1897",
         "Documentary"
        ],
        [
         "tt0000041",
         "Bataille de neige",
         "short",
         "1897",
         "Short"
        ],
        [
         "tt0000042",
         "Bateau-mouche sur la Seine",
         "short",
         "1896",
         "Documentary"
        ],
        [
         "tt0000042",
         "Bateau-mouche sur la Seine",
         "short",
         "1896",
         "Short"
        ],
        [
         "tt0000043",
         "Batteuse à vapeur",
         "short",
         "1896",
         "Documentary"
        ],
        [
         "tt0000043",
         "Batteuse à vapeur",
         "short",
         "1896",
         "Short"
        ],
        [
         "tt0000044",
         "Le bivouac",
         "short",
         "1896",
         "Short"
        ],
        [
         "tt0000045",
         "Les blanchisseuses",
         "short",
         "1896",
         "Short"
        ],
        [
         "tt0000046",
         "Bois de Boulogne",
         "short",
         "1896",
         "Documentary"
        ],
        [
         "tt0000046",
         "Bois de Boulogne",
         "short",
         "1896",
         "Short"
        ],
        [
         "tt0000047",
         "Boulevard des Italiens",
         "short",
         "1896",
         "Documentary"
        ],
        [
         "tt0000047",
         "Boulevard des Italiens",
         "short",
         "1896",
         "Short"
        ],
        [
         "tt0000048",
         "The Boxing Kangaroo",
         "short",
         "1896",
         "Short"
        ],
        [
         "tt0000049",
         "Boxing Match; or, Glove Contest",
         "short",
         "1896",
         "Short"
        ],
        [
         "tt0000049",
         "Boxing Match; or, Glove Contest",
         "short",
         "1896",
         "Sport"
        ],
        [
         "tt0000050",
         "Bébé et fillettes",
         "short",
         "1896",
         "Documentary"
        ],
        [
         "tt0000050",
         "Bébé et fillettes",
         "short",
         "1896",
         "Short"
        ],
        [
         "tt0000051",
         "The Bohemian Encampment",
         "short",
         "1896",
         "Documentary"
        ],
        [
         "tt0000051",
         "The Bohemian Encampment",
         "short",
         "1896",
         "Short"
        ],
        [
         "tt0000052",
         "Ruraux au galop",
         "short",
         "1896",
         "Documentary"
        ],
        [
         "tt0000052",
         "Ruraux au galop",
         "short",
         "1896",
         "Short"
        ]
       ],
       "datasetInfos": [],
       "dbfsResultPath": null,
       "isJsonSchema": true,
       "metadata": {},
       "overflow": false,
       "plotOptions": {
        "customPlotOptions": {},
        "displayType": "table",
        "pivotAggregation": null,
        "pivotColumns": null,
        "xColumns": null,
        "yColumns": null
       },
       "removedWidgets": [],
       "schema": [
        {
         "metadata": "{}",
         "name": "tconst",
         "type": "\"string\""
        },
        {
         "metadata": "{}",
         "name": "primaryTitle",
         "type": "\"string\""
        },
        {
         "metadata": "{}",
         "name": "titleType",
         "type": "\"string\""
        },
        {
         "metadata": "{}",
         "name": "startYear",
         "type": "\"string\""
        },
        {
         "metadata": "{}",
         "name": "genre",
         "type": "\"string\""
        }
       ],
       "type": "table"
      }
     },
     "output_type": "display_data"
    }
   ],
   "source": [
    "%sql\n",
    "SELECT * FROM silver.title_basics LIMIT 100"
   ]
  },
  {
   "cell_type": "markdown",
   "metadata": {
    "application/vnd.databricks.v1+cell": {
     "cellMetadata": {
      "byteLimit": 2048000,
      "rowLimit": 10000
     },
     "inputWidgets": {},
     "nuid": "3fb28975-4403-4c3b-9245-32c59fbd1035",
     "showTitle": false,
     "tableResultSettingsMap": {},
     "title": ""
    }
   },
   "source": [
    "A partir desse ponto, as tabelas são submetidas a uma série de consultas, utilizando os comando SQL, para verificar a qualidade dos dados."
   ]
  },
  {
   "cell_type": "code",
   "execution_count": 0,
   "metadata": {
    "application/vnd.databricks.v1+cell": {
     "cellMetadata": {
      "byteLimit": 2048000,
      "implicitDf": true,
      "rowLimit": 10000
     },
     "inputWidgets": {},
     "nuid": "55517918-e609-4a06-b132-34a21197e194",
     "showTitle": true,
     "tableResultSettingsMap": {},
     "title": "Verificar se há nulos em tconst"
    }
   },
   "outputs": [
    {
     "output_type": "display_data",
     "data": {
      "text/html": [
       "<style scoped>\n",
       "  .table-result-container {\n",
       "    max-height: 300px;\n",
       "    overflow: auto;\n",
       "  }\n",
       "  table, th, td {\n",
       "    border: 1px solid black;\n",
       "    border-collapse: collapse;\n",
       "  }\n",
       "  th, td {\n",
       "    padding: 5px;\n",
       "  }\n",
       "  th {\n",
       "    text-align: left;\n",
       "  }\n",
       "</style><div class='table-result-container'><table class='table-result'><thead style='background-color: white'><tr><th>count(1)</th></tr></thead><tbody><tr><td>0</td></tr></tbody></table></div>"
      ]
     },
     "metadata": {
      "application/vnd.databricks.v1+output": {
       "addedWidgets": {},
       "aggData": [],
       "aggError": "",
       "aggOverflow": false,
       "aggSchema": [],
       "aggSeriesLimitReached": false,
       "aggType": "",
       "arguments": {},
       "columnCustomDisplayInfos": {},
       "data": [
        [
         0
        ]
       ],
       "datasetInfos": [],
       "dbfsResultPath": null,
       "isJsonSchema": true,
       "metadata": {},
       "overflow": false,
       "plotOptions": {
        "customPlotOptions": {},
        "displayType": "table",
        "pivotAggregation": null,
        "pivotColumns": null,
        "xColumns": null,
        "yColumns": null
       },
       "removedWidgets": [],
       "schema": [
        {
         "metadata": "{\"__autoGeneratedAlias\":\"true\"}",
         "name": "count(1)",
         "type": "\"long\""
        }
       ],
       "type": "table"
      }
     },
     "output_type": "display_data"
    }
   ],
   "source": [
    "%sql\n",
    "SELECT COUNT(*) \n",
    "FROM silver.title_basics \n",
    "WHERE tconst IS NULL;"
   ]
  },
  {
   "cell_type": "markdown",
   "metadata": {
    "application/vnd.databricks.v1+cell": {
     "cellMetadata": {
      "byteLimit": 2048000,
      "rowLimit": 10000
     },
     "inputWidgets": {},
     "nuid": "4f4e020d-87b4-4701-adda-9239c9f641ac",
     "showTitle": false,
     "tableResultSettingsMap": {},
     "title": ""
    }
   },
   "source": [
    "Não foram encontrados valores nulos em tconst."
   ]
  },
  {
   "cell_type": "code",
   "execution_count": 0,
   "metadata": {
    "application/vnd.databricks.v1+cell": {
     "cellMetadata": {
      "byteLimit": 2048000,
      "implicitDf": true,
      "rowLimit": 10000
     },
     "inputWidgets": {},
     "nuid": "a1166854-2cbf-4050-b9d0-47af818225bd",
     "showTitle": true,
     "tableResultSettingsMap": {},
     "title": "Verificar se há nulos em primaryTitle"
    }
   },
   "outputs": [
    {
     "output_type": "display_data",
     "data": {
      "text/html": [
       "<style scoped>\n",
       "  .table-result-container {\n",
       "    max-height: 300px;\n",
       "    overflow: auto;\n",
       "  }\n",
       "  table, th, td {\n",
       "    border: 1px solid black;\n",
       "    border-collapse: collapse;\n",
       "  }\n",
       "  th, td {\n",
       "    padding: 5px;\n",
       "  }\n",
       "  th {\n",
       "    text-align: left;\n",
       "  }\n",
       "</style><div class='table-result-container'><table class='table-result'><thead style='background-color: white'><tr><th>tconst</th><th>primaryTitle</th><th>titleType</th><th>startYear</th><th>genre</th></tr></thead><tbody><tr><td>tt5337950</td><td>N</td><td>tvEpisode</td><td>2012</td><td>Comedy</td></tr><tr><td>tt5773048</td><td>null</td><td>tvEpisode</td><td>2015</td><td>Talk-Show</td></tr><tr><td>tt29387614</td><td>N</td><td>short</td><td>2011</td><td>Drama</td></tr><tr><td>tt29387614</td><td>N</td><td>short</td><td>2011</td><td>Music</td></tr><tr><td>tt29387614</td><td>N</td><td>short</td><td>2011</td><td>Short</td></tr><tr><td>tt33094763</td><td>null</td><td>tvEpisode</td><td>2019</td><td>Drama</td></tr><tr><td>tt31462159</td><td>null</td><td>tvEpisode</td><td>2024</td><td>Drama</td></tr><tr><td>tt4491564</td><td>N</td><td>short</td><td>1978</td><td>Short</td></tr><tr><td>tt19316378</td><td>N</td><td>tvEpisode</td><td>2010</td><td>Music</td></tr><tr><td>tt15700278</td><td>null</td><td>tvEpisode</td><td>2021</td><td>Talk-Show</td></tr><tr><td>tt1321439</td><td>N</td><td>movie</td><td>2005</td><td>Documentary</td></tr><tr><td>tt32915221</td><td>N</td><td>tvEpisode</td><td>2021</td><td>Comedy</td></tr><tr><td>tt32915221</td><td>N</td><td>tvEpisode</td><td>2021</td><td>Romance</td></tr><tr><td>tt5102240</td><td>N</td><td>tvEpisode</td><td>1957</td><td>Comedy</td></tr><tr><td>tt5102240</td><td>N</td><td>tvEpisode</td><td>1957</td><td>Family</td></tr><tr><td>tt5102240</td><td>N</td><td>tvEpisode</td><td>1957</td><td>Music</td></tr><tr><td>tt5105070</td><td>N</td><td>tvEpisode</td><td>1959</td><td>Comedy</td></tr><tr><td>tt5105070</td><td>N</td><td>tvEpisode</td><td>1959</td><td>Family</td></tr><tr><td>tt5105070</td><td>N</td><td>tvEpisode</td><td>1959</td><td>Music</td></tr><tr><td>tt7869618</td><td>N</td><td>short</td><td>2018</td><td>Fantasy</td></tr><tr><td>tt7869618</td><td>N</td><td>short</td><td>2018</td><td>Sci-Fi</td></tr><tr><td>tt7869618</td><td>N</td><td>short</td><td>2018</td><td>Short</td></tr><tr><td>tt1403289</td><td>N</td><td>tvEpisode</td><td>2006</td><td>Music</td></tr><tr><td>tt8312748</td><td>N</td><td>short</td><td>2017</td><td>Short</td></tr><tr><td>tt3874996</td><td>N</td><td>tvEpisode</td><td>1988</td><td>Comedy</td></tr><tr><td>tt3874996</td><td>N</td><td>tvEpisode</td><td>1988</td><td>Family</td></tr><tr><td>tt3874996</td><td>N</td><td>tvEpisode</td><td>1988</td><td>Music</td></tr><tr><td>tt2305914</td><td>null</td><td>tvEpisode</td><td>\\N</td><td>Comedy</td></tr><tr><td>tt2305914</td><td>null</td><td>tvEpisode</td><td>\\N</td><td>Talk-Show</td></tr><tr><td>tt2305918</td><td>null</td><td>tvEpisode</td><td>\\N</td><td>Comedy</td></tr><tr><td>tt2305918</td><td>null</td><td>tvEpisode</td><td>\\N</td><td>Talk-Show</td></tr><tr><td>tt8541336</td><td>null</td><td>tvEpisode</td><td>2018</td><td>Reality-TV</td></tr><tr><td>tt8541336</td><td>null</td><td>tvEpisode</td><td>2018</td><td>Romance</td></tr><tr><td>tt2381676</td><td>N</td><td>tvEpisode</td><td>1977</td><td>Family</td></tr><tr><td>tt14777874</td><td>N</td><td>tvEpisode</td><td>2021</td><td>Family</td></tr><tr><td>tt14510930</td><td>null</td><td>tvEpisode</td><td>\\N</td><td>\\N</td></tr><tr><td>tt8473688</td><td>null</td><td>tvEpisode</td><td>1987</td><td>Drama</td></tr><tr><td>tt21883066</td><td>null</td><td>tvEpisode</td><td>2022</td><td>News</td></tr><tr><td>tt21883066</td><td>null</td><td>tvEpisode</td><td>2022</td><td>Talk-Show</td></tr><tr><td>tt2067043</td><td>null</td><td>tvEpisode</td><td>1965</td><td>Music</td></tr><tr><td>tt9356778</td><td>N</td><td>movie</td><td>\\N</td><td>Sci-Fi</td></tr><tr><td>tt9469474</td><td>N</td><td>videoGame</td><td>2004</td><td>Action</td></tr><tr><td>tt9469474</td><td>N</td><td>videoGame</td><td>2004</td><td>Adventure</td></tr><tr><td>tt1971246</td><td>null</td><td>tvEpisode</td><td>2011</td><td>Biography</td></tr></tbody></table></div>"
      ]
     },
     "metadata": {
      "application/vnd.databricks.v1+output": {
       "addedWidgets": {},
       "aggData": [],
       "aggError": "",
       "aggOverflow": false,
       "aggSchema": [],
       "aggSeriesLimitReached": false,
       "aggType": "",
       "arguments": {},
       "columnCustomDisplayInfos": {},
       "data": [
        [
         "tt5337950",
         "N",
         "tvEpisode",
         "2012",
         "Comedy"
        ],
        [
         "tt5773048",
         null,
         "tvEpisode",
         "2015",
         "Talk-Show"
        ],
        [
         "tt29387614",
         "N",
         "short",
         "2011",
         "Drama"
        ],
        [
         "tt29387614",
         "N",
         "short",
         "2011",
         "Music"
        ],
        [
         "tt29387614",
         "N",
         "short",
         "2011",
         "Short"
        ],
        [
         "tt33094763",
         null,
         "tvEpisode",
         "2019",
         "Drama"
        ],
        [
         "tt31462159",
         null,
         "tvEpisode",
         "2024",
         "Drama"
        ],
        [
         "tt4491564",
         "N",
         "short",
         "1978",
         "Short"
        ],
        [
         "tt19316378",
         "N",
         "tvEpisode",
         "2010",
         "Music"
        ],
        [
         "tt15700278",
         null,
         "tvEpisode",
         "2021",
         "Talk-Show"
        ],
        [
         "tt1321439",
         "N",
         "movie",
         "2005",
         "Documentary"
        ],
        [
         "tt32915221",
         "N",
         "tvEpisode",
         "2021",
         "Comedy"
        ],
        [
         "tt32915221",
         "N",
         "tvEpisode",
         "2021",
         "Romance"
        ],
        [
         "tt5102240",
         "N",
         "tvEpisode",
         "1957",
         "Comedy"
        ],
        [
         "tt5102240",
         "N",
         "tvEpisode",
         "1957",
         "Family"
        ],
        [
         "tt5102240",
         "N",
         "tvEpisode",
         "1957",
         "Music"
        ],
        [
         "tt5105070",
         "N",
         "tvEpisode",
         "1959",
         "Comedy"
        ],
        [
         "tt5105070",
         "N",
         "tvEpisode",
         "1959",
         "Family"
        ],
        [
         "tt5105070",
         "N",
         "tvEpisode",
         "1959",
         "Music"
        ],
        [
         "tt7869618",
         "N",
         "short",
         "2018",
         "Fantasy"
        ],
        [
         "tt7869618",
         "N",
         "short",
         "2018",
         "Sci-Fi"
        ],
        [
         "tt7869618",
         "N",
         "short",
         "2018",
         "Short"
        ],
        [
         "tt1403289",
         "N",
         "tvEpisode",
         "2006",
         "Music"
        ],
        [
         "tt8312748",
         "N",
         "short",
         "2017",
         "Short"
        ],
        [
         "tt3874996",
         "N",
         "tvEpisode",
         "1988",
         "Comedy"
        ],
        [
         "tt3874996",
         "N",
         "tvEpisode",
         "1988",
         "Family"
        ],
        [
         "tt3874996",
         "N",
         "tvEpisode",
         "1988",
         "Music"
        ],
        [
         "tt2305914",
         null,
         "tvEpisode",
         "\\N",
         "Comedy"
        ],
        [
         "tt2305914",
         null,
         "tvEpisode",
         "\\N",
         "Talk-Show"
        ],
        [
         "tt2305918",
         null,
         "tvEpisode",
         "\\N",
         "Comedy"
        ],
        [
         "tt2305918",
         null,
         "tvEpisode",
         "\\N",
         "Talk-Show"
        ],
        [
         "tt8541336",
         null,
         "tvEpisode",
         "2018",
         "Reality-TV"
        ],
        [
         "tt8541336",
         null,
         "tvEpisode",
         "2018",
         "Romance"
        ],
        [
         "tt2381676",
         "N",
         "tvEpisode",
         "1977",
         "Family"
        ],
        [
         "tt14777874",
         "N",
         "tvEpisode",
         "2021",
         "Family"
        ],
        [
         "tt14510930",
         null,
         "tvEpisode",
         "\\N",
         "\\N"
        ],
        [
         "tt8473688",
         null,
         "tvEpisode",
         "1987",
         "Drama"
        ],
        [
         "tt21883066",
         null,
         "tvEpisode",
         "2022",
         "News"
        ],
        [
         "tt21883066",
         null,
         "tvEpisode",
         "2022",
         "Talk-Show"
        ],
        [
         "tt2067043",
         null,
         "tvEpisode",
         "1965",
         "Music"
        ],
        [
         "tt9356778",
         "N",
         "movie",
         "\\N",
         "Sci-Fi"
        ],
        [
         "tt9469474",
         "N",
         "videoGame",
         "2004",
         "Action"
        ],
        [
         "tt9469474",
         "N",
         "videoGame",
         "2004",
         "Adventure"
        ],
        [
         "tt1971246",
         null,
         "tvEpisode",
         "2011",
         "Biography"
        ]
       ],
       "datasetInfos": [],
       "dbfsResultPath": null,
       "isJsonSchema": true,
       "metadata": {},
       "overflow": false,
       "plotOptions": {
        "customPlotOptions": {},
        "displayType": "table",
        "pivotAggregation": null,
        "pivotColumns": null,
        "xColumns": null,
        "yColumns": null
       },
       "removedWidgets": [],
       "schema": [
        {
         "metadata": "{}",
         "name": "tconst",
         "type": "\"string\""
        },
        {
         "metadata": "{}",
         "name": "primaryTitle",
         "type": "\"string\""
        },
        {
         "metadata": "{}",
         "name": "titleType",
         "type": "\"string\""
        },
        {
         "metadata": "{}",
         "name": "startYear",
         "type": "\"string\""
        },
        {
         "metadata": "{}",
         "name": "genre",
         "type": "\"string\""
        }
       ],
       "type": "table"
      }
     },
     "output_type": "display_data"
    }
   ],
   "source": [
    "%sql\n",
    "SELECT *\n",
    "FROM silver.title_basics\n",
    "WHERE primaryTitle IS NULL OR TRIM(primaryTitle) = '' OR primaryTitle = '\\N'\n"
   ]
  },
  {
   "cell_type": "markdown",
   "metadata": {
    "application/vnd.databricks.v1+cell": {
     "cellMetadata": {
      "byteLimit": 2048000,
      "rowLimit": 10000
     },
     "inputWidgets": {},
     "nuid": "9f1d446d-df16-48e2-bde4-ba429c58c23c",
     "showTitle": false,
     "tableResultSettingsMap": {},
     "title": ""
    }
   },
   "source": [
    "Foram identificadas 44 linhas com inconsistências na coluna primaryTitle e optou-se por alterar esses valores para \"Unknown\"."
   ]
  },
  {
   "cell_type": "code",
   "execution_count": 0,
   "metadata": {
    "application/vnd.databricks.v1+cell": {
     "cellMetadata": {
      "byteLimit": 2048000,
      "implicitDf": true,
      "rowLimit": 10000
     },
     "inputWidgets": {},
     "nuid": "44448912-6dc5-415e-8f9f-d3f024276624",
     "showTitle": true,
     "tableResultSettingsMap": {},
     "title": "Mudando os primaryTitle vázios para 'Unknown'"
    }
   },
   "outputs": [
    {
     "output_type": "display_data",
     "data": {
      "text/html": [
       "<style scoped>\n",
       "  .table-result-container {\n",
       "    max-height: 300px;\n",
       "    overflow: auto;\n",
       "  }\n",
       "  table, th, td {\n",
       "    border: 1px solid black;\n",
       "    border-collapse: collapse;\n",
       "  }\n",
       "  th, td {\n",
       "    padding: 5px;\n",
       "  }\n",
       "  th {\n",
       "    text-align: left;\n",
       "  }\n",
       "</style><div class='table-result-container'><table class='table-result'><thead style='background-color: white'><tr><th>num_affected_rows</th></tr></thead><tbody><tr><td>44</td></tr></tbody></table></div>"
      ]
     },
     "metadata": {
      "application/vnd.databricks.v1+output": {
       "addedWidgets": {},
       "aggData": [],
       "aggError": "",
       "aggOverflow": false,
       "aggSchema": [],
       "aggSeriesLimitReached": false,
       "aggType": "",
       "arguments": {},
       "columnCustomDisplayInfos": {},
       "data": [
        [
         44
        ]
       ],
       "datasetInfos": [],
       "dbfsResultPath": null,
       "isJsonSchema": true,
       "metadata": {},
       "overflow": false,
       "plotOptions": {
        "customPlotOptions": {},
        "displayType": "table",
        "pivotAggregation": null,
        "pivotColumns": null,
        "xColumns": null,
        "yColumns": null
       },
       "removedWidgets": [],
       "schema": [
        {
         "metadata": "{}",
         "name": "num_affected_rows",
         "type": "\"long\""
        }
       ],
       "type": "table"
      }
     },
     "output_type": "display_data"
    }
   ],
   "source": [
    "%sql\n",
    "UPDATE silver.title_basics\n",
    "SET primaryTitle = 'Unknown'\n",
    "WHERE (primaryTitle IS NULL OR primaryTitle = '\\N' OR TRIM(primaryTitle) = '')"
   ]
  },
  {
   "cell_type": "code",
   "execution_count": 0,
   "metadata": {
    "application/vnd.databricks.v1+cell": {
     "cellMetadata": {
      "byteLimit": 2048000,
      "implicitDf": true,
      "rowLimit": 10000
     },
     "inputWidgets": {},
     "nuid": "a8ab415a-162b-4092-a50d-853204e9cbe2",
     "showTitle": true,
     "tableResultSettingsMap": {},
     "title": "Verificando se há nulos em titleType"
    }
   },
   "outputs": [
    {
     "output_type": "display_data",
     "data": {
      "text/html": [
       "<style scoped>\n",
       "  .table-result-container {\n",
       "    max-height: 300px;\n",
       "    overflow: auto;\n",
       "  }\n",
       "  table, th, td {\n",
       "    border: 1px solid black;\n",
       "    border-collapse: collapse;\n",
       "  }\n",
       "  th, td {\n",
       "    padding: 5px;\n",
       "  }\n",
       "  th {\n",
       "    text-align: left;\n",
       "  }\n",
       "</style><div class='table-result-container'><table class='table-result'><thead style='background-color: white'><tr><th>count(1)</th></tr></thead><tbody><tr><td>0</td></tr></tbody></table></div>"
      ]
     },
     "metadata": {
      "application/vnd.databricks.v1+output": {
       "addedWidgets": {},
       "aggData": [],
       "aggError": "",
       "aggOverflow": false,
       "aggSchema": [],
       "aggSeriesLimitReached": false,
       "aggType": "",
       "arguments": {},
       "columnCustomDisplayInfos": {},
       "data": [
        [
         0
        ]
       ],
       "datasetInfos": [],
       "dbfsResultPath": null,
       "isJsonSchema": true,
       "metadata": {},
       "overflow": false,
       "plotOptions": {
        "customPlotOptions": {},
        "displayType": "table",
        "pivotAggregation": null,
        "pivotColumns": null,
        "xColumns": null,
        "yColumns": null
       },
       "removedWidgets": [],
       "schema": [
        {
         "metadata": "{\"__autoGeneratedAlias\":\"true\"}",
         "name": "count(1)",
         "type": "\"long\""
        }
       ],
       "type": "table"
      }
     },
     "output_type": "display_data"
    }
   ],
   "source": [
    "%sql\n",
    "SELECT COUNT(*) \n",
    "FROM silver.title_basics\n",
    "WHERE titleType IS NULL OR TRIM(titleType) = '' OR primaryTitle = '\\\\N';"
   ]
  },
  {
   "cell_type": "markdown",
   "metadata": {
    "application/vnd.databricks.v1+cell": {
     "cellMetadata": {
      "byteLimit": 2048000,
      "rowLimit": 10000
     },
     "inputWidgets": {},
     "nuid": "29f53bfe-9ef4-4cb0-80d1-03b265a23aed",
     "showTitle": false,
     "tableResultSettingsMap": {},
     "title": ""
    }
   },
   "source": [
    "Não foram encontrados valores nulos em titleType."
   ]
  },
  {
   "cell_type": "code",
   "execution_count": 0,
   "metadata": {
    "application/vnd.databricks.v1+cell": {
     "cellMetadata": {
      "byteLimit": 2048000,
      "implicitDf": true,
      "rowLimit": 10000
     },
     "inputWidgets": {},
     "nuid": "9dc3a494-a7ee-4c98-9081-ef8f39848ae0",
     "showTitle": true,
     "tableResultSettingsMap": {},
     "title": "Verificando se há nulos em startYear"
    }
   },
   "outputs": [
    {
     "output_type": "display_data",
     "data": {
      "text/html": [
       "<style scoped>\n",
       "  .table-result-container {\n",
       "    max-height: 300px;\n",
       "    overflow: auto;\n",
       "  }\n",
       "  table, th, td {\n",
       "    border: 1px solid black;\n",
       "    border-collapse: collapse;\n",
       "  }\n",
       "  th, td {\n",
       "    padding: 5px;\n",
       "  }\n",
       "  th {\n",
       "    text-align: left;\n",
       "  }\n",
       "</style><div class='table-result-container'><table class='table-result'><thead style='background-color: white'><tr><th>count(1)</th></tr></thead><tbody><tr><td>2097887</td></tr></tbody></table></div>"
      ]
     },
     "metadata": {
      "application/vnd.databricks.v1+output": {
       "addedWidgets": {},
       "aggData": [],
       "aggError": "",
       "aggOverflow": false,
       "aggSchema": [],
       "aggSeriesLimitReached": false,
       "aggType": "",
       "arguments": {},
       "columnCustomDisplayInfos": {},
       "data": [
        [
         2097887
        ]
       ],
       "datasetInfos": [],
       "dbfsResultPath": null,
       "isJsonSchema": true,
       "metadata": {},
       "overflow": false,
       "plotOptions": {
        "customPlotOptions": {},
        "displayType": "table",
        "pivotAggregation": null,
        "pivotColumns": null,
        "xColumns": null,
        "yColumns": null
       },
       "removedWidgets": [],
       "schema": [
        {
         "metadata": "{\"__autoGeneratedAlias\":\"true\"}",
         "name": "count(1)",
         "type": "\"long\""
        }
       ],
       "type": "table"
      }
     },
     "output_type": "display_data"
    }
   ],
   "source": [
    "%sql\n",
    "SELECT COUNT(*)\n",
    "FROM silver.title_basics \n",
    "WHERE startYear IS NULL OR startYear = '\\\\N';"
   ]
  },
  {
   "cell_type": "code",
   "execution_count": 0,
   "metadata": {
    "application/vnd.databricks.v1+cell": {
     "cellMetadata": {
      "byteLimit": 2048000,
      "implicitDf": true,
      "rowLimit": 10000
     },
     "inputWidgets": {},
     "nuid": "3a0ebd07-0121-49e2-96c9-9b07d5be1fb9",
     "showTitle": true,
     "tableResultSettingsMap": {},
     "title": "Deletando as linhas cujo startYear é nulo"
    }
   },
   "outputs": [
    {
     "output_type": "display_data",
     "data": {
      "text/html": [
       "<style scoped>\n",
       "  .table-result-container {\n",
       "    max-height: 300px;\n",
       "    overflow: auto;\n",
       "  }\n",
       "  table, th, td {\n",
       "    border: 1px solid black;\n",
       "    border-collapse: collapse;\n",
       "  }\n",
       "  th, td {\n",
       "    padding: 5px;\n",
       "  }\n",
       "  th {\n",
       "    text-align: left;\n",
       "  }\n",
       "</style><div class='table-result-container'><table class='table-result'><thead style='background-color: white'><tr><th>num_affected_rows</th></tr></thead><tbody><tr><td>2097887</td></tr></tbody></table></div>"
      ]
     },
     "metadata": {
      "application/vnd.databricks.v1+output": {
       "addedWidgets": {},
       "aggData": [],
       "aggError": "",
       "aggOverflow": false,
       "aggSchema": [],
       "aggSeriesLimitReached": false,
       "aggType": "",
       "arguments": {},
       "columnCustomDisplayInfos": {},
       "data": [
        [
         2097887
        ]
       ],
       "datasetInfos": [],
       "dbfsResultPath": null,
       "isJsonSchema": true,
       "metadata": {},
       "overflow": false,
       "plotOptions": {
        "customPlotOptions": {},
        "displayType": "table",
        "pivotAggregation": null,
        "pivotColumns": null,
        "xColumns": null,
        "yColumns": null
       },
       "removedWidgets": [],
       "schema": [
        {
         "metadata": "{}",
         "name": "num_affected_rows",
         "type": "\"long\""
        }
       ],
       "type": "table"
      }
     },
     "output_type": "display_data"
    }
   ],
   "source": [
    "%sql\n",
    "DELETE FROM silver.title_basics \n",
    "WHERE startYear IS NULL OR startYear = '\\\\N';"
   ]
  },
  {
   "cell_type": "markdown",
   "metadata": {
    "application/vnd.databricks.v1+cell": {
     "cellMetadata": {
      "byteLimit": 2048000,
      "rowLimit": 10000
     },
     "inputWidgets": {},
     "nuid": "0d56040d-e5e4-4d7c-91d7-bc96598c5490",
     "showTitle": false,
     "tableResultSettingsMap": {},
     "title": ""
    }
   },
   "source": [
    "Optou-se por deletar todos os filmes com valores de startYear nulos já que o dado é essencial para a análise."
   ]
  },
  {
   "cell_type": "code",
   "execution_count": 0,
   "metadata": {
    "application/vnd.databricks.v1+cell": {
     "cellMetadata": {
      "byteLimit": 2048000,
      "implicitDf": true,
      "rowLimit": 10000
     },
     "inputWidgets": {},
     "nuid": "459b7772-b3a5-49d4-8752-c94b1caa4223",
     "showTitle": true,
     "tableResultSettingsMap": {},
     "title": "Verificando se há espaços vazios no startYear"
    }
   },
   "outputs": [
    {
     "output_type": "display_data",
     "data": {
      "text/html": [
       "<style scoped>\n",
       "  .table-result-container {\n",
       "    max-height: 300px;\n",
       "    overflow: auto;\n",
       "  }\n",
       "  table, th, td {\n",
       "    border: 1px solid black;\n",
       "    border-collapse: collapse;\n",
       "  }\n",
       "  th, td {\n",
       "    padding: 5px;\n",
       "  }\n",
       "  th {\n",
       "    text-align: left;\n",
       "  }\n",
       "</style><div class='table-result-container'><table class='table-result'><thead style='background-color: white'><tr><th>count(1)</th></tr></thead><tbody><tr><td>0</td></tr></tbody></table></div>"
      ]
     },
     "metadata": {
      "application/vnd.databricks.v1+output": {
       "addedWidgets": {},
       "aggData": [],
       "aggError": "",
       "aggOverflow": false,
       "aggSchema": [],
       "aggSeriesLimitReached": false,
       "aggType": "",
       "arguments": {},
       "columnCustomDisplayInfos": {},
       "data": [
        [
         0
        ]
       ],
       "datasetInfos": [],
       "dbfsResultPath": null,
       "isJsonSchema": true,
       "metadata": {},
       "overflow": false,
       "plotOptions": {
        "customPlotOptions": {},
        "displayType": "table",
        "pivotAggregation": null,
        "pivotColumns": null,
        "xColumns": null,
        "yColumns": null
       },
       "removedWidgets": [],
       "schema": [
        {
         "metadata": "{\"__autoGeneratedAlias\":\"true\"}",
         "name": "count(1)",
         "type": "\"long\""
        }
       ],
       "type": "table"
      }
     },
     "output_type": "display_data"
    }
   ],
   "source": [
    "%sql\n",
    "SELECT COUNT(*)\n",
    "FROM silver.title_basics \n",
    "WHERE startYear = ' ';"
   ]
  },
  {
   "cell_type": "code",
   "execution_count": 0,
   "metadata": {
    "application/vnd.databricks.v1+cell": {
     "cellMetadata": {
      "byteLimit": 2048000,
      "implicitDf": true,
      "rowLimit": 10000
     },
     "inputWidgets": {},
     "nuid": "81b7461e-05fc-4c9c-963e-af64f474af0f",
     "showTitle": true,
     "tableResultSettingsMap": {},
     "title": "Transformando valores da startYear de string para INT"
    }
   },
   "outputs": [
    {
     "output_type": "display_data",
     "data": {
      "text/html": [
       "<style scoped>\n",
       "  .table-result-container {\n",
       "    max-height: 300px;\n",
       "    overflow: auto;\n",
       "  }\n",
       "  table, th, td {\n",
       "    border: 1px solid black;\n",
       "    border-collapse: collapse;\n",
       "  }\n",
       "  th, td {\n",
       "    padding: 5px;\n",
       "  }\n",
       "  th {\n",
       "    text-align: left;\n",
       "  }\n",
       "</style><div class='table-result-container'><table class='table-result'><thead style='background-color: white'><tr><th>num_affected_rows</th></tr></thead><tbody><tr><td>16369220</td></tr></tbody></table></div>"
      ]
     },
     "metadata": {
      "application/vnd.databricks.v1+output": {
       "addedWidgets": {},
       "aggData": [],
       "aggError": "",
       "aggOverflow": false,
       "aggSchema": [],
       "aggSeriesLimitReached": false,
       "aggType": "",
       "arguments": {},
       "columnCustomDisplayInfos": {},
       "data": [
        [
         16369220
        ]
       ],
       "datasetInfos": [],
       "dbfsResultPath": null,
       "isJsonSchema": true,
       "metadata": {},
       "overflow": false,
       "plotOptions": {
        "customPlotOptions": {},
        "displayType": "table",
        "pivotAggregation": null,
        "pivotColumns": null,
        "xColumns": null,
        "yColumns": null
       },
       "removedWidgets": [],
       "schema": [
        {
         "metadata": "{}",
         "name": "num_affected_rows",
         "type": "\"long\""
        }
       ],
       "type": "table"
      }
     },
     "output_type": "display_data"
    }
   ],
   "source": [
    "%sql\n",
    "ALTER TABLE silver.title_basics \n",
    "ADD COLUMN startYear_int INT;\n",
    "\n",
    "UPDATE silver.title_basics \n",
    "SET startYear_int = CAST(startYear AS INT);"
   ]
  },
  {
   "cell_type": "markdown",
   "metadata": {
    "application/vnd.databricks.v1+cell": {
     "cellMetadata": {
      "byteLimit": 2048000,
      "rowLimit": 10000
     },
     "inputWidgets": {},
     "nuid": "f09ef7dc-a2e7-488f-9ab4-003e25a864d5",
     "showTitle": false,
     "tableResultSettingsMap": {},
     "title": ""
    }
   },
   "source": [
    "Os valores de startYear estavam armazenados como string, sendo necessária a sua conversão para INT a fim de realizar as análises."
   ]
  },
  {
   "cell_type": "code",
   "execution_count": 0,
   "metadata": {
    "application/vnd.databricks.v1+cell": {
     "cellMetadata": {
      "byteLimit": 2048000,
      "implicitDf": true,
      "rowLimit": 10000
     },
     "inputWidgets": {},
     "nuid": "55e0627d-95b3-42ab-90c0-d40c2d41cf77",
     "showTitle": true,
     "tableResultSettingsMap": {},
     "title": "Verificando intervalo de startYear"
    }
   },
   "outputs": [
    {
     "output_type": "display_data",
     "data": {
      "text/html": [
       "<style scoped>\n",
       "  .table-result-container {\n",
       "    max-height: 300px;\n",
       "    overflow: auto;\n",
       "  }\n",
       "  table, th, td {\n",
       "    border: 1px solid black;\n",
       "    border-collapse: collapse;\n",
       "  }\n",
       "  th, td {\n",
       "    padding: 5px;\n",
       "  }\n",
       "  th {\n",
       "    text-align: left;\n",
       "  }\n",
       "</style><div class='table-result-container'><table class='table-result'><thead style='background-color: white'><tr><th>min(startYear_int)</th><th>max(startYear_int)</th></tr></thead><tbody><tr><td>1874</td><td>2031</td></tr></tbody></table></div>"
      ]
     },
     "metadata": {
      "application/vnd.databricks.v1+output": {
       "addedWidgets": {},
       "aggData": [],
       "aggError": "",
       "aggOverflow": false,
       "aggSchema": [],
       "aggSeriesLimitReached": false,
       "aggType": "",
       "arguments": {},
       "columnCustomDisplayInfos": {},
       "data": [
        [
         1874,
         2031
        ]
       ],
       "datasetInfos": [],
       "dbfsResultPath": null,
       "isJsonSchema": true,
       "metadata": {},
       "overflow": false,
       "plotOptions": {
        "customPlotOptions": {},
        "displayType": "table",
        "pivotAggregation": null,
        "pivotColumns": null,
        "xColumns": null,
        "yColumns": null
       },
       "removedWidgets": [],
       "schema": [
        {
         "metadata": "{\"__autoGeneratedAlias\":\"true\"}",
         "name": "min(startYear_int)",
         "type": "\"integer\""
        },
        {
         "metadata": "{\"__autoGeneratedAlias\":\"true\"}",
         "name": "max(startYear_int)",
         "type": "\"integer\""
        }
       ],
       "type": "table"
      }
     },
     "output_type": "display_data"
    }
   ],
   "source": [
    "%sql\n",
    "SELECT MIN(startYear_int), MAX(startYear_int) \n",
    "FROM silver.title_basics"
   ]
  },
  {
   "cell_type": "code",
   "execution_count": 0,
   "metadata": {
    "application/vnd.databricks.v1+cell": {
     "cellMetadata": {
      "byteLimit": 2048000,
      "implicitDf": true,
      "rowLimit": 10000
     },
     "inputWidgets": {},
     "nuid": "9f3645c4-9ff3-4a6b-bbb0-fe77dff4431b",
     "showTitle": true,
     "tableResultSettingsMap": {},
     "title": "Verificar filmes fora da área de estudo"
    }
   },
   "outputs": [
    {
     "output_type": "display_data",
     "data": {
      "text/html": [
       "<style scoped>\n",
       "  .table-result-container {\n",
       "    max-height: 300px;\n",
       "    overflow: auto;\n",
       "  }\n",
       "  table, th, td {\n",
       "    border: 1px solid black;\n",
       "    border-collapse: collapse;\n",
       "  }\n",
       "  th, td {\n",
       "    padding: 5px;\n",
       "  }\n",
       "  th {\n",
       "    text-align: left;\n",
       "  }\n",
       "</style><div class='table-result-container'><table class='table-result'><thead style='background-color: white'><tr><th>count(1)</th></tr></thead><tbody><tr><td>147621</td></tr></tbody></table></div>"
      ]
     },
     "metadata": {
      "application/vnd.databricks.v1+output": {
       "addedWidgets": {},
       "aggData": [],
       "aggError": "",
       "aggOverflow": false,
       "aggSchema": [],
       "aggSeriesLimitReached": false,
       "aggType": "",
       "arguments": {},
       "columnCustomDisplayInfos": {},
       "data": [
        [
         147621
        ]
       ],
       "datasetInfos": [],
       "dbfsResultPath": null,
       "isJsonSchema": true,
       "metadata": {},
       "overflow": false,
       "plotOptions": {
        "customPlotOptions": {},
        "displayType": "table",
        "pivotAggregation": null,
        "pivotColumns": null,
        "xColumns": null,
        "yColumns": null
       },
       "removedWidgets": [],
       "schema": [
        {
         "metadata": "{\"__autoGeneratedAlias\":\"true\"}",
         "name": "count(1)",
         "type": "\"long\""
        }
       ],
       "type": "table"
      }
     },
     "output_type": "display_data"
    }
   ],
   "source": [
    "%sql\n",
    "SELECT COUNT(*)\n",
    "FROM silver.title_basics\n",
    "WHERE startYear_int > 2024"
   ]
  },
  {
   "cell_type": "markdown",
   "metadata": {
    "application/vnd.databricks.v1+cell": {
     "cellMetadata": {
      "byteLimit": 2048000,
      "rowLimit": 10000
     },
     "inputWidgets": {},
     "nuid": "acde161a-7951-4733-9083-c61c90b75bc6",
     "showTitle": false,
     "tableResultSettingsMap": {},
     "title": ""
    }
   },
   "source": [
    "Como o IMDB cataloga filmes que ainda não foram lançados, optou-se por excluir qualquer filme com startYear de 2025 em diante."
   ]
  },
  {
   "cell_type": "code",
   "execution_count": 0,
   "metadata": {
    "application/vnd.databricks.v1+cell": {
     "cellMetadata": {
      "byteLimit": 2048000,
      "implicitDf": true,
      "rowLimit": 10000
     },
     "inputWidgets": {},
     "nuid": "faf4ccef-c308-45cc-8120-a75183f0d436",
     "showTitle": true,
     "tableResultSettingsMap": {},
     "title": "Deletando filmes fora do período de estudo"
    }
   },
   "outputs": [
    {
     "output_type": "display_data",
     "data": {
      "text/html": [
       "<style scoped>\n",
       "  .table-result-container {\n",
       "    max-height: 300px;\n",
       "    overflow: auto;\n",
       "  }\n",
       "  table, th, td {\n",
       "    border: 1px solid black;\n",
       "    border-collapse: collapse;\n",
       "  }\n",
       "  th, td {\n",
       "    padding: 5px;\n",
       "  }\n",
       "  th {\n",
       "    text-align: left;\n",
       "  }\n",
       "</style><div class='table-result-container'><table class='table-result'><thead style='background-color: white'><tr><th>num_affected_rows</th></tr></thead><tbody><tr><td>147621</td></tr></tbody></table></div>"
      ]
     },
     "metadata": {
      "application/vnd.databricks.v1+output": {
       "addedWidgets": {},
       "aggData": [],
       "aggError": "",
       "aggOverflow": false,
       "aggSchema": [],
       "aggSeriesLimitReached": false,
       "aggType": "",
       "arguments": {},
       "columnCustomDisplayInfos": {},
       "data": [
        [
         147621
        ]
       ],
       "datasetInfos": [],
       "dbfsResultPath": null,
       "isJsonSchema": true,
       "metadata": {},
       "overflow": false,
       "plotOptions": {
        "customPlotOptions": {},
        "displayType": "table",
        "pivotAggregation": null,
        "pivotColumns": null,
        "xColumns": null,
        "yColumns": null
       },
       "removedWidgets": [],
       "schema": [
        {
         "metadata": "{}",
         "name": "num_affected_rows",
         "type": "\"long\""
        }
       ],
       "type": "table"
      }
     },
     "output_type": "display_data"
    }
   ],
   "source": [
    "%sql\n",
    "DELETE FROM silver.title_basics\n",
    "WHERE startYear_int > 2024;"
   ]
  },
  {
   "cell_type": "code",
   "execution_count": 0,
   "metadata": {
    "application/vnd.databricks.v1+cell": {
     "cellMetadata": {
      "byteLimit": 2048000,
      "implicitDf": true,
      "rowLimit": 10000
     },
     "inputWidgets": {},
     "nuid": "d494f65a-4ebd-4862-87a4-2f30f9858100",
     "showTitle": true,
     "tableResultSettingsMap": {},
     "title": "Verificando valores nulos em genre"
    }
   },
   "outputs": [
    {
     "output_type": "display_data",
     "data": {
      "text/html": [
       "<style scoped>\n",
       "  .table-result-container {\n",
       "    max-height: 300px;\n",
       "    overflow: auto;\n",
       "  }\n",
       "  table, th, td {\n",
       "    border: 1px solid black;\n",
       "    border-collapse: collapse;\n",
       "  }\n",
       "  th, td {\n",
       "    padding: 5px;\n",
       "  }\n",
       "  th {\n",
       "    text-align: left;\n",
       "  }\n",
       "</style><div class='table-result-container'><table class='table-result'><thead style='background-color: white'><tr><th>count(1)</th></tr></thead><tbody><tr><td>421303</td></tr></tbody></table></div>"
      ]
     },
     "metadata": {
      "application/vnd.databricks.v1+output": {
       "addedWidgets": {},
       "aggData": [],
       "aggError": "",
       "aggOverflow": false,
       "aggSchema": [],
       "aggSeriesLimitReached": false,
       "aggType": "",
       "arguments": {},
       "columnCustomDisplayInfos": {},
       "data": [
        [
         421303
        ]
       ],
       "datasetInfos": [],
       "dbfsResultPath": null,
       "isJsonSchema": true,
       "metadata": {},
       "overflow": false,
       "plotOptions": {
        "customPlotOptions": {},
        "displayType": "table",
        "pivotAggregation": null,
        "pivotColumns": null,
        "xColumns": null,
        "yColumns": null
       },
       "removedWidgets": [],
       "schema": [
        {
         "metadata": "{\"__autoGeneratedAlias\":\"true\"}",
         "name": "count(1)",
         "type": "\"long\""
        }
       ],
       "type": "table"
      }
     },
     "output_type": "display_data"
    }
   ],
   "source": [
    "%sql\n",
    "SELECT COUNT(*) \n",
    "FROM silver.title_basics \n",
    "WHERE genre IS NULL OR genre = '\\\\N' OR TRIM(genre) = '';\n"
   ]
  },
  {
   "cell_type": "code",
   "execution_count": 0,
   "metadata": {
    "application/vnd.databricks.v1+cell": {
     "cellMetadata": {
      "byteLimit": 2048000,
      "implicitDf": true,
      "rowLimit": 10000
     },
     "inputWidgets": {},
     "nuid": "08c4a199-0068-4c5e-b255-34d089a44aad",
     "showTitle": true,
     "tableResultSettingsMap": {},
     "title": "Deletando valores em que o genre é nulo"
    }
   },
   "outputs": [
    {
     "output_type": "display_data",
     "data": {
      "text/html": [
       "<style scoped>\n",
       "  .table-result-container {\n",
       "    max-height: 300px;\n",
       "    overflow: auto;\n",
       "  }\n",
       "  table, th, td {\n",
       "    border: 1px solid black;\n",
       "    border-collapse: collapse;\n",
       "  }\n",
       "  th, td {\n",
       "    padding: 5px;\n",
       "  }\n",
       "  th {\n",
       "    text-align: left;\n",
       "  }\n",
       "</style><div class='table-result-container'><table class='table-result'><thead style='background-color: white'><tr><th>num_affected_rows</th></tr></thead><tbody><tr><td>421303</td></tr></tbody></table></div>"
      ]
     },
     "metadata": {
      "application/vnd.databricks.v1+output": {
       "addedWidgets": {},
       "aggData": [],
       "aggError": "",
       "aggOverflow": false,
       "aggSchema": [],
       "aggSeriesLimitReached": false,
       "aggType": "",
       "arguments": {},
       "columnCustomDisplayInfos": {},
       "data": [
        [
         421303
        ]
       ],
       "datasetInfos": [],
       "dbfsResultPath": null,
       "isJsonSchema": true,
       "metadata": {},
       "overflow": false,
       "plotOptions": {
        "customPlotOptions": {},
        "displayType": "table",
        "pivotAggregation": null,
        "pivotColumns": null,
        "xColumns": null,
        "yColumns": null
       },
       "removedWidgets": [],
       "schema": [
        {
         "metadata": "{}",
         "name": "num_affected_rows",
         "type": "\"long\""
        }
       ],
       "type": "table"
      }
     },
     "output_type": "display_data"
    }
   ],
   "source": [
    "%sql\n",
    "DELETE FROM silver.title_basics \n",
    "WHERE genre IS NULL OR genre = '\\\\N' OR TRIM(genre) = '';"
   ]
  },
  {
   "cell_type": "markdown",
   "metadata": {
    "application/vnd.databricks.v1+cell": {
     "cellMetadata": {},
     "inputWidgets": {},
     "nuid": "a3042456-4f92-4454-a0db-166369a70789",
     "showTitle": false,
     "tableResultSettingsMap": {},
     "title": ""
    }
   },
   "source": [
    "Como gênero é um dado essencial para a análise, as tuplas sem esse dado foram deletadas."
   ]
  },
  {
   "cell_type": "code",
   "execution_count": 0,
   "metadata": {
    "application/vnd.databricks.v1+cell": {
     "cellMetadata": {
      "byteLimit": 2048000,
      "implicitDf": true,
      "rowLimit": 10000
     },
     "inputWidgets": {},
     "nuid": "1acdfa48-a94e-4eaa-a05f-1dc4370bf908",
     "showTitle": true,
     "tableResultSettingsMap": {},
     "title": "Análise dos valores de gênero e seus valores"
    }
   },
   "outputs": [
    {
     "output_type": "display_data",
     "data": {
      "text/html": [
       "<style scoped>\n",
       "  .table-result-container {\n",
       "    max-height: 300px;\n",
       "    overflow: auto;\n",
       "  }\n",
       "  table, th, td {\n",
       "    border: 1px solid black;\n",
       "    border-collapse: collapse;\n",
       "  }\n",
       "  th, td {\n",
       "    padding: 5px;\n",
       "  }\n",
       "  th {\n",
       "    text-align: left;\n",
       "  }\n",
       "</style><div class='table-result-container'><table class='table-result'><thead style='background-color: white'><tr><th>genre</th><th>count(1)</th></tr></thead><tbody><tr><td>Drama</td><td>2692487</td></tr><tr><td>Comedy</td><td>1965639</td></tr><tr><td>Talk-Show</td><td>1228376</td></tr><tr><td>Short</td><td>1185111</td></tr><tr><td>Documentary</td><td>1041027</td></tr><tr><td>News</td><td>980943</td></tr><tr><td>Romance</td><td>937987</td></tr><tr><td>Family</td><td>715930</td></tr><tr><td>Reality-TV</td><td>575510</td></tr><tr><td>Animation</td><td>496381</td></tr><tr><td>Crime</td><td>427900</td></tr><tr><td>Action</td><td>426736</td></tr><tr><td>Game-Show</td><td>396793</td></tr><tr><td>Adventure</td><td>396040</td></tr><tr><td>Music</td><td>380588</td></tr><tr><td>Adult</td><td>366579</td></tr><tr><td>Sport</td><td>277870</td></tr><tr><td>Fantasy</td><td>219520</td></tr><tr><td>Mystery</td><td>217669</td></tr><tr><td>Horror</td><td>198628</td></tr><tr><td>Thriller</td><td>157599</td></tr><tr><td>History</td><td>156955</td></tr><tr><td>Biography</td><td>111168</td></tr><tr><td>Sci-Fi</td><td>105735</td></tr><tr><td>Musical</td><td>73852</td></tr><tr><td>War</td><td>36972</td></tr><tr><td>Western</td><td>29437</td></tr><tr><td>Film-Noir</td><td>864</td></tr></tbody></table></div>"
      ]
     },
     "metadata": {
      "application/vnd.databricks.v1+output": {
       "addedWidgets": {},
       "aggData": [],
       "aggError": "",
       "aggOverflow": false,
       "aggSchema": [],
       "aggSeriesLimitReached": false,
       "aggType": "",
       "arguments": {},
       "columnCustomDisplayInfos": {},
       "data": [
        [
         "Drama",
         2692487
        ],
        [
         "Comedy",
         1965639
        ],
        [
         "Talk-Show",
         1228376
        ],
        [
         "Short",
         1185111
        ],
        [
         "Documentary",
         1041027
        ],
        [
         "News",
         980943
        ],
        [
         "Romance",
         937987
        ],
        [
         "Family",
         715930
        ],
        [
         "Reality-TV",
         575510
        ],
        [
         "Animation",
         496381
        ],
        [
         "Crime",
         427900
        ],
        [
         "Action",
         426736
        ],
        [
         "Game-Show",
         396793
        ],
        [
         "Adventure",
         396040
        ],
        [
         "Music",
         380588
        ],
        [
         "Adult",
         366579
        ],
        [
         "Sport",
         277870
        ],
        [
         "Fantasy",
         219520
        ],
        [
         "Mystery",
         217669
        ],
        [
         "Horror",
         198628
        ],
        [
         "Thriller",
         157599
        ],
        [
         "History",
         156955
        ],
        [
         "Biography",
         111168
        ],
        [
         "Sci-Fi",
         105735
        ],
        [
         "Musical",
         73852
        ],
        [
         "War",
         36972
        ],
        [
         "Western",
         29437
        ],
        [
         "Film-Noir",
         864
        ]
       ],
       "datasetInfos": [],
       "dbfsResultPath": null,
       "isJsonSchema": true,
       "metadata": {},
       "overflow": false,
       "plotOptions": {
        "customPlotOptions": {},
        "displayType": "table",
        "pivotAggregation": null,
        "pivotColumns": null,
        "xColumns": null,
        "yColumns": null
       },
       "removedWidgets": [],
       "schema": [
        {
         "metadata": "{}",
         "name": "genre",
         "type": "\"string\""
        },
        {
         "metadata": "{\"__autoGeneratedAlias\":\"true\"}",
         "name": "count(1)",
         "type": "\"long\""
        }
       ],
       "type": "table"
      }
     },
     "output_type": "display_data"
    }
   ],
   "source": [
    "%sql\n",
    "SELECT genre, COUNT(*) \n",
    "FROM silver.title_basics \n",
    "GROUP BY genre \n",
    "ORDER BY COUNT(*) DESC;\n"
   ]
  },
  {
   "cell_type": "markdown",
   "metadata": {
    "application/vnd.databricks.v1+cell": {
     "cellMetadata": {},
     "inputWidgets": {},
     "nuid": "d40ba785-9d02-437a-8d90-0ff8bfa2a2e4",
     "showTitle": false,
     "tableResultSettingsMap": {},
     "title": ""
    }
   },
   "source": [
    "Há um número expressivo de filmes em cada um dos gênero"
   ]
  },
  {
   "cell_type": "code",
   "execution_count": 0,
   "metadata": {
    "application/vnd.databricks.v1+cell": {
     "cellMetadata": {
      "byteLimit": 2048000,
      "implicitDf": true,
      "rowLimit": 10000
     },
     "inputWidgets": {},
     "nuid": "c5732a04-86a4-426f-a0c5-015350d35d00",
     "showTitle": false,
     "tableResultSettingsMap": {},
     "title": ""
    }
   },
   "outputs": [
    {
     "output_type": "display_data",
     "data": {
      "text/html": [
       "<style scoped>\n",
       "  .table-result-container {\n",
       "    max-height: 300px;\n",
       "    overflow: auto;\n",
       "  }\n",
       "  table, th, td {\n",
       "    border: 1px solid black;\n",
       "    border-collapse: collapse;\n",
       "  }\n",
       "  th, td {\n",
       "    padding: 5px;\n",
       "  }\n",
       "  th {\n",
       "    text-align: left;\n",
       "  }\n",
       "</style><div class='table-result-container'><table class='table-result'><thead style='background-color: white'><tr><th>database</th><th>tableName</th><th>isTemporary</th></tr></thead><tbody><tr><td>silver</td><td>title_basics</td><td>false</td></tr><tr><td>silver</td><td>title_ratings</td><td>false</td></tr></tbody></table></div>"
      ]
     },
     "metadata": {
      "application/vnd.databricks.v1+output": {
       "addedWidgets": {},
       "aggData": [],
       "aggError": "",
       "aggOverflow": false,
       "aggSchema": [],
       "aggSeriesLimitReached": false,
       "aggType": "",
       "arguments": {},
       "columnCustomDisplayInfos": {},
       "data": [
        [
         "silver",
         "title_basics",
         false
        ],
        [
         "silver",
         "title_ratings",
         false
        ]
       ],
       "datasetInfos": [],
       "dbfsResultPath": null,
       "isJsonSchema": true,
       "metadata": {},
       "overflow": false,
       "plotOptions": {
        "customPlotOptions": {},
        "displayType": "table",
        "pivotAggregation": null,
        "pivotColumns": null,
        "xColumns": null,
        "yColumns": null
       },
       "removedWidgets": [],
       "schema": [
        {
         "metadata": "{}",
         "name": "database",
         "type": "\"string\""
        },
        {
         "metadata": "{}",
         "name": "tableName",
         "type": "\"string\""
        },
        {
         "metadata": "{}",
         "name": "isTemporary",
         "type": "\"boolean\""
        }
       ],
       "type": "table"
      }
     },
     "output_type": "display_data"
    }
   ],
   "source": [
    "%sql\n",
    "SHOW TABLES IN silver;"
   ]
  },
  {
   "cell_type": "markdown",
   "metadata": {
    "application/vnd.databricks.v1+cell": {
     "cellMetadata": {
      "byteLimit": 2048000,
      "rowLimit": 10000
     },
     "inputWidgets": {},
     "nuid": "fc4441f4-6e21-4c7a-8e8d-df8bd10c76d7",
     "showTitle": false,
     "tableResultSettingsMap": {},
     "title": ""
    }
   },
   "source": [
    "Terminada as verificações na tabela com os títulos, iniciou-se as na tabela com as avaliações"
   ]
  },
  {
   "cell_type": "code",
   "execution_count": 0,
   "metadata": {
    "application/vnd.databricks.v1+cell": {
     "cellMetadata": {
      "byteLimit": 2048000,
      "implicitDf": true,
      "rowLimit": 10000
     },
     "inputWidgets": {},
     "nuid": "aaebd60f-4d6d-4ed3-a81a-073fd33dfa52",
     "showTitle": false,
     "tableResultSettingsMap": {},
     "title": ""
    }
   },
   "outputs": [
    {
     "output_type": "display_data",
     "data": {
      "text/html": [
       "<style scoped>\n",
       "  .table-result-container {\n",
       "    max-height: 300px;\n",
       "    overflow: auto;\n",
       "  }\n",
       "  table, th, td {\n",
       "    border: 1px solid black;\n",
       "    border-collapse: collapse;\n",
       "  }\n",
       "  th, td {\n",
       "    padding: 5px;\n",
       "  }\n",
       "  th {\n",
       "    text-align: left;\n",
       "  }\n",
       "</style><div class='table-result-container'><table class='table-result'><thead style='background-color: white'><tr><th>tconst</th><th>averageRating</th><th>numVotes</th></tr></thead><tbody><tr><td>tt0000001</td><td>5.7</td><td>2146</td></tr><tr><td>tt0000002</td><td>5.5</td><td>291</td></tr><tr><td>tt0000003</td><td>6.5</td><td>2180</td></tr><tr><td>tt0000004</td><td>5.3</td><td>187</td></tr><tr><td>tt0000005</td><td>6.2</td><td>2924</td></tr><tr><td>tt0000006</td><td>5.0</td><td>210</td></tr><tr><td>tt0000007</td><td>5.3</td><td>906</td></tr><tr><td>tt0000008</td><td>5.4</td><td>2292</td></tr><tr><td>tt0000009</td><td>5.4</td><td>223</td></tr><tr><td>tt0000010</td><td>6.8</td><td>7922</td></tr><tr><td>tt0000011</td><td>5.2</td><td>418</td></tr><tr><td>tt0000012</td><td>7.4</td><td>13447</td></tr><tr><td>tt0000013</td><td>5.7</td><td>2064</td></tr><tr><td>tt0000014</td><td>7.1</td><td>6138</td></tr><tr><td>tt0000015</td><td>6.1</td><td>1271</td></tr><tr><td>tt0000016</td><td>5.9</td><td>1656</td></tr><tr><td>tt0000017</td><td>4.6</td><td>379</td></tr><tr><td>tt0000018</td><td>5.2</td><td>662</td></tr><tr><td>tt0000019</td><td>5.2</td><td>35</td></tr><tr><td>tt0000020</td><td>4.7</td><td>410</td></tr><tr><td>tt0000022</td><td>5.1</td><td>1209</td></tr><tr><td>tt0000023</td><td>5.7</td><td>1584</td></tr><tr><td>tt0000024</td><td>3.7</td><td>158</td></tr><tr><td>tt0000025</td><td>4.2</td><td>51</td></tr><tr><td>tt0000026</td><td>5.6</td><td>1674</td></tr><tr><td>tt0000027</td><td>5.6</td><td>1270</td></tr><tr><td>tt0000028</td><td>5.1</td><td>1197</td></tr><tr><td>tt0000029</td><td>5.9</td><td>3668</td></tr><tr><td>tt0000030</td><td>5.2</td><td>960</td></tr><tr><td>tt0000031</td><td>5.5</td><td>1095</td></tr><tr><td>tt0000032</td><td>4.9</td><td>461</td></tr><tr><td>tt0000033</td><td>5.5</td><td>1132</td></tr><tr><td>tt0000034</td><td>4.8</td><td>253</td></tr><tr><td>tt0000035</td><td>5.5</td><td>88</td></tr><tr><td>tt0000036</td><td>4.4</td><td>654</td></tr><tr><td>tt0000037</td><td>4.5</td><td>80</td></tr><tr><td>tt0000038</td><td>4.1</td><td>232</td></tr><tr><td>tt0000039</td><td>3.9</td><td>36</td></tr><tr><td>tt0000040</td><td>4.2</td><td>82</td></tr><tr><td>tt0000041</td><td>6.7</td><td>2111</td></tr><tr><td>tt0000042</td><td>4.0</td><td>42</td></tr><tr><td>tt0000043</td><td>3.9</td><td>36</td></tr><tr><td>tt0000044</td><td>4.1</td><td>57</td></tr><tr><td>tt0000045</td><td>4.2</td><td>37</td></tr><tr><td>tt0000046</td><td>4.3</td><td>42</td></tr><tr><td>tt0000047</td><td>3.9</td><td>41</td></tr><tr><td>tt0000048</td><td>4.7</td><td>234</td></tr><tr><td>tt0000049</td><td>4.9</td><td>57</td></tr><tr><td>tt0000050</td><td>4.3</td><td>38</td></tr><tr><td>tt0000051</td><td>3.5</td><td>39</td></tr></tbody></table></div>"
      ]
     },
     "metadata": {
      "application/vnd.databricks.v1+output": {
       "addedWidgets": {},
       "aggData": [],
       "aggError": "",
       "aggOverflow": false,
       "aggSchema": [],
       "aggSeriesLimitReached": false,
       "aggType": "",
       "arguments": {},
       "columnCustomDisplayInfos": {},
       "data": [
        [
         "tt0000001",
         5.7,
         2146
        ],
        [
         "tt0000002",
         5.5,
         291
        ],
        [
         "tt0000003",
         6.5,
         2180
        ],
        [
         "tt0000004",
         5.3,
         187
        ],
        [
         "tt0000005",
         6.2,
         2924
        ],
        [
         "tt0000006",
         5.0,
         210
        ],
        [
         "tt0000007",
         5.3,
         906
        ],
        [
         "tt0000008",
         5.4,
         2292
        ],
        [
         "tt0000009",
         5.4,
         223
        ],
        [
         "tt0000010",
         6.8,
         7922
        ],
        [
         "tt0000011",
         5.2,
         418
        ],
        [
         "tt0000012",
         7.4,
         13447
        ],
        [
         "tt0000013",
         5.7,
         2064
        ],
        [
         "tt0000014",
         7.1,
         6138
        ],
        [
         "tt0000015",
         6.1,
         1271
        ],
        [
         "tt0000016",
         5.9,
         1656
        ],
        [
         "tt0000017",
         4.6,
         379
        ],
        [
         "tt0000018",
         5.2,
         662
        ],
        [
         "tt0000019",
         5.2,
         35
        ],
        [
         "tt0000020",
         4.7,
         410
        ],
        [
         "tt0000022",
         5.1,
         1209
        ],
        [
         "tt0000023",
         5.7,
         1584
        ],
        [
         "tt0000024",
         3.7,
         158
        ],
        [
         "tt0000025",
         4.2,
         51
        ],
        [
         "tt0000026",
         5.6,
         1674
        ],
        [
         "tt0000027",
         5.6,
         1270
        ],
        [
         "tt0000028",
         5.1,
         1197
        ],
        [
         "tt0000029",
         5.9,
         3668
        ],
        [
         "tt0000030",
         5.2,
         960
        ],
        [
         "tt0000031",
         5.5,
         1095
        ],
        [
         "tt0000032",
         4.9,
         461
        ],
        [
         "tt0000033",
         5.5,
         1132
        ],
        [
         "tt0000034",
         4.8,
         253
        ],
        [
         "tt0000035",
         5.5,
         88
        ],
        [
         "tt0000036",
         4.4,
         654
        ],
        [
         "tt0000037",
         4.5,
         80
        ],
        [
         "tt0000038",
         4.1,
         232
        ],
        [
         "tt0000039",
         3.9,
         36
        ],
        [
         "tt0000040",
         4.2,
         82
        ],
        [
         "tt0000041",
         6.7,
         2111
        ],
        [
         "tt0000042",
         4.0,
         42
        ],
        [
         "tt0000043",
         3.9,
         36
        ],
        [
         "tt0000044",
         4.1,
         57
        ],
        [
         "tt0000045",
         4.2,
         37
        ],
        [
         "tt0000046",
         4.3,
         42
        ],
        [
         "tt0000047",
         3.9,
         41
        ],
        [
         "tt0000048",
         4.7,
         234
        ],
        [
         "tt0000049",
         4.9,
         57
        ],
        [
         "tt0000050",
         4.3,
         38
        ],
        [
         "tt0000051",
         3.5,
         39
        ]
       ],
       "datasetInfos": [],
       "dbfsResultPath": null,
       "isJsonSchema": true,
       "metadata": {},
       "overflow": false,
       "plotOptions": {
        "customPlotOptions": {},
        "displayType": "table",
        "pivotAggregation": null,
        "pivotColumns": null,
        "xColumns": null,
        "yColumns": null
       },
       "removedWidgets": [],
       "schema": [
        {
         "metadata": "{}",
         "name": "tconst",
         "type": "\"string\""
        },
        {
         "metadata": "{}",
         "name": "averageRating",
         "type": "\"double\""
        },
        {
         "metadata": "{}",
         "name": "numVotes",
         "type": "\"long\""
        }
       ],
       "type": "table"
      }
     },
     "output_type": "display_data"
    }
   ],
   "source": [
    "%sql\n",
    "SELECT *\n",
    "FROM silver.title_ratings LIMIT 50;"
   ]
  },
  {
   "cell_type": "code",
   "execution_count": 0,
   "metadata": {
    "application/vnd.databricks.v1+cell": {
     "cellMetadata": {
      "byteLimit": 2048000,
      "implicitDf": true,
      "rowLimit": 10000
     },
     "inputWidgets": {},
     "nuid": "7f2ced6f-1300-47b7-9f53-9715de6060f9",
     "showTitle": true,
     "tableResultSettingsMap": {},
     "title": "Verificar valores nulos ou ausentes em tconst"
    }
   },
   "outputs": [
    {
     "output_type": "display_data",
     "data": {
      "text/html": [
       "<style scoped>\n",
       "  .table-result-container {\n",
       "    max-height: 300px;\n",
       "    overflow: auto;\n",
       "  }\n",
       "  table, th, td {\n",
       "    border: 1px solid black;\n",
       "    border-collapse: collapse;\n",
       "  }\n",
       "  th, td {\n",
       "    padding: 5px;\n",
       "  }\n",
       "  th {\n",
       "    text-align: left;\n",
       "  }\n",
       "</style><div class='table-result-container'><table class='table-result'><thead style='background-color: white'><tr><th>count(1)</th></tr></thead><tbody><tr><td>0</td></tr></tbody></table></div>"
      ]
     },
     "metadata": {
      "application/vnd.databricks.v1+output": {
       "addedWidgets": {},
       "aggData": [],
       "aggError": "",
       "aggOverflow": false,
       "aggSchema": [],
       "aggSeriesLimitReached": false,
       "aggType": "",
       "arguments": {},
       "columnCustomDisplayInfos": {},
       "data": [
        [
         0
        ]
       ],
       "datasetInfos": [],
       "dbfsResultPath": null,
       "isJsonSchema": true,
       "metadata": {},
       "overflow": false,
       "plotOptions": {
        "customPlotOptions": {},
        "displayType": "table",
        "pivotAggregation": null,
        "pivotColumns": null,
        "xColumns": null,
        "yColumns": null
       },
       "removedWidgets": [],
       "schema": [
        {
         "metadata": "{\"__autoGeneratedAlias\":\"true\"}",
         "name": "count(1)",
         "type": "\"long\""
        }
       ],
       "type": "table"
      }
     },
     "output_type": "display_data"
    }
   ],
   "source": [
    "%sql\n",
    "SELECT COUNT(*)\n",
    "FROM silver.title_ratings\n",
    "WHERE tconst IS NULL OR TRIM(tconst) = '' OR tconst = '\\\\N';"
   ]
  },
  {
   "cell_type": "markdown",
   "metadata": {
    "application/vnd.databricks.v1+cell": {
     "cellMetadata": {
      "byteLimit": 2048000,
      "rowLimit": 10000
     },
     "inputWidgets": {},
     "nuid": "cbadc248-dbba-40cd-b456-e9cb0ef25db8",
     "showTitle": false,
     "tableResultSettingsMap": {},
     "title": ""
    }
   },
   "source": [
    "Não há valores nulos em tconst"
   ]
  },
  {
   "cell_type": "code",
   "execution_count": 0,
   "metadata": {
    "application/vnd.databricks.v1+cell": {
     "cellMetadata": {
      "byteLimit": 2048000,
      "implicitDf": true,
      "rowLimit": 10000
     },
     "inputWidgets": {},
     "nuid": "def09ee5-5c7f-4fd8-886e-1054a861c2cb",
     "showTitle": true,
     "tableResultSettingsMap": {},
     "title": "Verificar valores nulos ou ausentes em averageRating"
    }
   },
   "outputs": [
    {
     "output_type": "display_data",
     "data": {
      "text/html": [
       "<style scoped>\n",
       "  .table-result-container {\n",
       "    max-height: 300px;\n",
       "    overflow: auto;\n",
       "  }\n",
       "  table, th, td {\n",
       "    border: 1px solid black;\n",
       "    border-collapse: collapse;\n",
       "  }\n",
       "  th, td {\n",
       "    padding: 5px;\n",
       "  }\n",
       "  th {\n",
       "    text-align: left;\n",
       "  }\n",
       "</style><div class='table-result-container'><table class='table-result'><thead style='background-color: white'><tr><th>count(1)</th></tr></thead><tbody><tr><td>0</td></tr></tbody></table></div>"
      ]
     },
     "metadata": {
      "application/vnd.databricks.v1+output": {
       "addedWidgets": {},
       "aggData": [],
       "aggError": "",
       "aggOverflow": false,
       "aggSchema": [],
       "aggSeriesLimitReached": false,
       "aggType": "",
       "arguments": {},
       "columnCustomDisplayInfos": {},
       "data": [
        [
         0
        ]
       ],
       "datasetInfos": [],
       "dbfsResultPath": null,
       "isJsonSchema": true,
       "metadata": {},
       "overflow": false,
       "plotOptions": {
        "customPlotOptions": {},
        "displayType": "table",
        "pivotAggregation": null,
        "pivotColumns": null,
        "xColumns": null,
        "yColumns": null
       },
       "removedWidgets": [],
       "schema": [
        {
         "metadata": "{\"__autoGeneratedAlias\":\"true\"}",
         "name": "count(1)",
         "type": "\"long\""
        }
       ],
       "type": "table"
      }
     },
     "output_type": "display_data"
    }
   ],
   "source": [
    "%sql\n",
    "SELECT COUNT(*)\n",
    "FROM silver.title_ratings\n",
    "WHERE averageRating IS NULL OR TRIM(averageRating) = '';"
   ]
  },
  {
   "cell_type": "markdown",
   "metadata": {
    "application/vnd.databricks.v1+cell": {
     "cellMetadata": {
      "byteLimit": 2048000,
      "rowLimit": 10000
     },
     "inputWidgets": {},
     "nuid": "117710ad-c61b-4619-b4dd-5171bf75a04a",
     "showTitle": false,
     "tableResultSettingsMap": {},
     "title": ""
    }
   },
   "source": [
    "Não há valores nulos em avarageRating"
   ]
  },
  {
   "cell_type": "code",
   "execution_count": 0,
   "metadata": {
    "application/vnd.databricks.v1+cell": {
     "cellMetadata": {
      "byteLimit": 2048000,
      "implicitDf": true,
      "rowLimit": 10000
     },
     "inputWidgets": {},
     "nuid": "b89d0bc6-2bf4-4e09-b3cb-7593e3b96e7b",
     "showTitle": true,
     "tableResultSettingsMap": {},
     "title": "Verificar valores nulos ou ausentes em numVotes"
    }
   },
   "outputs": [
    {
     "output_type": "display_data",
     "data": {
      "text/html": [
       "<style scoped>\n",
       "  .table-result-container {\n",
       "    max-height: 300px;\n",
       "    overflow: auto;\n",
       "  }\n",
       "  table, th, td {\n",
       "    border: 1px solid black;\n",
       "    border-collapse: collapse;\n",
       "  }\n",
       "  th, td {\n",
       "    padding: 5px;\n",
       "  }\n",
       "  th {\n",
       "    text-align: left;\n",
       "  }\n",
       "</style><div class='table-result-container'><table class='table-result'><thead style='background-color: white'><tr><th>count(1)</th></tr></thead><tbody><tr><td>0</td></tr></tbody></table></div>"
      ]
     },
     "metadata": {
      "application/vnd.databricks.v1+output": {
       "addedWidgets": {},
       "aggData": [],
       "aggError": "",
       "aggOverflow": false,
       "aggSchema": [],
       "aggSeriesLimitReached": false,
       "aggType": "",
       "arguments": {},
       "columnCustomDisplayInfos": {},
       "data": [
        [
         0
        ]
       ],
       "datasetInfos": [],
       "dbfsResultPath": null,
       "isJsonSchema": true,
       "metadata": {},
       "overflow": false,
       "plotOptions": {
        "customPlotOptions": {},
        "displayType": "table",
        "pivotAggregation": null,
        "pivotColumns": null,
        "xColumns": null,
        "yColumns": null
       },
       "removedWidgets": [],
       "schema": [
        {
         "metadata": "{\"__autoGeneratedAlias\":\"true\"}",
         "name": "count(1)",
         "type": "\"long\""
        }
       ],
       "type": "table"
      }
     },
     "output_type": "display_data"
    }
   ],
   "source": [
    "%sql\n",
    "SELECT COUNT(*)\n",
    "FROM silver.title_ratings\n",
    "WHERE numVotes IS NULL OR TRIM(numVotes) = '';"
   ]
  },
  {
   "cell_type": "markdown",
   "metadata": {
    "application/vnd.databricks.v1+cell": {
     "cellMetadata": {
      "byteLimit": 2048000,
      "rowLimit": 10000
     },
     "inputWidgets": {},
     "nuid": "2e851c02-0164-45df-8b1f-85c206027efa",
     "showTitle": false,
     "tableResultSettingsMap": {},
     "title": ""
    }
   },
   "source": [
    "Não há valores nulos em numVotes"
   ]
  },
  {
   "cell_type": "code",
   "execution_count": 0,
   "metadata": {
    "application/vnd.databricks.v1+cell": {
     "cellMetadata": {
      "byteLimit": 2048000,
      "implicitDf": true,
      "rowLimit": 10000
     },
     "inputWidgets": {},
     "nuid": "71e55a01-6fce-400d-9fbc-1f25be4745ec",
     "showTitle": true,
     "tableResultSettingsMap": {},
     "title": "Verificar notas fora do intervalo esperado (0 a 10)"
    }
   },
   "outputs": [
    {
     "output_type": "display_data",
     "data": {
      "text/html": [
       "<style scoped>\n",
       "  .table-result-container {\n",
       "    max-height: 300px;\n",
       "    overflow: auto;\n",
       "  }\n",
       "  table, th, td {\n",
       "    border: 1px solid black;\n",
       "    border-collapse: collapse;\n",
       "  }\n",
       "  th, td {\n",
       "    padding: 5px;\n",
       "  }\n",
       "  th {\n",
       "    text-align: left;\n",
       "  }\n",
       "</style><div class='table-result-container'><table class='table-result'><thead style='background-color: white'><tr><th>count(1)</th></tr></thead><tbody><tr><td>0</td></tr></tbody></table></div>"
      ]
     },
     "metadata": {
      "application/vnd.databricks.v1+output": {
       "addedWidgets": {},
       "aggData": [],
       "aggError": "",
       "aggOverflow": false,
       "aggSchema": [],
       "aggSeriesLimitReached": false,
       "aggType": "",
       "arguments": {},
       "columnCustomDisplayInfos": {},
       "data": [
        [
         0
        ]
       ],
       "datasetInfos": [],
       "dbfsResultPath": null,
       "isJsonSchema": true,
       "metadata": {},
       "overflow": false,
       "plotOptions": {
        "customPlotOptions": {},
        "displayType": "table",
        "pivotAggregation": null,
        "pivotColumns": null,
        "xColumns": null,
        "yColumns": null
       },
       "removedWidgets": [],
       "schema": [
        {
         "metadata": "{\"__autoGeneratedAlias\":\"true\"}",
         "name": "count(1)",
         "type": "\"long\""
        }
       ],
       "type": "table"
      }
     },
     "output_type": "display_data"
    }
   ],
   "source": [
    "%sql\n",
    "SELECT COUNT(*)\n",
    "FROM silver.title_ratings\n",
    "WHERE averageRating < 0 OR averageRating > 10;"
   ]
  },
  {
   "cell_type": "markdown",
   "metadata": {
    "application/vnd.databricks.v1+cell": {
     "cellMetadata": {
      "byteLimit": 2048000,
      "rowLimit": 10000
     },
     "inputWidgets": {},
     "nuid": "3d6b2171-a311-4464-b801-2c13fc9e8577",
     "showTitle": false,
     "tableResultSettingsMap": {},
     "title": ""
    }
   },
   "source": [
    "Não há notas fora do intervalo de 0 a 10"
   ]
  },
  {
   "cell_type": "code",
   "execution_count": 0,
   "metadata": {
    "application/vnd.databricks.v1+cell": {
     "cellMetadata": {
      "byteLimit": 2048000,
      "implicitDf": true,
      "rowLimit": 10000
     },
     "inputWidgets": {},
     "nuid": "0480a358-2b82-4890-9fcf-5354e267e3fb",
     "showTitle": true,
     "tableResultSettingsMap": {},
     "title": "Verificar filmes com número de votos zero"
    }
   },
   "outputs": [
    {
     "output_type": "display_data",
     "data": {
      "text/html": [
       "<style scoped>\n",
       "  .table-result-container {\n",
       "    max-height: 300px;\n",
       "    overflow: auto;\n",
       "  }\n",
       "  table, th, td {\n",
       "    border: 1px solid black;\n",
       "    border-collapse: collapse;\n",
       "  }\n",
       "  th, td {\n",
       "    padding: 5px;\n",
       "  }\n",
       "  th {\n",
       "    text-align: left;\n",
       "  }\n",
       "</style><div class='table-result-container'><table class='table-result'><thead style='background-color: white'><tr><th>count(1)</th></tr></thead><tbody><tr><td>0</td></tr></tbody></table></div>"
      ]
     },
     "metadata": {
      "application/vnd.databricks.v1+output": {
       "addedWidgets": {},
       "aggData": [],
       "aggError": "",
       "aggOverflow": false,
       "aggSchema": [],
       "aggSeriesLimitReached": false,
       "aggType": "",
       "arguments": {},
       "columnCustomDisplayInfos": {},
       "data": [
        [
         0
        ]
       ],
       "datasetInfos": [],
       "dbfsResultPath": null,
       "isJsonSchema": true,
       "metadata": {},
       "overflow": false,
       "plotOptions": {
        "customPlotOptions": {},
        "displayType": "table",
        "pivotAggregation": null,
        "pivotColumns": null,
        "xColumns": null,
        "yColumns": null
       },
       "removedWidgets": [],
       "schema": [
        {
         "metadata": "{\"__autoGeneratedAlias\":\"true\"}",
         "name": "count(1)",
         "type": "\"long\""
        }
       ],
       "type": "table"
      }
     },
     "output_type": "display_data"
    }
   ],
   "source": [
    "%sql\n",
    "SELECT COUNT(*)\n",
    "FROM silver.title_ratings\n",
    "WHERE numVotes = 0;"
   ]
  },
  {
   "cell_type": "markdown",
   "metadata": {
    "application/vnd.databricks.v1+cell": {
     "cellMetadata": {
      "byteLimit": 2048000,
      "rowLimit": 10000
     },
     "inputWidgets": {},
     "nuid": "5935fa7c-9970-4b6e-bb82-d6e7e3658c42",
     "showTitle": false,
     "tableResultSettingsMap": {},
     "title": ""
    }
   },
   "source": [
    "Não há filmes com 0 número de votos"
   ]
  },
  {
   "cell_type": "code",
   "execution_count": 0,
   "metadata": {
    "application/vnd.databricks.v1+cell": {
     "cellMetadata": {
      "byteLimit": 2048000,
      "implicitDf": true,
      "rowLimit": 10000
     },
     "inputWidgets": {},
     "nuid": "29e648c1-16d8-4c56-9467-5f7e98dda1d5",
     "showTitle": true,
     "tableResultSettingsMap": {},
     "title": "Comparar tconst com a silver.title_basics"
    }
   },
   "outputs": [
    {
     "output_type": "display_data",
     "data": {
      "text/html": [
       "<style scoped>\n",
       "  .table-result-container {\n",
       "    max-height: 300px;\n",
       "    overflow: auto;\n",
       "  }\n",
       "  table, th, td {\n",
       "    border: 1px solid black;\n",
       "    border-collapse: collapse;\n",
       "  }\n",
       "  th, td {\n",
       "    padding: 5px;\n",
       "  }\n",
       "  th {\n",
       "    text-align: left;\n",
       "  }\n",
       "</style><div class='table-result-container'><table class='table-result'><thead style='background-color: white'><tr><th>count(1)</th></tr></thead><tbody><tr><td>33294</td></tr></tbody></table></div>"
      ]
     },
     "metadata": {
      "application/vnd.databricks.v1+output": {
       "addedWidgets": {},
       "aggData": [],
       "aggError": "",
       "aggOverflow": false,
       "aggSchema": [],
       "aggSeriesLimitReached": false,
       "aggType": "",
       "arguments": {},
       "columnCustomDisplayInfos": {},
       "data": [
        [
         33294
        ]
       ],
       "datasetInfos": [],
       "dbfsResultPath": null,
       "isJsonSchema": true,
       "metadata": {},
       "overflow": false,
       "plotOptions": {
        "customPlotOptions": {},
        "displayType": "table",
        "pivotAggregation": null,
        "pivotColumns": null,
        "xColumns": null,
        "yColumns": null
       },
       "removedWidgets": [],
       "schema": [
        {
         "metadata": "{\"__autoGeneratedAlias\":\"true\"}",
         "name": "count(1)",
         "type": "\"long\""
        }
       ],
       "type": "table"
      }
     },
     "output_type": "display_data"
    }
   ],
   "source": [
    "%sql\n",
    "SELECT COUNT(*)\n",
    "FROM silver.title_ratings r\n",
    "LEFT JOIN silver.title_basics b ON r.tconst = b.tconst\n",
    "WHERE b.tconst IS NULL;"
   ]
  },
  {
   "cell_type": "markdown",
   "metadata": {
    "application/vnd.databricks.v1+cell": {
     "cellMetadata": {
      "byteLimit": 2048000,
      "rowLimit": 10000
     },
     "inputWidgets": {},
     "nuid": "5488424c-e692-4a49-83b0-105205f80df4",
     "showTitle": false,
     "tableResultSettingsMap": {},
     "title": ""
    }
   },
   "source": [
    "Verificando a correspondência dos títulos nas duas tabelas com o comando JOIN."
   ]
  },
  {
   "cell_type": "markdown",
   "metadata": {
    "application/vnd.databricks.v1+cell": {
     "cellMetadata": {
      "byteLimit": 2048000,
      "rowLimit": 10000
     },
     "inputWidgets": {},
     "nuid": "6122bbc4-9a2c-4ad7-b357-8d9203296787",
     "showTitle": false,
     "tableResultSettingsMap": {},
     "title": ""
    }
   },
   "source": [
    "As duas tabelas serão mergidas usando o comando JOIN pelo valor tconst"
   ]
  },
  {
   "cell_type": "code",
   "execution_count": 0,
   "metadata": {
    "application/vnd.databricks.v1+cell": {
     "cellMetadata": {
      "byteLimit": 2048000,
      "implicitDf": true,
      "rowLimit": 10000
     },
     "inputWidgets": {},
     "nuid": "a3b6a0e1-d0a9-4600-8a91-86f564f76a15",
     "showTitle": false,
     "tableResultSettingsMap": {},
     "title": ""
    }
   },
   "outputs": [
    {
     "output_type": "display_data",
     "data": {
      "text/html": [
       "<style scoped>\n",
       "  .table-result-container {\n",
       "    max-height: 300px;\n",
       "    overflow: auto;\n",
       "  }\n",
       "  table, th, td {\n",
       "    border: 1px solid black;\n",
       "    border-collapse: collapse;\n",
       "  }\n",
       "  th, td {\n",
       "    padding: 5px;\n",
       "  }\n",
       "  th {\n",
       "    text-align: left;\n",
       "  }\n",
       "</style><div class='table-result-container'><table class='table-result'><thead style='background-color: white'><tr><th>num_affected_rows</th><th>num_inserted_rows</th></tr></thead><tbody></tbody></table></div>"
      ]
     },
     "metadata": {
      "application/vnd.databricks.v1+output": {
       "addedWidgets": {},
       "aggData": [],
       "aggError": "",
       "aggOverflow": false,
       "aggSchema": [],
       "aggSeriesLimitReached": false,
       "aggType": "",
       "arguments": {},
       "columnCustomDisplayInfos": {},
       "data": [],
       "datasetInfos": [],
       "dbfsResultPath": null,
       "isJsonSchema": true,
       "metadata": {},
       "overflow": false,
       "plotOptions": {
        "customPlotOptions": {},
        "displayType": "table",
        "pivotAggregation": null,
        "pivotColumns": null,
        "xColumns": null,
        "yColumns": null
       },
       "removedWidgets": [],
       "schema": [
        {
         "metadata": "{}",
         "name": "num_affected_rows",
         "type": "\"long\""
        },
        {
         "metadata": "{}",
         "name": "num_inserted_rows",
         "type": "\"long\""
        }
       ],
       "type": "table"
      }
     },
     "output_type": "display_data"
    }
   ],
   "source": [
    "%sql\n",
    "CREATE TABLE silver.title_joined AS\n",
    "SELECT \n",
    "    b.tconst,\n",
    "    b.primaryTitle,\n",
    "    b.titleType,\n",
    "    b.startYear,\n",
    "    b.genre,\n",
    "    r.averageRating,\n",
    "    r.numVotes\n",
    "FROM \n",
    "    silver.title_basics b\n",
    "JOIN \n",
    "    silver.title_ratings r\n",
    "ON \n",
    "    b.tconst = r.tconst;\n"
   ]
  },
  {
   "cell_type": "code",
   "execution_count": 0,
   "metadata": {
    "application/vnd.databricks.v1+cell": {
     "cellMetadata": {
      "byteLimit": 2048000,
      "implicitDf": true,
      "rowLimit": 10000
     },
     "inputWidgets": {},
     "nuid": "c112d4d9-ba83-4630-815a-c33692337f8a",
     "showTitle": false,
     "tableResultSettingsMap": {},
     "title": ""
    }
   },
   "outputs": [
    {
     "output_type": "display_data",
     "data": {
      "text/html": [
       "<style scoped>\n",
       "  .table-result-container {\n",
       "    max-height: 300px;\n",
       "    overflow: auto;\n",
       "  }\n",
       "  table, th, td {\n",
       "    border: 1px solid black;\n",
       "    border-collapse: collapse;\n",
       "  }\n",
       "  th, td {\n",
       "    padding: 5px;\n",
       "  }\n",
       "  th {\n",
       "    text-align: left;\n",
       "  }\n",
       "</style><div class='table-result-container'><table class='table-result'><thead style='background-color: white'><tr><th>tconst</th><th>primaryTitle</th><th>titleType</th><th>startYear</th><th>genre</th><th>averageRating</th><th>numVotes</th></tr></thead><tbody><tr><td>tt0000008</td><td>Edison Kinetoscopic Record of a Sneeze</td><td>short</td><td>1894</td><td>Documentary</td><td>5.4</td><td>2292</td></tr><tr><td>tt0000008</td><td>Edison Kinetoscopic Record of a Sneeze</td><td>short</td><td>1894</td><td>Short</td><td>5.4</td><td>2292</td></tr><tr><td>tt0000015</td><td>Around a Cabin</td><td>short</td><td>1894</td><td>Animation</td><td>6.1</td><td>1271</td></tr><tr><td>tt0000015</td><td>Around a Cabin</td><td>short</td><td>1894</td><td>Comedy</td><td>6.1</td><td>1271</td></tr><tr><td>tt0000015</td><td>Around a Cabin</td><td>short</td><td>1894</td><td>Short</td><td>6.1</td><td>1271</td></tr><tr><td>tt0000017</td><td>Italienischer Bauerntanz</td><td>short</td><td>1895</td><td>Documentary</td><td>4.6</td><td>379</td></tr><tr><td>tt0000017</td><td>Italienischer Bauerntanz</td><td>short</td><td>1895</td><td>Short</td><td>4.6</td><td>379</td></tr><tr><td>tt0000019</td><td>The Clown Barber</td><td>short</td><td>1898</td><td>Comedy</td><td>5.2</td><td>35</td></tr><tr><td>tt0000019</td><td>The Clown Barber</td><td>short</td><td>1898</td><td>Short</td><td>5.2</td><td>35</td></tr><tr><td>tt0000051</td><td>The Bohemian Encampment</td><td>short</td><td>1896</td><td>Documentary</td><td>3.5</td><td>39</td></tr><tr><td>tt0000051</td><td>The Bohemian Encampment</td><td>short</td><td>1896</td><td>Short</td><td>3.5</td><td>39</td></tr><tr><td>tt0000058</td><td>Cortège de tzar au Bois de Boulogne</td><td>short</td><td>1896</td><td>Documentary</td><td>4.4</td><td>37</td></tr><tr><td>tt0000058</td><td>Cortège de tzar au Bois de Boulogne</td><td>short</td><td>1896</td><td>Short</td><td>4.4</td><td>37</td></tr><tr><td>tt0000065</td><td>Dessinateur: Reine Victoria</td><td>short</td><td>1896</td><td>Short</td><td>3.5</td><td>33</td></tr><tr><td>tt0000095</td><td>The Mysterious Paper</td><td>short</td><td>1896</td><td>Short</td><td>4.8</td><td>38</td></tr><tr><td>tt0000108</td><td>Rip Leaving Sleepy Hollow</td><td>short</td><td>1896</td><td>Drama</td><td>4.4</td><td>588</td></tr><tr><td>tt0000108</td><td>Rip Leaving Sleepy Hollow</td><td>short</td><td>1896</td><td>Short</td><td>4.4</td><td>588</td></tr><tr><td>tt0000142</td><td>Buffalo Bill and Escort</td><td>short</td><td>1897</td><td>News</td><td>5.0</td><td>34</td></tr><tr><td>tt0000142</td><td>Buffalo Bill and Escort</td><td>short</td><td>1897</td><td>Short</td><td>5.0</td><td>34</td></tr><tr><td>tt0000145</td><td>En classe</td><td>short</td><td>1897</td><td>Comedy</td><td>3.9</td><td>16</td></tr><tr><td>tt0000145</td><td>En classe</td><td>short</td><td>1897</td><td>Short</td><td>3.9</td><td>16</td></tr><tr><td>tt0000146</td><td>Le cocher de fiacre endormi</td><td>short</td><td>1897</td><td>Comedy</td><td>4.8</td><td>29</td></tr><tr><td>tt0000146</td><td>Le cocher de fiacre endormi</td><td>short</td><td>1897</td><td>Short</td><td>4.8</td><td>29</td></tr><tr><td>tt0000169</td><td>Slagsmål i gamla Stockholm</td><td>short</td><td>1897</td><td>Short</td><td>4.0</td><td>63</td></tr><tr><td>tt0000172</td><td>The X-Ray Fiend</td><td>short</td><td>1897</td><td>Comedy</td><td>6.0</td><td>1144</td></tr><tr><td>tt0000172</td><td>The X-Ray Fiend</td><td>short</td><td>1897</td><td>Horror</td><td>6.0</td><td>1144</td></tr><tr><td>tt0000172</td><td>The X-Ray Fiend</td><td>short</td><td>1897</td><td>Short</td><td>6.0</td><td>1144</td></tr><tr><td>tt0000174</td><td>Výstavní párkar a lepic plakátù</td><td>short</td><td>1898</td><td>Comedy</td><td>4.5</td><td>148</td></tr><tr><td>tt0000174</td><td>Výstavní párkar a lepic plakátù</td><td>short</td><td>1898</td><td>Short</td><td>4.5</td><td>148</td></tr><tr><td>tt0000175</td><td>A Sea Cave Near Lisbon</td><td>short</td><td>1896</td><td>Documentary</td><td>4.9</td><td>257</td></tr><tr><td>tt0000175</td><td>A Sea Cave Near Lisbon</td><td>short</td><td>1896</td><td>Short</td><td>4.9</td><td>257</td></tr><tr><td>tt0000186</td><td>Le cuirassé Maine</td><td>short</td><td>1898</td><td>Short</td><td>4.6</td><td>27</td></tr><tr><td>tt0000186</td><td>Le cuirassé Maine</td><td>short</td><td>1898</td><td>War</td><td>4.6</td><td>27</td></tr><tr><td>tt0000188</td><td>The Deserter</td><td>short</td><td>1898</td><td>Drama</td><td>4.3</td><td>14</td></tr><tr><td>tt0000188</td><td>The Deserter</td><td>short</td><td>1898</td><td>Short</td><td>4.3</td><td>14</td></tr><tr><td>tt0000195</td><td>Les farces de Jocko</td><td>short</td><td>1898</td><td>Comedy</td><td>5.4</td><td>12</td></tr><tr><td>tt0000195</td><td>Les farces de Jocko</td><td>short</td><td>1898</td><td>Short</td><td>5.4</td><td>12</td></tr><tr><td>tt0000212</td><td>Saida do Paquete Duque de Braganca</td><td>short</td><td>1898</td><td>Short</td><td>5.4</td><td>11</td></tr><tr><td>tt0000214</td><td>Tearing Down the Spanish Flag</td><td>short</td><td>1898</td><td>Short</td><td>4.0</td><td>124</td></tr><tr><td>tt0000214</td><td>Tearing Down the Spanish Flag</td><td>short</td><td>1898</td><td>War</td><td>4.0</td><td>124</td></tr><tr><td>tt0000242</td><td>The Sign of the Cross</td><td>short</td><td>1899</td><td>Fantasy</td><td>6.4</td><td>1452</td></tr><tr><td>tt0000242</td><td>The Sign of the Cross</td><td>short</td><td>1899</td><td>Horror</td><td>6.4</td><td>1452</td></tr><tr><td>tt0000242</td><td>The Sign of the Cross</td><td>short</td><td>1899</td><td>Short</td><td>6.4</td><td>1452</td></tr><tr><td>tt0000264</td><td>Summoning the Spirits</td><td>short</td><td>1899</td><td>Fantasy</td><td>5.7</td><td>524</td></tr><tr><td>tt0000264</td><td>Summoning the Spirits</td><td>short</td><td>1899</td><td>Horror</td><td>5.7</td><td>524</td></tr><tr><td>tt0000264</td><td>Summoning the Spirits</td><td>short</td><td>1899</td><td>Short</td><td>5.7</td><td>524</td></tr><tr><td>tt0000302</td><td>La fée aux choux, ou la naissance des enfants</td><td>short</td><td>1900</td><td>Short</td><td>5.3</td><td>325</td></tr><tr><td>tt0000305</td><td>L'Habanera</td><td>short</td><td>1900</td><td>Short</td><td>5.8</td><td>12</td></tr><tr><td>tt0000337</td><td>Spanish Bullfight</td><td>short</td><td>1900</td><td>Short</td><td>4.9</td><td>394</td></tr><tr><td>tt0000337</td><td>Spanish Bullfight</td><td>short</td><td>1900</td><td>Sport</td><td>4.9</td><td>394</td></tr><tr><td>tt0000357</td><td>The Haunted Curiosity Shop</td><td>short</td><td>1901</td><td>Comedy</td><td>5.8</td><td>548</td></tr><tr><td>tt0000357</td><td>The Haunted Curiosity Shop</td><td>short</td><td>1901</td><td>Fantasy</td><td>5.8</td><td>548</td></tr><tr><td>tt0000357</td><td>The Haunted Curiosity Shop</td><td>short</td><td>1901</td><td>Horror</td><td>5.8</td><td>548</td></tr><tr><td>tt0000358</td><td>History of a Crime</td><td>short</td><td>1901</td><td>Crime</td><td>6.1</td><td>832</td></tr><tr><td>tt0000358</td><td>History of a Crime</td><td>short</td><td>1901</td><td>Drama</td><td>6.1</td><td>832</td></tr><tr><td>tt0000358</td><td>History of a Crime</td><td>short</td><td>1901</td><td>Short</td><td>6.1</td><td>832</td></tr><tr><td>tt0000376</td><td>A táncz</td><td>short</td><td>1901</td><td>Documentary</td><td>6.1</td><td>26</td></tr><tr><td>tt0000376</td><td>A táncz</td><td>short</td><td>1901</td><td>Short</td><td>6.1</td><td>26</td></tr><tr><td>tt0000379</td><td>Visita de la escuadra inglesa a Barcelona</td><td>short</td><td>1901</td><td>Documentary</td><td>4.3</td><td>16</td></tr><tr><td>tt0000379</td><td>Visita de la escuadra inglesa a Barcelona</td><td>short</td><td>1901</td><td>Short</td><td>4.3</td><td>16</td></tr><tr><td>tt0000400</td><td>Le lion savant</td><td>short</td><td>1902</td><td>Comedy</td><td>6.0</td><td>20</td></tr><tr><td>tt0000400</td><td>Le lion savant</td><td>short</td><td>1902</td><td>Short</td><td>6.0</td><td>20</td></tr><tr><td>tt0000401</td><td>Le marchand de ballons</td><td>short</td><td>1902</td><td>Comedy</td><td>5.2</td><td>10</td></tr><tr><td>tt0000401</td><td>Le marchand de ballons</td><td>short</td><td>1902</td><td>Short</td><td>5.2</td><td>10</td></tr><tr><td>tt0000409</td><td>Midwife to the Upper Classes</td><td>short</td><td>1902</td><td>Comedy</td><td>5.1</td><td>304</td></tr><tr><td>tt0000409</td><td>Midwife to the Upper Classes</td><td>short</td><td>1902</td><td>Short</td><td>5.1</td><td>304</td></tr><tr><td>tt0000422</td><td>Les aventures d'un voyageur trop pressé</td><td>short</td><td>1903</td><td>Short</td><td>5.7</td><td>12</td></tr><tr><td>tt0000423</td><td>The Enchanted Box</td><td>short</td><td>1903</td><td>Fantasy</td><td>5.5</td><td>280</td></tr><tr><td>tt0000423</td><td>The Enchanted Box</td><td>short</td><td>1903</td><td>Short</td><td>5.5</td><td>280</td></tr><tr><td>tt0000430</td><td>A Chess Dispute</td><td>short</td><td>1903</td><td>Comedy</td><td>5.8</td><td>753</td></tr><tr><td>tt0000430</td><td>A Chess Dispute</td><td>short</td><td>1903</td><td>Short</td><td>5.8</td><td>753</td></tr><tr><td>tt0000451</td><td>Mary Jane's Mishap</td><td>short</td><td>1903</td><td>Comedy</td><td>6.5</td><td>1123</td></tr><tr><td>tt0000451</td><td>Mary Jane's Mishap</td><td>short</td><td>1903</td><td>Short</td><td>6.5</td><td>1123</td></tr><tr><td>tt0000452</td><td>The Messenger Boy's Mistake</td><td>short</td><td>1903</td><td>Comedy</td><td>4.6</td><td>127</td></tr><tr><td>tt0000452</td><td>The Messenger Boy's Mistake</td><td>short</td><td>1903</td><td>Romance</td><td>4.6</td><td>127</td></tr><tr><td>tt0000452</td><td>The Messenger Boy's Mistake</td><td>short</td><td>1903</td><td>Short</td><td>4.6</td><td>127</td></tr><tr><td>tt0000492</td><td>Personal</td><td>short</td><td>1904</td><td>Comedy</td><td>4.8</td><td>161</td></tr><tr><td>tt0000492</td><td>Personal</td><td>short</td><td>1904</td><td>Short</td><td>4.8</td><td>161</td></tr><tr><td>tt0000497</td><td>A Railway Tragedy</td><td>short</td><td>1904</td><td>Crime</td><td>5.2</td><td>100</td></tr><tr><td>tt0000497</td><td>A Railway Tragedy</td><td>short</td><td>1904</td><td>Short</td><td>5.2</td><td>100</td></tr><tr><td>tt0000504</td><td>Coso y Paseo de Santa Engracia (Calles y plazas de Zaragoza)</td><td>short</td><td>1905</td><td>Documentary</td><td>5.2</td><td>9</td></tr><tr><td>tt0000504</td><td>Coso y Paseo de Santa Engracia (Calles y plazas de Zaragoza)</td><td>short</td><td>1905</td><td>Short</td><td>5.2</td><td>9</td></tr><tr><td>tt0000579</td><td>The Bandit Makes Good</td><td>short</td><td>1908</td><td>Short</td><td>5.0</td><td>20</td></tr><tr><td>tt0000579</td><td>The Bandit Makes Good</td><td>short</td><td>1908</td><td>Western</td><td>5.0</td><td>20</td></tr><tr><td>tt0000608</td><td>En ny hat til Madammen</td><td>short</td><td>1906</td><td>Comedy</td><td>5.9</td><td>29</td></tr><tr><td>tt0000608</td><td>En ny hat til Madammen</td><td>short</td><td>1906</td><td>Short</td><td>5.9</td><td>29</td></tr><tr><td>tt0000614</td><td>The Red Spectre</td><td>short</td><td>1907</td><td>Fantasy</td><td>6.5</td><td>1307</td></tr><tr><td>tt0000614</td><td>The Red Spectre</td><td>short</td><td>1907</td><td>Horror</td><td>6.5</td><td>1307</td></tr><tr><td>tt0000614</td><td>The Red Spectre</td><td>short</td><td>1907</td><td>Short</td><td>6.5</td><td>1307</td></tr><tr><td>tt0000618</td><td>Salaviinanpolttajat</td><td>short</td><td>1907</td><td>Comedy</td><td>8.2</td><td>19</td></tr><tr><td>tt0000618</td><td>Salaviinanpolttajat</td><td>short</td><td>1907</td><td>Short</td><td>8.2</td><td>19</td></tr><tr><td>tt0000621</td><td>That Fatal Sneeze</td><td>short</td><td>1907</td><td>Comedy</td><td>6.5</td><td>658</td></tr><tr><td>tt0000621</td><td>That Fatal Sneeze</td><td>short</td><td>1907</td><td>Fantasy</td><td>6.5</td><td>658</td></tr><tr><td>tt0000621</td><td>That Fatal Sneeze</td><td>short</td><td>1907</td><td>Short</td><td>6.5</td><td>658</td></tr><tr><td>tt0000644</td><td>Behind the Scenes</td><td>short</td><td>1908</td><td>Drama</td><td>5.4</td><td>66</td></tr><tr><td>tt0000644</td><td>Behind the Scenes</td><td>short</td><td>1908</td><td>Short</td><td>5.4</td><td>66</td></tr><tr><td>tt0000648</td><td>The Black Viper</td><td>short</td><td>1908</td><td>Drama</td><td>4.6</td><td>191</td></tr><tr><td>tt0000648</td><td>The Black Viper</td><td>short</td><td>1908</td><td>Short</td><td>4.6</td><td>191</td></tr><tr><td>tt0000658</td><td>The Puppet's Nightmare</td><td>short</td><td>1908</td><td>Animation</td><td>6.4</td><td>312</td></tr><tr><td>tt0000658</td><td>The Puppet's Nightmare</td><td>short</td><td>1908</td><td>Short</td><td>6.4</td><td>312</td></tr></tbody></table></div>"
      ]
     },
     "metadata": {
      "application/vnd.databricks.v1+output": {
       "addedWidgets": {},
       "aggData": [],
       "aggError": "",
       "aggOverflow": false,
       "aggSchema": [],
       "aggSeriesLimitReached": false,
       "aggType": "",
       "arguments": {},
       "columnCustomDisplayInfos": {},
       "data": [
        [
         "tt0000008",
         "Edison Kinetoscopic Record of a Sneeze",
         "short",
         "1894",
         "Documentary",
         5.4,
         2292
        ],
        [
         "tt0000008",
         "Edison Kinetoscopic Record of a Sneeze",
         "short",
         "1894",
         "Short",
         5.4,
         2292
        ],
        [
         "tt0000015",
         "Around a Cabin",
         "short",
         "1894",
         "Animation",
         6.1,
         1271
        ],
        [
         "tt0000015",
         "Around a Cabin",
         "short",
         "1894",
         "Comedy",
         6.1,
         1271
        ],
        [
         "tt0000015",
         "Around a Cabin",
         "short",
         "1894",
         "Short",
         6.1,
         1271
        ],
        [
         "tt0000017",
         "Italienischer Bauerntanz",
         "short",
         "1895",
         "Documentary",
         4.6,
         379
        ],
        [
         "tt0000017",
         "Italienischer Bauerntanz",
         "short",
         "1895",
         "Short",
         4.6,
         379
        ],
        [
         "tt0000019",
         "The Clown Barber",
         "short",
         "1898",
         "Comedy",
         5.2,
         35
        ],
        [
         "tt0000019",
         "The Clown Barber",
         "short",
         "1898",
         "Short",
         5.2,
         35
        ],
        [
         "tt0000051",
         "The Bohemian Encampment",
         "short",
         "1896",
         "Documentary",
         3.5,
         39
        ],
        [
         "tt0000051",
         "The Bohemian Encampment",
         "short",
         "1896",
         "Short",
         3.5,
         39
        ],
        [
         "tt0000058",
         "Cortège de tzar au Bois de Boulogne",
         "short",
         "1896",
         "Documentary",
         4.4,
         37
        ],
        [
         "tt0000058",
         "Cortège de tzar au Bois de Boulogne",
         "short",
         "1896",
         "Short",
         4.4,
         37
        ],
        [
         "tt0000065",
         "Dessinateur: Reine Victoria",
         "short",
         "1896",
         "Short",
         3.5,
         33
        ],
        [
         "tt0000095",
         "The Mysterious Paper",
         "short",
         "1896",
         "Short",
         4.8,
         38
        ],
        [
         "tt0000108",
         "Rip Leaving Sleepy Hollow",
         "short",
         "1896",
         "Drama",
         4.4,
         588
        ],
        [
         "tt0000108",
         "Rip Leaving Sleepy Hollow",
         "short",
         "1896",
         "Short",
         4.4,
         588
        ],
        [
         "tt0000142",
         "Buffalo Bill and Escort",
         "short",
         "1897",
         "News",
         5.0,
         34
        ],
        [
         "tt0000142",
         "Buffalo Bill and Escort",
         "short",
         "1897",
         "Short",
         5.0,
         34
        ],
        [
         "tt0000145",
         "En classe",
         "short",
         "1897",
         "Comedy",
         3.9,
         16
        ],
        [
         "tt0000145",
         "En classe",
         "short",
         "1897",
         "Short",
         3.9,
         16
        ],
        [
         "tt0000146",
         "Le cocher de fiacre endormi",
         "short",
         "1897",
         "Comedy",
         4.8,
         29
        ],
        [
         "tt0000146",
         "Le cocher de fiacre endormi",
         "short",
         "1897",
         "Short",
         4.8,
         29
        ],
        [
         "tt0000169",
         "Slagsmål i gamla Stockholm",
         "short",
         "1897",
         "Short",
         4.0,
         63
        ],
        [
         "tt0000172",
         "The X-Ray Fiend",
         "short",
         "1897",
         "Comedy",
         6.0,
         1144
        ],
        [
         "tt0000172",
         "The X-Ray Fiend",
         "short",
         "1897",
         "Horror",
         6.0,
         1144
        ],
        [
         "tt0000172",
         "The X-Ray Fiend",
         "short",
         "1897",
         "Short",
         6.0,
         1144
        ],
        [
         "tt0000174",
         "Výstavní párkar a lepic plakátù",
         "short",
         "1898",
         "Comedy",
         4.5,
         148
        ],
        [
         "tt0000174",
         "Výstavní párkar a lepic plakátù",
         "short",
         "1898",
         "Short",
         4.5,
         148
        ],
        [
         "tt0000175",
         "A Sea Cave Near Lisbon",
         "short",
         "1896",
         "Documentary",
         4.9,
         257
        ],
        [
         "tt0000175",
         "A Sea Cave Near Lisbon",
         "short",
         "1896",
         "Short",
         4.9,
         257
        ],
        [
         "tt0000186",
         "Le cuirassé Maine",
         "short",
         "1898",
         "Short",
         4.6,
         27
        ],
        [
         "tt0000186",
         "Le cuirassé Maine",
         "short",
         "1898",
         "War",
         4.6,
         27
        ],
        [
         "tt0000188",
         "The Deserter",
         "short",
         "1898",
         "Drama",
         4.3,
         14
        ],
        [
         "tt0000188",
         "The Deserter",
         "short",
         "1898",
         "Short",
         4.3,
         14
        ],
        [
         "tt0000195",
         "Les farces de Jocko",
         "short",
         "1898",
         "Comedy",
         5.4,
         12
        ],
        [
         "tt0000195",
         "Les farces de Jocko",
         "short",
         "1898",
         "Short",
         5.4,
         12
        ],
        [
         "tt0000212",
         "Saida do Paquete Duque de Braganca",
         "short",
         "1898",
         "Short",
         5.4,
         11
        ],
        [
         "tt0000214",
         "Tearing Down the Spanish Flag",
         "short",
         "1898",
         "Short",
         4.0,
         124
        ],
        [
         "tt0000214",
         "Tearing Down the Spanish Flag",
         "short",
         "1898",
         "War",
         4.0,
         124
        ],
        [
         "tt0000242",
         "The Sign of the Cross",
         "short",
         "1899",
         "Fantasy",
         6.4,
         1452
        ],
        [
         "tt0000242",
         "The Sign of the Cross",
         "short",
         "1899",
         "Horror",
         6.4,
         1452
        ],
        [
         "tt0000242",
         "The Sign of the Cross",
         "short",
         "1899",
         "Short",
         6.4,
         1452
        ],
        [
         "tt0000264",
         "Summoning the Spirits",
         "short",
         "1899",
         "Fantasy",
         5.7,
         524
        ],
        [
         "tt0000264",
         "Summoning the Spirits",
         "short",
         "1899",
         "Horror",
         5.7,
         524
        ],
        [
         "tt0000264",
         "Summoning the Spirits",
         "short",
         "1899",
         "Short",
         5.7,
         524
        ],
        [
         "tt0000302",
         "La fée aux choux, ou la naissance des enfants",
         "short",
         "1900",
         "Short",
         5.3,
         325
        ],
        [
         "tt0000305",
         "L'Habanera",
         "short",
         "1900",
         "Short",
         5.8,
         12
        ],
        [
         "tt0000337",
         "Spanish Bullfight",
         "short",
         "1900",
         "Short",
         4.9,
         394
        ],
        [
         "tt0000337",
         "Spanish Bullfight",
         "short",
         "1900",
         "Sport",
         4.9,
         394
        ],
        [
         "tt0000357",
         "The Haunted Curiosity Shop",
         "short",
         "1901",
         "Comedy",
         5.8,
         548
        ],
        [
         "tt0000357",
         "The Haunted Curiosity Shop",
         "short",
         "1901",
         "Fantasy",
         5.8,
         548
        ],
        [
         "tt0000357",
         "The Haunted Curiosity Shop",
         "short",
         "1901",
         "Horror",
         5.8,
         548
        ],
        [
         "tt0000358",
         "History of a Crime",
         "short",
         "1901",
         "Crime",
         6.1,
         832
        ],
        [
         "tt0000358",
         "History of a Crime",
         "short",
         "1901",
         "Drama",
         6.1,
         832
        ],
        [
         "tt0000358",
         "History of a Crime",
         "short",
         "1901",
         "Short",
         6.1,
         832
        ],
        [
         "tt0000376",
         "A táncz",
         "short",
         "1901",
         "Documentary",
         6.1,
         26
        ],
        [
         "tt0000376",
         "A táncz",
         "short",
         "1901",
         "Short",
         6.1,
         26
        ],
        [
         "tt0000379",
         "Visita de la escuadra inglesa a Barcelona",
         "short",
         "1901",
         "Documentary",
         4.3,
         16
        ],
        [
         "tt0000379",
         "Visita de la escuadra inglesa a Barcelona",
         "short",
         "1901",
         "Short",
         4.3,
         16
        ],
        [
         "tt0000400",
         "Le lion savant",
         "short",
         "1902",
         "Comedy",
         6.0,
         20
        ],
        [
         "tt0000400",
         "Le lion savant",
         "short",
         "1902",
         "Short",
         6.0,
         20
        ],
        [
         "tt0000401",
         "Le marchand de ballons",
         "short",
         "1902",
         "Comedy",
         5.2,
         10
        ],
        [
         "tt0000401",
         "Le marchand de ballons",
         "short",
         "1902",
         "Short",
         5.2,
         10
        ],
        [
         "tt0000409",
         "Midwife to the Upper Classes",
         "short",
         "1902",
         "Comedy",
         5.1,
         304
        ],
        [
         "tt0000409",
         "Midwife to the Upper Classes",
         "short",
         "1902",
         "Short",
         5.1,
         304
        ],
        [
         "tt0000422",
         "Les aventures d'un voyageur trop pressé",
         "short",
         "1903",
         "Short",
         5.7,
         12
        ],
        [
         "tt0000423",
         "The Enchanted Box",
         "short",
         "1903",
         "Fantasy",
         5.5,
         280
        ],
        [
         "tt0000423",
         "The Enchanted Box",
         "short",
         "1903",
         "Short",
         5.5,
         280
        ],
        [
         "tt0000430",
         "A Chess Dispute",
         "short",
         "1903",
         "Comedy",
         5.8,
         753
        ],
        [
         "tt0000430",
         "A Chess Dispute",
         "short",
         "1903",
         "Short",
         5.8,
         753
        ],
        [
         "tt0000451",
         "Mary Jane's Mishap",
         "short",
         "1903",
         "Comedy",
         6.5,
         1123
        ],
        [
         "tt0000451",
         "Mary Jane's Mishap",
         "short",
         "1903",
         "Short",
         6.5,
         1123
        ],
        [
         "tt0000452",
         "The Messenger Boy's Mistake",
         "short",
         "1903",
         "Comedy",
         4.6,
         127
        ],
        [
         "tt0000452",
         "The Messenger Boy's Mistake",
         "short",
         "1903",
         "Romance",
         4.6,
         127
        ],
        [
         "tt0000452",
         "The Messenger Boy's Mistake",
         "short",
         "1903",
         "Short",
         4.6,
         127
        ],
        [
         "tt0000492",
         "Personal",
         "short",
         "1904",
         "Comedy",
         4.8,
         161
        ],
        [
         "tt0000492",
         "Personal",
         "short",
         "1904",
         "Short",
         4.8,
         161
        ],
        [
         "tt0000497",
         "A Railway Tragedy",
         "short",
         "1904",
         "Crime",
         5.2,
         100
        ],
        [
         "tt0000497",
         "A Railway Tragedy",
         "short",
         "1904",
         "Short",
         5.2,
         100
        ],
        [
         "tt0000504",
         "Coso y Paseo de Santa Engracia (Calles y plazas de Zaragoza)",
         "short",
         "1905",
         "Documentary",
         5.2,
         9
        ],
        [
         "tt0000504",
         "Coso y Paseo de Santa Engracia (Calles y plazas de Zaragoza)",
         "short",
         "1905",
         "Short",
         5.2,
         9
        ],
        [
         "tt0000579",
         "The Bandit Makes Good",
         "short",
         "1908",
         "Short",
         5.0,
         20
        ],
        [
         "tt0000579",
         "The Bandit Makes Good",
         "short",
         "1908",
         "Western",
         5.0,
         20
        ],
        [
         "tt0000608",
         "En ny hat til Madammen",
         "short",
         "1906",
         "Comedy",
         5.9,
         29
        ],
        [
         "tt0000608",
         "En ny hat til Madammen",
         "short",
         "1906",
         "Short",
         5.9,
         29
        ],
        [
         "tt0000614",
         "The Red Spectre",
         "short",
         "1907",
         "Fantasy",
         6.5,
         1307
        ],
        [
         "tt0000614",
         "The Red Spectre",
         "short",
         "1907",
         "Horror",
         6.5,
         1307
        ],
        [
         "tt0000614",
         "The Red Spectre",
         "short",
         "1907",
         "Short",
         6.5,
         1307
        ],
        [
         "tt0000618",
         "Salaviinanpolttajat",
         "short",
         "1907",
         "Comedy",
         8.2,
         19
        ],
        [
         "tt0000618",
         "Salaviinanpolttajat",
         "short",
         "1907",
         "Short",
         8.2,
         19
        ],
        [
         "tt0000621",
         "That Fatal Sneeze",
         "short",
         "1907",
         "Comedy",
         6.5,
         658
        ],
        [
         "tt0000621",
         "That Fatal Sneeze",
         "short",
         "1907",
         "Fantasy",
         6.5,
         658
        ],
        [
         "tt0000621",
         "That Fatal Sneeze",
         "short",
         "1907",
         "Short",
         6.5,
         658
        ],
        [
         "tt0000644",
         "Behind the Scenes",
         "short",
         "1908",
         "Drama",
         5.4,
         66
        ],
        [
         "tt0000644",
         "Behind the Scenes",
         "short",
         "1908",
         "Short",
         5.4,
         66
        ],
        [
         "tt0000648",
         "The Black Viper",
         "short",
         "1908",
         "Drama",
         4.6,
         191
        ],
        [
         "tt0000648",
         "The Black Viper",
         "short",
         "1908",
         "Short",
         4.6,
         191
        ],
        [
         "tt0000658",
         "The Puppet's Nightmare",
         "short",
         "1908",
         "Animation",
         6.4,
         312
        ],
        [
         "tt0000658",
         "The Puppet's Nightmare",
         "short",
         "1908",
         "Short",
         6.4,
         312
        ]
       ],
       "datasetInfos": [],
       "dbfsResultPath": null,
       "isJsonSchema": true,
       "metadata": {},
       "overflow": false,
       "plotOptions": {
        "customPlotOptions": {},
        "displayType": "table",
        "pivotAggregation": null,
        "pivotColumns": null,
        "xColumns": null,
        "yColumns": null
       },
       "removedWidgets": [],
       "schema": [
        {
         "metadata": "{}",
         "name": "tconst",
         "type": "\"string\""
        },
        {
         "metadata": "{}",
         "name": "primaryTitle",
         "type": "\"string\""
        },
        {
         "metadata": "{}",
         "name": "titleType",
         "type": "\"string\""
        },
        {
         "metadata": "{}",
         "name": "startYear",
         "type": "\"string\""
        },
        {
         "metadata": "{}",
         "name": "genre",
         "type": "\"string\""
        },
        {
         "metadata": "{}",
         "name": "averageRating",
         "type": "\"double\""
        },
        {
         "metadata": "{}",
         "name": "numVotes",
         "type": "\"long\""
        }
       ],
       "type": "table"
      }
     },
     "output_type": "display_data"
    }
   ],
   "source": [
    "%sql\n",
    "SELECT *\n",
    "FROM silver.title_joined LIMIT 100;"
   ]
  },
  {
   "cell_type": "markdown",
   "metadata": {
    "application/vnd.databricks.v1+cell": {
     "cellMetadata": {
      "byteLimit": 2048000,
      "rowLimit": 10000
     },
     "inputWidgets": {},
     "nuid": "3ba86919-5410-4ce5-bc99-890ba6533c56",
     "showTitle": false,
     "tableResultSettingsMap": {},
     "title": ""
    }
   },
   "source": [
    "Considerando que as atividades a serem realizadas na camada prata foram encerradas, a camada ouro será criada a seguir."
   ]
  },
  {
   "cell_type": "code",
   "execution_count": 0,
   "metadata": {
    "application/vnd.databricks.v1+cell": {
     "cellMetadata": {
      "byteLimit": 2048000,
      "implicitDf": true,
      "rowLimit": 10000
     },
     "inputWidgets": {},
     "nuid": "8690819a-e395-4b0c-a6b2-d185bbdde7e8",
     "showTitle": true,
     "tableResultSettingsMap": {},
     "title": "Removendo o database \"gold\" para recriá-lo"
    }
   },
   "outputs": [
    {
     "output_type": "display_data",
     "data": {
      "text/plain": [
       "\u001B[0;31m---------------------------------------------------------------------------\u001B[0m\n",
       "\u001B[0;31mAnalysisException\u001B[0m                         Traceback (most recent call last)\n",
       "File \u001B[0;32m<command-1370257541152297>:7\u001B[0m\n",
       "\u001B[1;32m      5\u001B[0m     display(df)\n",
       "\u001B[1;32m      6\u001B[0m     \u001B[38;5;28;01mreturn\u001B[39;00m df\n",
       "\u001B[0;32m----> 7\u001B[0m   _sqldf \u001B[38;5;241m=\u001B[39m \u001B[43m____databricks_percent_sql\u001B[49m\u001B[43m(\u001B[49m\u001B[43m)\u001B[49m\n",
       "\u001B[1;32m      8\u001B[0m \u001B[38;5;28;01mfinally\u001B[39;00m:\n",
       "\u001B[1;32m      9\u001B[0m   \u001B[38;5;28;01mdel\u001B[39;00m ____databricks_percent_sql\n",
       "\n",
       "File \u001B[0;32m<command-1370257541152297>:4\u001B[0m, in \u001B[0;36m____databricks_percent_sql\u001B[0;34m()\u001B[0m\n",
       "\u001B[1;32m      2\u001B[0m \u001B[38;5;28;01mdef\u001B[39;00m \u001B[38;5;21m____databricks_percent_sql\u001B[39m():\n",
       "\u001B[1;32m      3\u001B[0m   \u001B[38;5;28;01mimport\u001B[39;00m \u001B[38;5;21;01mbase64\u001B[39;00m\n",
       "\u001B[0;32m----> 4\u001B[0m   df \u001B[38;5;241m=\u001B[39m \u001B[43mspark\u001B[49m\u001B[38;5;241;43m.\u001B[39;49m\u001B[43msql\u001B[49m\u001B[43m(\u001B[49m\u001B[43mbase64\u001B[49m\u001B[38;5;241;43m.\u001B[39;49m\u001B[43mstandard_b64decode\u001B[49m\u001B[43m(\u001B[49m\u001B[38;5;124;43m\"\u001B[39;49m\u001B[38;5;124;43mRFJPUCBEQVRBQkFTRSBnb2xkIENBU0NBREU=\u001B[39;49m\u001B[38;5;124;43m\"\u001B[39;49m\u001B[43m)\u001B[49m\u001B[38;5;241;43m.\u001B[39;49m\u001B[43mdecode\u001B[49m\u001B[43m(\u001B[49m\u001B[43m)\u001B[49m\u001B[43m)\u001B[49m\n",
       "\u001B[1;32m      5\u001B[0m   display(df)\n",
       "\u001B[1;32m      6\u001B[0m   \u001B[38;5;28;01mreturn\u001B[39;00m df\n",
       "\n",
       "File \u001B[0;32m/databricks/spark/python/pyspark/instrumentation_utils.py:48\u001B[0m, in \u001B[0;36m_wrap_function.<locals>.wrapper\u001B[0;34m(*args, **kwargs)\u001B[0m\n",
       "\u001B[1;32m     46\u001B[0m start \u001B[38;5;241m=\u001B[39m time\u001B[38;5;241m.\u001B[39mperf_counter()\n",
       "\u001B[1;32m     47\u001B[0m \u001B[38;5;28;01mtry\u001B[39;00m:\n",
       "\u001B[0;32m---> 48\u001B[0m     res \u001B[38;5;241m=\u001B[39m \u001B[43mfunc\u001B[49m\u001B[43m(\u001B[49m\u001B[38;5;241;43m*\u001B[39;49m\u001B[43margs\u001B[49m\u001B[43m,\u001B[49m\u001B[43m \u001B[49m\u001B[38;5;241;43m*\u001B[39;49m\u001B[38;5;241;43m*\u001B[39;49m\u001B[43mkwargs\u001B[49m\u001B[43m)\u001B[49m\n",
       "\u001B[1;32m     49\u001B[0m     logger\u001B[38;5;241m.\u001B[39mlog_success(\n",
       "\u001B[1;32m     50\u001B[0m         module_name, class_name, function_name, time\u001B[38;5;241m.\u001B[39mperf_counter() \u001B[38;5;241m-\u001B[39m start, signature\n",
       "\u001B[1;32m     51\u001B[0m     )\n",
       "\u001B[1;32m     52\u001B[0m     \u001B[38;5;28;01mreturn\u001B[39;00m res\n",
       "\n",
       "File \u001B[0;32m/databricks/spark/python/pyspark/sql/session.py:1387\u001B[0m, in \u001B[0;36mSparkSession.sql\u001B[0;34m(self, sqlQuery, args, **kwargs)\u001B[0m\n",
       "\u001B[1;32m   1385\u001B[0m \u001B[38;5;28;01mtry\u001B[39;00m:\n",
       "\u001B[1;32m   1386\u001B[0m     litArgs \u001B[38;5;241m=\u001B[39m {k: _to_java_column(lit(v)) \u001B[38;5;28;01mfor\u001B[39;00m k, v \u001B[38;5;129;01min\u001B[39;00m (args \u001B[38;5;129;01mor\u001B[39;00m {})\u001B[38;5;241m.\u001B[39mitems()}\n",
       "\u001B[0;32m-> 1387\u001B[0m     \u001B[38;5;28;01mreturn\u001B[39;00m DataFrame(\u001B[38;5;28;43mself\u001B[39;49m\u001B[38;5;241;43m.\u001B[39;49m\u001B[43m_jsparkSession\u001B[49m\u001B[38;5;241;43m.\u001B[39;49m\u001B[43msql\u001B[49m\u001B[43m(\u001B[49m\u001B[43msqlQuery\u001B[49m\u001B[43m,\u001B[49m\u001B[43m \u001B[49m\u001B[43mlitArgs\u001B[49m\u001B[43m)\u001B[49m, \u001B[38;5;28mself\u001B[39m)\n",
       "\u001B[1;32m   1388\u001B[0m \u001B[38;5;28;01mfinally\u001B[39;00m:\n",
       "\u001B[1;32m   1389\u001B[0m     \u001B[38;5;28;01mif\u001B[39;00m \u001B[38;5;28mlen\u001B[39m(kwargs) \u001B[38;5;241m>\u001B[39m \u001B[38;5;241m0\u001B[39m:\n",
       "\n",
       "File \u001B[0;32m/databricks/spark/python/lib/py4j-0.10.9.5-src.zip/py4j/java_gateway.py:1321\u001B[0m, in \u001B[0;36mJavaMember.__call__\u001B[0;34m(self, *args)\u001B[0m\n",
       "\u001B[1;32m   1315\u001B[0m command \u001B[38;5;241m=\u001B[39m proto\u001B[38;5;241m.\u001B[39mCALL_COMMAND_NAME \u001B[38;5;241m+\u001B[39m\\\n",
       "\u001B[1;32m   1316\u001B[0m     \u001B[38;5;28mself\u001B[39m\u001B[38;5;241m.\u001B[39mcommand_header \u001B[38;5;241m+\u001B[39m\\\n",
       "\u001B[1;32m   1317\u001B[0m     args_command \u001B[38;5;241m+\u001B[39m\\\n",
       "\u001B[1;32m   1318\u001B[0m     proto\u001B[38;5;241m.\u001B[39mEND_COMMAND_PART\n",
       "\u001B[1;32m   1320\u001B[0m answer \u001B[38;5;241m=\u001B[39m \u001B[38;5;28mself\u001B[39m\u001B[38;5;241m.\u001B[39mgateway_client\u001B[38;5;241m.\u001B[39msend_command(command)\n",
       "\u001B[0;32m-> 1321\u001B[0m return_value \u001B[38;5;241m=\u001B[39m \u001B[43mget_return_value\u001B[49m\u001B[43m(\u001B[49m\n",
       "\u001B[1;32m   1322\u001B[0m \u001B[43m    \u001B[49m\u001B[43manswer\u001B[49m\u001B[43m,\u001B[49m\u001B[43m \u001B[49m\u001B[38;5;28;43mself\u001B[39;49m\u001B[38;5;241;43m.\u001B[39;49m\u001B[43mgateway_client\u001B[49m\u001B[43m,\u001B[49m\u001B[43m \u001B[49m\u001B[38;5;28;43mself\u001B[39;49m\u001B[38;5;241;43m.\u001B[39;49m\u001B[43mtarget_id\u001B[49m\u001B[43m,\u001B[49m\u001B[43m \u001B[49m\u001B[38;5;28;43mself\u001B[39;49m\u001B[38;5;241;43m.\u001B[39;49m\u001B[43mname\u001B[49m\u001B[43m)\u001B[49m\n",
       "\u001B[1;32m   1324\u001B[0m \u001B[38;5;28;01mfor\u001B[39;00m temp_arg \u001B[38;5;129;01min\u001B[39;00m temp_args:\n",
       "\u001B[1;32m   1325\u001B[0m     temp_arg\u001B[38;5;241m.\u001B[39m_detach()\n",
       "\n",
       "File \u001B[0;32m/databricks/spark/python/pyspark/errors/exceptions.py:234\u001B[0m, in \u001B[0;36mcapture_sql_exception.<locals>.deco\u001B[0;34m(*a, **kw)\u001B[0m\n",
       "\u001B[1;32m    230\u001B[0m converted \u001B[38;5;241m=\u001B[39m convert_exception(e\u001B[38;5;241m.\u001B[39mjava_exception)\n",
       "\u001B[1;32m    231\u001B[0m \u001B[38;5;28;01mif\u001B[39;00m \u001B[38;5;129;01mnot\u001B[39;00m \u001B[38;5;28misinstance\u001B[39m(converted, UnknownException):\n",
       "\u001B[1;32m    232\u001B[0m     \u001B[38;5;66;03m# Hide where the exception came from that shows a non-Pythonic\u001B[39;00m\n",
       "\u001B[1;32m    233\u001B[0m     \u001B[38;5;66;03m# JVM exception message.\u001B[39;00m\n",
       "\u001B[0;32m--> 234\u001B[0m     \u001B[38;5;28;01mraise\u001B[39;00m converted \u001B[38;5;28;01mfrom\u001B[39;00m \u001B[38;5;28mNone\u001B[39m\n",
       "\u001B[1;32m    235\u001B[0m \u001B[38;5;28;01melse\u001B[39;00m:\n",
       "\u001B[1;32m    236\u001B[0m     \u001B[38;5;28;01mraise\u001B[39;00m\n",
       "\n",
       "\u001B[0;31mAnalysisException\u001B[0m: [SCHEMA_NOT_FOUND] The schema `gold` cannot be found. Verify the spelling and correctness of the schema and catalog.\n",
       "If you did not qualify the name with a catalog, verify the current_schema() output, or qualify the name with the correct catalog.\n",
       "To tolerate the error on drop use DROP SCHEMA IF EXISTS."
      ]
     },
     "metadata": {
      "application/vnd.databricks.v1+output": {
       "arguments": {},
       "data": "\u001B[0;31m---------------------------------------------------------------------------\u001B[0m\n\u001B[0;31mAnalysisException\u001B[0m                         Traceback (most recent call last)\nFile \u001B[0;32m<command-1370257541152297>:7\u001B[0m\n\u001B[1;32m      5\u001B[0m     display(df)\n\u001B[1;32m      6\u001B[0m     \u001B[38;5;28;01mreturn\u001B[39;00m df\n\u001B[0;32m----> 7\u001B[0m   _sqldf \u001B[38;5;241m=\u001B[39m \u001B[43m____databricks_percent_sql\u001B[49m\u001B[43m(\u001B[49m\u001B[43m)\u001B[49m\n\u001B[1;32m      8\u001B[0m \u001B[38;5;28;01mfinally\u001B[39;00m:\n\u001B[1;32m      9\u001B[0m   \u001B[38;5;28;01mdel\u001B[39;00m ____databricks_percent_sql\n\nFile \u001B[0;32m<command-1370257541152297>:4\u001B[0m, in \u001B[0;36m____databricks_percent_sql\u001B[0;34m()\u001B[0m\n\u001B[1;32m      2\u001B[0m \u001B[38;5;28;01mdef\u001B[39;00m \u001B[38;5;21m____databricks_percent_sql\u001B[39m():\n\u001B[1;32m      3\u001B[0m   \u001B[38;5;28;01mimport\u001B[39;00m \u001B[38;5;21;01mbase64\u001B[39;00m\n\u001B[0;32m----> 4\u001B[0m   df \u001B[38;5;241m=\u001B[39m \u001B[43mspark\u001B[49m\u001B[38;5;241;43m.\u001B[39;49m\u001B[43msql\u001B[49m\u001B[43m(\u001B[49m\u001B[43mbase64\u001B[49m\u001B[38;5;241;43m.\u001B[39;49m\u001B[43mstandard_b64decode\u001B[49m\u001B[43m(\u001B[49m\u001B[38;5;124;43m\"\u001B[39;49m\u001B[38;5;124;43mRFJPUCBEQVRBQkFTRSBnb2xkIENBU0NBREU=\u001B[39;49m\u001B[38;5;124;43m\"\u001B[39;49m\u001B[43m)\u001B[49m\u001B[38;5;241;43m.\u001B[39;49m\u001B[43mdecode\u001B[49m\u001B[43m(\u001B[49m\u001B[43m)\u001B[49m\u001B[43m)\u001B[49m\n\u001B[1;32m      5\u001B[0m   display(df)\n\u001B[1;32m      6\u001B[0m   \u001B[38;5;28;01mreturn\u001B[39;00m df\n\nFile \u001B[0;32m/databricks/spark/python/pyspark/instrumentation_utils.py:48\u001B[0m, in \u001B[0;36m_wrap_function.<locals>.wrapper\u001B[0;34m(*args, **kwargs)\u001B[0m\n\u001B[1;32m     46\u001B[0m start \u001B[38;5;241m=\u001B[39m time\u001B[38;5;241m.\u001B[39mperf_counter()\n\u001B[1;32m     47\u001B[0m \u001B[38;5;28;01mtry\u001B[39;00m:\n\u001B[0;32m---> 48\u001B[0m     res \u001B[38;5;241m=\u001B[39m \u001B[43mfunc\u001B[49m\u001B[43m(\u001B[49m\u001B[38;5;241;43m*\u001B[39;49m\u001B[43margs\u001B[49m\u001B[43m,\u001B[49m\u001B[43m \u001B[49m\u001B[38;5;241;43m*\u001B[39;49m\u001B[38;5;241;43m*\u001B[39;49m\u001B[43mkwargs\u001B[49m\u001B[43m)\u001B[49m\n\u001B[1;32m     49\u001B[0m     logger\u001B[38;5;241m.\u001B[39mlog_success(\n\u001B[1;32m     50\u001B[0m         module_name, class_name, function_name, time\u001B[38;5;241m.\u001B[39mperf_counter() \u001B[38;5;241m-\u001B[39m start, signature\n\u001B[1;32m     51\u001B[0m     )\n\u001B[1;32m     52\u001B[0m     \u001B[38;5;28;01mreturn\u001B[39;00m res\n\nFile \u001B[0;32m/databricks/spark/python/pyspark/sql/session.py:1387\u001B[0m, in \u001B[0;36mSparkSession.sql\u001B[0;34m(self, sqlQuery, args, **kwargs)\u001B[0m\n\u001B[1;32m   1385\u001B[0m \u001B[38;5;28;01mtry\u001B[39;00m:\n\u001B[1;32m   1386\u001B[0m     litArgs \u001B[38;5;241m=\u001B[39m {k: _to_java_column(lit(v)) \u001B[38;5;28;01mfor\u001B[39;00m k, v \u001B[38;5;129;01min\u001B[39;00m (args \u001B[38;5;129;01mor\u001B[39;00m {})\u001B[38;5;241m.\u001B[39mitems()}\n\u001B[0;32m-> 1387\u001B[0m     \u001B[38;5;28;01mreturn\u001B[39;00m DataFrame(\u001B[38;5;28;43mself\u001B[39;49m\u001B[38;5;241;43m.\u001B[39;49m\u001B[43m_jsparkSession\u001B[49m\u001B[38;5;241;43m.\u001B[39;49m\u001B[43msql\u001B[49m\u001B[43m(\u001B[49m\u001B[43msqlQuery\u001B[49m\u001B[43m,\u001B[49m\u001B[43m \u001B[49m\u001B[43mlitArgs\u001B[49m\u001B[43m)\u001B[49m, \u001B[38;5;28mself\u001B[39m)\n\u001B[1;32m   1388\u001B[0m \u001B[38;5;28;01mfinally\u001B[39;00m:\n\u001B[1;32m   1389\u001B[0m     \u001B[38;5;28;01mif\u001B[39;00m \u001B[38;5;28mlen\u001B[39m(kwargs) \u001B[38;5;241m>\u001B[39m \u001B[38;5;241m0\u001B[39m:\n\nFile \u001B[0;32m/databricks/spark/python/lib/py4j-0.10.9.5-src.zip/py4j/java_gateway.py:1321\u001B[0m, in \u001B[0;36mJavaMember.__call__\u001B[0;34m(self, *args)\u001B[0m\n\u001B[1;32m   1315\u001B[0m command \u001B[38;5;241m=\u001B[39m proto\u001B[38;5;241m.\u001B[39mCALL_COMMAND_NAME \u001B[38;5;241m+\u001B[39m\\\n\u001B[1;32m   1316\u001B[0m     \u001B[38;5;28mself\u001B[39m\u001B[38;5;241m.\u001B[39mcommand_header \u001B[38;5;241m+\u001B[39m\\\n\u001B[1;32m   1317\u001B[0m     args_command \u001B[38;5;241m+\u001B[39m\\\n\u001B[1;32m   1318\u001B[0m     proto\u001B[38;5;241m.\u001B[39mEND_COMMAND_PART\n\u001B[1;32m   1320\u001B[0m answer \u001B[38;5;241m=\u001B[39m \u001B[38;5;28mself\u001B[39m\u001B[38;5;241m.\u001B[39mgateway_client\u001B[38;5;241m.\u001B[39msend_command(command)\n\u001B[0;32m-> 1321\u001B[0m return_value \u001B[38;5;241m=\u001B[39m \u001B[43mget_return_value\u001B[49m\u001B[43m(\u001B[49m\n\u001B[1;32m   1322\u001B[0m \u001B[43m    \u001B[49m\u001B[43manswer\u001B[49m\u001B[43m,\u001B[49m\u001B[43m \u001B[49m\u001B[38;5;28;43mself\u001B[39;49m\u001B[38;5;241;43m.\u001B[39;49m\u001B[43mgateway_client\u001B[49m\u001B[43m,\u001B[49m\u001B[43m \u001B[49m\u001B[38;5;28;43mself\u001B[39;49m\u001B[38;5;241;43m.\u001B[39;49m\u001B[43mtarget_id\u001B[49m\u001B[43m,\u001B[49m\u001B[43m \u001B[49m\u001B[38;5;28;43mself\u001B[39;49m\u001B[38;5;241;43m.\u001B[39;49m\u001B[43mname\u001B[49m\u001B[43m)\u001B[49m\n\u001B[1;32m   1324\u001B[0m \u001B[38;5;28;01mfor\u001B[39;00m temp_arg \u001B[38;5;129;01min\u001B[39;00m temp_args:\n\u001B[1;32m   1325\u001B[0m     temp_arg\u001B[38;5;241m.\u001B[39m_detach()\n\nFile \u001B[0;32m/databricks/spark/python/pyspark/errors/exceptions.py:234\u001B[0m, in \u001B[0;36mcapture_sql_exception.<locals>.deco\u001B[0;34m(*a, **kw)\u001B[0m\n\u001B[1;32m    230\u001B[0m converted \u001B[38;5;241m=\u001B[39m convert_exception(e\u001B[38;5;241m.\u001B[39mjava_exception)\n\u001B[1;32m    231\u001B[0m \u001B[38;5;28;01mif\u001B[39;00m \u001B[38;5;129;01mnot\u001B[39;00m \u001B[38;5;28misinstance\u001B[39m(converted, UnknownException):\n\u001B[1;32m    232\u001B[0m     \u001B[38;5;66;03m# Hide where the exception came from that shows a non-Pythonic\u001B[39;00m\n\u001B[1;32m    233\u001B[0m     \u001B[38;5;66;03m# JVM exception message.\u001B[39;00m\n\u001B[0;32m--> 234\u001B[0m     \u001B[38;5;28;01mraise\u001B[39;00m converted \u001B[38;5;28;01mfrom\u001B[39;00m \u001B[38;5;28mNone\u001B[39m\n\u001B[1;32m    235\u001B[0m \u001B[38;5;28;01melse\u001B[39;00m:\n\u001B[1;32m    236\u001B[0m     \u001B[38;5;28;01mraise\u001B[39;00m\n\n\u001B[0;31mAnalysisException\u001B[0m: [SCHEMA_NOT_FOUND] The schema `gold` cannot be found. Verify the spelling and correctness of the schema and catalog.\nIf you did not qualify the name with a catalog, verify the current_schema() output, or qualify the name with the correct catalog.\nTo tolerate the error on drop use DROP SCHEMA IF EXISTS.",
       "errorSummary": "<span class='ansi-red-fg'>AnalysisException</span>: [SCHEMA_NOT_FOUND] The schema `gold` cannot be found. Verify the spelling and correctness of the schema and catalog.\nIf you did not qualify the name with a catalog, verify the current_schema() output, or qualify the name with the correct catalog.\nTo tolerate the error on drop use DROP SCHEMA IF EXISTS.",
       "errorTraceType": "ansi",
       "metadata": {},
       "type": "ipynbError"
      }
     },
     "output_type": "display_data"
    }
   ],
   "source": [
    "%sql\n",
    "DROP DATABASE gold CASCADE"
   ]
  },
  {
   "cell_type": "code",
   "execution_count": 0,
   "metadata": {
    "application/vnd.databricks.v1+cell": {
     "cellMetadata": {
      "byteLimit": 2048000,
      "implicitDf": true,
      "rowLimit": 10000
     },
     "inputWidgets": {},
     "nuid": "12eccf4f-42cc-4123-aa1b-83c86ceecd60",
     "showTitle": true,
     "tableResultSettingsMap": {},
     "title": "Recriando o database \"gold\""
    }
   },
   "outputs": [
    {
     "output_type": "display_data",
     "data": {
      "text/html": [
       "<style scoped>\n",
       "  .table-result-container {\n",
       "    max-height: 300px;\n",
       "    overflow: auto;\n",
       "  }\n",
       "  table, th, td {\n",
       "    border: 1px solid black;\n",
       "    border-collapse: collapse;\n",
       "  }\n",
       "  th, td {\n",
       "    padding: 5px;\n",
       "  }\n",
       "  th {\n",
       "    text-align: left;\n",
       "  }\n",
       "</style><div class='table-result-container'><table class='table-result'><thead style='background-color: white'><tr></tr></thead><tbody></tbody></table></div>"
      ]
     },
     "metadata": {
      "application/vnd.databricks.v1+output": {
       "addedWidgets": {},
       "aggData": [],
       "aggError": "",
       "aggOverflow": false,
       "aggSchema": [],
       "aggSeriesLimitReached": false,
       "aggType": "",
       "arguments": {},
       "columnCustomDisplayInfos": {},
       "data": [],
       "datasetInfos": [],
       "dbfsResultPath": null,
       "isJsonSchema": true,
       "metadata": {},
       "overflow": false,
       "plotOptions": {
        "customPlotOptions": {},
        "displayType": "table",
        "pivotAggregation": null,
        "pivotColumns": null,
        "xColumns": null,
        "yColumns": null
       },
       "removedWidgets": [],
       "schema": [],
       "type": "table"
      }
     },
     "output_type": "display_data"
    }
   ],
   "source": [
    "%sql\n",
    "CREATE DATABASE gold"
   ]
  },
  {
   "cell_type": "markdown",
   "metadata": {
    "application/vnd.databricks.v1+cell": {
     "cellMetadata": {
      "byteLimit": 2048000,
      "rowLimit": 10000
     },
     "inputWidgets": {},
     "nuid": "2f0b7c49-dd31-4cd8-b8dd-8b2f85cf98f3",
     "showTitle": false,
     "tableResultSettingsMap": {},
     "title": ""
    }
   },
   "source": [
    "O código a seguir cria a tabela final, que será usada para a consulta. Ele filtra os títulos para incluir apenas os tipos movie, tvShort, short e tvMovie, que serão os considerados na análise. O startYear teve seu nome alterado para year e foi calculada a média de avaliações e a soma do número de votos por ano e gênero. Para isso, o código agrupou startYear e genre, juntando os registros em que esse valores são iguais. Por fim, ordena o resultado por ano e gênero."
   ]
  },
  {
   "cell_type": "code",
   "execution_count": 0,
   "metadata": {
    "application/vnd.databricks.v1+cell": {
     "cellMetadata": {
      "byteLimit": 2048000,
      "implicitDf": true,
      "rowLimit": 10000
     },
     "inputWidgets": {},
     "nuid": "65171269-6abc-43b1-8252-803f9852ace9",
     "showTitle": true,
     "tableResultSettingsMap": {},
     "title": "Criando uma tabela com as médias e soma de votos para filmes por gênero"
    }
   },
   "outputs": [
    {
     "output_type": "display_data",
     "data": {
      "text/html": [
       "<style scoped>\n",
       "  .table-result-container {\n",
       "    max-height: 300px;\n",
       "    overflow: auto;\n",
       "  }\n",
       "  table, th, td {\n",
       "    border: 1px solid black;\n",
       "    border-collapse: collapse;\n",
       "  }\n",
       "  th, td {\n",
       "    padding: 5px;\n",
       "  }\n",
       "  th {\n",
       "    text-align: left;\n",
       "  }\n",
       "</style><div class='table-result-container'><table class='table-result'><thead style='background-color: white'><tr><th>num_affected_rows</th><th>num_inserted_rows</th></tr></thead><tbody></tbody></table></div>"
      ]
     },
     "metadata": {
      "application/vnd.databricks.v1+output": {
       "addedWidgets": {},
       "aggData": [],
       "aggError": "",
       "aggOverflow": false,
       "aggSchema": [],
       "aggSeriesLimitReached": false,
       "aggType": "",
       "arguments": {},
       "columnCustomDisplayInfos": {},
       "data": [],
       "datasetInfos": [],
       "dbfsResultPath": null,
       "isJsonSchema": true,
       "metadata": {},
       "overflow": false,
       "plotOptions": {
        "customPlotOptions": {},
        "displayType": "table",
        "pivotAggregation": null,
        "pivotColumns": null,
        "xColumns": null,
        "yColumns": null
       },
       "removedWidgets": [],
       "schema": [
        {
         "metadata": "{}",
         "name": "num_affected_rows",
         "type": "\"long\""
        },
        {
         "metadata": "{}",
         "name": "num_inserted_rows",
         "type": "\"long\""
        }
       ],
       "type": "table"
      }
     },
     "output_type": "display_data"
    }
   ],
   "source": [
    "%sql\n",
    "CREATE TABLE gold.genre_analysis AS\n",
    "SELECT\n",
    "    startYear AS year,\n",
    "    genre,\n",
    "    AVG(CAST(averageRating AS DOUBLE)) AS avgRating, \n",
    "    SUM(CAST(numVotes AS INT)) AS totalVotes\n",
    "FROM\n",
    "    silver.title_joined\n",
    "WHERE\n",
    "    titleType IN ('movie', 'tvShort', 'short', 'tvMovie')\n",
    "GROUP BY\n",
    "    startYear,\n",
    "    genre\n",
    "ORDER BY\n",
    "    startYear,\n",
    "    genre;\n"
   ]
  },
  {
   "cell_type": "code",
   "execution_count": 0,
   "metadata": {
    "application/vnd.databricks.v1+cell": {
     "cellMetadata": {
      "byteLimit": 2048000,
      "implicitDf": true,
      "rowLimit": 10000
     },
     "inputWidgets": {},
     "nuid": "0301d2a0-3f4e-459a-b44d-3fdd9fa4f1bf",
     "showTitle": true,
     "tableResultSettingsMap": {},
     "title": "Testando a tabela criada"
    }
   },
   "outputs": [
    {
     "output_type": "display_data",
     "data": {
      "text/html": [
       "<style scoped>\n",
       "  .table-result-container {\n",
       "    max-height: 300px;\n",
       "    overflow: auto;\n",
       "  }\n",
       "  table, th, td {\n",
       "    border: 1px solid black;\n",
       "    border-collapse: collapse;\n",
       "  }\n",
       "  th, td {\n",
       "    padding: 5px;\n",
       "  }\n",
       "  th {\n",
       "    text-align: left;\n",
       "  }\n",
       "</style><div class='table-result-container'><table class='table-result'><thead style='background-color: white'><tr><th>year</th><th>genre</th><th>avgRating</th><th>totalVotes</th></tr></thead><tbody><tr><td>1981</td><td>Action</td><td>5.807232704402517</td><td>1943670</td></tr><tr><td>1981</td><td>Adult</td><td>5.490948275862069</td><td>17224</td></tr><tr><td>1981</td><td>Adventure</td><td>6.039784946236559</td><td>2135619</td></tr><tr><td>1981</td><td>Animation</td><td>6.554587155963303</td><td>200103</td></tr><tr><td>1981</td><td>Biography</td><td>6.846052631578947</td><td>162441</td></tr><tr><td>1981</td><td>Comedy</td><td>5.845045045045046</td><td>956122</td></tr><tr><td>1981</td><td>Crime</td><td>5.961089494163424</td><td>474711</td></tr><tr><td>1981</td><td>Documentary</td><td>7.03962962962963</td><td>37504</td></tr><tr><td>1981</td><td>Drama</td><td>6.147728860936409</td><td>1603074</td></tr><tr><td>1981</td><td>Family</td><td>6.4010989010989015</td><td>44161</td></tr><tr><td>1981</td><td>Fantasy</td><td>6.125225225225226</td><td>289990</td></tr><tr><td>1981</td><td>History</td><td>6.777906976744186</td><td>169943</td></tr><tr><td>1981</td><td>Horror</td><td>5.396739130434782</td><td>1152995</td></tr><tr><td>1981</td><td>Music</td><td>6.748051948051948</td><td>43435</td></tr><tr><td>1981</td><td>Musical</td><td>6.2146341463414645</td><td>101656</td></tr><tr><td>1981</td><td>Mystery</td><td>5.957798165137614</td><td>309869</td></tr><tr><td>1981</td><td>Romance</td><td>6.090347490347491</td><td>314470</td></tr><tr><td>1981</td><td>Sci-Fi</td><td>5.3769230769230765</td><td>530667</td></tr><tr><td>1981</td><td>Short</td><td>6.46578947368421</td><td>25777</td></tr><tr><td>1981</td><td>Sport</td><td>6.13076923076923</td><td>155008</td></tr><tr><td>1981</td><td>Talk-Show</td><td>5.3</td><td>66</td></tr><tr><td>1981</td><td>Thriller</td><td>5.801324503311259</td><td>567666</td></tr><tr><td>1981</td><td>War</td><td>6.471014492753623</td><td>421177</td></tr><tr><td>1981</td><td>Western</td><td>5.844444444444444</td><td>5274</td></tr><tr><td>1982</td><td>Action</td><td>5.635260115606937</td><td>1766801</td></tr><tr><td>1982</td><td>Adult</td><td>5.581818181818182</td><td>17243</td></tr><tr><td>1982</td><td>Adventure</td><td>5.862566844919787</td><td>1563191</td></tr><tr><td>1982</td><td>Animation</td><td>6.621134020618556</td><td>171999</td></tr><tr><td>1982</td><td>Biography</td><td>6.745901639344263</td><td>298295</td></tr><tr><td>1982</td><td>Comedy</td><td>5.8629999999999995</td><td>1324314</td></tr><tr><td>1982</td><td>Crime</td><td>5.859493670886077</td><td>463886</td></tr><tr><td>1982</td><td>Documentary</td><td>7.127091633466136</td><td>94946</td></tr><tr><td>1982</td><td>Drama</td><td>6.097441077441078</td><td>2952986</td></tr><tr><td>1982</td><td>Family</td><td>6.3294999999999995</td><td>663459</td></tr><tr><td>1982</td><td>Fantasy</td><td>6.102362204724408</td><td>529586</td></tr><tr><td>1982</td><td>History</td><td>6.5694444444444455</td><td>295184</td></tr><tr><td>1982</td><td>Horror</td><td>5.285869565217391</td><td>1236649</td></tr><tr><td>1982</td><td>Music</td><td>6.8453608247422695</td><td>272920</td></tr><tr><td>1982</td><td>Musical</td><td>6.273267326732673</td><td>95800</td></tr><tr><td>1982</td><td>Mystery</td><td>5.863736263736264</td><td>759815</td></tr><tr><td>1982</td><td>Romance</td><td>6.049110320284696</td><td>430315</td></tr><tr><td>1982</td><td>Sci-Fi</td><td>5.601449275362318</td><td>2304931</td></tr><tr><td>1982</td><td>Short</td><td>6.620467836257311</td><td>23189</td></tr><tr><td>1982</td><td>Sport</td><td>5.833333333333333</td><td>239274</td></tr><tr><td>1982</td><td>Talk-Show</td><td>7.8</td><td>53</td></tr><tr><td>1982</td><td>Thriller</td><td>5.556603773584905</td><td>766075</td></tr><tr><td>1982</td><td>War</td><td>6.1245901639344265</td><td>34773</td></tr><tr><td>1982</td><td>Western</td><td>5.840000000000001</td><td>5060</td></tr><tr><td>1983</td><td>Action</td><td>5.590056818181818</td><td>1913215</td></tr><tr><td>1983</td><td>Adult</td><td>5.583928571428572</td><td>16180</td></tr><tr><td>1983</td><td>Adventure</td><td>5.686315789473683</td><td>1884514</td></tr><tr><td>1983</td><td>Animation</td><td>6.561860465116279</td><td>89817</td></tr><tr><td>1983</td><td>Biography</td><td>6.770422535211267</td><td>142036</td></tr><tr><td>1983</td><td>Comedy</td><td>5.901997503121098</td><td>1600255</td></tr><tr><td>1983</td><td>Crime</td><td>5.882499999999999</td><td>1585327</td></tr><tr><td>1983</td><td>Documentary</td><td>6.9978873239436625</td><td>41573</td></tr><tr><td>1983</td><td>Drama</td><td>6.122601416613007</td><td>2787479</td></tr><tr><td>1983</td><td>Family</td><td>6.430208333333334</td><td>233264</td></tr><tr><td>1983</td><td>Fantasy</td><td>6.043703703703704</td><td>1322446</td></tr><tr><td>1983</td><td>Game-Show</td><td>8.6</td><td>16</td></tr><tr><td>1983</td><td>History</td><td>6.6706666666666665</td><td>63581</td></tr><tr><td>1983</td><td>Horror</td><td>5.302721088435374</td><td>689190</td></tr><tr><td>1983</td><td>Music</td><td>6.52695652173913</td><td>166424</td></tr><tr><td>1983</td><td>Musical</td><td>6.21860465116279</td><td>175650</td></tr><tr><td>1983</td><td>Mystery</td><td>6.020792079207921</td><td>182659</td></tr><tr><td>1983</td><td>Romance</td><td>5.902027027027027</td><td>393047</td></tr><tr><td>1983</td><td>Sci-Fi</td><td>5.735714285714285</td><td>510984</td></tr><tr><td>1983</td><td>Short</td><td>6.449122807017545</td><td>21087</td></tr><tr><td>1983</td><td>Sport</td><td>6.092307692307693</td><td>31890</td></tr><tr><td>1983</td><td>Thriller</td><td>5.548148148148149</td><td>621404</td></tr><tr><td>1983</td><td>War</td><td>6.105952380952382</td><td>66575</td></tr><tr><td>1983</td><td>Western</td><td>5.677777777777778</td><td>4918</td></tr><tr><td>1984</td><td>Action</td><td>5.724705882352941</td><td>3466906</td></tr><tr><td>1984</td><td>Adult</td><td>5.565882352941176</td><td>14528</td></tr><tr><td>1984</td><td>Adventure</td><td>5.9567415730337085</td><td>2800510</td></tr><tr><td>1984</td><td>Animation</td><td>6.635483870967742</td><td>229675</td></tr><tr><td>1984</td><td>Biography</td><td>6.8674418604651155</td><td>544514</td></tr><tr><td>1984</td><td>Comedy</td><td>5.996992481203007</td><td>2644155</td></tr><tr><td>1984</td><td>Crime</td><td>5.901831501831502</td><td>1178363</td></tr><tr><td>1984</td><td>Documentary</td><td>7.0823754789272035</td><td>63056</td></tr><tr><td>1984</td><td>Drama</td><td>6.2390992167101835</td><td>2916267</td></tr><tr><td>1984</td><td>Family</td><td>6.4396475770925115</td><td>512903</td></tr><tr><td>1984</td><td>Fantasy</td><td>6.303999999999999</td><td>1068589</td></tr><tr><td>1984</td><td>History</td><td>6.8689189189189195</td><td>140702</td></tr><tr><td>1984</td><td>Horror</td><td>5.2875862068965525</td><td>968642</td></tr><tr><td>1984</td><td>Music</td><td>6.654400000000001</td><td>903220</td></tr><tr><td>1984</td><td>Musical</td><td>6.215789473684212</td><td>15367</td></tr><tr><td>1984</td><td>Mystery</td><td>5.764705882352941</td><td>172425</td></tr><tr><td>1984</td><td>Romance</td><td>5.967128027681661</td><td>666248</td></tr><tr><td>1984</td><td>Sci-Fi</td><td>5.610309278350516</td><td>1940796</td></tr><tr><td>1984</td><td>Short</td><td>6.5539772727272725</td><td>19606</td></tr><tr><td>1984</td><td>Sport</td><td>6.385185185185184</td><td>67311</td></tr><tr><td>1984</td><td>Thriller</td><td>5.740322580645161</td><td>515418</td></tr><tr><td>1984</td><td>War</td><td>5.9228571428571435</td><td>60473</td></tr><tr><td>1984</td><td>Western</td><td>6.238461538461538</td><td>7624</td></tr><tr><td>1985</td><td>Action</td><td>5.697727272727272</td><td>1594395</td></tr><tr><td>1985</td><td>Adult</td><td>5.829602888086643</td><td>19792</td></tr><tr><td>1985</td><td>Adventure</td><td>5.903664921465968</td><td>3211640</td></tr><tr><td>1985</td><td>Animation</td><td>6.486784140969164</td><td>127241</td></tr><tr><td>1985</td><td>Biography</td><td>6.656060606060605</td><td>186609</td></tr><tr><td>1985</td><td>Comedy</td><td>6.035029585798816</td><td>4310898</td></tr><tr><td>1985</td><td>Crime</td><td>5.844666666666665</td><td>710093</td></tr><tr><td>1985</td><td>Documentary</td><td>7.058174904942966</td><td>45052</td></tr><tr><td>1985</td><td>Drama</td><td>6.262004034969738</td><td>2970881</td></tr><tr><td>1985</td><td>Family</td><td>6.3838888888888885</td><td>524056</td></tr><tr><td>1985</td><td>Fantasy</td><td>6.0703125</td><td>435867</td></tr><tr><td>1985</td><td>History</td><td>6.898507462686566</td><td>45602</td></tr><tr><td>1985</td><td>Horror</td><td>5.1461077844311385</td><td>758885</td></tr><tr><td>1985</td><td>Music</td><td>7.087128712871288</td><td>68367</td></tr><tr><td>1985</td><td>Musical</td><td>6.1179487179487175</td><td>23970</td></tr><tr><td>1985</td><td>Mystery</td><td>6.018085106382979</td><td>410377</td></tr><tr><td>1985</td><td>Romance</td><td>6.129652996845426</td><td>942612</td></tr><tr><td>1985</td><td>Sci-Fi</td><td>5.564044943820224</td><td>2212978</td></tr><tr><td>1985</td><td>Short</td><td>6.398082191780823</td><td>28434</td></tr><tr><td>1985</td><td>Sport</td><td>6.048484848484849</td><td>257399</td></tr><tr><td>1985</td><td>Thriller</td><td>5.674857142857142</td><td>1197962</td></tr><tr><td>1985</td><td>War</td><td>6.263333333333334</td><td>286888</td></tr><tr><td>1985</td><td>Western</td><td>6.258333333333334</td><td>71210</td></tr><tr><td>1986</td><td>Action</td><td>5.607226107226107</td><td>2461130</td></tr><tr><td>1986</td><td>Adult</td><td>5.840444444444444</td><td>12192</td></tr><tr><td>1986</td><td>Adventure</td><td>5.841025641025641</td><td>2810347</td></tr><tr><td>1986</td><td>Animation</td><td>6.572398190045249</td><td>453998</td></tr><tr><td>1986</td><td>Biography</td><td>6.838157894736841</td><td>115401</td></tr><tr><td>1986</td><td>Comedy</td><td>5.925030376670717</td><td>3134884</td></tr><tr><td>1986</td><td>Crime</td><td>5.776470588235295</td><td>944166</td></tr><tr><td>1986</td><td>Documentary</td><td>7.161160714285714</td><td>19931</td></tr><tr><td>1986</td><td>Drama</td><td>6.179163987138263</td><td>3734474</td></tr><tr><td>1986</td><td>Family</td><td>6.510476190476189</td><td>730367</td></tr><tr><td>1986</td><td>Fantasy</td><td>6.2546875</td><td>465817</td></tr><tr><td>1986</td><td>History</td><td>6.800000000000002</td><td>125666</td></tr><tr><td>1986</td><td>Horror</td><td>5.296739130434783</td><td>1677653</td></tr><tr><td>1986</td><td>Music</td><td>6.76952380952381</td><td>106909</td></tr><tr><td>1986</td><td>Musical</td><td>6.4430555555555555</td><td>115821</td></tr><tr><td>1986</td><td>Mystery</td><td>6.164634146341464</td><td>611259</td></tr><tr><td>1986</td><td>Romance</td><td>5.936148648648649</td><td>562623</td></tr><tr><td>1986</td><td>Sci-Fi</td><td>5.698924731182796</td><td>621792</td></tr><tr><td>1986</td><td>Short</td><td>6.5109550561797755</td><td>27714</td></tr><tr><td>1986</td><td>Sport</td><td>5.906451612903226</td><td>350155</td></tr><tr><td>1986</td><td>Thriller</td><td>5.6348258706467655</td><td>712752</td></tr><tr><td>1986</td><td>War</td><td>5.898701298701298</td><td>547735</td></tr><tr><td>1986</td><td>Western</td><td>6.105555555555556</td><td>95931</td></tr><tr><td>1987</td><td>Action</td><td>5.47240663900415</td><td>2213935</td></tr><tr><td>1987</td><td>Adult</td><td>5.6617977528089884</td><td>10645</td></tr><tr><td>1987</td><td>Adventure</td><td>5.673245614035087</td><td>1747709</td></tr><tr><td>1987</td><td>Animation</td><td>6.632307692307694</td><td>122360</td></tr><tr><td>1987</td><td>Biography</td><td>6.9314285714285715</td><td>370068</td></tr><tr><td>1987</td><td>Comedy</td><td>5.891360946745563</td><td>3519034</td></tr><tr><td>1987</td><td>Crime</td><td>5.876470588235295</td><td>2037891</td></tr><tr><td>1987</td><td>Documentary</td><td>7.285328185328185</td><td>46047</td></tr><tr><td>1987</td><td>Drama</td><td>6.2009025270758125</td><td>3978639</td></tr><tr><td>1987</td><td>Family</td><td>6.493636363636364</td><td>745856</td></tr><tr><td>1987</td><td>Fantasy</td><td>6.103870967741936</td><td>668205</td></tr><tr><td>1987</td><td>Game-Show</td><td>1.7</td><td>140</td></tr><tr><td>1987</td><td>History</td><td>6.790909090909092</td><td>170521</td></tr><tr><td>1987</td><td>Horror</td><td>5.184710743801654</td><td>1840319</td></tr><tr><td>1987</td><td>Music</td><td>7.071764705882353</td><td>370600</td></tr><tr><td>1987</td><td>Musical</td><td>6.302702702702703</td><td>33528</td></tr><tr><td>1987</td><td>Mystery</td><td>5.910679611650485</td><td>262051</td></tr><tr><td>1987</td><td>Reality-TV</td><td>6.6</td><td>17</td></tr><tr><td>1987</td><td>Romance</td><td>6.020714285714286</td><td>1060736</td></tr><tr><td>1987</td><td>Sci-Fi</td><td>5.575925925925926</td><td>926887</td></tr><tr><td>1987</td><td>Short</td><td>6.50439276485788</td><td>28386</td></tr><tr><td>1987</td><td>Sport</td><td>6.504545454545454</td><td>65664</td></tr><tr><td>1987</td><td>Thriller</td><td>5.543111111111109</td><td>1637877</td></tr><tr><td>1987</td><td>War</td><td>6.101190476190476</td><td>1032106</td></tr><tr><td>1987</td><td>Western</td><td>5.714999999999999</td><td>10514</td></tr><tr><td>1988</td><td>Action</td><td>5.396641791044775</td><td>2366586</td></tr><tr><td>1988</td><td>Adult</td><td>5.93015873015873</td><td>7758</td></tr><tr><td>1988</td><td>Adventure</td><td>5.667788461538462</td><td>1057637</td></tr><tr><td>1988</td><td>Animation</td><td>6.621818181818183</td><td>1411458</td></tr><tr><td>1988</td><td>Biography</td><td>6.741558441558442</td><td>240964</td></tr><tr><td>1988</td><td>Comedy</td><td>5.987950450450451</td><td>4357826</td></tr><tr><td>1988</td><td>Crime</td><td>5.913836477987421</td><td>1785548</td></tr><tr><td>1988</td><td>Documentary</td><td>7.14306049822064</td><td>76386</td></tr><tr><td>1988</td><td>Drama</td><td>6.155155279503105</td><td>4226899</td></tr><tr><td>1988</td><td>Family</td><td>6.4429411764705895</td><td>580430</td></tr><tr><td>1988</td><td>Fantasy</td><td>5.9815950920245395</td><td>1348196</td></tr><tr><td>1988</td><td>History</td><td>6.719230769230769</td><td>94554</td></tr><tr><td>1988</td><td>Horror</td><td>5.132014388489208</td><td>1235783</td></tr><tr><td>1988</td><td>Music</td><td>6.806</td><td>131854</td></tr><tr><td>1988</td><td>Musical</td><td>6.247368421052632</td><td>68442</td></tr><tr><td>1988</td><td>Mystery</td><td>5.765546218487394</td><td>426791</td></tr><tr><td>1988</td><td>Reality-TV</td><td>6.4</td><td>10</td></tr><tr><td>1988</td><td>Romance</td><td>5.982595870206489</td><td>1346766</td></tr><tr><td>1988</td><td>Sci-Fi</td><td>5.263063063063062</td><td>470732</td></tr><tr><td>1988</td><td>Short</td><td>6.55201072386059</td><td>29830</td></tr><tr><td>1988</td><td>Sport</td><td>6.291666666666668</td><td>178294</td></tr><tr><td>1988</td><td>Thriller</td><td>5.626141078838174</td><td>1774973</td></tr><tr><td>1988</td><td>War</td><td>6.045263157894737</td><td>405526</td></tr><tr><td>1988</td><td>Western</td><td>5.952941176470588</td><td>75236</td></tr><tr><td>1989</td><td>Action</td><td>5.5390334572490705</td><td>2989568</td></tr><tr><td>1989</td><td>Adult</td><td>6.091724137931035</td><td>9963</td></tr><tr><td>1989</td><td>Adventure</td><td>5.7762135922330105</td><td>3272339</td></tr><tr><td>1989</td><td>Animation</td><td>6.621844660194174</td><td>684876</td></tr><tr><td>1989</td><td>Biography</td><td>6.772222222222222</td><td>477805</td></tr><tr><td>1989</td><td>Comedy</td><td>6.049498327759196</td><td>4691509</td></tr><tr><td>1989</td><td>Crime</td><td>5.807177033492823</td><td>1451099</td></tr><tr><td>1989</td><td>Documentary</td><td>7.130985915492957</td><td>67220</td></tr><tr><td>1989</td><td>Drama</td><td>6.225556223692122</td><td>3756230</td></tr><tr><td>1989</td><td>Family</td><td>6.308045977011494</td><td>928158</td></tr><tr><td>1989</td><td>Fantasy</td><td>5.885549132947977</td><td>1007173</td></tr><tr><td>1989</td><td>History</td><td>6.738297872340427</td><td>252815</td></tr><tr><td>1989</td><td>Horror</td><td>5.088727272727272</td><td>742783</td></tr><tr><td>1989</td><td>Music</td><td>7.361797752808988</td><td>242762</td></tr><tr><td>1989</td><td>Musical</td><td>6.316326530612245</td><td>23666</td></tr><tr><td>1989</td><td>Mystery</td><td>5.970338983050847</td><td>490198</td></tr><tr><td>1989</td><td>Romance</td><td>5.952090032154341</td><td>786707</td></tr><tr><td>1989</td><td>Sci-Fi</td><td>5.203738317757009</td><td>809470</td></tr><tr><td>1989</td><td>Short</td><td>6.510591133004927</td><td>38734</td></tr><tr><td>1989</td><td>Sport</td><td>6.051851851851852</td><td>183926</td></tr><tr><td>1989</td><td>Thriller</td><td>5.547916666666667</td><td>1106416</td></tr><tr><td>1989</td><td>War</td><td>6.024418604651162</td><td>170375</td></tr><tr><td>1989</td><td>Western</td><td>5.616666666666667</td><td>6771</td></tr><tr><td>1990</td><td>Action</td><td>5.585794392523365</td><td>2749915</td></tr><tr><td>1990</td><td>Adult</td><td>6.19607843137255</td><td>11098</td></tr><tr><td>1990</td><td>Adventure</td><td>6.044505494505494</td><td>1936280</td></tr><tr><td>1990</td><td>Animation</td><td>6.596551724137932</td><td>139980</td></tr><tr><td>1990</td><td>Biography</td><td>6.69425287356322</td><td>1598286</td></tr><tr><td>1990</td><td>Comedy</td><td>6.05737142857143</td><td>3770890</td></tr><tr><td>1990</td><td>Crime</td><td>5.813422818791946</td><td>3398405</td></tr><tr><td>1990</td><td>Documentary</td><td>7.1159744408945675</td><td>47469</td></tr><tr><td>1990</td><td>Drama</td><td>6.185063291139239</td><td>5788644</td></tr><tr><td>1990</td><td>Family</td><td>6.347096774193549</td><td>944198</td></tr><tr><td>1990</td><td>Fantasy</td><td>5.908383233532934</td><td>1146148</td></tr><tr><td>1990</td><td>Game-Show</td><td>5.9</td><td>18</td></tr><tr><td>1990</td><td>History</td><td>6.7027777777777775</td><td>75740</td></tr><tr><td>1990</td><td>Horror</td><td>5.129910714285714</td><td>1305240</td></tr><tr><td>1990</td><td>Music</td><td>7.048351648351649</td><td>83877</td></tr><tr><td>1990</td><td>Musical</td><td>6.564705882352942</td><td>77287</td></tr><tr><td>1990</td><td>Mystery</td><td>5.891525423728813</td><td>362951</td></tr><tr><td>1990</td><td>Reality-TV</td><td>7.466666666666666</td><td>67</td></tr><tr><td>1990</td><td>Romance</td><td>5.93805031446541</td><td>1630067</td></tr><tr><td>1990</td><td>Sci-Fi</td><td>5.369791666666667</td><td>1467440</td></tr><tr><td>1990</td><td>Short</td><td>6.4343358395989965</td><td>24207</td></tr><tr><td>1990</td><td>Sport</td><td>6.066666666666666</td><td>270204</td></tr><tr><td>1990</td><td>Thriller</td><td>5.607581227436824</td><td>1782370</td></tr><tr><td>1990</td><td>War</td><td>6.337681159420291</td><td>109235</td></tr><tr><td>1990</td><td>Western</td><td>5.792857142857144</td><td>345522</td></tr><tr><td>1991</td><td>Action</td><td>5.5504016064257025</td><td>2916448</td></tr><tr><td>1991</td><td>Adult</td><td>5.903846153846155</td><td>3635</td></tr><tr><td>1991</td><td>Adventure</td><td>6.01551724137931</td><td>2526447</td></tr><tr><td>1991</td><td>Animation</td><td>6.476754385964911</td><td>630956</td></tr><tr><td>1991</td><td>Biography</td><td>6.87325581395349</td><td>184001</td></tr><tr><td>1991</td><td>Comedy</td><td>6.0505580357142845</td><td>3023195</td></tr><tr><td>1991</td><td>Crime</td><td>5.885344827586207</td><td>3434408</td></tr><tr><td>1991</td><td>Documentary</td><td>7.225815217391306</td><td>68566</td></tr><tr><td>1991</td><td>Drama</td><td>6.184191399152028</td><td>5064682</td></tr><tr><td>1991</td><td>Family</td><td>6.371612903225806</td><td>1190739</td></tr><tr><td>1991</td><td>Fantasy</td><td>5.784117647058824</td><td>1199488</td></tr><tr><td>1991</td><td>History</td><td>6.74871794871795</td><td>207377</td></tr><tr><td>1991</td><td>Horror</td><td>5.247524752475248</td><td>1946246</td></tr><tr><td>1991</td><td>Music</td><td>6.875490196078432</td><td>275847</td></tr><tr><td>1991</td><td>Musical</td><td>6.392424242424242</td><td>25082</td></tr><tr><td>1991</td><td>Mystery</td><td>5.7213675213675215</td><td>341121</td></tr><tr><td>1991</td><td>News</td><td>5.5</td><td>26</td></tr><tr><td>1991</td><td>Romance</td><td>6.056325301204819</td><td>778080</td></tr><tr><td>1991</td><td>Sci-Fi</td><td>5.380232558139535</td><td>1424952</td></tr><tr><td>1991</td><td>Short</td><td>6.671175166297117</td><td>38606</td></tr><tr><td>1991</td><td>Sport</td><td>6.080555555555556</td><td>47324</td></tr><tr><td>1991</td><td>Thriller</td><td>5.407380073800738</td><td>1129964</td></tr><tr><td>1991</td><td>War</td><td>6.330158730158731</td><td>43623</td></tr><tr><td>1991</td><td>Western</td><td>5.98888888888889</td><td>76299</td></tr><tr><td>1992</td><td>Action</td><td>5.599784946236558</td><td>2161292</td></tr><tr><td>1992</td><td>Adult</td><td>6.378181818181817</td><td>3502</td></tr><tr><td>1992</td><td>Adventure</td><td>5.927397260273973</td><td>1620794</td></tr><tr><td>1992</td><td>Animation</td><td>6.495813953488372</td><td>736944</td></tr><tr><td>1992</td><td>Biography</td><td>6.921839080459771</td><td>383677</td></tr><tr><td>1992</td><td>Comedy</td><td>5.982896237172178</td><td>3896704</td></tr><tr><td>1992</td><td>Crime</td><td>5.8975274725274724</td><td>3430588</td></tr><tr><td>1992</td><td>Documentary</td><td>7.184782608695652</td><td>93622</td></tr><tr><td>1992</td><td>Drama</td><td>6.282974427994615</td><td>4722043</td></tr><tr><td>1992</td><td>Family</td><td>6.290066225165563</td><td>514061</td></tr><tr><td>1992</td><td>Fantasy</td><td>6.206578947368421</td><td>1159653</td></tr><tr><td>1992</td><td>History</td><td>7.002597402597403</td><td>168043</td></tr><tr><td>1992</td><td>Horror</td><td>5.440104166666667</td><td>1573697</td></tr><tr><td>1992</td><td>Music</td><td>7.144565217391304</td><td>544490</td></tr><tr><td>1992</td><td>Musical</td><td>6.698148148148148</td><td>29673</td></tr><tr><td>1992</td><td>Mystery</td><td>5.794827586206897</td><td>610565</td></tr><tr><td>1992</td><td>Reality-TV</td><td>6.75</td><td>602</td></tr><tr><td>1992</td><td>Romance</td><td>6.1339832869080775</td><td>1318522</td></tr><tr><td>1992</td><td>Sci-Fi</td><td>5.414634146341464</td><td>662646</td></tr><tr><td>1992</td><td>Short</td><td>6.61194968553459</td><td>39264</td></tr><tr><td>1992</td><td>Sport</td><td>6.5470588235294125</td><td>302376</td></tr><tr><td>1992</td><td>Thriller</td><td>5.544918032786886</td><td>2879928</td></tr><tr><td>1992</td><td>War</td><td>6.519642857142857</td><td>48007</td></tr><tr><td>1992</td><td>Western</td><td>5.950000000000001</td><td>503741</td></tr><tr><td>1993</td><td>Action</td><td>5.640573770491802</td><td>3244422</td></tr><tr><td>1993</td><td>Adult</td><td>5.931034482758621</td><td>1721</td></tr><tr><td>1993</td><td>Adventure</td><td>5.957142857142859</td><td>2254719</td></tr><tr><td>1993</td><td>Animation</td><td>6.520725388601036</td><td>687866</td></tr><tr><td>1993</td><td>Biography</td><td>6.858823529411764</td><td>2354390</td></tr><tr><td>1993</td><td>Comedy</td><td>6.037876960193003</td><td>4409733</td></tr><tr><td>1993</td><td>Crime</td><td>5.744274809160306</td><td>2820607</td></tr><tr><td>1993</td><td>Documentary</td><td>7.214323607427055</td><td>44698</td></tr><tr><td>1993</td><td>Drama</td><td>6.168476903870162</td><td>8647459</td></tr><tr><td>1993</td><td>Family</td><td>6.2899328859060395</td><td>1300100</td></tr><tr><td>1993</td><td>Fantasy</td><td>6.048175182481752</td><td>1836917</td></tr><tr><td>1993</td><td>History</td><td>6.835211267605633</td><td>1799877</td></tr><tr><td>1993</td><td>Horror</td><td>5.311695906432749</td><td>328031</td></tr><tr><td>1993</td><td>Music</td><td>7.245360824742267</td><td>503729</td></tr><tr><td>1993</td><td>Musical</td><td>6.209615384615384</td><td>193004</td></tr><tr><td>1993</td><td>Mystery</td><td>6.019090909090909</td><td>698563</td></tr><tr><td>1993</td><td>News</td><td>8.4</td><td>31</td></tr><tr><td>1993</td><td>Romance</td><td>5.958556149732622</td><td>1740552</td></tr><tr><td>1993</td><td>Sci-Fi</td><td>5.369318181818182</td><td>1547947</td></tr><tr><td>1993</td><td>Short</td><td>6.503825136612021</td><td>40093</td></tr><tr><td>1993</td><td>Sport</td><td>6.612500000000001</td><td>129198</td></tr><tr><td>1993</td><td>Thriller</td><td>5.471604938271604</td><td>1784679</td></tr><tr><td>1993</td><td>War</td><td>6.266153846153847</td><td>112108</td></tr><tr><td>1993</td><td>Western</td><td>5.811111111111111</td><td>31439</td></tr><tr><td>1994</td><td>Action</td><td>5.519126819126819</td><td>3849363</td></tr><tr><td>1994</td><td>Adult</td><td>6.025</td><td>1345</td></tr><tr><td>1994</td><td>Adventure</td><td>5.933918128654971</td><td>2770042</td></tr><tr><td>1994</td><td>Animation</td><td>6.616042780748662</td><td>1388003</td></tr><tr><td>1994</td><td>Biography</td><td>6.741509433962264</td><td>583787</td></tr><tr><td>1994</td><td>Comedy</td><td>5.999781181619256</td><td>5439881</td></tr><tr><td>1994</td><td>Crime</td><td>5.869014084507042</td><td>6107927</td></tr><tr><td>1994</td><td>Documentary</td><td>7.18481012658228</td><td>92798</td></tr><tr><td>1994</td><td>Drama</td><td>6.2162507608034065</td><td>14808433</td></tr><tr><td>1994</td><td>Family</td><td>6.114942528735632</td><td>886202</td></tr><tr><td>1994</td><td>Fantasy</td><td>5.932876712328768</td><td>1313146</td></tr><tr><td>1994</td><td>History</td><td>6.744000000000001</td><td>130863</td></tr><tr><td>1994</td><td>Horror</td><td>5.337579617834394</td><td>818874</td></tr><tr><td>1994</td><td>Music</td><td>7.230681818181818</td><td>206378</td></tr><tr><td>1994</td><td>Musical</td><td>6.8199999999999985</td><td>34149</td></tr><tr><td>1994</td><td>Mystery</td><td>5.611538461538461</td><td>492038</td></tr><tr><td>1994</td><td>Romance</td><td>6.0336986301369855</td><td>4252309</td></tr><tr><td>1994</td><td>Sci-Fi</td><td>5.296907216494845</td><td>475638</td></tr><tr><td>1994</td><td>Short</td><td>6.610149750415974</td><td>45556</td></tr><tr><td>1994</td><td>Sport</td><td>6.374468085106383</td><td>181809</td></tr><tr><td>1994</td><td>Talk-Show</td><td>7.3</td><td>10</td></tr><tr><td>1994</td><td>Thriller</td><td>5.393731343283582</td><td>1320185</td></tr><tr><td>1994</td><td>War</td><td>6.869491525423728</td><td>285867</td></tr><tr><td>1994</td><td>Western</td><td>5.567857142857143</td><td>50284</td></tr><tr><td>1995</td><td>Action</td><td>5.515294117647059</td><td>4611758</td></tr><tr><td>1995</td><td>Adult</td><td>6.266666666666666</td><td>3006</td></tr><tr><td>1995</td><td>Adventure</td><td>5.954545454545454</td><td>4515691</td></tr><tr><td>1995</td><td>Animation</td><td>6.523529411764707</td><td>1825558</td></tr><tr><td>1995</td><td>Biography</td><td>6.8196850393700785</td><td>1489965</td></tr><tr><td>1995</td><td>Comedy</td><td>6.047340425531916</td><td>5818290</td></tr><tr><td>1995</td><td>Crime</td><td>5.901648351648352</td><td>7326451</td></tr><tr><td>1995</td><td>Documentary</td><td>7.1354406130268195</td><td>53105</td></tr><tr><td>1995</td><td>Drama</td><td>6.211734401831713</td><td>11881011</td></tr><tr><td>1995</td><td>Family</td><td>6.164766839378239</td><td>1170259</td></tr><tr><td>1995</td><td>Fantasy</td><td>6.252898550724637</td><td>749390</td></tr><tr><td>1995</td><td>History</td><td>6.8354430379746836</td><td>415742</td></tr><tr><td>1995</td><td>Horror</td><td>5.11595744680851</td><td>523435</td></tr><tr><td>1995</td><td>Music</td><td>7.37378640776699</td><td>123715</td></tr><tr><td>1995</td><td>Musical</td><td>6.454545454545453</td><td>25557</td></tr><tr><td>1995</td><td>Mystery</td><td>5.938356164383562</td><td>4097090</td></tr><tr><td>1995</td><td>Reality-TV</td><td>6.3</td><td>58</td></tr><tr><td>1995</td><td>Romance</td><td>6.036235294117647</td><td>2388225</td></tr><tr><td>1995</td><td>Sci-Fi</td><td>5.225</td><td>1506856</td></tr><tr><td>1995</td><td>Short</td><td>6.620919881305638</td><td>54669</td></tr><tr><td>1995</td><td>Sport</td><td>6.7705882352941185</td><td>21100</td></tr><tr><td>1995</td><td>Talk-Show</td><td>4.05</td><td>116</td></tr><tr><td>1995</td><td>Thriller</td><td>5.5178756476683954</td><td>2512795</td></tr><tr><td>1995</td><td>War</td><td>6.830555555555555</td><td>1196402</td></tr><tr><td>1995</td><td>Western</td><td>6.103125</td><td>123161</td></tr><tr><td>1996</td><td>Action</td><td>5.556263269639066</td><td>3854476</td></tr><tr><td>1996</td><td>Adult</td><td>6.369999999999999</td><td>1476</td></tr><tr><td>1996</td><td>Adventure</td><td>6.004268292682927</td><td>3352736</td></tr><tr><td>1996</td><td>Animation</td><td>6.482857142857143</td><td>586312</td></tr><tr><td>1996</td><td>Biography</td><td>6.842276422764227</td><td>332115</td></tr><tr><td>1996</td><td>Comedy</td><td>6.076138613861387</td><td>4513711</td></tr><tr><td>1996</td><td>Crime</td><td>5.986703601108034</td><td>3454287</td></tr><tr><td>1996</td><td>Documentary</td><td>7.245892857142857</td><td>100099</td></tr><tr><td>1996</td><td>Drama</td><td>6.258277777777779</td><td>7599811</td></tr><tr><td>1996</td><td>Family</td><td>6.171122994652405</td><td>802022</td></tr><tr><td>1996</td><td>Fantasy</td><td>5.942953020134228</td><td>962827</td></tr><tr><td>1996</td><td>History</td><td>7.008045977011493</td><td>210940</td></tr><tr><td>1996</td><td>Horror</td><td>5.197647058823529</td><td>1173922</td></tr><tr><td>1996</td><td>Music</td><td>7.442045454545454</td><td>219790</td></tr><tr><td>1996</td><td>Musical</td><td>6.38148148148148</td><td>75638</td></tr><tr><td>1996</td><td>Mystery</td><td>5.9496183206106865</td><td>1069830</td></tr><tr><td>1996</td><td>News</td><td>5.6</td><td>5</td></tr><tr><td>1996</td><td>Reality-TV</td><td>6.75</td><td>29</td></tr><tr><td>1996</td><td>Romance</td><td>6.196313364055299</td><td>1831173</td></tr><tr><td>1996</td><td>Sci-Fi</td><td>4.8902985074626875</td><td>1410100</td></tr><tr><td>1996</td><td>Short</td><td>6.598591549295776</td><td>41845</td></tr><tr><td>1996</td><td>Sport</td><td>6.542222222222222</td><td>495371</td></tr><tr><td>1996</td><td>Thriller</td><td>5.457180156657963</td><td>3466495</td></tr><tr><td>1996</td><td>War</td><td>6.612280701754385</td><td>256448</td></tr><tr><td>1996</td><td>Western</td><td>5.8769230769230765</td><td>40402</td></tr><tr><td>1997</td><td>Action</td><td>5.553711790393014</td><td>6456467</td></tr><tr><td>1997</td><td>Adult</td><td>6.535714285714285</td><td>1142</td></tr><tr><td>1997</td><td>Adventure</td><td>5.80639534883721</td><td>4574561</td></tr><tr><td>1997</td><td>Animation</td><td>6.546478873239437</td><td>1146090</td></tr><tr><td>1997</td><td>Biography</td><td>7.027777777777778</td><td>783989</td></tr><tr><td>1997</td><td>Comedy</td><td>6.05398075240595</td><td>5423241</td></tr><tr><td>1997</td><td>Crime</td><td>5.989175257731959</td><td>4487822</td></tr><tr><td>1997</td><td>Documentary</td><td>7.15592203898051</td><td>121443</td></tr><tr><td>1997</td><td>Drama</td><td>6.266230366492146</td><td>12035188</td></tr><tr><td>1997</td><td>Family</td><td>6.158823529411764</td><td>612079</td></tr><tr><td>1997</td><td>Fantasy</td><td>5.969285714285714</td><td>1521196</td></tr><tr><td>1997</td><td>History</td><td>6.983653846153847</td><td>222707</td></tr><tr><td>1997</td><td>Horror</td><td>5.353888888888888</td><td>1551609</td></tr><tr><td>1997</td><td>Music</td><td>6.986206896551724</td><td>110676</td></tr><tr><td>1997</td><td>Musical</td><td>6.580701754385965</td><td>112744</td></tr><tr><td>1997</td><td>Mystery</td><td>5.955813953488372</td><td>3197335</td></tr><tr><td>1997</td><td>Reality-TV</td><td>8.1</td><td>99</td></tr><tr><td>1997</td><td>Romance</td><td>6.161171366594361</td><td>4755291</td></tr><tr><td>1997</td><td>Sci-Fi</td><td>5.3352941176470585</td><td>3837168</td></tr><tr><td>1997</td><td>Short</td><td>6.606734006734008</td><td>66001</td></tr><tr><td>1997</td><td>Sport</td><td>6.3374999999999995</td><td>130987</td></tr><tr><td>1997</td><td>Thriller</td><td>5.484210526315789</td><td>3020556</td></tr><tr><td>1997</td><td>War</td><td>6.598437500000001</td><td>122535</td></tr><tr><td>1997</td><td>Western</td><td>6.2444444444444445</td><td>6707</td></tr><tr><td>1998</td><td>Action</td><td>5.5245119305856845</td><td>4687297</td></tr><tr><td>1998</td><td>Adult</td><td>6.199999999999999</td><td>2969</td></tr><tr><td>1998</td><td>Adventure</td><td>5.729015544041451</td><td>3211319</td></tr><tr><td>1998</td><td>Animation</td><td>6.501785714285715</td><td>1122415</td></tr><tr><td>1998</td><td>Biography</td><td>6.9875</td><td>464690</td></tr><tr><td>1998</td><td>Comedy</td><td>6.0191437802907926</td><td>9384557</td></tr><tr><td>1998</td><td>Crime</td><td>5.9427536231884055</td><td>5958212</td></tr><tr><td>1998</td><td>Documentary</td><td>7.1038674033149185</td><td>82845</td></tr><tr><td>1998</td><td>Drama</td><td>6.242381432896064</td><td>11439013</td></tr><tr><td>1998</td><td>Family</td><td>5.80787037037037</td><td>354949</td></tr><tr><td>1998</td><td>Fantasy</td><td>5.866451612903227</td><td>1269048</td></tr><tr><td>1998</td><td>Game-Show</td><td>7.8</td><td>240</td></tr><tr><td>1998</td><td>History</td><td>7.064864864864864</td><td>598541</td></tr><tr><td>1998</td><td>Horror</td><td>5.179820627802691</td><td>1420547</td></tr><tr><td>1998</td><td>Music</td><td>7.083333333333334</td><td>546951</td></tr><tr><td>1998</td><td>Musical</td><td>6.577272727272728</td><td>84051</td></tr><tr><td>1998</td><td>Mystery</td><td>5.8189781021897815</td><td>1609432</td></tr><tr><td>1998</td><td>Romance</td><td>6.205054151624549</td><td>2840659</td></tr><tr><td>1998</td><td>Sci-Fi</td><td>5.259183673469388</td><td>2195725</td></tr><tr><td>1998</td><td>Short</td><td>6.687555953446732</td><td>61257</td></tr><tr><td>1998</td><td>Sport</td><td>6.122222222222222</td><td>361356</td></tr><tr><td>1998</td><td>Talk-Show</td><td>8.4</td><td>142</td></tr><tr><td>1998</td><td>Thriller</td><td>5.501822916666668</td><td>2679108</td></tr><tr><td>1998</td><td>War</td><td>6.6394366197183095</td><td>1856992</td></tr><tr><td>1998</td><td>Western</td><td>5.949999999999999</td><td>71443</td></tr><tr><td>1999</td><td>Action</td><td>5.593790149892934</td><td>6495574</td></tr><tr><td>1999</td><td>Adult</td><td>6.172727272727272</td><td>1599</td></tr><tr><td>1999</td><td>Adventure</td><td>5.90159574468085</td><td>4529443</td></tr><tr><td>1999</td><td>Animation</td><td>6.443416370106762</td><td>1543593</td></tr><tr><td>1999</td><td>Biography</td><td>6.73969465648855</td><td>1199052</td></tr><tr><td>1999</td><td>Comedy</td><td>6.006554989075018</td><td>8029430</td></tr><tr><td>1999</td><td>Crime</td><td>5.861691542288558</td><td>6722215</td></tr><tr><td>1999</td><td>Documentary</td><td>6.977777777777779</td><td>160029</td></tr><tr><td>1999</td><td>Drama</td><td>6.21517013232514</td><td>14821278</td></tr><tr><td>1999</td><td>Family</td><td>6.0281105990783415</td><td>598734</td></tr><tr><td>1999</td><td>Fantasy</td><td>5.75576923076923</td><td>4349940</td></tr><tr><td>1999</td><td>History</td><td>6.726415094339623</td><td>531777</td></tr><tr><td>1999</td><td>Horror</td><td>5.33175965665236</td><td>1717242</td></tr><tr><td>1999</td><td>Music</td><td>6.951034482758622</td><td>202374</td></tr><tr><td>1999</td><td>Musical</td><td>5.944680851063831</td><td>57087</td></tr><tr><td>1999</td><td>Mystery</td><td>6.17829457364341</td><td>3786130</td></tr><tr><td>1999</td><td>Romance</td><td>6.062639405204462</td><td>3538320</td></tr><tr><td>1999</td><td>Sci-Fi</td><td>5.5042857142857144</td><td>3283532</td></tr><tr><td>1999</td><td>Short</td><td>6.575460122699386</td><td>87978</td></tr><tr><td>1999</td><td>Sport</td><td>6.621153846153846</td><td>360172</td></tr><tr><td>1999</td><td>Thriller</td><td>5.577433628318584</td><td>5906857</td></tr><tr><td>1999</td><td>War</td><td>6.698591549295775</td><td>115443</td></tr><tr><td>1999</td><td>Western</td><td>5.900000000000001</td><td>20999</td></tr><tr><td>2000</td><td>Action</td><td>5.5612385321100914</td><td>6377278</td></tr><tr><td>2000</td><td>Adult</td><td>5.866666666666666</td><td>859</td></tr><tr><td>2000</td><td>Adventure</td><td>5.684</td><td>6806541</td></tr><tr><td>2000</td><td>Animation</td><td>6.471751412429379</td><td>957213</td></tr><tr><td>2000</td><td>Biography</td><td>6.967307692307691</td><td>875123</td></tr><tr><td>2000</td><td>Comedy</td><td>6.090064794816415</td><td>8099814</td></tr><tr><td>2000</td><td>Crime</td><td>5.884297520661158</td><td>4937559</td></tr><tr><td>2000</td><td>Documentary</td><td>7.065888888888889</td><td>115454</td></tr><tr><td>2000</td><td>Drama</td><td>6.2503655913978475</td><td>12518558</td></tr><tr><td>2000</td><td>Family</td><td>6.124999999999999</td><td>652451</td></tr><tr><td>2000</td><td>Fantasy</td><td>6.147488584474886</td><td>1417260</td></tr><tr><td>2000</td><td>History</td><td>7.141818181818182</td><td>462385</td></tr><tr><td>2000</td><td>Horror</td><td>5.350174216027874</td><td>2405534</td></tr><tr><td>2000</td><td>Music</td><td>6.890384615384616</td><td>601695</td></tr><tr><td>2000</td><td>Musical</td><td>6.212987012987012</td><td>231546</td></tr><tr><td>2000</td><td>Mystery</td><td>5.934224598930482</td><td>2921762</td></tr><tr><td>2000</td><td>Reality-TV</td><td>6.066666666666666</td><td>37</td></tr><tr><td>2000</td><td>Romance</td><td>6.089344262295081</td><td>3391243</td></tr><tr><td>2000</td><td>Sci-Fi</td><td>5.740000000000001</td><td>2303003</td></tr><tr><td>2000</td><td>Short</td><td>6.7267045454545435</td><td>85357</td></tr><tr><td>2000</td><td>Sport</td><td>6.793103448275862</td><td>421726</td></tr><tr><td>2000</td><td>Thriller</td><td>5.456551724137932</td><td>4661364</td></tr><tr><td>2000</td><td>War</td><td>6.796470588235294</td><td>362594</td></tr><tr><td>2000</td><td>Western</td><td>5.593333333333334</td><td>28030</td></tr><tr><td>2001</td><td>Action</td><td>5.649080882352941</td><td>5905370</td></tr><tr><td>2001</td><td>Adult</td><td>6.222222222222222</td><td>593</td></tr><tr><td>2001</td><td>Adventure</td><td>5.788311688311689</td><td>8673949</td></tr><tr><td>2001</td><td>Animation</td><td>6.53961661341853</td><td>3267703</td></tr><tr><td>2001</td><td>Biography</td><td>6.964925373134328</td><td>1670136</td></tr><tr><td>2001</td><td>Comedy</td><td>6.169518072289156</td><td>9148575</td></tr><tr><td>2001</td><td>Crime</td><td>5.926694045174538</td><td>5268888</td></tr><tr><td>2001</td><td>Documentary</td><td>7.225574712643678</td><td>151630</td></tr><tr><td>2001</td><td>Drama</td><td>6.272311933832216</td><td>14375162</td></tr><tr><td>2001</td><td>Family</td><td>6.008130081300813</td><td>2133860</td></tr><tr><td>2001</td><td>Fantasy</td><td>6.128504672897195</td><td>4846547</td></tr><tr><td>2001</td><td>History</td><td>7.122689075630252</td><td>610234</td></tr><tr><td>2001</td><td>Horror</td><td>5.2075</td><td>1578385</td></tr><tr><td>2001</td><td>Music</td><td>6.930120481927712</td><td>375524</td></tr><tr><td>2001</td><td>Musical</td><td>6.3931506849315065</td><td>546241</td></tr><tr><td>2001</td><td>Mystery</td><td>5.982758620689655</td><td>4666098</td></tr><tr><td>2001</td><td>News</td><td>4.2</td><td>6</td></tr><tr><td>2001</td><td>Reality-TV</td><td>7.0</td><td>49</td></tr><tr><td>2001</td><td>Romance</td><td>6.128489208633094</td><td>4614920</td></tr><tr><td>2001</td><td>Sci-Fi</td><td>5.671333333333333</td><td>2557798</td></tr></tbody></table></div>"
      ]
     },
     "metadata": {
      "application/vnd.databricks.v1+output": {
       "addedWidgets": {},
       "aggData": [],
       "aggError": "",
       "aggOverflow": false,
       "aggSchema": [],
       "aggSeriesLimitReached": false,
       "aggType": "",
       "arguments": {},
       "columnCustomDisplayInfos": {},
       "data": [
        [
         "1981",
         "Action",
         5.807232704402517,
         1943670
        ],
        [
         "1981",
         "Adult",
         5.490948275862069,
         17224
        ],
        [
         "1981",
         "Adventure",
         6.039784946236559,
         2135619
        ],
        [
         "1981",
         "Animation",
         6.554587155963303,
         200103
        ],
        [
         "1981",
         "Biography",
         6.846052631578947,
         162441
        ],
        [
         "1981",
         "Comedy",
         5.845045045045046,
         956122
        ],
        [
         "1981",
         "Crime",
         5.961089494163424,
         474711
        ],
        [
         "1981",
         "Documentary",
         7.03962962962963,
         37504
        ],
        [
         "1981",
         "Drama",
         6.147728860936409,
         1603074
        ],
        [
         "1981",
         "Family",
         6.4010989010989015,
         44161
        ],
        [
         "1981",
         "Fantasy",
         6.125225225225226,
         289990
        ],
        [
         "1981",
         "History",
         6.777906976744186,
         169943
        ],
        [
         "1981",
         "Horror",
         5.396739130434782,
         1152995
        ],
        [
         "1981",
         "Music",
         6.748051948051948,
         43435
        ],
        [
         "1981",
         "Musical",
         6.2146341463414645,
         101656
        ],
        [
         "1981",
         "Mystery",
         5.957798165137614,
         309869
        ],
        [
         "1981",
         "Romance",
         6.090347490347491,
         314470
        ],
        [
         "1981",
         "Sci-Fi",
         5.3769230769230765,
         530667
        ],
        [
         "1981",
         "Short",
         6.46578947368421,
         25777
        ],
        [
         "1981",
         "Sport",
         6.13076923076923,
         155008
        ],
        [
         "1981",
         "Talk-Show",
         5.3,
         66
        ],
        [
         "1981",
         "Thriller",
         5.801324503311259,
         567666
        ],
        [
         "1981",
         "War",
         6.471014492753623,
         421177
        ],
        [
         "1981",
         "Western",
         5.844444444444444,
         5274
        ],
        [
         "1982",
         "Action",
         5.635260115606937,
         1766801
        ],
        [
         "1982",
         "Adult",
         5.581818181818182,
         17243
        ],
        [
         "1982",
         "Adventure",
         5.862566844919787,
         1563191
        ],
        [
         "1982",
         "Animation",
         6.621134020618556,
         171999
        ],
        [
         "1982",
         "Biography",
         6.745901639344263,
         298295
        ],
        [
         "1982",
         "Comedy",
         5.8629999999999995,
         1324314
        ],
        [
         "1982",
         "Crime",
         5.859493670886077,
         463886
        ],
        [
         "1982",
         "Documentary",
         7.127091633466136,
         94946
        ],
        [
         "1982",
         "Drama",
         6.097441077441078,
         2952986
        ],
        [
         "1982",
         "Family",
         6.3294999999999995,
         663459
        ],
        [
         "1982",
         "Fantasy",
         6.102362204724408,
         529586
        ],
        [
         "1982",
         "History",
         6.5694444444444455,
         295184
        ],
        [
         "1982",
         "Horror",
         5.285869565217391,
         1236649
        ],
        [
         "1982",
         "Music",
         6.8453608247422695,
         272920
        ],
        [
         "1982",
         "Musical",
         6.273267326732673,
         95800
        ],
        [
         "1982",
         "Mystery",
         5.863736263736264,
         759815
        ],
        [
         "1982",
         "Romance",
         6.049110320284696,
         430315
        ],
        [
         "1982",
         "Sci-Fi",
         5.601449275362318,
         2304931
        ],
        [
         "1982",
         "Short",
         6.620467836257311,
         23189
        ],
        [
         "1982",
         "Sport",
         5.833333333333333,
         239274
        ],
        [
         "1982",
         "Talk-Show",
         7.8,
         53
        ],
        [
         "1982",
         "Thriller",
         5.556603773584905,
         766075
        ],
        [
         "1982",
         "War",
         6.1245901639344265,
         34773
        ],
        [
         "1982",
         "Western",
         5.840000000000001,
         5060
        ],
        [
         "1983",
         "Action",
         5.590056818181818,
         1913215
        ],
        [
         "1983",
         "Adult",
         5.583928571428572,
         16180
        ],
        [
         "1983",
         "Adventure",
         5.686315789473683,
         1884514
        ],
        [
         "1983",
         "Animation",
         6.561860465116279,
         89817
        ],
        [
         "1983",
         "Biography",
         6.770422535211267,
         142036
        ],
        [
         "1983",
         "Comedy",
         5.901997503121098,
         1600255
        ],
        [
         "1983",
         "Crime",
         5.882499999999999,
         1585327
        ],
        [
         "1983",
         "Documentary",
         6.9978873239436625,
         41573
        ],
        [
         "1983",
         "Drama",
         6.122601416613007,
         2787479
        ],
        [
         "1983",
         "Family",
         6.430208333333334,
         233264
        ],
        [
         "1983",
         "Fantasy",
         6.043703703703704,
         1322446
        ],
        [
         "1983",
         "Game-Show",
         8.6,
         16
        ],
        [
         "1983",
         "History",
         6.6706666666666665,
         63581
        ],
        [
         "1983",
         "Horror",
         5.302721088435374,
         689190
        ],
        [
         "1983",
         "Music",
         6.52695652173913,
         166424
        ],
        [
         "1983",
         "Musical",
         6.21860465116279,
         175650
        ],
        [
         "1983",
         "Mystery",
         6.020792079207921,
         182659
        ],
        [
         "1983",
         "Romance",
         5.902027027027027,
         393047
        ],
        [
         "1983",
         "Sci-Fi",
         5.735714285714285,
         510984
        ],
        [
         "1983",
         "Short",
         6.449122807017545,
         21087
        ],
        [
         "1983",
         "Sport",
         6.092307692307693,
         31890
        ],
        [
         "1983",
         "Thriller",
         5.548148148148149,
         621404
        ],
        [
         "1983",
         "War",
         6.105952380952382,
         66575
        ],
        [
         "1983",
         "Western",
         5.677777777777778,
         4918
        ],
        [
         "1984",
         "Action",
         5.724705882352941,
         3466906
        ],
        [
         "1984",
         "Adult",
         5.565882352941176,
         14528
        ],
        [
         "1984",
         "Adventure",
         5.9567415730337085,
         2800510
        ],
        [
         "1984",
         "Animation",
         6.635483870967742,
         229675
        ],
        [
         "1984",
         "Biography",
         6.8674418604651155,
         544514
        ],
        [
         "1984",
         "Comedy",
         5.996992481203007,
         2644155
        ],
        [
         "1984",
         "Crime",
         5.901831501831502,
         1178363
        ],
        [
         "1984",
         "Documentary",
         7.0823754789272035,
         63056
        ],
        [
         "1984",
         "Drama",
         6.2390992167101835,
         2916267
        ],
        [
         "1984",
         "Family",
         6.4396475770925115,
         512903
        ],
        [
         "1984",
         "Fantasy",
         6.303999999999999,
         1068589
        ],
        [
         "1984",
         "History",
         6.8689189189189195,
         140702
        ],
        [
         "1984",
         "Horror",
         5.2875862068965525,
         968642
        ],
        [
         "1984",
         "Music",
         6.654400000000001,
         903220
        ],
        [
         "1984",
         "Musical",
         6.215789473684212,
         15367
        ],
        [
         "1984",
         "Mystery",
         5.764705882352941,
         172425
        ],
        [
         "1984",
         "Romance",
         5.967128027681661,
         666248
        ],
        [
         "1984",
         "Sci-Fi",
         5.610309278350516,
         1940796
        ],
        [
         "1984",
         "Short",
         6.5539772727272725,
         19606
        ],
        [
         "1984",
         "Sport",
         6.385185185185184,
         67311
        ],
        [
         "1984",
         "Thriller",
         5.740322580645161,
         515418
        ],
        [
         "1984",
         "War",
         5.9228571428571435,
         60473
        ],
        [
         "1984",
         "Western",
         6.238461538461538,
         7624
        ],
        [
         "1985",
         "Action",
         5.697727272727272,
         1594395
        ],
        [
         "1985",
         "Adult",
         5.829602888086643,
         19792
        ],
        [
         "1985",
         "Adventure",
         5.903664921465968,
         3211640
        ],
        [
         "1985",
         "Animation",
         6.486784140969164,
         127241
        ],
        [
         "1985",
         "Biography",
         6.656060606060605,
         186609
        ],
        [
         "1985",
         "Comedy",
         6.035029585798816,
         4310898
        ],
        [
         "1985",
         "Crime",
         5.844666666666665,
         710093
        ],
        [
         "1985",
         "Documentary",
         7.058174904942966,
         45052
        ],
        [
         "1985",
         "Drama",
         6.262004034969738,
         2970881
        ],
        [
         "1985",
         "Family",
         6.3838888888888885,
         524056
        ],
        [
         "1985",
         "Fantasy",
         6.0703125,
         435867
        ],
        [
         "1985",
         "History",
         6.898507462686566,
         45602
        ],
        [
         "1985",
         "Horror",
         5.1461077844311385,
         758885
        ],
        [
         "1985",
         "Music",
         7.087128712871288,
         68367
        ],
        [
         "1985",
         "Musical",
         6.1179487179487175,
         23970
        ],
        [
         "1985",
         "Mystery",
         6.018085106382979,
         410377
        ],
        [
         "1985",
         "Romance",
         6.129652996845426,
         942612
        ],
        [
         "1985",
         "Sci-Fi",
         5.564044943820224,
         2212978
        ],
        [
         "1985",
         "Short",
         6.398082191780823,
         28434
        ],
        [
         "1985",
         "Sport",
         6.048484848484849,
         257399
        ],
        [
         "1985",
         "Thriller",
         5.674857142857142,
         1197962
        ],
        [
         "1985",
         "War",
         6.263333333333334,
         286888
        ],
        [
         "1985",
         "Western",
         6.258333333333334,
         71210
        ],
        [
         "1986",
         "Action",
         5.607226107226107,
         2461130
        ],
        [
         "1986",
         "Adult",
         5.840444444444444,
         12192
        ],
        [
         "1986",
         "Adventure",
         5.841025641025641,
         2810347
        ],
        [
         "1986",
         "Animation",
         6.572398190045249,
         453998
        ],
        [
         "1986",
         "Biography",
         6.838157894736841,
         115401
        ],
        [
         "1986",
         "Comedy",
         5.925030376670717,
         3134884
        ],
        [
         "1986",
         "Crime",
         5.776470588235295,
         944166
        ],
        [
         "1986",
         "Documentary",
         7.161160714285714,
         19931
        ],
        [
         "1986",
         "Drama",
         6.179163987138263,
         3734474
        ],
        [
         "1986",
         "Family",
         6.510476190476189,
         730367
        ],
        [
         "1986",
         "Fantasy",
         6.2546875,
         465817
        ],
        [
         "1986",
         "History",
         6.800000000000002,
         125666
        ],
        [
         "1986",
         "Horror",
         5.296739130434783,
         1677653
        ],
        [
         "1986",
         "Music",
         6.76952380952381,
         106909
        ],
        [
         "1986",
         "Musical",
         6.4430555555555555,
         115821
        ],
        [
         "1986",
         "Mystery",
         6.164634146341464,
         611259
        ],
        [
         "1986",
         "Romance",
         5.936148648648649,
         562623
        ],
        [
         "1986",
         "Sci-Fi",
         5.698924731182796,
         621792
        ],
        [
         "1986",
         "Short",
         6.5109550561797755,
         27714
        ],
        [
         "1986",
         "Sport",
         5.906451612903226,
         350155
        ],
        [
         "1986",
         "Thriller",
         5.6348258706467655,
         712752
        ],
        [
         "1986",
         "War",
         5.898701298701298,
         547735
        ],
        [
         "1986",
         "Western",
         6.105555555555556,
         95931
        ],
        [
         "1987",
         "Action",
         5.47240663900415,
         2213935
        ],
        [
         "1987",
         "Adult",
         5.6617977528089884,
         10645
        ],
        [
         "1987",
         "Adventure",
         5.673245614035087,
         1747709
        ],
        [
         "1987",
         "Animation",
         6.632307692307694,
         122360
        ],
        [
         "1987",
         "Biography",
         6.9314285714285715,
         370068
        ],
        [
         "1987",
         "Comedy",
         5.891360946745563,
         3519034
        ],
        [
         "1987",
         "Crime",
         5.876470588235295,
         2037891
        ],
        [
         "1987",
         "Documentary",
         7.285328185328185,
         46047
        ],
        [
         "1987",
         "Drama",
         6.2009025270758125,
         3978639
        ],
        [
         "1987",
         "Family",
         6.493636363636364,
         745856
        ],
        [
         "1987",
         "Fantasy",
         6.103870967741936,
         668205
        ],
        [
         "1987",
         "Game-Show",
         1.7,
         140
        ],
        [
         "1987",
         "History",
         6.790909090909092,
         170521
        ],
        [
         "1987",
         "Horror",
         5.184710743801654,
         1840319
        ],
        [
         "1987",
         "Music",
         7.071764705882353,
         370600
        ],
        [
         "1987",
         "Musical",
         6.302702702702703,
         33528
        ],
        [
         "1987",
         "Mystery",
         5.910679611650485,
         262051
        ],
        [
         "1987",
         "Reality-TV",
         6.6,
         17
        ],
        [
         "1987",
         "Romance",
         6.020714285714286,
         1060736
        ],
        [
         "1987",
         "Sci-Fi",
         5.575925925925926,
         926887
        ],
        [
         "1987",
         "Short",
         6.50439276485788,
         28386
        ],
        [
         "1987",
         "Sport",
         6.504545454545454,
         65664
        ],
        [
         "1987",
         "Thriller",
         5.543111111111109,
         1637877
        ],
        [
         "1987",
         "War",
         6.101190476190476,
         1032106
        ],
        [
         "1987",
         "Western",
         5.714999999999999,
         10514
        ],
        [
         "1988",
         "Action",
         5.396641791044775,
         2366586
        ],
        [
         "1988",
         "Adult",
         5.93015873015873,
         7758
        ],
        [
         "1988",
         "Adventure",
         5.667788461538462,
         1057637
        ],
        [
         "1988",
         "Animation",
         6.621818181818183,
         1411458
        ],
        [
         "1988",
         "Biography",
         6.741558441558442,
         240964
        ],
        [
         "1988",
         "Comedy",
         5.987950450450451,
         4357826
        ],
        [
         "1988",
         "Crime",
         5.913836477987421,
         1785548
        ],
        [
         "1988",
         "Documentary",
         7.14306049822064,
         76386
        ],
        [
         "1988",
         "Drama",
         6.155155279503105,
         4226899
        ],
        [
         "1988",
         "Family",
         6.4429411764705895,
         580430
        ],
        [
         "1988",
         "Fantasy",
         5.9815950920245395,
         1348196
        ],
        [
         "1988",
         "History",
         6.719230769230769,
         94554
        ],
        [
         "1988",
         "Horror",
         5.132014388489208,
         1235783
        ],
        [
         "1988",
         "Music",
         6.806,
         131854
        ],
        [
         "1988",
         "Musical",
         6.247368421052632,
         68442
        ],
        [
         "1988",
         "Mystery",
         5.765546218487394,
         426791
        ],
        [
         "1988",
         "Reality-TV",
         6.4,
         10
        ],
        [
         "1988",
         "Romance",
         5.982595870206489,
         1346766
        ],
        [
         "1988",
         "Sci-Fi",
         5.263063063063062,
         470732
        ],
        [
         "1988",
         "Short",
         6.55201072386059,
         29830
        ],
        [
         "1988",
         "Sport",
         6.291666666666668,
         178294
        ],
        [
         "1988",
         "Thriller",
         5.626141078838174,
         1774973
        ],
        [
         "1988",
         "War",
         6.045263157894737,
         405526
        ],
        [
         "1988",
         "Western",
         5.952941176470588,
         75236
        ],
        [
         "1989",
         "Action",
         5.5390334572490705,
         2989568
        ],
        [
         "1989",
         "Adult",
         6.091724137931035,
         9963
        ],
        [
         "1989",
         "Adventure",
         5.7762135922330105,
         3272339
        ],
        [
         "1989",
         "Animation",
         6.621844660194174,
         684876
        ],
        [
         "1989",
         "Biography",
         6.772222222222222,
         477805
        ],
        [
         "1989",
         "Comedy",
         6.049498327759196,
         4691509
        ],
        [
         "1989",
         "Crime",
         5.807177033492823,
         1451099
        ],
        [
         "1989",
         "Documentary",
         7.130985915492957,
         67220
        ],
        [
         "1989",
         "Drama",
         6.225556223692122,
         3756230
        ],
        [
         "1989",
         "Family",
         6.308045977011494,
         928158
        ],
        [
         "1989",
         "Fantasy",
         5.885549132947977,
         1007173
        ],
        [
         "1989",
         "History",
         6.738297872340427,
         252815
        ],
        [
         "1989",
         "Horror",
         5.088727272727272,
         742783
        ],
        [
         "1989",
         "Music",
         7.361797752808988,
         242762
        ],
        [
         "1989",
         "Musical",
         6.316326530612245,
         23666
        ],
        [
         "1989",
         "Mystery",
         5.970338983050847,
         490198
        ],
        [
         "1989",
         "Romance",
         5.952090032154341,
         786707
        ],
        [
         "1989",
         "Sci-Fi",
         5.203738317757009,
         809470
        ],
        [
         "1989",
         "Short",
         6.510591133004927,
         38734
        ],
        [
         "1989",
         "Sport",
         6.051851851851852,
         183926
        ],
        [
         "1989",
         "Thriller",
         5.547916666666667,
         1106416
        ],
        [
         "1989",
         "War",
         6.024418604651162,
         170375
        ],
        [
         "1989",
         "Western",
         5.616666666666667,
         6771
        ],
        [
         "1990",
         "Action",
         5.585794392523365,
         2749915
        ],
        [
         "1990",
         "Adult",
         6.19607843137255,
         11098
        ],
        [
         "1990",
         "Adventure",
         6.044505494505494,
         1936280
        ],
        [
         "1990",
         "Animation",
         6.596551724137932,
         139980
        ],
        [
         "1990",
         "Biography",
         6.69425287356322,
         1598286
        ],
        [
         "1990",
         "Comedy",
         6.05737142857143,
         3770890
        ],
        [
         "1990",
         "Crime",
         5.813422818791946,
         3398405
        ],
        [
         "1990",
         "Documentary",
         7.1159744408945675,
         47469
        ],
        [
         "1990",
         "Drama",
         6.185063291139239,
         5788644
        ],
        [
         "1990",
         "Family",
         6.347096774193549,
         944198
        ],
        [
         "1990",
         "Fantasy",
         5.908383233532934,
         1146148
        ],
        [
         "1990",
         "Game-Show",
         5.9,
         18
        ],
        [
         "1990",
         "History",
         6.7027777777777775,
         75740
        ],
        [
         "1990",
         "Horror",
         5.129910714285714,
         1305240
        ],
        [
         "1990",
         "Music",
         7.048351648351649,
         83877
        ],
        [
         "1990",
         "Musical",
         6.564705882352942,
         77287
        ],
        [
         "1990",
         "Mystery",
         5.891525423728813,
         362951
        ],
        [
         "1990",
         "Reality-TV",
         7.466666666666666,
         67
        ],
        [
         "1990",
         "Romance",
         5.93805031446541,
         1630067
        ],
        [
         "1990",
         "Sci-Fi",
         5.369791666666667,
         1467440
        ],
        [
         "1990",
         "Short",
         6.4343358395989965,
         24207
        ],
        [
         "1990",
         "Sport",
         6.066666666666666,
         270204
        ],
        [
         "1990",
         "Thriller",
         5.607581227436824,
         1782370
        ],
        [
         "1990",
         "War",
         6.337681159420291,
         109235
        ],
        [
         "1990",
         "Western",
         5.792857142857144,
         345522
        ],
        [
         "1991",
         "Action",
         5.5504016064257025,
         2916448
        ],
        [
         "1991",
         "Adult",
         5.903846153846155,
         3635
        ],
        [
         "1991",
         "Adventure",
         6.01551724137931,
         2526447
        ],
        [
         "1991",
         "Animation",
         6.476754385964911,
         630956
        ],
        [
         "1991",
         "Biography",
         6.87325581395349,
         184001
        ],
        [
         "1991",
         "Comedy",
         6.0505580357142845,
         3023195
        ],
        [
         "1991",
         "Crime",
         5.885344827586207,
         3434408
        ],
        [
         "1991",
         "Documentary",
         7.225815217391306,
         68566
        ],
        [
         "1991",
         "Drama",
         6.184191399152028,
         5064682
        ],
        [
         "1991",
         "Family",
         6.371612903225806,
         1190739
        ],
        [
         "1991",
         "Fantasy",
         5.784117647058824,
         1199488
        ],
        [
         "1991",
         "History",
         6.74871794871795,
         207377
        ],
        [
         "1991",
         "Horror",
         5.247524752475248,
         1946246
        ],
        [
         "1991",
         "Music",
         6.875490196078432,
         275847
        ],
        [
         "1991",
         "Musical",
         6.392424242424242,
         25082
        ],
        [
         "1991",
         "Mystery",
         5.7213675213675215,
         341121
        ],
        [
         "1991",
         "News",
         5.5,
         26
        ],
        [
         "1991",
         "Romance",
         6.056325301204819,
         778080
        ],
        [
         "1991",
         "Sci-Fi",
         5.380232558139535,
         1424952
        ],
        [
         "1991",
         "Short",
         6.671175166297117,
         38606
        ],
        [
         "1991",
         "Sport",
         6.080555555555556,
         47324
        ],
        [
         "1991",
         "Thriller",
         5.407380073800738,
         1129964
        ],
        [
         "1991",
         "War",
         6.330158730158731,
         43623
        ],
        [
         "1991",
         "Western",
         5.98888888888889,
         76299
        ],
        [
         "1992",
         "Action",
         5.599784946236558,
         2161292
        ],
        [
         "1992",
         "Adult",
         6.378181818181817,
         3502
        ],
        [
         "1992",
         "Adventure",
         5.927397260273973,
         1620794
        ],
        [
         "1992",
         "Animation",
         6.495813953488372,
         736944
        ],
        [
         "1992",
         "Biography",
         6.921839080459771,
         383677
        ],
        [
         "1992",
         "Comedy",
         5.982896237172178,
         3896704
        ],
        [
         "1992",
         "Crime",
         5.8975274725274724,
         3430588
        ],
        [
         "1992",
         "Documentary",
         7.184782608695652,
         93622
        ],
        [
         "1992",
         "Drama",
         6.282974427994615,
         4722043
        ],
        [
         "1992",
         "Family",
         6.290066225165563,
         514061
        ],
        [
         "1992",
         "Fantasy",
         6.206578947368421,
         1159653
        ],
        [
         "1992",
         "History",
         7.002597402597403,
         168043
        ],
        [
         "1992",
         "Horror",
         5.440104166666667,
         1573697
        ],
        [
         "1992",
         "Music",
         7.144565217391304,
         544490
        ],
        [
         "1992",
         "Musical",
         6.698148148148148,
         29673
        ],
        [
         "1992",
         "Mystery",
         5.794827586206897,
         610565
        ],
        [
         "1992",
         "Reality-TV",
         6.75,
         602
        ],
        [
         "1992",
         "Romance",
         6.1339832869080775,
         1318522
        ],
        [
         "1992",
         "Sci-Fi",
         5.414634146341464,
         662646
        ],
        [
         "1992",
         "Short",
         6.61194968553459,
         39264
        ],
        [
         "1992",
         "Sport",
         6.5470588235294125,
         302376
        ],
        [
         "1992",
         "Thriller",
         5.544918032786886,
         2879928
        ],
        [
         "1992",
         "War",
         6.519642857142857,
         48007
        ],
        [
         "1992",
         "Western",
         5.950000000000001,
         503741
        ],
        [
         "1993",
         "Action",
         5.640573770491802,
         3244422
        ],
        [
         "1993",
         "Adult",
         5.931034482758621,
         1721
        ],
        [
         "1993",
         "Adventure",
         5.957142857142859,
         2254719
        ],
        [
         "1993",
         "Animation",
         6.520725388601036,
         687866
        ],
        [
         "1993",
         "Biography",
         6.858823529411764,
         2354390
        ],
        [
         "1993",
         "Comedy",
         6.037876960193003,
         4409733
        ],
        [
         "1993",
         "Crime",
         5.744274809160306,
         2820607
        ],
        [
         "1993",
         "Documentary",
         7.214323607427055,
         44698
        ],
        [
         "1993",
         "Drama",
         6.168476903870162,
         8647459
        ],
        [
         "1993",
         "Family",
         6.2899328859060395,
         1300100
        ],
        [
         "1993",
         "Fantasy",
         6.048175182481752,
         1836917
        ],
        [
         "1993",
         "History",
         6.835211267605633,
         1799877
        ],
        [
         "1993",
         "Horror",
         5.311695906432749,
         328031
        ],
        [
         "1993",
         "Music",
         7.245360824742267,
         503729
        ],
        [
         "1993",
         "Musical",
         6.209615384615384,
         193004
        ],
        [
         "1993",
         "Mystery",
         6.019090909090909,
         698563
        ],
        [
         "1993",
         "News",
         8.4,
         31
        ],
        [
         "1993",
         "Romance",
         5.958556149732622,
         1740552
        ],
        [
         "1993",
         "Sci-Fi",
         5.369318181818182,
         1547947
        ],
        [
         "1993",
         "Short",
         6.503825136612021,
         40093
        ],
        [
         "1993",
         "Sport",
         6.612500000000001,
         129198
        ],
        [
         "1993",
         "Thriller",
         5.471604938271604,
         1784679
        ],
        [
         "1993",
         "War",
         6.266153846153847,
         112108
        ],
        [
         "1993",
         "Western",
         5.811111111111111,
         31439
        ],
        [
         "1994",
         "Action",
         5.519126819126819,
         3849363
        ],
        [
         "1994",
         "Adult",
         6.025,
         1345
        ],
        [
         "1994",
         "Adventure",
         5.933918128654971,
         2770042
        ],
        [
         "1994",
         "Animation",
         6.616042780748662,
         1388003
        ],
        [
         "1994",
         "Biography",
         6.741509433962264,
         583787
        ],
        [
         "1994",
         "Comedy",
         5.999781181619256,
         5439881
        ],
        [
         "1994",
         "Crime",
         5.869014084507042,
         6107927
        ],
        [
         "1994",
         "Documentary",
         7.18481012658228,
         92798
        ],
        [
         "1994",
         "Drama",
         6.2162507608034065,
         14808433
        ],
        [
         "1994",
         "Family",
         6.114942528735632,
         886202
        ],
        [
         "1994",
         "Fantasy",
         5.932876712328768,
         1313146
        ],
        [
         "1994",
         "History",
         6.744000000000001,
         130863
        ],
        [
         "1994",
         "Horror",
         5.337579617834394,
         818874
        ],
        [
         "1994",
         "Music",
         7.230681818181818,
         206378
        ],
        [
         "1994",
         "Musical",
         6.8199999999999985,
         34149
        ],
        [
         "1994",
         "Mystery",
         5.611538461538461,
         492038
        ],
        [
         "1994",
         "Romance",
         6.0336986301369855,
         4252309
        ],
        [
         "1994",
         "Sci-Fi",
         5.296907216494845,
         475638
        ],
        [
         "1994",
         "Short",
         6.610149750415974,
         45556
        ],
        [
         "1994",
         "Sport",
         6.374468085106383,
         181809
        ],
        [
         "1994",
         "Talk-Show",
         7.3,
         10
        ],
        [
         "1994",
         "Thriller",
         5.393731343283582,
         1320185
        ],
        [
         "1994",
         "War",
         6.869491525423728,
         285867
        ],
        [
         "1994",
         "Western",
         5.567857142857143,
         50284
        ],
        [
         "1995",
         "Action",
         5.515294117647059,
         4611758
        ],
        [
         "1995",
         "Adult",
         6.266666666666666,
         3006
        ],
        [
         "1995",
         "Adventure",
         5.954545454545454,
         4515691
        ],
        [
         "1995",
         "Animation",
         6.523529411764707,
         1825558
        ],
        [
         "1995",
         "Biography",
         6.8196850393700785,
         1489965
        ],
        [
         "1995",
         "Comedy",
         6.047340425531916,
         5818290
        ],
        [
         "1995",
         "Crime",
         5.901648351648352,
         7326451
        ],
        [
         "1995",
         "Documentary",
         7.1354406130268195,
         53105
        ],
        [
         "1995",
         "Drama",
         6.211734401831713,
         11881011
        ],
        [
         "1995",
         "Family",
         6.164766839378239,
         1170259
        ],
        [
         "1995",
         "Fantasy",
         6.252898550724637,
         749390
        ],
        [
         "1995",
         "History",
         6.8354430379746836,
         415742
        ],
        [
         "1995",
         "Horror",
         5.11595744680851,
         523435
        ],
        [
         "1995",
         "Music",
         7.37378640776699,
         123715
        ],
        [
         "1995",
         "Musical",
         6.454545454545453,
         25557
        ],
        [
         "1995",
         "Mystery",
         5.938356164383562,
         4097090
        ],
        [
         "1995",
         "Reality-TV",
         6.3,
         58
        ],
        [
         "1995",
         "Romance",
         6.036235294117647,
         2388225
        ],
        [
         "1995",
         "Sci-Fi",
         5.225,
         1506856
        ],
        [
         "1995",
         "Short",
         6.620919881305638,
         54669
        ],
        [
         "1995",
         "Sport",
         6.7705882352941185,
         21100
        ],
        [
         "1995",
         "Talk-Show",
         4.05,
         116
        ],
        [
         "1995",
         "Thriller",
         5.5178756476683954,
         2512795
        ],
        [
         "1995",
         "War",
         6.830555555555555,
         1196402
        ],
        [
         "1995",
         "Western",
         6.103125,
         123161
        ],
        [
         "1996",
         "Action",
         5.556263269639066,
         3854476
        ],
        [
         "1996",
         "Adult",
         6.369999999999999,
         1476
        ],
        [
         "1996",
         "Adventure",
         6.004268292682927,
         3352736
        ],
        [
         "1996",
         "Animation",
         6.482857142857143,
         586312
        ],
        [
         "1996",
         "Biography",
         6.842276422764227,
         332115
        ],
        [
         "1996",
         "Comedy",
         6.076138613861387,
         4513711
        ],
        [
         "1996",
         "Crime",
         5.986703601108034,
         3454287
        ],
        [
         "1996",
         "Documentary",
         7.245892857142857,
         100099
        ],
        [
         "1996",
         "Drama",
         6.258277777777779,
         7599811
        ],
        [
         "1996",
         "Family",
         6.171122994652405,
         802022
        ],
        [
         "1996",
         "Fantasy",
         5.942953020134228,
         962827
        ],
        [
         "1996",
         "History",
         7.008045977011493,
         210940
        ],
        [
         "1996",
         "Horror",
         5.197647058823529,
         1173922
        ],
        [
         "1996",
         "Music",
         7.442045454545454,
         219790
        ],
        [
         "1996",
         "Musical",
         6.38148148148148,
         75638
        ],
        [
         "1996",
         "Mystery",
         5.9496183206106865,
         1069830
        ],
        [
         "1996",
         "News",
         5.6,
         5
        ],
        [
         "1996",
         "Reality-TV",
         6.75,
         29
        ],
        [
         "1996",
         "Romance",
         6.196313364055299,
         1831173
        ],
        [
         "1996",
         "Sci-Fi",
         4.8902985074626875,
         1410100
        ],
        [
         "1996",
         "Short",
         6.598591549295776,
         41845
        ],
        [
         "1996",
         "Sport",
         6.542222222222222,
         495371
        ],
        [
         "1996",
         "Thriller",
         5.457180156657963,
         3466495
        ],
        [
         "1996",
         "War",
         6.612280701754385,
         256448
        ],
        [
         "1996",
         "Western",
         5.8769230769230765,
         40402
        ],
        [
         "1997",
         "Action",
         5.553711790393014,
         6456467
        ],
        [
         "1997",
         "Adult",
         6.535714285714285,
         1142
        ],
        [
         "1997",
         "Adventure",
         5.80639534883721,
         4574561
        ],
        [
         "1997",
         "Animation",
         6.546478873239437,
         1146090
        ],
        [
         "1997",
         "Biography",
         7.027777777777778,
         783989
        ],
        [
         "1997",
         "Comedy",
         6.05398075240595,
         5423241
        ],
        [
         "1997",
         "Crime",
         5.989175257731959,
         4487822
        ],
        [
         "1997",
         "Documentary",
         7.15592203898051,
         121443
        ],
        [
         "1997",
         "Drama",
         6.266230366492146,
         12035188
        ],
        [
         "1997",
         "Family",
         6.158823529411764,
         612079
        ],
        [
         "1997",
         "Fantasy",
         5.969285714285714,
         1521196
        ],
        [
         "1997",
         "History",
         6.983653846153847,
         222707
        ],
        [
         "1997",
         "Horror",
         5.353888888888888,
         1551609
        ],
        [
         "1997",
         "Music",
         6.986206896551724,
         110676
        ],
        [
         "1997",
         "Musical",
         6.580701754385965,
         112744
        ],
        [
         "1997",
         "Mystery",
         5.955813953488372,
         3197335
        ],
        [
         "1997",
         "Reality-TV",
         8.1,
         99
        ],
        [
         "1997",
         "Romance",
         6.161171366594361,
         4755291
        ],
        [
         "1997",
         "Sci-Fi",
         5.3352941176470585,
         3837168
        ],
        [
         "1997",
         "Short",
         6.606734006734008,
         66001
        ],
        [
         "1997",
         "Sport",
         6.3374999999999995,
         130987
        ],
        [
         "1997",
         "Thriller",
         5.484210526315789,
         3020556
        ],
        [
         "1997",
         "War",
         6.598437500000001,
         122535
        ],
        [
         "1997",
         "Western",
         6.2444444444444445,
         6707
        ],
        [
         "1998",
         "Action",
         5.5245119305856845,
         4687297
        ],
        [
         "1998",
         "Adult",
         6.199999999999999,
         2969
        ],
        [
         "1998",
         "Adventure",
         5.729015544041451,
         3211319
        ],
        [
         "1998",
         "Animation",
         6.501785714285715,
         1122415
        ],
        [
         "1998",
         "Biography",
         6.9875,
         464690
        ],
        [
         "1998",
         "Comedy",
         6.0191437802907926,
         9384557
        ],
        [
         "1998",
         "Crime",
         5.9427536231884055,
         5958212
        ],
        [
         "1998",
         "Documentary",
         7.1038674033149185,
         82845
        ],
        [
         "1998",
         "Drama",
         6.242381432896064,
         11439013
        ],
        [
         "1998",
         "Family",
         5.80787037037037,
         354949
        ],
        [
         "1998",
         "Fantasy",
         5.866451612903227,
         1269048
        ],
        [
         "1998",
         "Game-Show",
         7.8,
         240
        ],
        [
         "1998",
         "History",
         7.064864864864864,
         598541
        ],
        [
         "1998",
         "Horror",
         5.179820627802691,
         1420547
        ],
        [
         "1998",
         "Music",
         7.083333333333334,
         546951
        ],
        [
         "1998",
         "Musical",
         6.577272727272728,
         84051
        ],
        [
         "1998",
         "Mystery",
         5.8189781021897815,
         1609432
        ],
        [
         "1998",
         "Romance",
         6.205054151624549,
         2840659
        ],
        [
         "1998",
         "Sci-Fi",
         5.259183673469388,
         2195725
        ],
        [
         "1998",
         "Short",
         6.687555953446732,
         61257
        ],
        [
         "1998",
         "Sport",
         6.122222222222222,
         361356
        ],
        [
         "1998",
         "Talk-Show",
         8.4,
         142
        ],
        [
         "1998",
         "Thriller",
         5.501822916666668,
         2679108
        ],
        [
         "1998",
         "War",
         6.6394366197183095,
         1856992
        ],
        [
         "1998",
         "Western",
         5.949999999999999,
         71443
        ],
        [
         "1999",
         "Action",
         5.593790149892934,
         6495574
        ],
        [
         "1999",
         "Adult",
         6.172727272727272,
         1599
        ],
        [
         "1999",
         "Adventure",
         5.90159574468085,
         4529443
        ],
        [
         "1999",
         "Animation",
         6.443416370106762,
         1543593
        ],
        [
         "1999",
         "Biography",
         6.73969465648855,
         1199052
        ],
        [
         "1999",
         "Comedy",
         6.006554989075018,
         8029430
        ],
        [
         "1999",
         "Crime",
         5.861691542288558,
         6722215
        ],
        [
         "1999",
         "Documentary",
         6.977777777777779,
         160029
        ],
        [
         "1999",
         "Drama",
         6.21517013232514,
         14821278
        ],
        [
         "1999",
         "Family",
         6.0281105990783415,
         598734
        ],
        [
         "1999",
         "Fantasy",
         5.75576923076923,
         4349940
        ],
        [
         "1999",
         "History",
         6.726415094339623,
         531777
        ],
        [
         "1999",
         "Horror",
         5.33175965665236,
         1717242
        ],
        [
         "1999",
         "Music",
         6.951034482758622,
         202374
        ],
        [
         "1999",
         "Musical",
         5.944680851063831,
         57087
        ],
        [
         "1999",
         "Mystery",
         6.17829457364341,
         3786130
        ],
        [
         "1999",
         "Romance",
         6.062639405204462,
         3538320
        ],
        [
         "1999",
         "Sci-Fi",
         5.5042857142857144,
         3283532
        ],
        [
         "1999",
         "Short",
         6.575460122699386,
         87978
        ],
        [
         "1999",
         "Sport",
         6.621153846153846,
         360172
        ],
        [
         "1999",
         "Thriller",
         5.577433628318584,
         5906857
        ],
        [
         "1999",
         "War",
         6.698591549295775,
         115443
        ],
        [
         "1999",
         "Western",
         5.900000000000001,
         20999
        ],
        [
         "2000",
         "Action",
         5.5612385321100914,
         6377278
        ],
        [
         "2000",
         "Adult",
         5.866666666666666,
         859
        ],
        [
         "2000",
         "Adventure",
         5.684,
         6806541
        ],
        [
         "2000",
         "Animation",
         6.471751412429379,
         957213
        ],
        [
         "2000",
         "Biography",
         6.967307692307691,
         875123
        ],
        [
         "2000",
         "Comedy",
         6.090064794816415,
         8099814
        ],
        [
         "2000",
         "Crime",
         5.884297520661158,
         4937559
        ],
        [
         "2000",
         "Documentary",
         7.065888888888889,
         115454
        ],
        [
         "2000",
         "Drama",
         6.2503655913978475,
         12518558
        ],
        [
         "2000",
         "Family",
         6.124999999999999,
         652451
        ],
        [
         "2000",
         "Fantasy",
         6.147488584474886,
         1417260
        ],
        [
         "2000",
         "History",
         7.141818181818182,
         462385
        ],
        [
         "2000",
         "Horror",
         5.350174216027874,
         2405534
        ],
        [
         "2000",
         "Music",
         6.890384615384616,
         601695
        ],
        [
         "2000",
         "Musical",
         6.212987012987012,
         231546
        ],
        [
         "2000",
         "Mystery",
         5.934224598930482,
         2921762
        ],
        [
         "2000",
         "Reality-TV",
         6.066666666666666,
         37
        ],
        [
         "2000",
         "Romance",
         6.089344262295081,
         3391243
        ],
        [
         "2000",
         "Sci-Fi",
         5.740000000000001,
         2303003
        ],
        [
         "2000",
         "Short",
         6.7267045454545435,
         85357
        ],
        [
         "2000",
         "Sport",
         6.793103448275862,
         421726
        ],
        [
         "2000",
         "Thriller",
         5.456551724137932,
         4661364
        ],
        [
         "2000",
         "War",
         6.796470588235294,
         362594
        ],
        [
         "2000",
         "Western",
         5.593333333333334,
         28030
        ],
        [
         "2001",
         "Action",
         5.649080882352941,
         5905370
        ],
        [
         "2001",
         "Adult",
         6.222222222222222,
         593
        ],
        [
         "2001",
         "Adventure",
         5.788311688311689,
         8673949
        ],
        [
         "2001",
         "Animation",
         6.53961661341853,
         3267703
        ],
        [
         "2001",
         "Biography",
         6.964925373134328,
         1670136
        ],
        [
         "2001",
         "Comedy",
         6.169518072289156,
         9148575
        ],
        [
         "2001",
         "Crime",
         5.926694045174538,
         5268888
        ],
        [
         "2001",
         "Documentary",
         7.225574712643678,
         151630
        ],
        [
         "2001",
         "Drama",
         6.272311933832216,
         14375162
        ],
        [
         "2001",
         "Family",
         6.008130081300813,
         2133860
        ],
        [
         "2001",
         "Fantasy",
         6.128504672897195,
         4846547
        ],
        [
         "2001",
         "History",
         7.122689075630252,
         610234
        ],
        [
         "2001",
         "Horror",
         5.2075,
         1578385
        ],
        [
         "2001",
         "Music",
         6.930120481927712,
         375524
        ],
        [
         "2001",
         "Musical",
         6.3931506849315065,
         546241
        ],
        [
         "2001",
         "Mystery",
         5.982758620689655,
         4666098
        ],
        [
         "2001",
         "News",
         4.2,
         6
        ],
        [
         "2001",
         "Reality-TV",
         7.0,
         49
        ],
        [
         "2001",
         "Romance",
         6.128489208633094,
         4614920
        ],
        [
         "2001",
         "Sci-Fi",
         5.671333333333333,
         2557798
        ]
       ],
       "datasetInfos": [],
       "dbfsResultPath": null,
       "isJsonSchema": true,
       "metadata": {},
       "overflow": false,
       "plotOptions": {
        "customPlotOptions": {},
        "displayType": "table",
        "pivotAggregation": null,
        "pivotColumns": null,
        "xColumns": null,
        "yColumns": null
       },
       "removedWidgets": [],
       "schema": [
        {
         "metadata": "{}",
         "name": "year",
         "type": "\"string\""
        },
        {
         "metadata": "{}",
         "name": "genre",
         "type": "\"string\""
        },
        {
         "metadata": "{}",
         "name": "avgRating",
         "type": "\"double\""
        },
        {
         "metadata": "{}",
         "name": "totalVotes",
         "type": "\"long\""
        }
       ],
       "type": "table"
      }
     },
     "output_type": "display_data"
    }
   ],
   "source": [
    "%sql\n",
    "SELECT *\n",
    "FROM gold.genre_analysis\n",
    "WHERE year > 1980 LIMIT 500;"
   ]
  },
  {
   "cell_type": "code",
   "execution_count": 0,
   "metadata": {
    "application/vnd.databricks.v1+cell": {
     "cellMetadata": {
      "byteLimit": 2048000,
      "implicitDf": true,
      "rowLimit": 10000
     },
     "inputWidgets": {},
     "nuid": "02f32f04-e8d3-4068-b83e-48c613277801",
     "showTitle": true,
     "tableResultSettingsMap": {},
     "title": "Arredondando a coluna de média para 3 casas decimais"
    }
   },
   "outputs": [
    {
     "output_type": "display_data",
     "data": {
      "text/html": [
       "<style scoped>\n",
       "  .table-result-container {\n",
       "    max-height: 300px;\n",
       "    overflow: auto;\n",
       "  }\n",
       "  table, th, td {\n",
       "    border: 1px solid black;\n",
       "    border-collapse: collapse;\n",
       "  }\n",
       "  th, td {\n",
       "    padding: 5px;\n",
       "  }\n",
       "  th {\n",
       "    text-align: left;\n",
       "  }\n",
       "</style><div class='table-result-container'><table class='table-result'><thead style='background-color: white'><tr><th>num_affected_rows</th></tr></thead><tbody><tr><td>3073</td></tr></tbody></table></div>"
      ]
     },
     "metadata": {
      "application/vnd.databricks.v1+output": {
       "addedWidgets": {},
       "aggData": [],
       "aggError": "",
       "aggOverflow": false,
       "aggSchema": [],
       "aggSeriesLimitReached": false,
       "aggType": "",
       "arguments": {},
       "columnCustomDisplayInfos": {},
       "data": [
        [
         3073
        ]
       ],
       "datasetInfos": [],
       "dbfsResultPath": null,
       "isJsonSchema": true,
       "metadata": {},
       "overflow": false,
       "plotOptions": {
        "customPlotOptions": {},
        "displayType": "table",
        "pivotAggregation": null,
        "pivotColumns": null,
        "xColumns": null,
        "yColumns": null
       },
       "removedWidgets": [],
       "schema": [
        {
         "metadata": "{}",
         "name": "num_affected_rows",
         "type": "\"long\""
        }
       ],
       "type": "table"
      }
     },
     "output_type": "display_data"
    }
   ],
   "source": [
    "%sql\n",
    "UPDATE gold.genre_analysis\n",
    "SET avgRating = ROUND(avgRating, 3);"
   ]
  },
  {
   "cell_type": "markdown",
   "metadata": {
    "application/vnd.databricks.v1+cell": {
     "cellMetadata": {},
     "inputWidgets": {},
     "nuid": "e6085af4-1393-48d1-b64f-db2b2f76c06e",
     "showTitle": false,
     "tableResultSettingsMap": {},
     "title": ""
    }
   },
   "source": []
  },
  {
   "cell_type": "markdown",
   "metadata": {
    "application/vnd.databricks.v1+cell": {
     "cellMetadata": {
      "byteLimit": 2048000,
      "rowLimit": 10000
     },
     "inputWidgets": {},
     "nuid": "44a75ddb-ea52-47cf-95df-71345f0b1674",
     "showTitle": false,
     "tableResultSettingsMap": {},
     "title": ""
    }
   },
   "source": [
    "Os códigos a seguir são feitas as consultas a fim de responder as perguntas originalmente elaboradas"
   ]
  },
  {
   "cell_type": "code",
   "execution_count": 0,
   "metadata": {
    "application/vnd.databricks.v1+cell": {
     "cellMetadata": {
      "byteLimit": 2048000,
      "implicitDf": true,
      "rowLimit": 10000
     },
     "inputWidgets": {},
     "nuid": "d6d0b32c-d0be-4409-b847-acfd25292955",
     "showTitle": true,
     "tableResultSettingsMap": {},
     "title": "Classificando os filmes de 1980 por nota"
    }
   },
   "outputs": [
    {
     "output_type": "display_data",
     "data": {
      "text/html": [
       "<style scoped>\n",
       "  .table-result-container {\n",
       "    max-height: 300px;\n",
       "    overflow: auto;\n",
       "  }\n",
       "  table, th, td {\n",
       "    border: 1px solid black;\n",
       "    border-collapse: collapse;\n",
       "  }\n",
       "  th, td {\n",
       "    padding: 5px;\n",
       "  }\n",
       "  th {\n",
       "    text-align: left;\n",
       "  }\n",
       "</style><div class='table-result-container'><table class='table-result'><thead style='background-color: white'><tr><th>year</th><th>genre</th><th>avgRating</th><th>totalVotes</th></tr></thead><tbody><tr><td>1980</td><td>Documentary</td><td>6.997</td><td>29097</td></tr><tr><td>1980</td><td>Biography</td><td>6.764</td><td>771122</td></tr><tr><td>1980</td><td>History</td><td>6.734</td><td>101770</td></tr><tr><td>1980</td><td>Music</td><td>6.651</td><td>87941</td></tr><tr><td>1980</td><td>Short</td><td>6.473</td><td>26113</td></tr><tr><td>1980</td><td>Animation</td><td>6.456</td><td>47625</td></tr><tr><td>1980</td><td>Family</td><td>6.399</td><td>114855</td></tr><tr><td>1980</td><td>War</td><td>6.29</td><td>137122</td></tr><tr><td>1980</td><td>Fantasy</td><td>6.193</td><td>1560092</td></tr><tr><td>1980</td><td>Romance</td><td>6.118</td><td>332014</td></tr><tr><td>1980</td><td>Drama</td><td>6.094</td><td>3002048</td></tr><tr><td>1980</td><td>Musical</td><td>6.062</td><td>63676</td></tr><tr><td>1980</td><td>Sport</td><td>6.016</td><td>537445</td></tr><tr><td>1980</td><td>Mystery</td><td>5.861</td><td>459015</td></tr><tr><td>1980</td><td>Adventure</td><td>5.851</td><td>2351648</td></tr><tr><td>1980</td><td>Comedy</td><td>5.811</td><td>1481880</td></tr><tr><td>1980</td><td>Crime</td><td>5.785</td><td>628009</td></tr><tr><td>1980</td><td>Action</td><td>5.758</td><td>1913657</td></tr><tr><td>1980</td><td>Western</td><td>5.679</td><td>44056</td></tr><tr><td>1980</td><td>Adult</td><td>5.596</td><td>17505</td></tr><tr><td>1980</td><td>Thriller</td><td>5.578</td><td>510763</td></tr><tr><td>1980</td><td>Sci-Fi</td><td>5.477</td><td>375351</td></tr><tr><td>1980</td><td>Horror</td><td>5.295</td><td>1913636</td></tr></tbody></table></div>"
      ]
     },
     "metadata": {
      "application/vnd.databricks.v1+output": {
       "addedWidgets": {},
       "aggData": [],
       "aggError": "",
       "aggOverflow": false,
       "aggSchema": [],
       "aggSeriesLimitReached": false,
       "aggType": "",
       "arguments": {},
       "columnCustomDisplayInfos": {},
       "data": [
        [
         "1980",
         "Documentary",
         6.997,
         29097
        ],
        [
         "1980",
         "Biography",
         6.764,
         771122
        ],
        [
         "1980",
         "History",
         6.734,
         101770
        ],
        [
         "1980",
         "Music",
         6.651,
         87941
        ],
        [
         "1980",
         "Short",
         6.473,
         26113
        ],
        [
         "1980",
         "Animation",
         6.456,
         47625
        ],
        [
         "1980",
         "Family",
         6.399,
         114855
        ],
        [
         "1980",
         "War",
         6.29,
         137122
        ],
        [
         "1980",
         "Fantasy",
         6.193,
         1560092
        ],
        [
         "1980",
         "Romance",
         6.118,
         332014
        ],
        [
         "1980",
         "Drama",
         6.094,
         3002048
        ],
        [
         "1980",
         "Musical",
         6.062,
         63676
        ],
        [
         "1980",
         "Sport",
         6.016,
         537445
        ],
        [
         "1980",
         "Mystery",
         5.861,
         459015
        ],
        [
         "1980",
         "Adventure",
         5.851,
         2351648
        ],
        [
         "1980",
         "Comedy",
         5.811,
         1481880
        ],
        [
         "1980",
         "Crime",
         5.785,
         628009
        ],
        [
         "1980",
         "Action",
         5.758,
         1913657
        ],
        [
         "1980",
         "Western",
         5.679,
         44056
        ],
        [
         "1980",
         "Adult",
         5.596,
         17505
        ],
        [
         "1980",
         "Thriller",
         5.578,
         510763
        ],
        [
         "1980",
         "Sci-Fi",
         5.477,
         375351
        ],
        [
         "1980",
         "Horror",
         5.295,
         1913636
        ]
       ],
       "datasetInfos": [],
       "dbfsResultPath": null,
       "isJsonSchema": true,
       "metadata": {},
       "overflow": false,
       "plotOptions": {
        "customPlotOptions": {},
        "displayType": "table",
        "pivotAggregation": null,
        "pivotColumns": null,
        "xColumns": null,
        "yColumns": null
       },
       "removedWidgets": [],
       "schema": [
        {
         "metadata": "{}",
         "name": "year",
         "type": "\"string\""
        },
        {
         "metadata": "{}",
         "name": "genre",
         "type": "\"string\""
        },
        {
         "metadata": "{}",
         "name": "avgRating",
         "type": "\"double\""
        },
        {
         "metadata": "{}",
         "name": "totalVotes",
         "type": "\"long\""
        }
       ],
       "type": "table"
      }
     },
     "output_type": "display_data"
    }
   ],
   "source": [
    "%sql\n",
    "SELECT DISTINCT *\n",
    "FROM gold.genre_analysis\n",
    "WHERE year = 1980\n",
    "ORDER BY avgRating DESC;"
   ]
  },
  {
   "cell_type": "markdown",
   "metadata": {
    "application/vnd.databricks.v1+cell": {
     "cellMetadata": {},
     "inputWidgets": {},
     "nuid": "8c7c62a8-a564-474c-9c03-b99f859fbde5",
     "showTitle": false,
     "tableResultSettingsMap": {},
     "title": ""
    }
   },
   "source": [
    "Aqui foi feito um recorte de um ano específico utilizando o comando _WHERE year = 1980_, para verificar as melhores avaliações por gênero. O _ORDER BY avgRating DESC_ ordena da maior para a menor nota. Observa-se notas mais elevadas pertencem ao gênero documentário. Horror é o último colocado."
   ]
  },
  {
   "cell_type": "code",
   "execution_count": 0,
   "metadata": {
    "application/vnd.databricks.v1+cell": {
     "cellMetadata": {
      "byteLimit": 2048000,
      "implicitDf": true,
      "rowLimit": 10000
     },
     "inputWidgets": {},
     "nuid": "c7d0bd5b-7d7e-4a76-a06a-7ad549627d38",
     "showTitle": false,
     "tableResultSettingsMap": {},
     "title": ""
    }
   },
   "outputs": [
    {
     "output_type": "display_data",
     "data": {
      "text/html": [
       "<style scoped>\n",
       "  .table-result-container {\n",
       "    max-height: 300px;\n",
       "    overflow: auto;\n",
       "  }\n",
       "  table, th, td {\n",
       "    border: 1px solid black;\n",
       "    border-collapse: collapse;\n",
       "  }\n",
       "  th, td {\n",
       "    padding: 5px;\n",
       "  }\n",
       "  th {\n",
       "    text-align: left;\n",
       "  }\n",
       "</style><div class='table-result-container'><table class='table-result'><thead style='background-color: white'><tr><th>year</th><th>genre</th><th>avgRating</th><th>totalVotes</th></tr></thead><tbody><tr><td>1990</td><td>Reality-TV</td><td>7.467</td><td>67</td></tr><tr><td>1990</td><td>Documentary</td><td>7.116</td><td>47469</td></tr><tr><td>1990</td><td>Music</td><td>7.048</td><td>83877</td></tr><tr><td>1990</td><td>History</td><td>6.703</td><td>75740</td></tr><tr><td>1990</td><td>Biography</td><td>6.694</td><td>1598286</td></tr><tr><td>1990</td><td>Animation</td><td>6.597</td><td>139980</td></tr><tr><td>1990</td><td>Musical</td><td>6.565</td><td>77287</td></tr><tr><td>1990</td><td>Short</td><td>6.434</td><td>24207</td></tr><tr><td>1990</td><td>Family</td><td>6.347</td><td>944198</td></tr><tr><td>1990</td><td>War</td><td>6.338</td><td>109235</td></tr><tr><td>1990</td><td>Adult</td><td>6.196</td><td>11098</td></tr><tr><td>1990</td><td>Drama</td><td>6.185</td><td>5788644</td></tr><tr><td>1990</td><td>Sport</td><td>6.067</td><td>270204</td></tr><tr><td>1990</td><td>Comedy</td><td>6.057</td><td>3770890</td></tr><tr><td>1990</td><td>Adventure</td><td>6.045</td><td>1936280</td></tr><tr><td>1990</td><td>Romance</td><td>5.938</td><td>1630067</td></tr><tr><td>1990</td><td>Fantasy</td><td>5.908</td><td>1146148</td></tr><tr><td>1990</td><td>Game-Show</td><td>5.9</td><td>18</td></tr><tr><td>1990</td><td>Mystery</td><td>5.892</td><td>362951</td></tr><tr><td>1990</td><td>Crime</td><td>5.813</td><td>3398405</td></tr><tr><td>1990</td><td>Western</td><td>5.793</td><td>345522</td></tr><tr><td>1990</td><td>Thriller</td><td>5.608</td><td>1782370</td></tr><tr><td>1990</td><td>Action</td><td>5.586</td><td>2749915</td></tr><tr><td>1990</td><td>Sci-Fi</td><td>5.37</td><td>1467440</td></tr><tr><td>1990</td><td>Horror</td><td>5.13</td><td>1305240</td></tr></tbody></table></div>"
      ]
     },
     "metadata": {
      "application/vnd.databricks.v1+output": {
       "addedWidgets": {},
       "aggData": [],
       "aggError": "",
       "aggOverflow": false,
       "aggSchema": [],
       "aggSeriesLimitReached": false,
       "aggType": "",
       "arguments": {},
       "columnCustomDisplayInfos": {},
       "data": [
        [
         "1990",
         "Reality-TV",
         7.467,
         67
        ],
        [
         "1990",
         "Documentary",
         7.116,
         47469
        ],
        [
         "1990",
         "Music",
         7.048,
         83877
        ],
        [
         "1990",
         "History",
         6.703,
         75740
        ],
        [
         "1990",
         "Biography",
         6.694,
         1598286
        ],
        [
         "1990",
         "Animation",
         6.597,
         139980
        ],
        [
         "1990",
         "Musical",
         6.565,
         77287
        ],
        [
         "1990",
         "Short",
         6.434,
         24207
        ],
        [
         "1990",
         "Family",
         6.347,
         944198
        ],
        [
         "1990",
         "War",
         6.338,
         109235
        ],
        [
         "1990",
         "Adult",
         6.196,
         11098
        ],
        [
         "1990",
         "Drama",
         6.185,
         5788644
        ],
        [
         "1990",
         "Sport",
         6.067,
         270204
        ],
        [
         "1990",
         "Comedy",
         6.057,
         3770890
        ],
        [
         "1990",
         "Adventure",
         6.045,
         1936280
        ],
        [
         "1990",
         "Romance",
         5.938,
         1630067
        ],
        [
         "1990",
         "Fantasy",
         5.908,
         1146148
        ],
        [
         "1990",
         "Game-Show",
         5.9,
         18
        ],
        [
         "1990",
         "Mystery",
         5.892,
         362951
        ],
        [
         "1990",
         "Crime",
         5.813,
         3398405
        ],
        [
         "1990",
         "Western",
         5.793,
         345522
        ],
        [
         "1990",
         "Thriller",
         5.608,
         1782370
        ],
        [
         "1990",
         "Action",
         5.586,
         2749915
        ],
        [
         "1990",
         "Sci-Fi",
         5.37,
         1467440
        ],
        [
         "1990",
         "Horror",
         5.13,
         1305240
        ]
       ],
       "datasetInfos": [],
       "dbfsResultPath": null,
       "isJsonSchema": true,
       "metadata": {},
       "overflow": false,
       "plotOptions": {
        "customPlotOptions": {},
        "displayType": "table",
        "pivotAggregation": null,
        "pivotColumns": null,
        "xColumns": null,
        "yColumns": null
       },
       "removedWidgets": [],
       "schema": [
        {
         "metadata": "{}",
         "name": "year",
         "type": "\"string\""
        },
        {
         "metadata": "{}",
         "name": "genre",
         "type": "\"string\""
        },
        {
         "metadata": "{}",
         "name": "avgRating",
         "type": "\"double\""
        },
        {
         "metadata": "{}",
         "name": "totalVotes",
         "type": "\"long\""
        }
       ],
       "type": "table"
      }
     },
     "output_type": "display_data"
    }
   ],
   "source": [
    "%sql\n",
    "SELECT DISTINCT *\n",
    "FROM gold.genre_analysis\n",
    "WHERE year = 1990\n",
    "ORDER BY avgRating DESC;"
   ]
  },
  {
   "cell_type": "markdown",
   "metadata": {
    "application/vnd.databricks.v1+cell": {
     "cellMetadata": {},
     "inputWidgets": {},
     "nuid": "fba99644-8ee2-462d-8aca-b4b7305b3758",
     "showTitle": false,
     "tableResultSettingsMap": {},
     "title": ""
    }
   },
   "source": [
    "10 anos depois, no ano de 1990, documentário caiu uma posição e foi substituído por Reality TV, categoria que nem existia em 1990. No entanto, o número de votos é muito baixo. O fato do filtro ter selecionado apenas filmes na criação da tabela, indica um possível erro na categorização do Reality TV.\n",
    "Observa-se que o valor da média de documentário aumentou, enquanto a média de horro decaiu, mantendo o gênero em último colocado."
   ]
  },
  {
   "cell_type": "code",
   "execution_count": 0,
   "metadata": {
    "application/vnd.databricks.v1+cell": {
     "cellMetadata": {
      "byteLimit": 2048000,
      "implicitDf": true,
      "rowLimit": 10000
     },
     "inputWidgets": {},
     "nuid": "bab6ea7e-2e51-4b60-9632-6b715ce6140c",
     "showTitle": true,
     "tableResultSettingsMap": {},
     "title": "TOP 10 melhores notas em ordem decrescente"
    }
   },
   "outputs": [
    {
     "output_type": "display_data",
     "data": {
      "text/html": [
       "<style scoped>\n",
       "  .table-result-container {\n",
       "    max-height: 300px;\n",
       "    overflow: auto;\n",
       "  }\n",
       "  table, th, td {\n",
       "    border: 1px solid black;\n",
       "    border-collapse: collapse;\n",
       "  }\n",
       "  th, td {\n",
       "    padding: 5px;\n",
       "  }\n",
       "  th {\n",
       "    text-align: left;\n",
       "  }\n",
       "</style><div class='table-result-container'><table class='table-result'><thead style='background-color: white'><tr><th>year</th><th>genre</th><th>avgRating</th><th>totalVotes</th></tr></thead><tbody><tr><td>2015</td><td>Game-Show</td><td>9.9</td><td>10</td></tr><tr><td>1903</td><td>Sci-Fi</td><td>9.0</td><td>11</td></tr><tr><td>2003</td><td>News</td><td>8.65</td><td>66</td></tr><tr><td>1983</td><td>Game-Show</td><td>8.6</td><td>16</td></tr><tr><td>2022</td><td>News</td><td>8.6</td><td>2924</td></tr><tr><td>2005</td><td>Talk-Show</td><td>8.5</td><td>9</td></tr><tr><td>1960</td><td>Reality-TV</td><td>8.5</td><td>21</td></tr><tr><td>2005</td><td>Reality-TV</td><td>8.45</td><td>156</td></tr><tr><td>1993</td><td>News</td><td>8.4</td><td>31</td></tr><tr><td>1998</td><td>Talk-Show</td><td>8.4</td><td>142</td></tr></tbody></table></div>"
      ]
     },
     "metadata": {
      "application/vnd.databricks.v1+output": {
       "addedWidgets": {},
       "aggData": [],
       "aggError": "",
       "aggOverflow": false,
       "aggSchema": [],
       "aggSeriesLimitReached": false,
       "aggType": "",
       "arguments": {},
       "columnCustomDisplayInfos": {},
       "data": [
        [
         "2015",
         "Game-Show",
         9.9,
         10
        ],
        [
         "1903",
         "Sci-Fi",
         9.0,
         11
        ],
        [
         "2003",
         "News",
         8.65,
         66
        ],
        [
         "1983",
         "Game-Show",
         8.6,
         16
        ],
        [
         "2022",
         "News",
         8.6,
         2924
        ],
        [
         "2005",
         "Talk-Show",
         8.5,
         9
        ],
        [
         "1960",
         "Reality-TV",
         8.5,
         21
        ],
        [
         "2005",
         "Reality-TV",
         8.45,
         156
        ],
        [
         "1993",
         "News",
         8.4,
         31
        ],
        [
         "1998",
         "Talk-Show",
         8.4,
         142
        ]
       ],
       "datasetInfos": [],
       "dbfsResultPath": null,
       "isJsonSchema": true,
       "metadata": {},
       "overflow": false,
       "plotOptions": {
        "customPlotOptions": {},
        "displayType": "table",
        "pivotAggregation": null,
        "pivotColumns": null,
        "xColumns": null,
        "yColumns": null
       },
       "removedWidgets": [],
       "schema": [
        {
         "metadata": "{}",
         "name": "year",
         "type": "\"string\""
        },
        {
         "metadata": "{}",
         "name": "genre",
         "type": "\"string\""
        },
        {
         "metadata": "{}",
         "name": "avgRating",
         "type": "\"double\""
        },
        {
         "metadata": "{}",
         "name": "totalVotes",
         "type": "\"long\""
        }
       ],
       "type": "table"
      }
     },
     "output_type": "display_data"
    }
   ],
   "source": [
    "%sql\n",
    "SELECT *\n",
    "FROM gold.genre_analysis\n",
    "ORDER BY avgRating DESC\n",
    "LIMIT 10;"
   ]
  },
  {
   "cell_type": "markdown",
   "metadata": {
    "application/vnd.databricks.v1+cell": {
     "cellMetadata": {},
     "inputWidgets": {},
     "nuid": "d7de5618-1c20-4303-9eb6-79b9c015a293",
     "showTitle": false,
     "tableResultSettingsMap": {},
     "title": ""
    }
   },
   "source": [
    "Aqui são apresentadas as maiores notas. No entanto, é possível perceber um padrão de que há poucou votos em cada tupla, sendo uma métrica menos precisa pela pequena amostragem."
   ]
  },
  {
   "cell_type": "code",
   "execution_count": 0,
   "metadata": {
    "application/vnd.databricks.v1+cell": {
     "cellMetadata": {
      "byteLimit": 2048000,
      "implicitDf": true,
      "rowLimit": 10000
     },
     "inputWidgets": {},
     "nuid": "766c3f5c-0a27-43b0-a442-8c13e8c72d47",
     "showTitle": true,
     "tableResultSettingsMap": {},
     "title": "Top 10 maiores notas com número elevado de votos"
    }
   },
   "outputs": [
    {
     "output_type": "display_data",
     "data": {
      "text/html": [
       "<style scoped>\n",
       "  .table-result-container {\n",
       "    max-height: 300px;\n",
       "    overflow: auto;\n",
       "  }\n",
       "  table, th, td {\n",
       "    border: 1px solid black;\n",
       "    border-collapse: collapse;\n",
       "  }\n",
       "  th, td {\n",
       "    padding: 5px;\n",
       "  }\n",
       "  th {\n",
       "    text-align: left;\n",
       "  }\n",
       "</style><div class='table-result-container'><table class='table-result'><thead style='background-color: white'><tr><th>year</th><th>genre</th><th>avgRating</th><th>totalVotes</th></tr></thead><tbody><tr><td>2008</td><td>News</td><td>7.92</td><td>56033</td></tr><tr><td>2024</td><td>Short</td><td>7.695</td><td>64345</td></tr><tr><td>2023</td><td>Short</td><td>7.45</td><td>233516</td></tr><tr><td>1996</td><td>Music</td><td>7.442</td><td>219790</td></tr><tr><td>1961</td><td>Sport</td><td>7.413</td><td>90552</td></tr><tr><td>1995</td><td>Music</td><td>7.374</td><td>123715</td></tr><tr><td>2022</td><td>Short</td><td>7.374</td><td>208517</td></tr><tr><td>1989</td><td>Music</td><td>7.362</td><td>242762</td></tr><tr><td>2024</td><td>Documentary</td><td>7.354</td><td>509314</td></tr><tr><td>2022</td><td>Documentary</td><td>7.305</td><td>849212</td></tr></tbody></table></div>"
      ]
     },
     "metadata": {
      "application/vnd.databricks.v1+output": {
       "addedWidgets": {},
       "aggData": [],
       "aggError": "",
       "aggOverflow": false,
       "aggSchema": [],
       "aggSeriesLimitReached": false,
       "aggType": "",
       "arguments": {},
       "columnCustomDisplayInfos": {},
       "data": [
        [
         "2008",
         "News",
         7.92,
         56033
        ],
        [
         "2024",
         "Short",
         7.695,
         64345
        ],
        [
         "2023",
         "Short",
         7.45,
         233516
        ],
        [
         "1996",
         "Music",
         7.442,
         219790
        ],
        [
         "1961",
         "Sport",
         7.413,
         90552
        ],
        [
         "1995",
         "Music",
         7.374,
         123715
        ],
        [
         "2022",
         "Short",
         7.374,
         208517
        ],
        [
         "1989",
         "Music",
         7.362,
         242762
        ],
        [
         "2024",
         "Documentary",
         7.354,
         509314
        ],
        [
         "2022",
         "Documentary",
         7.305,
         849212
        ]
       ],
       "datasetInfos": [],
       "dbfsResultPath": null,
       "isJsonSchema": true,
       "metadata": {},
       "overflow": false,
       "plotOptions": {
        "customPlotOptions": {},
        "displayType": "table",
        "pivotAggregation": null,
        "pivotColumns": null,
        "xColumns": null,
        "yColumns": null
       },
       "removedWidgets": [],
       "schema": [
        {
         "metadata": "{}",
         "name": "year",
         "type": "\"string\""
        },
        {
         "metadata": "{}",
         "name": "genre",
         "type": "\"string\""
        },
        {
         "metadata": "{}",
         "name": "avgRating",
         "type": "\"double\""
        },
        {
         "metadata": "{}",
         "name": "totalVotes",
         "type": "\"long\""
        }
       ],
       "type": "table"
      }
     },
     "output_type": "display_data"
    }
   ],
   "source": [
    "%sql\n",
    "SELECT *\n",
    "FROM gold.genre_analysis\n",
    "WHERE totalVotes > 50000\n",
    "ORDER BY avgRating DESC\n",
    "LIMIT 10;"
   ]
  },
  {
   "cell_type": "markdown",
   "metadata": {
    "application/vnd.databricks.v1+cell": {
     "cellMetadata": {},
     "inputWidgets": {},
     "nuid": "21fbc6aa-abf4-443a-8303-1a8f9f02101f",
     "showTitle": false,
     "tableResultSettingsMap": {},
     "title": ""
    }
   },
   "source": [
    "Para obter uma amostragem maior, filtrou-se os resultados em que o número de votos foi superior à 50000"
   ]
  },
  {
   "cell_type": "code",
   "execution_count": 0,
   "metadata": {
    "application/vnd.databricks.v1+cell": {
     "cellMetadata": {
      "byteLimit": 2048000,
      "implicitDf": true,
      "rowLimit": 10000
     },
     "inputWidgets": {},
     "nuid": "90633413-5e37-4f80-b9b7-fe46569f3a31",
     "showTitle": true,
     "tableResultSettingsMap": {},
     "title": "TOP 50 melhores notas para o gênero Drama"
    }
   },
   "outputs": [
    {
     "output_type": "display_data",
     "data": {
      "text/html": [
       "<style scoped>\n",
       "  .table-result-container {\n",
       "    max-height: 300px;\n",
       "    overflow: auto;\n",
       "  }\n",
       "  table, th, td {\n",
       "    border: 1px solid black;\n",
       "    border-collapse: collapse;\n",
       "  }\n",
       "  th, td {\n",
       "    padding: 5px;\n",
       "  }\n",
       "  th {\n",
       "    text-align: left;\n",
       "  }\n",
       "</style><div class='table-result-container'><table class='table-result'><thead style='background-color: white'><tr><th>year</th><th>genre</th><th>avgRating</th><th>totalVotes</th></tr></thead><tbody><tr><td>2024</td><td>Drama</td><td>6.893</td><td>8043960</td></tr><tr><td>1888</td><td>Drama</td><td>6.8</td><td>6</td></tr><tr><td>2016</td><td>Drama</td><td>6.699</td><td>19822044</td></tr><tr><td>2023</td><td>Drama</td><td>6.696</td><td>12459619</td></tr><tr><td>2022</td><td>Drama</td><td>6.685</td><td>15410269</td></tr><tr><td>2012</td><td>Drama</td><td>6.674</td><td>19320243</td></tr><tr><td>2014</td><td>Drama</td><td>6.66</td><td>25873631</td></tr><tr><td>2017</td><td>Drama</td><td>6.658</td><td>19581096</td></tr><tr><td>2011</td><td>Drama</td><td>6.634</td><td>20291455</td></tr><tr><td>2015</td><td>Drama</td><td>6.617</td><td>19560153</td></tr><tr><td>2010</td><td>Drama</td><td>6.613</td><td>18686628</td></tr><tr><td>2013</td><td>Drama</td><td>6.599</td><td>20542861</td></tr><tr><td>2021</td><td>Drama</td><td>6.56</td><td>13227813</td></tr><tr><td>2018</td><td>Drama</td><td>6.549</td><td>16549687</td></tr><tr><td>2009</td><td>Drama</td><td>6.531</td><td>17093959</td></tr><tr><td>2020</td><td>Drama</td><td>6.495</td><td>9782747</td></tr><tr><td>1966</td><td>Drama</td><td>6.485</td><td>1167412</td></tr><tr><td>2019</td><td>Drama</td><td>6.482</td><td>20620483</td></tr><tr><td>1964</td><td>Drama</td><td>6.475</td><td>1227602</td></tr><tr><td>1962</td><td>Drama</td><td>6.474</td><td>2035121</td></tr><tr><td>1965</td><td>Drama</td><td>6.471</td><td>1469198</td></tr><tr><td>2006</td><td>Drama</td><td>6.469</td><td>20186058</td></tr><tr><td>1963</td><td>Drama</td><td>6.465</td><td>1270742</td></tr><tr><td>2008</td><td>Drama</td><td>6.462</td><td>20131865</td></tr><tr><td>2007</td><td>Drama</td><td>6.461</td><td>18066550</td></tr><tr><td>2005</td><td>Drama</td><td>6.457</td><td>14852913</td></tr><tr><td>1961</td><td>Drama</td><td>6.453</td><td>1371402</td></tr><tr><td>2004</td><td>Drama</td><td>6.451</td><td>16564184</td></tr><tr><td>1967</td><td>Drama</td><td>6.448</td><td>1399285</td></tr><tr><td>1959</td><td>Drama</td><td>6.387</td><td>1372757</td></tr><tr><td>1960</td><td>Drama</td><td>6.382</td><td>2134514</td></tr><tr><td>1956</td><td>Drama</td><td>6.373</td><td>1002102</td></tr><tr><td>1947</td><td>Drama</td><td>6.366</td><td>586545</td></tr><tr><td>1955</td><td>Drama</td><td>6.366</td><td>1100288</td></tr><tr><td>1948</td><td>Drama</td><td>6.365</td><td>1075476</td></tr><tr><td>1958</td><td>Drama</td><td>6.364</td><td>838773</td></tr><tr><td>1978</td><td>Drama</td><td>6.356</td><td>1396967</td></tr><tr><td>2003</td><td>Drama</td><td>6.354</td><td>12784037</td></tr><tr><td>2002</td><td>Drama</td><td>6.353</td><td>16351846</td></tr><tr><td>1957</td><td>Drama</td><td>6.342</td><td>2583193</td></tr><tr><td>1946</td><td>Drama</td><td>6.338</td><td>1360381</td></tr><tr><td>1954</td><td>Drama</td><td>6.331</td><td>1987088</td></tr><tr><td>1949</td><td>Drama</td><td>6.33</td><td>692663</td></tr><tr><td>1968</td><td>Drama</td><td>6.325</td><td>1476058</td></tr><tr><td>1952</td><td>Drama</td><td>6.291</td><td>727642</td></tr><tr><td>1951</td><td>Drama</td><td>6.29</td><td>971779</td></tr><tr><td>1992</td><td>Drama</td><td>6.283</td><td>4722043</td></tr><tr><td>1979</td><td>Drama</td><td>6.277</td><td>2646431</td></tr><tr><td>1931</td><td>Drama</td><td>6.276</td><td>581814</td></tr><tr><td>2001</td><td>Drama</td><td>6.272</td><td>14375162</td></tr></tbody></table></div>"
      ]
     },
     "metadata": {
      "application/vnd.databricks.v1+output": {
       "addedWidgets": {},
       "aggData": [],
       "aggError": "",
       "aggOverflow": false,
       "aggSchema": [],
       "aggSeriesLimitReached": false,
       "aggType": "",
       "arguments": {},
       "columnCustomDisplayInfos": {},
       "data": [
        [
         "2024",
         "Drama",
         6.893,
         8043960
        ],
        [
         "1888",
         "Drama",
         6.8,
         6
        ],
        [
         "2016",
         "Drama",
         6.699,
         19822044
        ],
        [
         "2023",
         "Drama",
         6.696,
         12459619
        ],
        [
         "2022",
         "Drama",
         6.685,
         15410269
        ],
        [
         "2012",
         "Drama",
         6.674,
         19320243
        ],
        [
         "2014",
         "Drama",
         6.66,
         25873631
        ],
        [
         "2017",
         "Drama",
         6.658,
         19581096
        ],
        [
         "2011",
         "Drama",
         6.634,
         20291455
        ],
        [
         "2015",
         "Drama",
         6.617,
         19560153
        ],
        [
         "2010",
         "Drama",
         6.613,
         18686628
        ],
        [
         "2013",
         "Drama",
         6.599,
         20542861
        ],
        [
         "2021",
         "Drama",
         6.56,
         13227813
        ],
        [
         "2018",
         "Drama",
         6.549,
         16549687
        ],
        [
         "2009",
         "Drama",
         6.531,
         17093959
        ],
        [
         "2020",
         "Drama",
         6.495,
         9782747
        ],
        [
         "1966",
         "Drama",
         6.485,
         1167412
        ],
        [
         "2019",
         "Drama",
         6.482,
         20620483
        ],
        [
         "1964",
         "Drama",
         6.475,
         1227602
        ],
        [
         "1962",
         "Drama",
         6.474,
         2035121
        ],
        [
         "1965",
         "Drama",
         6.471,
         1469198
        ],
        [
         "2006",
         "Drama",
         6.469,
         20186058
        ],
        [
         "1963",
         "Drama",
         6.465,
         1270742
        ],
        [
         "2008",
         "Drama",
         6.462,
         20131865
        ],
        [
         "2007",
         "Drama",
         6.461,
         18066550
        ],
        [
         "2005",
         "Drama",
         6.457,
         14852913
        ],
        [
         "1961",
         "Drama",
         6.453,
         1371402
        ],
        [
         "2004",
         "Drama",
         6.451,
         16564184
        ],
        [
         "1967",
         "Drama",
         6.448,
         1399285
        ],
        [
         "1959",
         "Drama",
         6.387,
         1372757
        ],
        [
         "1960",
         "Drama",
         6.382,
         2134514
        ],
        [
         "1956",
         "Drama",
         6.373,
         1002102
        ],
        [
         "1947",
         "Drama",
         6.366,
         586545
        ],
        [
         "1955",
         "Drama",
         6.366,
         1100288
        ],
        [
         "1948",
         "Drama",
         6.365,
         1075476
        ],
        [
         "1958",
         "Drama",
         6.364,
         838773
        ],
        [
         "1978",
         "Drama",
         6.356,
         1396967
        ],
        [
         "2003",
         "Drama",
         6.354,
         12784037
        ],
        [
         "2002",
         "Drama",
         6.353,
         16351846
        ],
        [
         "1957",
         "Drama",
         6.342,
         2583193
        ],
        [
         "1946",
         "Drama",
         6.338,
         1360381
        ],
        [
         "1954",
         "Drama",
         6.331,
         1987088
        ],
        [
         "1949",
         "Drama",
         6.33,
         692663
        ],
        [
         "1968",
         "Drama",
         6.325,
         1476058
        ],
        [
         "1952",
         "Drama",
         6.291,
         727642
        ],
        [
         "1951",
         "Drama",
         6.29,
         971779
        ],
        [
         "1992",
         "Drama",
         6.283,
         4722043
        ],
        [
         "1979",
         "Drama",
         6.277,
         2646431
        ],
        [
         "1931",
         "Drama",
         6.276,
         581814
        ],
        [
         "2001",
         "Drama",
         6.272,
         14375162
        ]
       ],
       "datasetInfos": [],
       "dbfsResultPath": null,
       "isJsonSchema": true,
       "metadata": {},
       "overflow": false,
       "plotOptions": {
        "customPlotOptions": {},
        "displayType": "table",
        "pivotAggregation": null,
        "pivotColumns": null,
        "xColumns": null,
        "yColumns": null
       },
       "removedWidgets": [],
       "schema": [
        {
         "metadata": "{}",
         "name": "year",
         "type": "\"string\""
        },
        {
         "metadata": "{}",
         "name": "genre",
         "type": "\"string\""
        },
        {
         "metadata": "{}",
         "name": "avgRating",
         "type": "\"double\""
        },
        {
         "metadata": "{}",
         "name": "totalVotes",
         "type": "\"long\""
        }
       ],
       "type": "table"
      }
     },
     "output_type": "display_data"
    }
   ],
   "source": [
    "%sql\n",
    "SELECT *\n",
    "FROM gold.genre_analysis\n",
    "WHERE genre = 'Drama'\n",
    "ORDER BY avgRating DESC\n",
    "LIMIT 50;"
   ]
  },
  {
   "cell_type": "markdown",
   "metadata": {
    "application/vnd.databricks.v1+cell": {
     "cellMetadata": {},
     "inputWidgets": {},
     "nuid": "ab293829-c600-4933-815c-e864d90f9707",
     "showTitle": false,
     "tableResultSettingsMap": {},
     "title": ""
    }
   },
   "source": [
    "Foi feita uma análise do gênero drama, avaliando quais os anos com as melhoras notas no gênero. Mais uma vez, o ano de 1888, com um número pequeno de notas, aparece com nota elevada, possivelmente por uma pequena amostragem."
   ]
  },
  {
   "cell_type": "code",
   "execution_count": 0,
   "metadata": {
    "application/vnd.databricks.v1+cell": {
     "cellMetadata": {
      "byteLimit": 2048000,
      "implicitDf": true,
      "rowLimit": 10000
     },
     "inputWidgets": {},
     "nuid": "796d2b4a-ca3e-4c37-abc0-536ad0a74058",
     "showTitle": true,
     "tableResultSettingsMap": {},
     "title": "TOP 50 melhores notas para o gênero ação"
    }
   },
   "outputs": [
    {
     "output_type": "display_data",
     "data": {
      "text/html": [
       "<style scoped>\n",
       "  .table-result-container {\n",
       "    max-height: 300px;\n",
       "    overflow: auto;\n",
       "  }\n",
       "  table, th, td {\n",
       "    border: 1px solid black;\n",
       "    border-collapse: collapse;\n",
       "  }\n",
       "  th, td {\n",
       "    padding: 5px;\n",
       "  }\n",
       "  th {\n",
       "    text-align: left;\n",
       "  }\n",
       "</style><div class='table-result-container'><table class='table-result'><thead style='background-color: white'><tr><th>year</th><th>genre</th><th>avgRating</th><th>totalVotes</th></tr></thead><tbody><tr><td>2012</td><td>Action</td><td>6.361</td><td>15826469</td></tr><tr><td>1956</td><td>Action</td><td>6.335</td><td>48174</td></tr><tr><td>2024</td><td>Action</td><td>6.279</td><td>6812101</td></tr><tr><td>2014</td><td>Action</td><td>6.266</td><td>20360863</td></tr><tr><td>2016</td><td>Action</td><td>6.24</td><td>16698187</td></tr><tr><td>2011</td><td>Action</td><td>6.23</td><td>16529661</td></tr><tr><td>1943</td><td>Action</td><td>6.217</td><td>49185</td></tr><tr><td>2013</td><td>Action</td><td>6.215</td><td>16320595</td></tr><tr><td>1958</td><td>Action</td><td>6.202</td><td>77693</td></tr><tr><td>2015</td><td>Action</td><td>6.2</td><td>14161583</td></tr><tr><td>1948</td><td>Action</td><td>6.196</td><td>82800</td></tr><tr><td>2010</td><td>Action</td><td>6.169</td><td>15479130</td></tr><tr><td>2023</td><td>Action</td><td>6.168</td><td>9249618</td></tr><tr><td>1951</td><td>Action</td><td>6.167</td><td>58213</td></tr><tr><td>1957</td><td>Action</td><td>6.151</td><td>80802</td></tr><tr><td>1916</td><td>Action</td><td>6.134</td><td>5745</td></tr><tr><td>1947</td><td>Action</td><td>6.133</td><td>23768</td></tr><tr><td>1962</td><td>Action</td><td>6.125</td><td>348454</td></tr><tr><td>1945</td><td>Action</td><td>6.121</td><td>21111</td></tr><tr><td>1963</td><td>Action</td><td>6.106</td><td>292982</td></tr><tr><td>1964</td><td>Action</td><td>6.101</td><td>267845</td></tr><tr><td>2022</td><td>Action</td><td>6.094</td><td>11851088</td></tr><tr><td>1954</td><td>Action</td><td>6.093</td><td>447826</td></tr><tr><td>1923</td><td>Action</td><td>6.086</td><td>25880</td></tr><tr><td>1942</td><td>Action</td><td>6.075</td><td>55738</td></tr><tr><td>2017</td><td>Action</td><td>6.07</td><td>16144199</td></tr><tr><td>1918</td><td>Action</td><td>6.058</td><td>1650</td></tr><tr><td>1955</td><td>Action</td><td>6.056</td><td>53434</td></tr><tr><td>2020</td><td>Action</td><td>6.045</td><td>5527243</td></tr><tr><td>1927</td><td>Action</td><td>6.043</td><td>17431</td></tr><tr><td>2021</td><td>Action</td><td>6.042</td><td>12171234</td></tr><tr><td>1952</td><td>Action</td><td>6.035</td><td>61257</td></tr><tr><td>1960</td><td>Action</td><td>6.027</td><td>149823</td></tr><tr><td>2019</td><td>Action</td><td>6.025</td><td>12291687</td></tr><tr><td>1941</td><td>Action</td><td>6.013</td><td>43088</td></tr><tr><td>1940</td><td>Action</td><td>6.01</td><td>60742</td></tr><tr><td>1961</td><td>Action</td><td>6.009</td><td>234821</td></tr><tr><td>1914</td><td>Action</td><td>6.006</td><td>3051</td></tr><tr><td>1904</td><td>Action</td><td>6.0</td><td>4453</td></tr><tr><td>1969</td><td>Action</td><td>5.997</td><td>397701</td></tr><tr><td>1965</td><td>Action</td><td>5.994</td><td>270746</td></tr><tr><td>1949</td><td>Action</td><td>5.993</td><td>86651</td></tr><tr><td>1953</td><td>Action</td><td>5.981</td><td>85896</td></tr><tr><td>1944</td><td>Action</td><td>5.974</td><td>18991</td></tr><tr><td>2018</td><td>Action</td><td>5.971</td><td>14567904</td></tr><tr><td>1946</td><td>Action</td><td>5.967</td><td>11074</td></tr><tr><td>1950</td><td>Action</td><td>5.966</td><td>60944</td></tr><tr><td>1968</td><td>Action</td><td>5.963</td><td>303689</td></tr><tr><td>1925</td><td>Action</td><td>5.963</td><td>14728</td></tr><tr><td>1972</td><td>Action</td><td>5.961</td><td>465550</td></tr></tbody></table></div>"
      ]
     },
     "metadata": {
      "application/vnd.databricks.v1+output": {
       "addedWidgets": {},
       "aggData": [],
       "aggError": "",
       "aggOverflow": false,
       "aggSchema": [],
       "aggSeriesLimitReached": false,
       "aggType": "",
       "arguments": {},
       "columnCustomDisplayInfos": {},
       "data": [
        [
         "2012",
         "Action",
         6.361,
         15826469
        ],
        [
         "1956",
         "Action",
         6.335,
         48174
        ],
        [
         "2024",
         "Action",
         6.279,
         6812101
        ],
        [
         "2014",
         "Action",
         6.266,
         20360863
        ],
        [
         "2016",
         "Action",
         6.24,
         16698187
        ],
        [
         "2011",
         "Action",
         6.23,
         16529661
        ],
        [
         "1943",
         "Action",
         6.217,
         49185
        ],
        [
         "2013",
         "Action",
         6.215,
         16320595
        ],
        [
         "1958",
         "Action",
         6.202,
         77693
        ],
        [
         "2015",
         "Action",
         6.2,
         14161583
        ],
        [
         "1948",
         "Action",
         6.196,
         82800
        ],
        [
         "2010",
         "Action",
         6.169,
         15479130
        ],
        [
         "2023",
         "Action",
         6.168,
         9249618
        ],
        [
         "1951",
         "Action",
         6.167,
         58213
        ],
        [
         "1957",
         "Action",
         6.151,
         80802
        ],
        [
         "1916",
         "Action",
         6.134,
         5745
        ],
        [
         "1947",
         "Action",
         6.133,
         23768
        ],
        [
         "1962",
         "Action",
         6.125,
         348454
        ],
        [
         "1945",
         "Action",
         6.121,
         21111
        ],
        [
         "1963",
         "Action",
         6.106,
         292982
        ],
        [
         "1964",
         "Action",
         6.101,
         267845
        ],
        [
         "2022",
         "Action",
         6.094,
         11851088
        ],
        [
         "1954",
         "Action",
         6.093,
         447826
        ],
        [
         "1923",
         "Action",
         6.086,
         25880
        ],
        [
         "1942",
         "Action",
         6.075,
         55738
        ],
        [
         "2017",
         "Action",
         6.07,
         16144199
        ],
        [
         "1918",
         "Action",
         6.058,
         1650
        ],
        [
         "1955",
         "Action",
         6.056,
         53434
        ],
        [
         "2020",
         "Action",
         6.045,
         5527243
        ],
        [
         "1927",
         "Action",
         6.043,
         17431
        ],
        [
         "2021",
         "Action",
         6.042,
         12171234
        ],
        [
         "1952",
         "Action",
         6.035,
         61257
        ],
        [
         "1960",
         "Action",
         6.027,
         149823
        ],
        [
         "2019",
         "Action",
         6.025,
         12291687
        ],
        [
         "1941",
         "Action",
         6.013,
         43088
        ],
        [
         "1940",
         "Action",
         6.01,
         60742
        ],
        [
         "1961",
         "Action",
         6.009,
         234821
        ],
        [
         "1914",
         "Action",
         6.006,
         3051
        ],
        [
         "1904",
         "Action",
         6.0,
         4453
        ],
        [
         "1969",
         "Action",
         5.997,
         397701
        ],
        [
         "1965",
         "Action",
         5.994,
         270746
        ],
        [
         "1949",
         "Action",
         5.993,
         86651
        ],
        [
         "1953",
         "Action",
         5.981,
         85896
        ],
        [
         "1944",
         "Action",
         5.974,
         18991
        ],
        [
         "2018",
         "Action",
         5.971,
         14567904
        ],
        [
         "1946",
         "Action",
         5.967,
         11074
        ],
        [
         "1950",
         "Action",
         5.966,
         60944
        ],
        [
         "1968",
         "Action",
         5.963,
         303689
        ],
        [
         "1925",
         "Action",
         5.963,
         14728
        ],
        [
         "1972",
         "Action",
         5.961,
         465550
        ]
       ],
       "datasetInfos": [],
       "dbfsResultPath": null,
       "isJsonSchema": true,
       "metadata": {},
       "overflow": false,
       "plotOptions": {
        "customPlotOptions": {},
        "displayType": "table",
        "pivotAggregation": null,
        "pivotColumns": null,
        "xColumns": null,
        "yColumns": null
       },
       "removedWidgets": [],
       "schema": [
        {
         "metadata": "{}",
         "name": "year",
         "type": "\"string\""
        },
        {
         "metadata": "{}",
         "name": "genre",
         "type": "\"string\""
        },
        {
         "metadata": "{}",
         "name": "avgRating",
         "type": "\"double\""
        },
        {
         "metadata": "{}",
         "name": "totalVotes",
         "type": "\"long\""
        }
       ],
       "type": "table"
      }
     },
     "output_type": "display_data"
    }
   ],
   "source": [
    "%sql\n",
    "SELECT *\n",
    "FROM gold.genre_analysis\n",
    "WHERE genre = 'Action'\n",
    "ORDER BY avgRating DESC\n",
    "LIMIT 50;"
   ]
  },
  {
   "cell_type": "markdown",
   "metadata": {
    "application/vnd.databricks.v1+cell": {
     "cellMetadata": {},
     "inputWidgets": {},
     "nuid": "0897df8f-d454-4c10-a89d-8f2c4e1340d9",
     "showTitle": false,
     "tableResultSettingsMap": {},
     "title": ""
    }
   },
   "source": [
    "Quanto ao gênero ação, percebe-se uma maior avaliação nos filmes mais recentes."
   ]
  },
  {
   "cell_type": "code",
   "execution_count": 0,
   "metadata": {
    "application/vnd.databricks.v1+cell": {
     "cellMetadata": {
      "byteLimit": 2048000,
      "implicitDf": true,
      "rowLimit": 10000
     },
     "inputWidgets": {},
     "nuid": "6fdcd81a-b56a-4a3c-ba40-3cf273330f2b",
     "showTitle": false,
     "tableResultSettingsMap": {},
     "title": ""
    }
   },
   "outputs": [
    {
     "output_type": "display_data",
     "data": {
      "text/html": [
       "<style scoped>\n",
       "  .table-result-container {\n",
       "    max-height: 300px;\n",
       "    overflow: auto;\n",
       "  }\n",
       "  table, th, td {\n",
       "    border: 1px solid black;\n",
       "    border-collapse: collapse;\n",
       "  }\n",
       "  th, td {\n",
       "    padding: 5px;\n",
       "  }\n",
       "  th {\n",
       "    text-align: left;\n",
       "  }\n",
       "</style><div class='table-result-container'><table class='table-result'><thead style='background-color: white'><tr><th>year</th><th>total_votes_per_year</th></tr></thead><tbody><tr><td>2014</td><td>130251052</td></tr><tr><td>2013</td><td>125331991</td></tr><tr><td>2016</td><td>109451559</td></tr><tr><td>2011</td><td>109298254</td></tr><tr><td>2012</td><td>108119573</td></tr><tr><td>2010</td><td>107872792</td></tr><tr><td>2008</td><td>105299012</td></tr><tr><td>2017</td><td>103790684</td></tr><tr><td>2015</td><td>103690345</td></tr><tr><td>2009</td><td>102858945</td></tr><tr><td>2019</td><td>101642170</td></tr><tr><td>2007</td><td>99098899</td></tr><tr><td>2018</td><td>97881074</td></tr><tr><td>2006</td><td>93602304</td></tr><tr><td>2004</td><td>90628781</td></tr><tr><td>2005</td><td>82199306</td></tr><tr><td>2002</td><td>77208028</td></tr><tr><td>2022</td><td>76809308</td></tr><tr><td>2001</td><td>75836536</td></tr><tr><td>2003</td><td>75501069</td></tr><tr><td>2021</td><td>74379436</td></tr><tr><td>1999</td><td>68058798</td></tr><tr><td>2023</td><td>66986496</td></tr><tr><td>2000</td><td>60634386</td></tr><tr><td>1997</td><td>54297633</td></tr><tr><td>1995</td><td>52433405</td></tr><tr><td>1998</td><td>52303758</td></tr><tr><td>2020</td><td>48381623</td></tr><tr><td>2024</td><td>45708695</td></tr><tr><td>1994</td><td>45534887</td></tr><tr><td>1993</td><td>36511883</td></tr><tr><td>1996</td><td>35851860</td></tr><tr><td>1990</td><td>29065538</td></tr><tr><td>1992</td><td>27404434</td></tr><tr><td>1991</td><td>26577112</td></tr><tr><td>1989</td><td>24190563</td></tr><tr><td>1988</td><td>23698479</td></tr><tr><td>1987</td><td>22899735</td></tr><tr><td>1984</td><td>20917298</td></tr><tr><td>1985</td><td>20441208</td></tr><tr><td>1986</td><td>20438717</td></tr><tr><td>1980</td><td>16506440</td></tr><tr><td>1982</td><td>16310744</td></tr><tr><td>1983</td><td>14543531</td></tr><tr><td>1979</td><td>12668459</td></tr><tr><td>1981</td><td>11662622</td></tr><tr><td>1975</td><td>11350596</td></tr><tr><td>1977</td><td>11130091</td></tr><tr><td>1972</td><td>10013595</td></tr><tr><td>1974</td><td>9783190</td></tr></tbody></table></div>"
      ]
     },
     "metadata": {
      "application/vnd.databricks.v1+output": {
       "addedWidgets": {},
       "aggData": [],
       "aggError": "",
       "aggOverflow": false,
       "aggSchema": [],
       "aggSeriesLimitReached": false,
       "aggType": "",
       "arguments": {},
       "columnCustomDisplayInfos": {},
       "data": [
        [
         "2014",
         130251052
        ],
        [
         "2013",
         125331991
        ],
        [
         "2016",
         109451559
        ],
        [
         "2011",
         109298254
        ],
        [
         "2012",
         108119573
        ],
        [
         "2010",
         107872792
        ],
        [
         "2008",
         105299012
        ],
        [
         "2017",
         103790684
        ],
        [
         "2015",
         103690345
        ],
        [
         "2009",
         102858945
        ],
        [
         "2019",
         101642170
        ],
        [
         "2007",
         99098899
        ],
        [
         "2018",
         97881074
        ],
        [
         "2006",
         93602304
        ],
        [
         "2004",
         90628781
        ],
        [
         "2005",
         82199306
        ],
        [
         "2002",
         77208028
        ],
        [
         "2022",
         76809308
        ],
        [
         "2001",
         75836536
        ],
        [
         "2003",
         75501069
        ],
        [
         "2021",
         74379436
        ],
        [
         "1999",
         68058798
        ],
        [
         "2023",
         66986496
        ],
        [
         "2000",
         60634386
        ],
        [
         "1997",
         54297633
        ],
        [
         "1995",
         52433405
        ],
        [
         "1998",
         52303758
        ],
        [
         "2020",
         48381623
        ],
        [
         "2024",
         45708695
        ],
        [
         "1994",
         45534887
        ],
        [
         "1993",
         36511883
        ],
        [
         "1996",
         35851860
        ],
        [
         "1990",
         29065538
        ],
        [
         "1992",
         27404434
        ],
        [
         "1991",
         26577112
        ],
        [
         "1989",
         24190563
        ],
        [
         "1988",
         23698479
        ],
        [
         "1987",
         22899735
        ],
        [
         "1984",
         20917298
        ],
        [
         "1985",
         20441208
        ],
        [
         "1986",
         20438717
        ],
        [
         "1980",
         16506440
        ],
        [
         "1982",
         16310744
        ],
        [
         "1983",
         14543531
        ],
        [
         "1979",
         12668459
        ],
        [
         "1981",
         11662622
        ],
        [
         "1975",
         11350596
        ],
        [
         "1977",
         11130091
        ],
        [
         "1972",
         10013595
        ],
        [
         "1974",
         9783190
        ]
       ],
       "datasetInfos": [],
       "dbfsResultPath": null,
       "isJsonSchema": true,
       "metadata": {},
       "overflow": false,
       "plotOptions": {
        "customPlotOptions": {},
        "displayType": "table",
        "pivotAggregation": null,
        "pivotColumns": null,
        "xColumns": null,
        "yColumns": null
       },
       "removedWidgets": [],
       "schema": [
        {
         "metadata": "{}",
         "name": "year",
         "type": "\"string\""
        },
        {
         "metadata": "{}",
         "name": "total_votes_per_year",
         "type": "\"long\""
        }
       ],
       "type": "table"
      }
     },
     "output_type": "display_data"
    }
   ],
   "source": [
    "%sql\n",
    "SELECT year, SUM(totalVotes) AS total_votes_per_year\n",
    "FROM gold.genre_analysis\n",
    "GROUP BY year\n",
    "ORDER BY total_votes_per_year DESC\n",
    "LIMIT 50;"
   ]
  },
  {
   "cell_type": "markdown",
   "metadata": {
    "application/vnd.databricks.v1+cell": {
     "cellMetadata": {},
     "inputWidgets": {},
     "nuid": "bf062dec-370e-40e3-8e50-84ee40d97964",
     "showTitle": false,
     "tableResultSettingsMap": {},
     "title": ""
    }
   },
   "source": [
    "Por fim, o código acima mostra os anos com maior número de votos. Com o advento da internet e da popularização dos aparelhos eletrônicos, é esperado que filmes mais recentes apresentem maior número de votos devido ao momento que foram lançados. Não obstantante, o consumo de filmes é atemporal, especialmente na era do streaming, em que há acesso de forma fácil a diversos títulos. Assim, obras do século passado são consumidas nos dias atuais."
   ]
  },
  {
   "cell_type": "markdown",
   "metadata": {
    "application/vnd.databricks.v1+cell": {
     "cellMetadata": {},
     "inputWidgets": {},
     "nuid": "d95d5fa8-af86-43bf-9128-08038b480ce9",
     "showTitle": false,
     "tableResultSettingsMap": {},
     "title": ""
    }
   },
   "source": [
    "# AUTOAVALIAÇÃO\n",
    "De maneira geral, avalio positivamente a minha experiência elaborando o trabalho. Incialmente, busquei base de dados referentes a premiações do mundo da música, como o Grammy. Pensei em fazer análises com gênero, mas nesse caso do álbum. No entanto, buscando no Kaggle tive dificuldades de encontrar uma base de dados consistida e tive um pouco de dificuldade com o CSV. Portando, resolvi ir para a do IMDb, que estava mais consolidada e que me permitiria fazer um trabalho parecido com o que originalmente pensei.\n",
    "\n",
    "O primeiro problema que encontrei foi o com a coluna \"isAdult\". Pensei em corrigí-lo em vez de apagá-lo, mas como o dado não seria de meu interesse, optei por excluí-lo. Não sei se foi a ação mais prudente, considerando que futuramente poderia fazer o uso dele.\n",
    "Outra questão que me ocorreu foi o fato da chave primária tconst ter perdido a sua unicidade quando explodi os gêneros. Julguei passível de ocorrer considerando que naõ afetaria os objetivos do projeto.\n",
    "\n",
    "Tive certas dificuldades para elaborar alguns códigos, mas consultando consegui elaborá-los.\n",
    "\n",
    "Ao final, fui percebendo possíveis falhas no modelo, especialmente considerando a amostragem dos dados. Filmes mais antigos apresentam poucas notas. Talvez fosse prudente limitar o período de análise ou excluir filmes com poucas notas. \n",
    "\n",
    "A criação do MPV foi muito interressante para colocar em prática o conteúdo aprendido e obter informações de maneira categórica de dados brutos, após o seu tratamente, foi muito enriquecedor. Consegui ter um gostinho do poder da análise de dados."
   ]
  }
 ],
 "metadata": {
  "application/vnd.databricks.v1+notebook": {
   "computePreferences": null,
   "dashboards": [],
   "environmentMetadata": {
    "base_environment": "",
    "environment_version": "2"
   },
   "inputWidgetPreferences": null,
   "language": "python",
   "notebookMetadata": {
    "mostRecentlyExecutedCommandWithImplicitDF": {
     "commandId": 1370257541152307,
     "dataframes": [
      "_sqldf"
     ]
    },
    "pythonIndentUnit": 4
   },
   "notebookName": "MPV_1",
   "widgets": {}
  },
  "language_info": {
   "name": "python"
  }
 },
 "nbformat": 4,
 "nbformat_minor": 0
}
